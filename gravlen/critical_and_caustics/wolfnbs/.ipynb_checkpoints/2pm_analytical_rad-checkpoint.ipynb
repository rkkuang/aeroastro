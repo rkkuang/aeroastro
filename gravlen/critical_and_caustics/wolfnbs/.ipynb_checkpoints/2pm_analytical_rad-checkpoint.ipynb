{
 "cells": [
  {
   "cell_type": "markdown",
   "metadata": {},
   "source": [
    "Analytical\n",
    "\n",
    "https://wenku.baidu.com/view/ba5a98154431b90d6c85c741.html"
   ]
  },
  {
   "cell_type": "code",
   "execution_count": null,
   "metadata": {},
   "outputs": [],
   "source": [
    "\\[Mu]1 = q/(1+q);\n",
    "\\[Mu]2 = 1/(1+q);\n",
    "r0 = {X, 0};\n",
    "(* source position: *)\n",
    "x = {x1, x2};\n",
    "(* image position: *)\n",
    "r = {r1, r2};\n",
    "lensequ = x - (r - \\[Mu]1 (r-r0)/Dot[r-r0,r-r0] - \\[Mu]2 (r+r0)/Dot[r+r0,r+r0])"
   ]
  },
  {
   "cell_type": "code",
   "execution_count": null,
   "metadata": {},
   "outputs": [],
   "source": [
    "q = 1;\n",
    "X = 0.3;"
   ]
  },
  {
   "cell_type": "code",
   "execution_count": null,
   "metadata": {},
   "outputs": [],
   "source": [
    "x2 = 0; (*Sheneider 1986 2.3.1 On-axis solution*)\n",
    "(* Clear[x1];  *)\n",
    "lensequ\n",
    "(* Solve[lensequ==0,{r1,r2},Reals] *)"
   ]
  },
  {
   "cell_type": "code",
   "execution_count": 1,
   "metadata": {},
   "outputs": [],
   "source": [
    "(* https://jingyan.baidu.com/article/359911f5baf05157fe030607.html *)\n",
    "\n",
    "m1 = q/(1+q);\n",
    "m2 = 1/(1+q);\n",
    "eiphi = Cos[phi] + I Sin[phi];\n",
    "z1 = X + I 0;\n",
    "z2 = -X - I 0;\n",
    "(* z = x + I y; *)\n",
    "(* zz = Conjugate[z]; *)\n",
    "(* x \\[Element] Reals;\n",
    "y \\[Element] Reals; *)\n",
    "zz = x - I y;\n",
    "equ = eiphi + m1/(z1-zz)^2 + m2/(z2-zz)^2;\n",
    "\n",
    "(* real = Assuming[(x \\[Element] Reals && y \\[Element] Reals),Re[equ]];\n",
    "img = Assuming[(x \\[Element] Reals && y \\[Element] Reals),Im[equ]]; *)\n",
    "(* Refine[ReIm[equ], (x \\[Element] Reals && y \\[Element] Reals)];\n",
    "real = ComplexExpand[Refine[Re[equ], (x \\[Element] Reals && y \\[Element] Reals)]]\n",
    "img = ComplexExpand[Refine[Im[equ], (x \\[Element] Reals && y \\[Element] Reals)]]\n",
    "\n",
    "Solve[real==0&&img==0,{x, y}, Reals] *)"
   ]
  },
  {
   "cell_type": "code",
   "execution_count": 14,
   "metadata": {},
   "outputs": [],
   "source": [
    "(* equSolve[real==0&&img==0,{x, y}, Reals] *)"
   ]
  },
  {
   "cell_type": "code",
   "execution_count": 15,
   "metadata": {},
   "outputs": [
    {
     "data": {
      "text/html": [
       "<div><img alt=\"Output\" src=\"data:image/png;base64,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\"></div>"
      ]
     },
     "execution_count": 15,
     "metadata": {
      "text/html": []
     },
     "output_type": "execute_result"
    }
   ],
   "source": [
    "real = FullSimplify[ComplexExpand[Re[equ], (x \\[Element] Reals && y \\[Element] Reals)]]"
   ]
  },
  {
   "cell_type": "code",
   "execution_count": 16,
   "metadata": {},
   "outputs": [
    {
     "data": {
      "text/html": [
       "<div><img alt=\"Output\" src=\"data:image/png;base64,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\"></div>"
      ]
     },
     "execution_count": 16,
     "metadata": {
      "text/html": []
     },
     "output_type": "execute_result"
    }
   ],
   "source": [
    "img = FullSimplify[ComplexExpand[Im[equ], (x \\[Element] Reals && y \\[Element] Reals)]]"
   ]
  },
  {
   "cell_type": "code",
   "execution_count": 17,
   "metadata": {},
   "outputs": [],
   "source": [
    "(* Solve[real==0&&img==0,{x, y}, Reals] *)"
   ]
  },
  {
   "cell_type": "code",
   "execution_count": 18,
   "metadata": {},
   "outputs": [],
   "source": [
    "X = 0.2;\n",
    "q = 1;"
   ]
  },
  {
   "cell_type": "code",
   "execution_count": 20,
   "metadata": {},
   "outputs": [],
   "source": [
    "phi = Pi/4;\n",
    "(* out = Solve[real==0&&img==0,{x, y}] *)"
   ]
  },
  {
   "cell_type": "code",
   "execution_count": 22,
   "metadata": {},
   "outputs": [
    {
     "data": {
      "text/html": [
       "<div><img alt=\"Output\" src=\"data:image/png;base64,iVBORw0KGgoAAAANSUhEUgAAA8kAAAASCAIAAADnvwu/AAAAhXpUWHRSYXcgcHJvZmlsZSB0eXBlIGV4aWYAAHjaVYvBDcMwDAP/mqIjyLJM2uMYiQNkg45fuu0n9yApgbT1vi97felp2dgxABc5csRU6P6juNciDXn+X9MfZGWgoRhTluEkhnJXkqKFN+LCAahYcIbnIV8gNQN3o86928QyPusLVffpbh/5eCey76LuBgAAAAlwSFlzAAALEwAACxMBAJqcGAAAADx0RVh0U29mdHdhcmUAQ3JlYXRlZCB3aXRoIHRoZSBXb2xmcmFtIExhbmd1YWdlIDogd3d3LndvbGZyYW0uY29tXKKmhQAAACF0RVh0Q3JlYXRpb24gVGltZQAyMDE5OjEyOjI2IDEwOjI2OjA2Ob1LcwAAEFpJREFUeJztnGtUE8ffxwfzhyqJhIDcpQgRkKMIR0SplooiarzgoYj1HAWl1XoXiVixagFBrFXRHDEK5aKtVrxSNR6hWi0oVbxUQYpFxagkCALhnqCQzPNiTrfbLNlwN/SZzxt2fzu3/e6XyWwyM3oQQoDBYDAYDAaDwWC6zYD33QAMBoPBYDAYDOY/Ah5bYzAYDAaDwWAwPQMeW2MwGAwGg8FgMD0DHltjMBgMBoPBYDA9w7/G1pmZmTt27KCubrxw4cKOHTuUSmUvNWLfvn1Dhw41NjaeM2dORUVFxzOuXr1aT0+vra2NiOzfv3/mzJkMBqOuro6c8uHDh3w+f+jQoevXryfHW1pali1bZmpqamZmtn79enJRhoaGeiRevHiB4ocPHx4+fDiHw/Hw8Lh69WoX7rfP6Kywcrl82bJlTk5OXC53wYIFMpmMuFRYWOjn58dkMs3MzMLDw5uamgAA0dHRev+Gw+Gg9JqEbWxs5PP51tbWJiYmEyZMuHHjBlGFpmcEAMjKyhIIBOSn0wV628Y0YId3B2xjMrrWG9MYrF2vQgiFQqGTk5OxsfGIESNSUlKoZVJtL5PJlixZYmJiMnjw4ICAALFYjOLHjx8fNWqUubm5u7t7dnY2kf758+effvopalVgYKBEIumCFD1LZ4XNzc319PTkcDhcLlcgEJAvaeoExGKxn58fm80eNmxYamoqEb97966Pj4+lpaW9vX1CQgIR9/HxUXN+QEAAukTTCfQLG9OAHd73/OfN304c/k1dXV10dDSk0NjYuG3bNmq8p8jIyOByuc+ePXv79i2fz//44487mPH8+fPu7u4AgNbWViKYlJS0Z88eAEBtbS058f379w8dOuTj4xMWFkaOr1ixYs6cOQ0NDTU1NZ988snWrVtRXKFQAACamprUKr158+asWbMkEolKpTp//ryRkVFFRUWn77lP6IKwkZGRixYtam1tVSqVa9euXb58OYqXlZVZWFikpqY2NTVVVFTs3LmTqoxKpeLxeKdPn0anmoTNzs7euHFjbW2tSqVKSkpisVjNzc3okqZnhCgtLRUKhV2TAva+jWnADu8O2MZkdLA31iQR1OBVqVS6cOHCZ8+eQQjv3LljZGSUk5NDLpBqe6VSOX78+HXr1lVVVTU2NiYlJT1+/BhCmJOTY2Njg44LCgrs7OwePnyIsuzcuTMlJeXdu3dyuTw0NHTy5MndlaZ7dFbYurq6iRMn3r59G0L4+PFjGxsbkUhEXG1XWKVSOXLkyLi4uNbW1sLCQisrqytXrkAIa2trzczMzp07ByF88+aNj4/PwYMHqTVWV1ePHDny6dOnsAOdgI7bmAbs8L7n/4n51eL/jK2fPn2anp5OzSAWi7///nty5Kuvvpo+fbpKpYJ/P/vq6mo6qSCsr6/XdGny5MmpqanoWKFQcDicR48e0ZcGIZRKpTY2Nrm5uWojDwhhVVUVdeSBWL16NfkDr6WlxdDQEP0PQAjz8/OHDBmCjiUSyeDBg7U2w83N7fLly1qTEZSXl7NYrNevXxMRPp+/adMm+lw06tHQBWGDgoKSk5PRcV5enre3NzresGHDxo0b6fMKBILQ0FB0TCMsGYVCoaen9+TJE3JQ7RmRiYyMpG8DDb1tYxqww7vjcGxjMrrWG2uViMarCC8vL+JhQQ22v3jx4rhx49A9komJiSFenOC/nx2ZrKwsa2trmrugogs2JhMWFqZWO1XYnJwcOzs7pVKJTnft2hUYGIjizs7ORLKCggJ7e3tqFQEBAUePHm239nY7AV22MQ3Y4QgdH4qQ6UfmJ8e7Mt86Li6uqqrq4MGDcrl8yZIlKSkppqam9FnOnj177ty5di8VFhZ6enoeP36cx+Pp6+uPHj26oKCAvjSVShUcHLxp0yYXF5cutJ/g6dOnAwcO5HK5YWFhW7Zs8fDwkMlkUqkUACCTySCEXl5ednZ2EyZMuHjxIjW7QqEoKyvjcrkdr9HKymrevHmHDh1Cp62trcePH1+6dCl9Lhr1aOiCsGFhYYmJibdv3wYAZGRkhIeHo3hOTs748eODg4Pt7e3Hjh17/vx5tYz19fVxcXExMTHolEZYAolEsn79+unTpw8fPryDdwR7dC/2nrUxDdjh3XE4tjE977c37ohEmmhoaBAKhZWVlf7+/iiiyfY5OTnTp0+PiYkZMWKEi4sLMXHRzc3t6tWrL1++hBAWFRVlZ2c/ePCAnFGlUhUWFsbGxq5Zs6YjTSLQBRuTKSkp0WqwwsJCDw+Ptra2KVOmZGZmjhs3DlXh7Oz8+vXr69evAwDKy8uPHTsmFovr6+vJeXNyckpKSoKDg6nFauoEdNnGNGCHI3R8KEKmH5mfHP9nbK1SqRgMBjU1Na6vr//TTz/FxsYuXbp05syZM2bMoL9tAEBoaOibN28yMzOpl5qbm42NjSsrK0tLS1UqlYmJSXNzM31p3333HZPJXLt2rdZ66UFVAwBevXpVVlbGYDDYbDaqffjw4UKh8PLly2KxODIycsGCBX/88Yda9i1btgQGBjo6Onaq0g0bNiQnJ7979w4AIBKJRo4cqdU3NOrR0AVhnZ2dbWxstmzZ4uLiUlBQ4Ofnh+KVlZXx8fHr1q0Ti8UHDhxYsmTJkydPyBkPHz7M4/FsbW3JVYP2hEW4urra2to+ePAgLS1NT0+vU/fVNXrbxjRgh3fH4djGZHStN9YqkSZWrVrF4XBiY2N//PFHCwsLFNRk+8rKyuTkZBcXl+Li4itXrmRkZBw5cgQAMHfu3BUrVvB4PAcHh927dwcFBSHXIV6+fMlms93c3EaMGLFhwwatTVLjvduY4MKFCxKJJCQkhD4ZqqK1tfX58+dVVVVEFRYWFhkZGZs3b7azswsJCZk7dy4AgCwUAODbb7+NiIho18Nd6wTo6Ue9MXY4mT77BCTov+b/H/pTVlZ26tSpzz//XO2yVCo9ceLE4sWL1eLOzs5eXl6nTp1qdwb9rVu3Ll26RI0nJiaamJhMmjSJHLSwsKipqeHz+Xw+HwBQU1NjaWlJ0+I7d+4kJyffvXtX261pB1UNAEBeUSqV9fX1qPZBgwYR7zH+/v48Hk8kEo0ZM4bIKxQK8/LyurDSa9SoUW5ubqdOnVq0aFF6evqyZcvUEnRKPZFIhL6fI9i+ffuAAQNA54VVKBRTpkw5ePCgt7e3TCbbunWrr6/v77//zmAwDAwMoqOjPT09AQAfffTRtGnTrl275uTkROQ9d+4ceeUWjbCIR48eNTQ0ZGRkjB07Njc3t4PfjA4aNKgjyaj0gY178EFgh1NvAdsY6GRvrFUiTQiFQoFAcP369ZCQkF27ds2bN4/G9gYGBgsXLvzss88AAEOHDl21alV2dnZoaCgAICIiIiIiAiXbv3+/lZUVkcvOzq6xsVEikezdu9fb2/vGjRsGBgZaG0bwfm1MkJ+fHxYWJhKJtDbewsLi1q1bTCYTLUq+fv06UQWPx+PxeOj44cOHH3zwAbFaFwDQ2Nj466+/pqWlUcuk6QR02cY92Btjh1Mz9rbmBP3O/P+Ko6khEokkNja2rKxMbfqIVCqNi4tDP0mQyczMdHV1Xb58+fz589udd0KlvLx85cqVcrlcLT579mxiArhcLudwOMTcJghhfX39mTNnyLkWLFjAZDLZbDabzTYyMgIAsNnsH374gUjQ8dmora2tHA6nuLgYnebl5dna2rbb+BkzZkRFRRGne/fuRb8NUVMqlUqaqVeIX375Zfz48W/evLG0tHz79i19YoQm9WjorLB5eXmjR48mTtva2gYOHFhSUgIhnDdvHnkBh7+/P3lqfkNDA4PBePXqFRHpuLA8Hm/37t3kCM1E1ZMnT0ZERKgFOyJ4H9iYBuxw+sSInuofsI07Qk+prVUirbNRd+3aNWvWLEhr+8TERPL6p4SEhMWLF1OLmjBhQnx8PDWuUqkMDQ3v3r1LDuq4jRG//fbbsGHD7t+/T62IKuy9e/esra3b2trQ6Y4dO0JCQqgZv/7662nTppEjly5dcnBwoKak6QSgbtuYBuxwMro5FEH0O/Orxf9Zy1hSUkL+/CYoLS1NS0sjR6RSqaWl5b179xQKhaurK3meviZev369YsUKYik9maysLFtb26KiIrlcvmrVqtmzZ5Ovrly5EgDwzTfftFsskrjLK70ghJGRkVOnTq2pqamoqPDy8tqzZw+Kh4aGHjt2TKFQvH37Nikpic1mIzeoVKqIiIhJkyZpmtQ/f/58BoNx7do1jVpACCF0c3NbvHgxn8+nT4agUY+GzgpbXV1tamp68eJFdHr27FlTU1OFQgEhvH//PofDyc3NhRBeuXLF3NycvHK2oKDAwMBAbR2GJmGDg4MFAkFTU5NSqczOzmaz2WprqGkGJZs3b6YGOyh4b9uYBuxwrfRg/4BtTF8C7OneWJNECKpXDxw4sHLlyvLycghhcXGxq6vr9u3b1ZqhZvvm5mZra+vExMS2trbnz587ODhkZWVBCOvq6nbv3i2Tyerr67dt22ZlZVVTUwMhlMvlEydOvHTpUltbm0Kh2LNnj7GxsZqfddzGEMLTp09zudw///yz3bra7QS8vLwiIyNbWlru3btnbm5+584dFE9ISEC7NJw9e5bFYt28eZOcSyAQ+Pn5kSNaOwGo2zamATtcDR0cisD+aX61eKf3CVGpVFOnTiW8UlxcPGTIkKKiIk2NQJw4cYLmeQgEAmtraxaLhfY+JF9KTk5msVjEllhqqBl09erVTCaTyWQCANBBSkoKhFAqlaJTfX19fX19JpNJvKm0tLR8+eWXxsbGJiYm4eHhxHtPYWFhYGCgmZkZm8328fFB28FACIVCIfrmn/k3np6e5CatWbOGwWBoXUN99OhRAADaW0cr9OrR0Flhb926NXnyZC6X6+jo6OvrS35lPHPmjLu7u6mpqZeXF6EGIisry8zMTK1qTcL+9ddfQUFBpqamLBbL3d395MmTKE7zjAjaXcXcQcH7wMY0YIfT07P9A7YxfSE9q7YmiTR5ta6uLjw83NbWlslkDhs2LDo6mshCQH2lLCgo8PX1NTc3d3R0PHLkCArKZLIvvvjCxsaGxWLNnDmTvFVLVlaWt7e3kZGRsbGxn58f9dsvHbdxUVHRgAEDDAwMmCTQ1hmahIUQvnjxAm3f/uGHHxKf5kqlMj4+3tHR0dDQcMyYMe1uehAUFESOaO0EoM7bmAbscDI6OBTpp+ZXi3dlDz4MPWFhYfv27aNPc/LkyUmTJvVJc/47aDJ0RwTHNu5BsMO7A7axjoBt3B2wjXUf7PBeoiNj6/8RE6/Nzc2fPXtGnZ1tZmZWWlra7sRtDJXHjx///PPP+fn5mhJACMVicURERHp6el82rL9TUVGB5qipoVVwBLZxT4Ed3h2wjXUEbOPugG2s+2CH9xKazK8eJw+6L1y4EBUVRd3AXCQSRUVFUX/XwKghk8k8PDzy8/M1JVCpVA4ODnZ2dmqzzTD0iESi2NhY6vwnrYKrFYJt3E2ww7sDtrGOgG3cHbCNdR/s8F5Ck/mpcT3YozvAYyCEfbPTLQaBBe9jsOC9AVa1j8GC9wZYVd0BP4v3y/8Bj/xmpJNqW3MAAAAASUVORK5CYII=\"></div>"
      ]
     },
     "execution_count": 22,
     "metadata": {
      "text/html": []
     },
     "output_type": "execute_result"
    }
   ],
   "source": [
    "outre = NSolve[real==0&&img==0,{x, y}, Reals]\n",
    "(* Conjugate[zz] *)\n",
    "(* [Sin[x + I y]] *)\n",
    "(* Reduce[y\\[Element] Reals&& x\\[Element] Reals, out] *)"
   ]
  },
  {
   "cell_type": "code",
   "execution_count": 26,
   "metadata": {},
   "outputs": [],
   "source": [
    "(* ComplexExpand[Conjugate[x + I y]] *)\n",
    "\n",
    "(* ComplexExpand[expr]\n",
    "假定所有变量都是实数来展开 expr. *)\n",
    "(* x/.outre[[1,1]]\n",
    "y/.outre[[1,2]]\n",
    "x/.outre[[2,1]]\n",
    "y/.outre[[2,2]] *)"
   ]
  },
  {
   "cell_type": "code",
   "execution_count": 29,
   "metadata": {},
   "outputs": [
    {
     "data": {
      "text/html": [
       "<style>\n",
       "\t\t\t\t\t\t\t\t\t\t\t.grid-container {\n",
       "\t\t\t\t\t\t\t\t\t\t\t\tdisplay: inline-grid;\n",
       "\t\t\t\t\t\t\t\t\t\t\t\tgrid-template-columns: auto;\n",
       "\t\t\t\t\t\t\t\t\t\t\t}\n",
       "\t\t\t\t\t\t\t\t\t\t</style>\n",
       "\n",
       "\t\t\t\t\t\t\t\t\t\t<div><div class=\"grid-container\"><div class=\"grid-item\"><img alt=\"Output\" src=\"data:image/png;base64,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\"></div><div class=\"grid-item\"><img alt=\"Output\" src=\"data:image/png;base64,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\"></div></div></div>"
      ]
     },
     "execution_count": 32,
     "metadata": {
      "text/html": []
     },
     "output_type": "execute_result"
    }
   ],
   "source": [
    "(* Length[outre] *)\n",
    "pxy={};\n",
    "For[i = 1,\n",
    "i <= Length[outre], i++,\n",
    "(* AppendTo[pxy{1}, x/.outre[[i,1]]];\n",
    "AppendTo[pxy{2}, y/.outre[[i,2]]]; *)\n",
    "AppendTo[pxy, {x/.outre[[i,1]], y/.outre[[i,2]]} ];\n",
    "]\n",
    "ListPlot[pxy,PlotStyle -> {Red, PointSize[Large]}]\n",
    "pxy"
   ]
  },
  {
   "cell_type": "code",
   "execution_count": 140,
   "metadata": {},
   "outputs": [
    {
     "data": {
      "text/html": [
       "<div><pre style=\"&#102;&#111;&#110;&#116;&#45;&#102;&#97;&#109;&#105;&#108;&#121;&#58;&#32;&#34;&#67;&#111;&#117;&#114;&#105;&#101;&#114;&#32;&#78;&#101;&#119;&#34;&#44;&#67;&#111;&#117;&#114;&#105;&#101;&#114;&#44;&#109;&#111;&#110;&#111;&#115;&#112;&#97;&#99;&#101;&#59;\">&#48;</pre></div>"
      ]
     },
     "execution_count": 144,
     "metadata": {
      "text/html": []
     },
     "output_type": "execute_result"
    }
   ],
   "source": [
    "q=1;\n",
    "X=1;\n",
    "\n",
    "(* compute critical lines *)\n",
    "pxy={};\n",
    "phi=0\n",
    "Nsec = 300;\n",
    "(* While[phi<=Pi,\n",
    "outre = NSolve[real==0&&img==0,{x, y}, Reals];\n",
    "For[i = 1,\n",
    "i <= Length[outre], i++,\n",
    "AppendTo[pxy, {x/.outre[[i,1]], y/.outre[[i,2]]} ];\n",
    "]\n",
    "phi = phi + Pi/Nsec;\n",
    "Print[phi];\n",
    "] *)\n",
    "\n",
    "For[j=0,j<Nsec, j++,\n",
    "phi = j*2Pi/Nsec;\n",
    "outre = NSolve[real==0&&img==0,{x, y}, Reals];\n",
    "For[i = 1,\n",
    "i <= Length[outre], i++,\n",
    "AppendTo[pxy, {x/.outre[[i,1]], y/.outre[[i,2]]} ];\n",
    "]\n",
    "(* Print[phi]; *)\n",
    "];\n"
   ]
  },
  {
   "cell_type": "code",
   "execution_count": 148,
   "metadata": {},
   "outputs": [
    {
     "data": {
      "text/html": [
       "<div><pre style=\"&#102;&#111;&#110;&#116;&#45;&#102;&#97;&#109;&#105;&#108;&#121;&#58;&#32;&#34;&#67;&#111;&#117;&#114;&#105;&#101;&#114;&#32;&#78;&#101;&#119;&#34;&#44;&#67;&#111;&#117;&#114;&#105;&#101;&#114;&#44;&#109;&#111;&#110;&#111;&#115;&#112;&#97;&#99;&#101;&#59;\">&#123;&#125;</pre></div>"
      ]
     },
     "execution_count": 149,
     "metadata": {
      "text/html": []
     },
     "output_type": "execute_result"
    }
   ],
   "source": [
    "(* compute caustics *)\n",
    "cauxy = {}\n",
    "(* S = x + I y + m1/(X - x - I y) + m2/(-X - x - I y); *)\n",
    "(* reals = FullSimplify[ComplexExpand[Re[S], (x \\[Element] Reals && y \\[Element] Reals)]];\n",
    "imgs = FullSimplify[ComplexExpand[Im[S], (x \\[Element] Reals && y \\[Element] Reals)]]; *)\n",
    "For[i = 1,\n",
    "i <= Length[pxy], i++,\n",
    "x = pxy[[i,1]];\n",
    "y = pxy[[i,2]];\n",
    "reals = x + m1*(X-x)/((X-x)^2+y^2) + m2*(-X-x)/((-X-x)^2+y^2);\n",
    "imgs = y + m1*y/((X-x)^2+y^2) + m2*y/((-X-x)^2+y^2);\n",
    "AppendTo[cauxy, {reals, imgs} ];\n",
    "]\n"
   ]
  },
  {
   "cell_type": "code",
   "execution_count": 170,
   "metadata": {},
   "outputs": [
    {
     "data": {
      "text/html": [
       "<div><img alt=\"Output\" src=\"data:image/png;base64,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\"></div>"
      ]
     },
     "execution_count": 175,
     "metadata": {
      "text/html": []
     },
     "output_type": "execute_result"
    }
   ],
   "source": [
    "plot1 = ListPlot[pxy,PlotStyle -> {Blue, PointSize[0.005]}, ImageSize->960];\n",
    "plot2 = ListPlot[cauxy,PlotStyle -> {Red, PointSize[0.005]}, ImageSize->960];\n",
    "(* Joined->True *)\n",
    "(* Show[plot1, plot2, PlotRange -> All] *)\n",
    "(* Grid[{{plot1, plot2}}, ItemSize -> {{20, 20}}, Frame -> All] *)\n",
    "(* Show[Graphics[{Rectangle[{0, 0}, {1, 1}, plot1], \n",
    "  Rectangle[{0.7, 0.4}, {1, 1}, plot2]}]] *)\n",
    "  \n",
    "  \n",
    "\n",
    "(* https://wenku.baidu.com/view/667bf84353d380eb6294dd88d0d233d4b14e3f32.html *)"
   ]
  },
  {
   "cell_type": "code",
   "execution_count": 91,
   "metadata": {},
   "outputs": [],
   "source": [
    "S = x + I y + m1/(X - x - I y) + m2/(-X - x - I y);"
   ]
  },
  {
   "cell_type": "code",
   "execution_count": 92,
   "metadata": {},
   "outputs": [
    {
     "data": {
      "text/html": [
       "<div><pre style=\"&#102;&#111;&#110;&#116;&#45;&#102;&#97;&#109;&#105;&#108;&#121;&#58;&#32;&#34;&#67;&#111;&#117;&#114;&#105;&#101;&#114;&#32;&#78;&#101;&#119;&#34;&#44;&#67;&#111;&#117;&#114;&#105;&#101;&#114;&#44;&#109;&#111;&#110;&#111;&#115;&#112;&#97;&#99;&#101;&#59;\">&#45;&#48;&#46;&#50;&#57;&#55;&#50;&#54;&#51;</pre></div>"
      ]
     },
     "execution_count": 92,
     "metadata": {
      "text/html": []
     },
     "output_type": "execute_result"
    }
   ],
   "source": [
    "sx = FullSimplify[ComplexExpand[Re[S], (x \\[Element] Reals && y \\[Element] Reals)]]"
   ]
  },
  {
   "cell_type": "code",
   "execution_count": 93,
   "metadata": {},
   "outputs": [
    {
     "data": {
      "text/html": [
       "<div><pre style=\"&#102;&#111;&#110;&#116;&#45;&#102;&#97;&#109;&#105;&#108;&#121;&#58;&#32;&#34;&#67;&#111;&#117;&#114;&#105;&#101;&#114;&#32;&#78;&#101;&#119;&#34;&#44;&#67;&#111;&#117;&#114;&#105;&#101;&#114;&#44;&#109;&#111;&#110;&#111;&#115;&#112;&#97;&#99;&#101;&#59;\">&#49;&#46;&#53;&#53;&#52;&#48;&#50;</pre></div>"
      ]
     },
     "execution_count": 93,
     "metadata": {
      "text/html": []
     },
     "output_type": "execute_result"
    }
   ],
   "source": [
    "sy = FullSimplify[ComplexExpand[Im[S], (x \\[Element] Reals && y \\[Element] Reals)]]"
   ]
  },
  {
   "cell_type": "code",
   "execution_count": null,
   "metadata": {},
   "outputs": [],
   "source": []
  }
 ],
 "metadata": {
  "kernelspec": {
   "display_name": "Wolfram Language 12",
   "language": "Wolfram Language",
   "name": "wolframlanguage12"
  },
  "language_info": {
   "codemirror_mode": "mathematica",
   "file_extension": ".m",
   "mimetype": "application/vnd.wolfram.m",
   "name": "Wolfram Language",
   "pygments_lexer": "mathematica",
   "version": "12.0"
  }
 },
 "nbformat": 4,
 "nbformat_minor": 2
}
