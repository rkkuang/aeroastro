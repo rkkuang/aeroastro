{
 "cells": [
  {
   "cell_type": "markdown",
   "metadata": {},
   "source": [
    "Analytical"
   ]
  },
  {
   "cell_type": "code",
   "execution_count": 13,
   "metadata": {},
   "outputs": [
    {
     "data": {
      "text/html": [
       "<div><img alt=\"Output\" src=\"data:image/png;base64,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\"></div>"
      ]
     },
     "execution_count": 20,
     "metadata": {
      "text/html": []
     },
     "output_type": "execute_result"
    }
   ],
   "source": [
    "\\[Mu]1 = q/(1+q);\n",
    "\\[Mu]2 = 1/(1+q);\n",
    "r0 = {X, 0};\n",
    "(* source position: *)\n",
    "x = {x1, x2};\n",
    "(* image position: *)\n",
    "r = {r1, r2};\n",
    "lensequ = x - (r - \\[Mu]1 (r-r0)/Dot[r-r0,r-r0] - \\[Mu]2 (r+r0)/Dot[r+r0,r+r0])"
   ]
  },
  {
   "cell_type": "code",
   "execution_count": 21,
   "metadata": {},
   "outputs": [],
   "source": [
    "q = 1;\n",
    "X = 0.3;"
   ]
  },
  {
   "cell_type": "code",
   "execution_count": 41,
   "metadata": {},
   "outputs": [
    {
     "data": {
      "text/html": [
       "<div><img alt=\"Output\" src=\"data:image/png;base64,iVBORw0KGgoAAAANSUhEUgAAAx0AAAArCAIAAACSMHLpAAAAhXpUWHRSYXcgcHJvZmlsZSB0eXBlIGV4aWYAAHjaVYvBDcMwDAP/mqIjyLJM2uMYiQNkg45fuu0n9yApgbT1vi97felp2dgxABc5csRU6P6juNciDXn+X9MfZGWgoRhTluEkhnJXkqKFN+LCAahYcIbnIV8gNQN3o86928QyPusLVffpbh/5eCey76LuBgAAAAlwSFlzAAALEwAACxMBAJqcGAAAADx0RVh0U29mdHdhcmUAQ3JlYXRlZCB3aXRoIHRoZSBXb2xmcmFtIExhbmd1YWdlIDogd3d3LndvbGZyYW0uY29tXKKmhQAAACF0RVh0Q3JlYXRpb24gVGltZQAyMDE5OjEyOjEwIDEzOjM2OjI0ffFttgAADtxJREFUeJzt3W9ME+cfAPDjTwfK1bayAB2QbQnCJmCFTeyWbAllEQZlJG5o2oGwjKgQFrCygRtD5yRgtgQkYUaHvFiQURKRELI5IQx4oQQYyj8RJ7KJbKXQ4dC2UMbd70X91Qr9c7TXXrn7fl7Z556754vfbx6fnsc9bjiOIwAAAAAAwG7uVAew4VVUVAQFBXG53OTkZIVCYbV/R0eHUCjk8XiBgYEymWx5eZnEYFpaWjIzM1EUbW5uJvGywJhLZRyBpAPXs7i4mJ+fz+fzfX19k5KS7t27R3VEwKkYXgCwrrKLXC6vrq7u6upSKpWhoaGpqamW+2MYVldXV15ePj8/39/f39nZWVZWRmI87u7uQqGQw+GQeE1gzNUyjkDSges5c+aMt7f33bt3FQqFQCDYv38/1REBp2J6AeDADrGxsRcuXND/WavV8ni84eFh4qcXFRVJpVIbxuVwOHNzcwUFBWFhYXw+3xCDXnh4+OXLl224LLCKqozjkHTgkiyXJY7j8/PzCIJoNBpKwgOOBgWwFtyvssvQ0NCuXbsuXrz47rvvslisHTt2DA4OEjlRp9NdvXq1oaEhKyvLZIelpaVffvnFwhVSUlJCQkJu3br1119/paen2xI9WD/HZRyBpIONyXJZjo+PBwUFbdq0iZLYgBNAAawC6yq7qNVqLpc7MzMzMTGBYdjWrVvVarXVs+rr69lstlgsLiwsjI2NNdlneXn5xo0bFi6SnJx86NAhd3d3BEFYLJZt8YP1clzGEUg62JgslKVOp8vLyzt9+jRFoQFngAJYxdP4g1KpPHv2rJeXV1FREVUBuaDW1taenh7jlpMnT+pryN/fX6VSyWQymUyGIIhKpQoICLB6QalUKpFIhoaGCgoKbt++XVlZaUNUcXFxNpwF7ERhxhFIOnBJ5spyZWUlIyMjOjpaKpU6OSTgTIwtgN7e3ra2tpdffnnVD/jMuqq0tLS8vJxR9+uIEIvFYrHY5KHIyMjr16/v3LkTQRCtVjs8PBweHm44urCw0NbWlpiYuPav1M3NTSAQlJaWikSiVf/K/vTTT729vTqdrre3d3FxEUGQkpIS/TIOUM4RGUcg6YB2dDpdWloaiqLV1dVUxwIowIQCiImJiYmJuXTpUnt7+zvvvPP0gPHDVl988QVVz3ltUFeuXAkODh4ZGdFoNDk5OWKx2PhodnY2giAlJSWGloGBgbi4uKGhIRzHlUqlRCIRiUQmr/zo0aOysjJz43I4nL6+PnNH4RFmx3FcxnFIOtiATJblw4cPRSKRTCbDMIySqIDTQAEsLy9/+eWXxi3whdgu8fHxBQUFe/bs8fPzm5qaqqmpMT4aFRWFomhkZKShRSAQpKSkSCQSNpsdERHh5eXV0NBAVjByuRxFURRFx8bGJBIJiqKZmZlkXRzouVTGEUg6cEkHDx7s6Og4d+4cm83W1+fRo0epDgo4D6MKwNPTU6fTGbe44UbvWy8uLj516pTTowIAAAAA2JCKiorKy8sNH+F+FQAAAAAAOchfV8GuGgAAB3H+9MLwHTkAAOtF/roKdtUAADiI86cXpu/IAQBYJ9vXVVwuV6VSffrpp6+88soLL7xQW1urbxeLxYcPH+bxeCRFCABglsLCwoSEBP2jn93d3UFBQSqVSn/IodOLyTmtsLCwvLzcx8eHxWJ99tln/f39Wq3WEaMDAOjh6bpKq9Vu3rx5XSfbs6uG1S07AHNAMTCQhaSfOnVqdna2urpao9FkZmbW1NT4+vo6Jyp7duSAMgYGUAxM9nRdde3atddff31dJ9uzq4bVLTsAc0AxMJCFpLNYrPr6+q+//jorKysxMTEhIcFpUdmzIweUMTCAYmAUnU5n/GqFJ+9bP3v2rH7WMO5qYf8WPYfuqlFcXOy4iwPnS01NFQgEtp0LxbBB2Zz0sLAwoVDY2Nj44MEDEuOxeU4jZUcOKGOagTmNgUwmPTc39/jx43v37tVvxfFkXfXSSy9du3ZtZWXFw8PD0NXC/i32ILhlB7xJiwmgGBiISNKbm5snJyezsrLy8vLkcjnBK2MYtrCwwOVyzXWwbU6zuiMHlDEwgGJgIIVCsXnz5ueff/7JZ8Ob13t6epqamoi/u93OXTUsb9kBGAWKgYEsJH16ejogIED/hHhkZOT58+dXdTA3vezbt8/Dw6Ojo8O2kOzckQPKGBhAMTBKXl6e8ceni+ioqKiRkRE7V22wqwYAwB44jmdkZOTk5Lz22mve3t5yufzzzz8fHR1FCEwvfn5+CIJcvXqVxHgYtSMHAMAG3t7ez3w2XmTBvssb13fffScQCLZv337y5El6DwoMIOlr5eXlVVRUUB0FIAGUNwNt0KQXFhYaf4R9bOjg8ePHs7Ozv/32282bN9vb2wcGBug6KDCApK81NjbW3NwskUioDgTYC8qbgWiTdPqsq/7555/6+nqqo6AGiqIlJSUeHh4sFis6Ovr+/fuUD1pVVeWEGMxhQjFA0leZn59PT09vbGz09/enMAwSMaGMzYHyXoUJxUCbpNNnXdXY2JiUlER1FBRbWVnp7u7evXs35YP6+PjMzMw4MwxjjCoGSLoej8fr6+uLiYmhKgDSMaqMzYHy1mNUMWz0pNNnXTU9PQ2bEpaVlaWkpPD5fMoH3bt3L/Ffjycdo4oBkm7g5uZG4eikY1QZmwPlrceoYtjoSXfdddXU1NR7773n6+vL5/Ozs7M1Go2FzhMTE8HBwSYPqdXqqakpIiNWVFQEBQVxudzk5GSFQmG1f0dHh1Ao5PF4gYGBMplseXmZyCgEtbS0ZGZmoija3Ny86tDt27dNniKXy/v6+kh/3dzi4mJ+fj6fz/f19U1KSrp37x6RQXk8Honf7RxUDC6VcQSSTncwp0F5G8CcRuOkP7Oucqlve0eOHNm3b9/s7Ozo6OjExMTx48ctdG5tbRWJRCYP1dbWstlsq8PJ5fLq6uquri6lUhkaGpqammq5P4ZhdXV15eXl8/Pz/f39nZ2dZWVlVkchzt3dXSgUmvyC0tLSon/d3KrG77///scff1z7Ajo7nTlzxtvb++7duwqFQiAQ7N+/n+CgXl5ejx49IiUGRxSDq2UcgaTTHcxpUN4GMKfRJumLi4s+Pj7PNBn/cuCxY8empqZs/21Fh7l8+fLu3bstdMjOzjb51r65ubkTJ04QGSI2NvbChQv6P2u1Wh6PNzw8TDzCoqIiqVRKvL8Bh8OZm5srKCgICwvj8/mGGPRMvv/w/v37lZWVxi2Tk5PPPffctm3bBAKBQCD4+OOPbYjEajA4js/PzyMIotFoiAza1NTU3d1tWyQWkFUMVGUch6QDmNOexfDyhjlNbyMmHcOwb775ZmBgwLjR03iNVVJSUlNT8/jx46KiIptXhY4wPj4eEhJioQOGYSZvtlVVVX344YdEhhgaGtq1a9fFixfr6upaW1t37NgxODgYERFh9USdTtfZ2dnQ0FBbW2uyw9LSUmdnZ3x8vLkrpKSkpKen37p1y93dncht2ODg4ImJif/++8/T8+k2REtLS1ZPtD+Y8fHxoKCgTZs2ERn01VdfbW9vf+utt4gERhxZxeC4jCOQdLKTTj8wpxljeHnDnKZv2XBJ7+np+fnnnxMSEqKioozbn7nr5e3tnZub62qLqj///LOqqurEiRMW+uBGW0kb+/3330NDQ4mMolaruVzuzMzMxMQEhmFbt25Vq9VWz6qvr2ez2WKxuLCwMDY21mQfqxubJycnHzp0SH8HksViEYn27bff7urqItKTxGD0O3OfPn2a4FgBAQF///23DUFaQGIxOC7jCCQdWARz2lqMLW+Y04j0JDEYEpMuFAq/+uqrN954Y1W76z63rjc3NycWi7/99lvLy3mTa3kMw7Zs2WLc0traWvwsDMP0h/z9/VUqlUwmu3PnDovFUqlUAQEBVsOTSqWLi4t9fX2XLl3Kz89fz0/2VFxc3HpPCQ8P1+/sQTpzwaysrGRkZERHR0ulUoKX2rJly7///kteaCQXA4UZRyDpDAZzmknMLG+Y02iZdE/rXagzPT2dkJBw5MgRqy9QNvm4mVqtXlV2Fnazj4yMvH79+s6dOxEE0Wq1w8PD4eHhhqMLCwttbW2JiYn6O4fG3NzcBAJBaWmpSCSqrKw0PkRwY3MbcDichYWFdZ1iTzA6nS4tLQ1F0erqauIjrqysGG7w2o/0YnBExhFIOqlJpx+Y08xhYHnDnEbbpNv2XJgTjI6OhoSENDY2Eun8ySefmGw/fPgwweGuXLkSHBw8MjKi0WhycnLEYrHx0ezsbH3+DC0DAwNxcXFDQ0M4jiuVSolEIhKJTF7Z8sbmHA6nr6/P3FGTj/vhOH7z5s3z589b/aFICebhw4cikUgmk5l8cNKC2dlZgg/YWuWIYnBcxnFIOjAF5jQcyvv/YE7D6Zt01/1/wNjY2MnJyY8++gj9v7UvwDCw/ztEfHx8QUHBnj17/Pz8pqamampqjI9GRUWhKBoZGWloEQgEKSkpEomEzWZHRER4eXk1NDTYGYOBXC7X/8hjY2MSiQRF0czMTOMOPT09b775JlnDWXbw4MGOjo5z586x2Wx9VEePHiVy4oMHD1588UVSYnBEMbhUxhFIOgPAnAblbQBzGkLjpK9rFeayjh07ZrK9pqbmxo0bTg7GCXJzc6kOwboffvhhcHDQ+ePStRgg6YxC1zI2B8rbAroWA12T7rr3q9YlIiJiZGRkbfuBAweampqcH49DDQwMrPqtTtd0586d7du3O39cWhYDJJ1paFnG5kB5W0bLYqBx0mmyroqPj//111/XtrNYrNDQUOdsi+00ra2tBw4coDoK6zAMo+QRZloWAySdaWhZxuZAeVtGy2KgcdJpMgP6+vqqVCqTh9LS0pwcjKOVlJRQHYJ1k5OT27Zto2RoWhYDJJ1paFnG5kB5W0bLYqBx0mlyvwpBkNDQ0D/++IPqKMATLS0tH3zwAVWjQzFQgtqk0w+UsUuBOY2BbEs6fdZV77//vsn/gQaUCAwMRFGUqtGhGChBbdLpB8rYpcCcxkC2Jd0NN/OCfAAAAAAAsC70uV8FAAAAAECt/wFEBCt19n8V5gAAAABJRU5ErkJggg==\"></div>"
      ]
     },
     "execution_count": 43,
     "metadata": {
      "text/html": []
     },
     "output_type": "execute_result"
    }
   ],
   "source": [
    "x2 = 0; (*Sheneider 1986 2.3.1 On-axis solution*)\n",
    "(* Clear[x1];  *)\n",
    "lensequ\n",
    "(* Solve[lensequ==0,{r1,r2},Reals] *)"
   ]
  },
  {
   "cell_type": "code",
   "execution_count": 16,
   "metadata": {},
   "outputs": [
    {
     "data": {
      "text/html": [
       "<div><pre style=\"&#99;&#111;&#108;&#111;&#114;&#58;&#114;&#101;&#100;&#59;&#32;&#102;&#111;&#110;&#116;&#45;&#102;&#97;&#109;&#105;&#108;&#121;&#58;&#32;&#34;&#67;&#111;&#117;&#114;&#105;&#101;&#114;&#32;&#78;&#101;&#119;&#34;&#44;&#67;&#111;&#117;&#114;&#105;&#101;&#114;&#44;&#109;&#111;&#110;&#111;&#115;&#112;&#97;&#99;&#101;&#59;\">&#10;&#32;&#32;&#32;&#32;&#32;&#32;&#32;&#32;&#32;&#32;&#32;&#32;&#32;&#32;&#32;&#32;&#32;&#32;&#32;&#32;&#32;&#32;&#32;&#32;&#32;&#32;&#32;&#32;&#32;&#32;&#32;&#32;&#32;&#32;&#32;&#49;&#32;&#32;&#32;&#32;&#32;&#32;&#32;&#32;&#32;&#32;&#32;&#32;&#32;&#32;&#32;&#32;&#32;&#32;&#32;&#32;&#32;&#32;&#32;&#32;&#32;&#113;&#10;&#83;&#111;&#108;&#118;&#101;&#58;&#58;&#110;&#100;&#100;&#99;&#58;&#32;&#84;&#104;&#101;&#32;&#115;&#121;&#115;&#116;&#101;&#109;&#32;&#45;&#45;&#45;&#45;&#45;&#45;&#45;&#45;&#45;&#45;&#45;&#45;&#45;&#45;&#45;&#45;&#45;&#45;&#45;&#45;&#45;&#45;&#45;&#32;&#43;&#32;&#45;&#45;&#45;&#45;&#45;&#45;&#45;&#45;&#45;&#45;&#45;&#45;&#45;&#45;&#45;&#45;&#45;&#45;&#45;&#45;&#45;&#45;&#45;&#32;&#43;&#32;&#10;&#32;&#32;&#32;&#32;&#32;&#32;&#32;&#32;&#32;&#32;&#32;&#32;&#32;&#32;&#32;&#32;&#32;&#32;&#32;&#32;&#32;&#32;&#32;&#32;&#32;&#32;&#32;&#32;&#32;&#32;&#32;&#32;&#32;&#32;&#32;&#32;&#32;&#32;&#32;&#32;&#32;&#32;&#32;&#32;&#32;&#32;&#50;&#32;&#32;&#32;&#32;&#32;&#32;&#32;&#32;&#32;&#32;&#32;&#32;&#32;&#32;&#32;&#32;&#32;&#32;&#32;&#32;&#32;&#32;&#32;&#32;&#32;&#50;&#10;&#32;&#32;&#32;&#32;&#32;&#32;&#32;&#32;&#32;&#32;&#32;&#32;&#32;&#32;&#32;&#32;&#32;&#32;&#32;&#32;&#32;&#32;&#32;&#32;&#40;&#49;&#32;&#43;&#32;&#113;&#41;&#32;&#40;&#45;&#120;&#32;&#45;&#32;&#88;&#32;&#43;&#32;&#73;&#32;&#121;&#41;&#32;&#32;&#32;&#32;&#40;&#49;&#32;&#43;&#32;&#113;&#41;&#32;&#40;&#45;&#120;&#32;&#43;&#32;&#88;&#32;&#43;&#32;&#73;&#32;&#121;&#41;&#10;&#32;&#32;&#32;&#32;&#32;&#32;&#32;&#32;&#32;&#32;&#32;&#32;&#32;&#32;&#32;&#32;&#32;&#32;&#32;&#32;&#32;&#32;&#32;&#32;&#32;&#32;&#32;&#32;&#32;&#32;&#32;&#32;&#32;&#32;&#32;&#49;&#32;&#32;&#32;&#32;&#32;&#32;&#32;&#32;&#32;&#32;&#32;&#32;&#32;&#32;&#32;&#32;&#32;&#32;&#32;&#32;&#32;&#32;&#32;&#32;&#32;&#113;&#10;&#32;&#32;&#32;&#32;&#32;&#32;&#32;&#67;&#111;&#115;&#91;&#112;&#104;&#105;&#93;&#32;&#61;&#61;&#32;&#48;&#32;&#38;&#38;&#32;&#45;&#45;&#45;&#45;&#45;&#45;&#45;&#45;&#45;&#45;&#45;&#45;&#45;&#45;&#45;&#45;&#45;&#45;&#45;&#45;&#45;&#45;&#45;&#32;&#43;&#32;&#45;&#45;&#45;&#45;&#45;&#45;&#45;&#45;&#45;&#45;&#45;&#45;&#45;&#45;&#45;&#45;&#45;&#45;&#45;&#45;&#45;&#45;&#45;&#32;&#43;&#32;&#10;&#32;&#32;&#32;&#32;&#32;&#32;&#32;&#32;&#32;&#32;&#32;&#32;&#32;&#32;&#32;&#32;&#32;&#32;&#32;&#32;&#32;&#32;&#32;&#32;&#32;&#32;&#32;&#32;&#32;&#32;&#32;&#32;&#32;&#32;&#32;&#32;&#32;&#32;&#32;&#32;&#32;&#32;&#32;&#32;&#32;&#32;&#50;&#32;&#32;&#32;&#32;&#32;&#32;&#32;&#32;&#32;&#32;&#32;&#32;&#32;&#32;&#32;&#32;&#32;&#32;&#32;&#32;&#32;&#32;&#32;&#32;&#32;&#50;&#10;&#32;&#32;&#32;&#32;&#32;&#32;&#32;&#32;&#32;&#32;&#32;&#32;&#32;&#32;&#32;&#32;&#32;&#32;&#32;&#32;&#32;&#32;&#32;&#32;&#40;&#49;&#32;&#43;&#32;&#113;&#41;&#32;&#40;&#45;&#120;&#32;&#45;&#32;&#88;&#32;&#43;&#32;&#73;&#32;&#121;&#41;&#32;&#32;&#32;&#32;&#40;&#49;&#32;&#43;&#32;&#113;&#41;&#32;&#40;&#45;&#120;&#32;&#43;&#32;&#88;&#32;&#43;&#32;&#73;&#32;&#121;&#41;&#10;&#32;&#32;&#32;&#32;&#32;&#32;&#32;&#83;&#105;&#110;&#91;&#112;&#104;&#105;&#93;&#32;&#61;&#61;&#32;&#48;&#32;&#99;&#111;&#110;&#116;&#97;&#105;&#110;&#115;&#32;&#97;&#32;&#110;&#111;&#110;&#114;&#101;&#97;&#108;&#32;&#99;&#111;&#110;&#115;&#116;&#97;&#110;&#116;&#32;&#73;&#46;&#32;&#87;&#105;&#116;&#104;&#32;&#116;&#104;&#101;&#32;&#100;&#111;&#109;&#97;&#105;&#110;&#32;&#82;&#101;&#97;&#108;&#115;&#10;&#32;&#32;&#32;&#32;&#32;&#115;&#112;&#101;&#99;&#105;&#102;&#105;&#101;&#100;&#44;&#32;&#97;&#108;&#108;&#32;&#99;&#111;&#110;&#115;&#116;&#97;&#110;&#116;&#115;&#32;&#115;&#104;&#111;&#117;&#108;&#100;&#32;&#98;&#101;&#32;&#114;&#101;&#97;&#108;&#46;&#10;</pre><img alt=\"Output\" src=\"data:image/png;base64,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\"></div>"
      ]
     },
     "execution_count": 25,
     "metadata": {
      "text/html": []
     },
     "output_type": "execute_result"
    }
   ],
   "source": [
    "m1 = q/(1+q);\n",
    "m2 = 1/(1+q);\n",
    "eiphi = {Cos[phi], Sin[phi]};\n",
    "z1 = X + 0I;\n",
    "z2 = -X - 0I;\n",
    "(* z = x + yI; *)\n",
    "(* zz = Conjugate[z]; *)\n",
    "zz = x - I y;\n",
    "equ = eiphi + m1/(z1-zz)^2 + m2/(z2-zz)^2;\n",
    "Solve[equ==0,{x, y}, Reals]"
   ]
  },
  {
   "cell_type": "code",
   "execution_count": 26,
   "metadata": {},
   "outputs": [],
   "source": [
    "X = 0.2;"
   ]
  },
  {
   "cell_type": "code",
   "execution_count": 31,
   "metadata": {},
   "outputs": [
    {
     "data": {
      "text/html": [
       "<div><pre style=\"&#99;&#111;&#108;&#111;&#114;&#58;&#114;&#101;&#100;&#59;&#32;&#102;&#111;&#110;&#116;&#45;&#102;&#97;&#109;&#105;&#108;&#121;&#58;&#32;&#34;&#67;&#111;&#117;&#114;&#105;&#101;&#114;&#32;&#78;&#101;&#119;&#34;&#44;&#67;&#111;&#117;&#114;&#105;&#101;&#114;&#44;&#109;&#111;&#110;&#111;&#115;&#112;&#97;&#99;&#101;&#59;\">&#10;&#32;&#32;&#32;&#32;&#32;&#32;&#32;&#32;&#32;&#32;&#32;&#32;&#32;&#32;&#32;&#32;&#32;&#32;&#32;&#32;&#32;&#32;&#32;&#32;&#32;&#32;&#32;&#32;&#32;&#32;&#32;&#32;&#32;&#49;&#32;&#32;&#32;&#32;&#32;&#32;&#32;&#32;&#32;&#32;&#32;&#32;&#32;&#32;&#32;&#32;&#32;&#32;&#32;&#32;&#49;&#10;&#83;&#111;&#108;&#118;&#101;&#58;&#58;&#110;&#100;&#100;&#99;&#58;&#32;&#84;&#104;&#101;&#32;&#115;&#121;&#115;&#116;&#101;&#109;&#32;&#45;&#45;&#45;&#45;&#45;&#45;&#45;&#45;&#45;&#45;&#45;&#45;&#45;&#45;&#45;&#45;&#45;&#45;&#45;&#32;&#43;&#32;&#45;&#45;&#45;&#45;&#45;&#45;&#45;&#45;&#45;&#45;&#45;&#45;&#45;&#45;&#45;&#45;&#45;&#45;&#32;&#61;&#61;&#32;&#48;&#32;&#38;&#38;&#32;&#10;&#32;&#32;&#32;&#32;&#32;&#32;&#32;&#32;&#32;&#32;&#32;&#32;&#32;&#32;&#32;&#32;&#32;&#32;&#32;&#32;&#32;&#32;&#32;&#32;&#32;&#32;&#32;&#32;&#32;&#32;&#32;&#32;&#32;&#32;&#32;&#32;&#32;&#32;&#32;&#32;&#32;&#32;&#50;&#32;&#32;&#32;&#32;&#32;&#32;&#32;&#32;&#32;&#32;&#32;&#32;&#32;&#32;&#32;&#32;&#32;&#32;&#32;&#32;&#50;&#10;&#32;&#32;&#32;&#32;&#32;&#32;&#32;&#32;&#32;&#32;&#32;&#32;&#32;&#32;&#32;&#32;&#32;&#32;&#32;&#32;&#32;&#32;&#32;&#32;&#50;&#32;&#40;&#45;&#48;&#46;&#50;&#32;&#45;&#32;&#120;&#32;&#43;&#32;&#73;&#32;&#121;&#41;&#32;&#32;&#32;&#32;&#50;&#32;&#40;&#48;&#46;&#50;&#32;&#45;&#32;&#120;&#32;&#43;&#32;&#73;&#32;&#121;&#41;&#10;&#32;&#32;&#32;&#32;&#32;&#32;&#32;&#32;&#32;&#32;&#32;&#32;&#32;&#32;&#32;&#32;&#32;&#32;&#49;&#32;&#32;&#32;&#32;&#32;&#32;&#32;&#32;&#32;&#32;&#32;&#32;&#32;&#32;&#32;&#32;&#32;&#32;&#32;&#32;&#49;&#10;&#32;&#32;&#32;&#32;&#32;&#49;&#32;&#43;&#32;&#45;&#45;&#45;&#45;&#45;&#45;&#45;&#45;&#45;&#45;&#45;&#45;&#45;&#45;&#45;&#45;&#45;&#45;&#45;&#32;&#43;&#32;&#45;&#45;&#45;&#45;&#45;&#45;&#45;&#45;&#45;&#45;&#45;&#45;&#45;&#45;&#45;&#45;&#45;&#45;&#32;&#61;&#61;&#32;&#48;&#32;&#99;&#111;&#110;&#116;&#97;&#105;&#110;&#115;&#32;&#97;&#32;&#110;&#111;&#110;&#114;&#101;&#97;&#108;&#10;&#32;&#32;&#32;&#32;&#32;&#32;&#32;&#32;&#32;&#32;&#32;&#32;&#32;&#32;&#32;&#32;&#32;&#32;&#32;&#32;&#32;&#32;&#32;&#32;&#32;&#32;&#32;&#50;&#32;&#32;&#32;&#32;&#32;&#32;&#32;&#32;&#32;&#32;&#32;&#32;&#32;&#32;&#32;&#32;&#32;&#32;&#32;&#32;&#50;&#10;&#32;&#32;&#32;&#32;&#32;&#32;&#32;&#32;&#32;&#50;&#32;&#40;&#45;&#48;&#46;&#50;&#32;&#45;&#32;&#120;&#32;&#43;&#32;&#73;&#32;&#121;&#41;&#32;&#32;&#32;&#32;&#50;&#32;&#40;&#48;&#46;&#50;&#32;&#45;&#32;&#120;&#32;&#43;&#32;&#73;&#32;&#121;&#41;&#10;&#32;&#32;&#32;&#32;&#32;&#99;&#111;&#110;&#115;&#116;&#97;&#110;&#116;&#32;&#73;&#46;&#32;&#87;&#105;&#116;&#104;&#32;&#116;&#104;&#101;&#32;&#100;&#111;&#109;&#97;&#105;&#110;&#32;&#82;&#101;&#97;&#108;&#115;&#10;&#32;&#32;&#32;&#32;&#32;&#115;&#112;&#101;&#99;&#105;&#102;&#105;&#101;&#100;&#44;&#32;&#97;&#108;&#108;&#32;&#99;&#111;&#110;&#115;&#116;&#97;&#110;&#116;&#115;&#32;&#115;&#104;&#111;&#117;&#108;&#100;&#32;&#98;&#101;&#32;&#114;&#101;&#97;&#108;&#46;&#10;</pre><img alt=\"Output\" src=\"data:image/png;base64,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\"></div>"
      ]
     },
     "execution_count": 34,
     "metadata": {
      "text/html": []
     },
     "output_type": "execute_result"
    }
   ],
   "source": [
    "(* Cos[Pi/6] *)\n",
    "q = 1;\n",
    "phi = Pi/2;\n",
    "\n",
    "Solve[equ==0,{x, y}, Reals]"
   ]
  },
  {
   "cell_type": "code",
   "execution_count": 1,
   "metadata": {},
   "outputs": [
    {
     "data": {
      "text/html": [
       "<div><img alt=\"Output\" src=\"data:image/png;base64,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\"></div>"
      ]
     },
     "execution_count": 1,
     "metadata": {
      "text/html": []
     },
     "output_type": "execute_result"
    }
   ],
   "source": [
    "ComplexExpand[Sin[x + I y]]"
   ]
  },
  {
   "cell_type": "code",
   "execution_count": 3,
   "metadata": {},
   "outputs": [
    {
     "data": {
      "text/html": [
       "<div><img alt=\"Output\" src=\"data:image/png;base64,iVBORw0KGgoAAAANSUhEUgAAACoAAAASCAIAAACiiNvMAAAAhXpUWHRSYXcgcHJvZmlsZSB0eXBlIGV4aWYAAHjaVYvBDcMwDAP/mqIjyLJM2uMYiQNkg45fuu0n9yApgbT1vi97felp2dgxABc5csRU6P6juNciDXn+X9MfZGWgoRhTluEkhnJXkqKFN+LCAahYcIbnIV8gNQN3o86928QyPusLVffpbh/5eCey76LuBgAAAAlwSFlzAAALEwAACxMBAJqcGAAAADx0RVh0U29mdHdhcmUAQ3JlYXRlZCB3aXRoIHRoZSBXb2xmcmFtIExhbmd1YWdlIDogd3d3LndvbGZyYW0uY29tXKKmhQAAACF0RVh0Q3JlYXRpb24gVGltZQAyMDE5OjEyOjI2IDAwOjU3OjMwPcUGbgAAAbRJREFUSIntVD1owlAQfobi5CjqoAQcRUgGwVGiOLkKSnBw0E0IBNRNQVF3Fzcf4uQPTk5Bd8eAiIMoDv6Aggg6GMFcB9sgtJamTXXpN7077u7ju+94OgBAzwPxRO5/eg1nHY/H2Wz2NHpRFFOplKoWnYaXv9/v5/M5TdMqegCA5/lAIAAAANDv961W6263A02xWq0MBsN6vVYyPM+n02kEAJIkURRVqVQOhwNJkoIgqJ2+3W5LpZLP5wuFQuPx+NOaaDSayWSu7/P5bDabJ5MJusaj0chkMoXDYY7jVEt7Rzabrdfr9+iHw6HFYpEkCQA6nY7X6wWAl6sFDofD5XK12+3lcvnRoG63OxgMbjO5XI4g1J2t0+mkKKrZbEYiEYxxPB5/8x4AWq0WTdOxWIxl2T9SDwCCILjd7s1mo6yBQAgtFotEIoExLpfLoihijFXJ+j78fv/pdEomkyzL6vV6hBC6XC4MwxSLRcUho9H4hYJ7svL5PMMwwWCQ47hCoXCvslarIYSU+UgVze/RaDQ8Ho8SPo5eluXpdGqz2Xq93qPpZVm22+0kSVar1du8lp/uD/AKem7Dj40iav0AAAAASUVORK5CYII=\"></div>"
      ]
     },
     "execution_count": 3,
     "metadata": {
      "text/html": []
     },
     "output_type": "execute_result"
    }
   ],
   "source": [
    "ComplexExpand[Conjugate[x + I y]]\n",
    "\n",
    "(* ComplexExpand[expr]\n",
    "假定所有变量都是实数来展开 expr. *)\n"
   ]
  }
 ],
 "metadata": {
  "kernelspec": {
   "display_name": "Wolfram Language 12",
   "language": "Wolfram Language",
   "name": "wolframlanguage12"
  },
  "language_info": {
   "codemirror_mode": "mathematica",
   "file_extension": ".m",
   "mimetype": "application/vnd.wolfram.m",
   "name": "Wolfram Language",
   "pygments_lexer": "mathematica",
   "version": "12.0"
  }
 },
 "nbformat": 4,
 "nbformat_minor": 2
}
