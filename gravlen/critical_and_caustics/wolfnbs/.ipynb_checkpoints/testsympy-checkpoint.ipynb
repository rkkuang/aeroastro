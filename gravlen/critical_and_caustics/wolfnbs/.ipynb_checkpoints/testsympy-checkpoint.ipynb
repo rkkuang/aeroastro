{
 "cells": [
  {
   "cell_type": "code",
   "execution_count": 1,
   "metadata": {},
   "outputs": [],
   "source": [
    "import sympy as sym\n",
    "import numpy as np\n",
    "# https://blog.csdn.net/cj151525/article/details/95756847"
   ]
  },
  {
   "cell_type": "code",
   "execution_count": 2,
   "metadata": {},
   "outputs": [],
   "source": [
    "#https://zhidao.baidu.com/question/525953489739556965.html\n",
    "# ''  --> \"\"   !!!!!!\n",
    "q = sym.Symbol(\"q\",real=True)\n",
    "phi = sym.Symbol(\"phi\",real=True)\n",
    "X = sym.Symbol(\"X\",real=True)\n",
    "x = sym.Symbol(\"x\",real=True)\n",
    "y = sym.Symbol(\"y\",real=True)\n",
    "\n",
    "m1 = q/(1+q);\n",
    "m2 = 1/(1+q);\n",
    "eiphi = sym.cos(phi) + sym.I*sym.sin(phi)\n",
    "z1 = X + 0*sym.I;\n",
    "z2 = -X - 0*sym.I;\n",
    "zz = x - y*sym.I;\n",
    "equ = eiphi + m1/(z1-zz)**2 + m2/(z2-zz)**2"
   ]
  },
  {
   "cell_type": "code",
   "execution_count": 3,
   "metadata": {},
   "outputs": [],
   "source": [
    "# equ\n",
    "# sym.simplify(equ)\n",
    "# sym.expand(equ)\n",
    "real = sym.re(sym.expand(equ))\n",
    "img = sym.im(sym.expand(equ))"
   ]
  },
  {
   "cell_type": "code",
   "execution_count": 4,
   "metadata": {},
   "outputs": [],
   "source": [
    "Xv = 0.2;\n",
    "qv = 1;"
   ]
  },
  {
   "cell_type": "code",
   "execution_count": 5,
   "metadata": {},
   "outputs": [],
   "source": [
    "phiv = np.pi/4;"
   ]
  },
  {
   "cell_type": "code",
   "execution_count": 15,
   "metadata": {},
   "outputs": [
    {
     "name": "stdout",
     "output_type": "stream",
     "text": [
      "q*(X**2*q + X**2 - 2*X*q*x - 2*X*x + q*x**2 - q*y**2 + x**2 - y**2)/((2*X*q*y + 2*X*y - 2*q*x*y - 2*x*y)**2 + (X**2*q + X**2 - 2*X*q*x - 2*X*x + q*x**2 - q*y**2 + x**2 - y**2)**2) + cos(phi) + (X**2*q + X**2 + 2*X*q*x + 2*X*x + q*x**2 - q*y**2 + x**2 - y**2)/((-2*X*q*y - 2*X*y - 2*q*x*y - 2*x*y)**2 + (X**2*q + X**2 + 2*X*q*x + 2*X*x + q*x**2 - q*y**2 + x**2 - y**2)**2)\n",
      "0.707106781186548 + (2*x**2 - 0.8*x - 2*y**2 + 0.08)/((-4*x*y + 0.8*y)**2 + (2*x**2 - 0.8*x - 2*y**2 + 0.08)**2) + (2*x**2 + 0.8*x - 2*y**2 + 0.08)/((-4*x*y - 0.8*y)**2 + (2*x**2 + 0.8*x - 2*y**2 + 0.08)**2)\n",
      "(4*x*y - 0.8*y)/((-4*x*y + 0.8*y)**2 + (2*x**2 - 0.8*x - 2*y**2 + 0.08)**2) + (4*x*y + 0.8*y)/((-4*x*y - 0.8*y)**2 + (2*x**2 + 0.8*x - 2*y**2 + 0.08)**2) + 0.707106781186547\n"
     ]
    }
   ],
   "source": [
    "print(real)\n",
    "# print(img)\n",
    "# real2=real.evalf(subs={X:0.2, q:1, phi:3.14159/4})\n",
    "# real2=real.evalf()\n",
    "real2 = real.subs([(X, Xv), (q, qv), (phi, phiv)])\n",
    "img2 = img.subs([(X, Xv), (q, qv), (phi, phiv)])\n",
    "print(real2)\n",
    "print(img2)"
   ]
  },
  {
   "cell_type": "code",
   "execution_count": 21,
   "metadata": {},
   "outputs": [],
   "source": [
    "# res = sym.solve([real2,img2],[x,y]) # []\n",
    "# res = sym.nonlinsolve([real2,img2],[x,y])\n",
    "# sym.nsolve([real,img],[x,y])\n",
    "\n",
    "# https://stackoverflow.com/questions/50275364/sympy-nsolve-for-simultaneous-equation-chemical-equilibria\n",
    "root = sym.nsolve((real2, img2), (x, y),(0.1,0.1))# maxsteps=100"
   ]
  },
  {
   "cell_type": "code",
   "execution_count": 22,
   "metadata": {},
   "outputs": [
    {
     "data": {
      "text/latex": [
       "$\\displaystyle \\left[\\begin{matrix}0.0134693031563221\\\\0.210971948744935\\end{matrix}\\right]$"
      ],
      "text/plain": [
       "Matrix([\n",
       "[0.0134693031563221],\n",
       "[ 0.210971948744935]])"
      ]
     },
     "execution_count": 22,
     "metadata": {},
     "output_type": "execute_result"
    }
   ],
   "source": [
    "root"
   ]
  },
  {
   "cell_type": "code",
   "execution_count": null,
   "metadata": {},
   "outputs": [],
   "source": []
  }
 ],
 "metadata": {
  "kernelspec": {
   "display_name": "Python 3",
   "language": "python",
   "name": "python3"
  },
  "language_info": {
   "codemirror_mode": {
    "name": "ipython",
    "version": 3
   },
   "file_extension": ".py",
   "mimetype": "text/x-python",
   "name": "python",
   "nbconvert_exporter": "python",
   "pygments_lexer": "ipython3",
   "version": "3.7.5"
  }
 },
 "nbformat": 4,
 "nbformat_minor": 2
}
