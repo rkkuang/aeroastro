{
 "cells": [
  {
   "cell_type": "markdown",
   "metadata": {},
   "source": [
    "Analytical"
   ]
  },
  {
   "cell_type": "code",
   "execution_count": 13,
   "metadata": {},
   "outputs": [
    {
     "data": {
      "text/html": [
       "<div><img alt=\"Output\" src=\"data:image/png;base64,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\"></div>"
      ]
     },
     "execution_count": 20,
     "metadata": {
      "text/html": []
     },
     "output_type": "execute_result"
    }
   ],
   "source": [
    "\\[Mu]1 = q/(1+q);\n",
    "\\[Mu]2 = 1/(1+q);\n",
    "r0 = {X, 0};\n",
    "(* source position: *)\n",
    "x = {x1, x2};\n",
    "(* image position: *)\n",
    "r = {r1, r2};\n",
    "lensequ = x - (r - \\[Mu]1 (r-r0)/Dot[r-r0,r-r0] - \\[Mu]2 (r+r0)/Dot[r+r0,r+r0])"
   ]
  },
  {
   "cell_type": "code",
   "execution_count": 21,
   "metadata": {},
   "outputs": [],
   "source": [
    "q = 1;\n",
    "X = 0.3;"
   ]
  },
  {
   "cell_type": "code",
   "execution_count": 25,
   "metadata": {},
   "outputs": [
    {
     "data": {
      "text/html": [
       "<div><pre style=\"&#99;&#111;&#108;&#111;&#114;&#58;&#114;&#101;&#100;&#59;&#32;&#102;&#111;&#110;&#116;&#45;&#102;&#97;&#109;&#105;&#108;&#121;&#58;&#32;&#34;&#67;&#111;&#117;&#114;&#105;&#101;&#114;&#32;&#78;&#101;&#119;&#34;&#44;&#67;&#111;&#117;&#114;&#105;&#101;&#114;&#44;&#109;&#111;&#110;&#111;&#115;&#112;&#97;&#99;&#101;&#59;\">&#10;&#83;&#111;&#108;&#118;&#101;&#58;&#58;&#114;&#97;&#116;&#110;&#122;&#58;&#32;&#83;&#111;&#108;&#118;&#101;&#32;&#119;&#97;&#115;&#32;&#117;&#110;&#97;&#98;&#108;&#101;&#32;&#116;&#111;&#32;&#115;&#111;&#108;&#118;&#101;&#32;&#116;&#104;&#101;&#32;&#115;&#121;&#115;&#116;&#101;&#109;&#32;&#119;&#105;&#116;&#104;&#32;&#105;&#110;&#101;&#120;&#97;&#99;&#116;&#32;&#99;&#111;&#101;&#102;&#102;&#105;&#99;&#105;&#101;&#110;&#116;&#115;&#46;&#10;&#32;&#32;&#32;&#32;&#84;&#104;&#101;&#32;&#97;&#110;&#115;&#119;&#101;&#114;&#32;&#119;&#97;&#115;&#32;&#111;&#98;&#116;&#97;&#105;&#110;&#101;&#100;&#32;&#98;&#121;&#32;&#115;&#111;&#108;&#118;&#105;&#110;&#103;&#32;&#97;&#32;&#99;&#111;&#114;&#114;&#101;&#115;&#112;&#111;&#110;&#100;&#105;&#110;&#103;&#32;&#101;&#120;&#97;&#99;&#116;&#32;&#115;&#121;&#115;&#116;&#101;&#109;&#32;&#97;&#110;&#100;&#10;&#32;&#32;&#32;&#32;&#110;&#117;&#109;&#101;&#114;&#105;&#99;&#105;&#122;&#105;&#110;&#103;&#32;&#116;&#104;&#101;&#32;&#114;&#101;&#115;&#117;&#108;&#116;&#46;&#10;</pre><img alt=\"Output\" src=\"data:image/png;base64,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\"></div>"
      ]
     },
     "execution_count": 27,
     "metadata": {
      "text/html": []
     },
     "output_type": "execute_result"
    }
   ],
   "source": [
    "x2 = 0; (*Sheneider 1986 2.3.1 On-axis solution*)\n",
    "(* x1 = 0;  *)\n",
    "Solve[lensequ==0,{r1,r2},Reals]"
   ]
  },
  {
   "cell_type": "code",
   "execution_count": null,
   "metadata": {},
   "outputs": [],
   "source": []
  }
 ],
 "metadata": {
  "kernelspec": {
   "display_name": "Wolfram Language 12",
   "language": "Wolfram Language",
   "name": "wolframlanguage12"
  },
  "language_info": {
   "codemirror_mode": "mathematica",
   "file_extension": ".m",
   "mimetype": "application/vnd.wolfram.m",
   "name": "Wolfram Language",
   "pygments_lexer": "mathematica",
   "version": "12.0"
  }
 },
 "nbformat": 4,
 "nbformat_minor": 2
}
