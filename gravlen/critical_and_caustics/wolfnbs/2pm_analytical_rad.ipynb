{
 "cells": [
  {
   "cell_type": "markdown",
   "metadata": {},
   "source": [
    "Analytical\n",
    "\n",
    "https://wenku.baidu.com/view/ba5a98154431b90d6c85c741.html"
   ]
  },
  {
   "cell_type": "code",
   "execution_count": null,
   "metadata": {},
   "outputs": [],
   "source": [
    "\\[Mu]1 = q/(1+q);\n",
    "\\[Mu]2 = 1/(1+q);\n",
    "r0 = {X, 0};\n",
    "(* source position: *)\n",
    "x = {x1, x2};\n",
    "(* image position: *)\n",
    "r = {r1, r2};\n",
    "lensequ = x - (r - \\[Mu]1 (r-r0)/Dot[r-r0,r-r0] - \\[Mu]2 (r+r0)/Dot[r+r0,r+r0])"
   ]
  },
  {
   "cell_type": "code",
   "execution_count": null,
   "metadata": {},
   "outputs": [],
   "source": [
    "q = 1;\n",
    "X = 0.3;"
   ]
  },
  {
   "cell_type": "code",
   "execution_count": null,
   "metadata": {},
   "outputs": [],
   "source": [
    "x2 = 0; (*Sheneider 1986 2.3.1 On-axis solution*)\n",
    "(* Clear[x1];  *)\n",
    "lensequ\n",
    "(* Solve[lensequ==0,{r1,r2},Reals] *)"
   ]
  },
  {
   "cell_type": "code",
   "execution_count": 1,
   "metadata": {},
   "outputs": [],
   "source": [
    "(* https://jingyan.baidu.com/article/359911f5baf05157fe030607.html *)\n",
    "\n",
    "m1 = q/(1+q);\n",
    "m2 = 1/(1+q);\n",
    "eiphi = Cos[phi] + I Sin[phi];\n",
    "z1 = X + I 0;\n",
    "z2 = -X - I 0;\n",
    "(* z = x + I y; *)\n",
    "(* zz = Conjugate[z]; *)\n",
    "(* x \\[Element] Reals;\n",
    "y \\[Element] Reals; *)\n",
    "zz = x - I y;\n",
    "equ = eiphi + m1/(z1-zz)^2 + m2/(z2-zz)^2;\n",
    "\n",
    "(* real = Assuming[(x \\[Element] Reals && y \\[Element] Reals),Re[equ]];\n",
    "img = Assuming[(x \\[Element] Reals && y \\[Element] Reals),Im[equ]]; *)\n",
    "(* Refine[ReIm[equ], (x \\[Element] Reals && y \\[Element] Reals)];\n",
    "real = ComplexExpand[Refine[Re[equ], (x \\[Element] Reals && y \\[Element] Reals)]]\n",
    "img = ComplexExpand[Refine[Im[equ], (x \\[Element] Reals && y \\[Element] Reals)]]\n",
    "\n",
    "Solve[real==0&&img==0,{x, y}, Reals] *)"
   ]
  },
  {
   "cell_type": "code",
   "execution_count": 14,
   "metadata": {},
   "outputs": [],
   "source": [
    "(* equSolve[real==0&&img==0,{x, y}, Reals] *)"
   ]
  },
  {
   "cell_type": "code",
   "execution_count": 15,
   "metadata": {},
   "outputs": [
    {
     "data": {
      "text/html": [
       "<div><img alt=\"Output\" src=\"data:image/png;base64,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\"></div>"
      ]
     },
     "execution_count": 15,
     "metadata": {
      "text/html": []
     },
     "output_type": "execute_result"
    }
   ],
   "source": [
    "real = FullSimplify[ComplexExpand[Re[equ], (x \\[Element] Reals && y \\[Element] Reals)]]"
   ]
  },
  {
   "cell_type": "code",
   "execution_count": 16,
   "metadata": {},
   "outputs": [
    {
     "data": {
      "text/html": [
       "<div><img alt=\"Output\" src=\"data:image/png;base64,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\"></div>"
      ]
     },
     "execution_count": 16,
     "metadata": {
      "text/html": []
     },
     "output_type": "execute_result"
    }
   ],
   "source": [
    "img = FullSimplify[ComplexExpand[Im[equ], (x \\[Element] Reals && y \\[Element] Reals)]]"
   ]
  },
  {
   "cell_type": "code",
   "execution_count": 17,
   "metadata": {},
   "outputs": [],
   "source": [
    "(* Solve[real==0&&img==0,{x, y}, Reals] *)"
   ]
  },
  {
   "cell_type": "code",
   "execution_count": 18,
   "metadata": {},
   "outputs": [],
   "source": [
    "X = 0.2;\n",
    "q = 1;"
   ]
  },
  {
   "cell_type": "code",
   "execution_count": 20,
   "metadata": {},
   "outputs": [],
   "source": [
    "phi = Pi/4;\n",
    "(* out = Solve[real==0&&img==0,{x, y}] *)"
   ]
  },
  {
   "cell_type": "code",
   "execution_count": 22,
   "metadata": {},
   "outputs": [
    {
     "data": {
      "text/html": [
       "<div><img alt=\"Output\" src=\"data:image/png;base64,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\"></div>"
      ]
     },
     "execution_count": 22,
     "metadata": {
      "text/html": []
     },
     "output_type": "execute_result"
    }
   ],
   "source": [
    "outre = NSolve[real==0&&img==0,{x, y}, Reals]\n",
    "(* Conjugate[zz] *)\n",
    "(* [Sin[x + I y]] *)\n",
    "(* Reduce[y\\[Element] Reals&& x\\[Element] Reals, out] *)"
   ]
  },
  {
   "cell_type": "code",
   "execution_count": 26,
   "metadata": {},
   "outputs": [],
   "source": [
    "(* ComplexExpand[Conjugate[x + I y]] *)\n",
    "\n",
    "(* ComplexExpand[expr]\n",
    "假定所有变量都是实数来展开 expr. *)\n",
    "(* x/.outre[[1,1]]\n",
    "y/.outre[[1,2]]\n",
    "x/.outre[[2,1]]\n",
    "y/.outre[[2,2]] *)"
   ]
  },
  {
   "cell_type": "code",
   "execution_count": 29,
   "metadata": {},
   "outputs": [
    {
     "data": {
      "text/html": [
       "<style>\n",
       "\t\t\t\t\t\t\t\t\t\t\t.grid-container {\n",
       "\t\t\t\t\t\t\t\t\t\t\t\tdisplay: inline-grid;\n",
       "\t\t\t\t\t\t\t\t\t\t\t\tgrid-template-columns: auto;\n",
       "\t\t\t\t\t\t\t\t\t\t\t}\n",
       "\t\t\t\t\t\t\t\t\t\t</style>\n",
       "\n",
       "\t\t\t\t\t\t\t\t\t\t<div><div class=\"grid-container\"><div class=\"grid-item\"><img alt=\"Output\" src=\"data:image/png;base64,iVBORw0KGgoAAAANSUhEUgAAAWgAAADfCAIAAABUP977AAAAhXpUWHRSYXcgcHJvZmlsZSB0eXBlIGV4aWYAAHjaVYvBDcMwDAP/mqIjyLJM2uMYiQNkg45fuu0n9yApgbT1vi97felp2dgxABc5csRU6P6juNciDXn+X9MfZGWgoRhTluEkhnJXkqKFN+LCAahYcIbnIV8gNQN3o86928QyPusLVffpbh/5eCey76LuBgAAAAlwSFlzAAALEwAACxMBAJqcGAAAADx0RVh0U29mdHdhcmUAQ3JlYXRlZCB3aXRoIHRoZSBXb2xmcmFtIExhbmd1YWdlIDogd3d3LndvbGZyYW0uY29tXKKmhQAAACF0RVh0Q3JlYXRpb24gVGltZQAyMDE5OjEyOjI2IDEwOjI2OjA43gVmdAAADN5JREFUeJzt3U9Mm/UfwPFPW6C6QbqGZZG4REpijGwmxoNjRUbUPNGDh7nEmBpDkw1pPHqZ4FzSDJ1TOXgwcUUZg5AYl3hZdEMblYOgM0MTwZOOBzQ4ZTBKhUEZ5fs7dIECpdv3x+Dpn/fr9NDn2fbpRt/0+bfalFICADrsVg+AzBUIBKweARmKcADQRjgAaCMcALQRDgDaCAcAbYQDgLZU4TBNaW2V1lYxzS2fB5mFM7JIqWD1Ax0dEghILCYi4nRKKCR+/9aPhQwRCoWsHgGZaOU7DtNcroaIxGISCPC+A8AqK8MRDi9XIyEWk3B4KwcCkPk4OApA28pwGIY4nSsecTrFMLZyIACZb2U4PB4JhZbb4XRKa6t4PFs/FoBMtuasit8vBw7cOq5hGFQDwFprwiEiHo80NGz5JACyBgdHAWgjHAC0EQ6kwyXnSIlwIB0uOUdKhAOANsIBQBvhAKCNcADQRjgAaCMcALQRDgDaCAcAbYQDgDbCAUAb4UA63KuClAgH0uFeFaREOABoIxwAtBEOANoIBwBthAOANsIBQBvhAKCNcADQRjgAaCMcSIdLzpES4UA6XHKOlAgHAG2EA4A2wgFAG+EAoI1wANBWYPUA2ArDw8NdXV2zs7OVlZU+n89uX/6BMTIycurUqcLCQhEpKytramqybkxkDcKR+5RSbW1tR44cKS8vb29v7+3trampWVo7MjJiGMahQ4csnBBZh12V3Dc2NuZwOMrLy0XE6/X29/cnrzVN88qVK8eOHWtpabl69ao1IyLbEI7cF4lEXC5XYtnlckUikeS1RUVF1dXVzc3N+/fvP336tFLKihmRZQhH7lNK2Wy2tcsJPp/P6/Xa7fbq6uq5ubnr169bMSOyDMc4cp/b7Z6amkosR6NRt9udvPbixYuGYRQUFIiIUiqxsGTpXhWuPUcywpH7du3atbCwYJqmx+Pp6+vbu3eviNy4cSMej5eUlAwMDLhcrsSxj9LS0qWdmgR6gZQIR+6z2Wz19fWJ07EVFRW1tbUi0tPTMz4+XldX5/f7Ozs7u7u7i4uLDx8+bPWwyA42DoZhPYFAgHccSImDowC0EQ4A2ggHAG2EA4A2wgFAG+EAoI1wANBGOJAOH4+AlAgH0uECMKREOABoIxwAtBEOANoIBwBthAOANsIBQBvhAKCNcADQRjgAaCMcALQRDqTDvSpIiXAgHe5VQUqEA4A2wgFAG+EAoI1wANDGR0DiDpimhMMiIoYhHo/V08B6hAO309EhgYDEYiIiTqeEQuL3Wz0TLMauCtIyzeVqiEgsJoGAmKalM8F6hANphcPL1UiIxW7ttiCPEQ4A2ggH0gn094vTueIhp1MMw6JxkCkIB9IJhUISCi23w+mU1lZOrICzKrgdv18OHOB0LJIRDtwBj0caGqweAhmEXRUA2ggHAG2EA4A2wgFAG+EAoI1wANBGOABoIxwAtBEOpMPHIyAlwoF0+HgEpEQ4AGgjHAC0EQ4A2ggHAG2EA4C2OwpHPp+Ty+fnnrfy+R/9Dp877zgAaNuKcGyw39b+8g3K2+eet0984396Vjx33nEA0GZTSuXzHh0AXaFQyKaUsnoMZKhAIMAl50iJXRUA2ggHAG2EA4C2dB/INDw83NXVNTs7W1lZ6fP57PbVlbl06dJ3333X2Ni4mRNaQCl17ty5wcFBh8Ph9/s9Kz+77MKFCz/++KOIPPzwwy+++OLavxZkkZmZmU8++WR8fHzHjh0NDQ0lJSVLq+bn5zs6OkZHR5VShmE88cQTFs65Gfr6+rq7u+Px+LPPPltTU7N2gzQv8HW/6ZVSbW1tL7/88ttvvz0/P9/b27tqg4mJifPnz29w9Mz0008/TUxMnDhxIhAInDlzZnFxcWnV77///ssvvxw/fjwYDI6PjycKguz1+eefV1ZWNjc3V1VVnTt3LnnV119/vX379mAwePTo0S+++OLatWtWDbkZJiYmvvzyy8bGxuPHj3/77bf//vvv2g3SvMDXDcfY2JjD4SgvLxcRr9fb39+fvHZxcbGzs/PgwYMbmj1TDQwMPP744zabrayszOVymaa5tMrlcvl8vsLCQrvdvnv37mg0auGc2LiBgYGqqioRqaqq+vXXX5N/SDz00EPPPPOMiGzfvt3tdv/333+WTbkJfvvttz179mzbtu2ee+557LHHfv755+S1t32BrxuOSCTicrkSyy6XKxKJJK+9cOHCI488cv/9929s+AwViUR27NiRWHa5XJOTk0urdu3aVVFRISKTk5OXLl169NFHrRkRd4NSanp6OrF74nA4ioqKZmZmltY++OCDpaWlIjI4ODgzM/PAAw9YNugmmJqaWu+bXO7gBZ5uV8Vms61dFpGhoaGhoaGnn356Q4NnsFXPd+1RjLGxsQ8++OCFF1647777tnY03E2rLmJSSq39tx4YGPj0009fffVVh8OxhaNtuuT3Vque+J28wAtEZHJy8uTJk8mPBoNBt9s9NTWV+DIajbrd7qW1ly9fHh4ePnr0aDwen5ube/fdd19//fW78mS23meffXb58uWlL6urqw8ePJj83JPDnDA8PPzxxx+/9NJLe/bs2dJZcbfZ7fbi4uLp6eni4uJ4PH7z5s177703eYPe3t5wOPzaa6/t3LnTqiE3idvtHh0dTSxHo9Hkb/I7eoGrdSwuLr755ptDQ0NKqTNnznzzzTdKqcnJybm5uaVtRkdH33nnnfV+h+z1ww8/fPjhh/F4/O+//25qarp58+b8/PzExIRSampqqrGxcWRkxOoZt0JDQ4PVI2y6jo6Or776SinV29v70UcfKaVmZmai0ahSanBw8MSJE9PT0xaPuDmuXbv2xhtvTE9Pz83NBYPBv/76S+m8wNc9HWuz2err6xOnYysqKmpra0Wkvb3d6/Xu27fv7gcwk+zbt+/PP/8MBoN2u72urq6goOCPP/44e/bsW2+9FQ6HI5FIS0tLYsunnnoqV48QJ+T8VefPP//82bNnv//+++Li4ldeeUVEenp6xsfH6+rqzp8//88//zQ1NSW2DAQCufQec+fOnc8999x77723sLDw5JNP7t69W3Re4NyrgnXlfDXwf+PiJQDaCAcAbYQDgDbCAUAb4QCgjXAA0JbutnrkC9OUcFhExDBk5f8hAKREOPJeR4cEAhKLiYg4nRIKid9v9UzIdOyq5DfTXK6GiMRiEghI0n8jAKREOPJbOLxcjYRY7NZui4hY/clGyFiEA+lwyTlSIhz5zTDE6VzxiNMphmHRNMgahCO/eTwSCi23w+mU1lZOrOC2OKuS9/x+OXCA07HQQjgg4vFIQ4PVQyCbsKsCQBvhAKCNcADQRjgAaCMcALQRDgDaCAfS4V4VpEQ4kA73qiAlwgFAG+EAoI1wANBGOABoIxwAtBEOANoIBwBthAOANsIBQBvhQDpcco6UCAfS4ZJzpEQ4AGgjHAC0EQ4A2ggHAG2EA4A2PpApLwwPD3d1dc3OzlZWVvp8Prt9+QfGyMjIqVOnCgsLRaSsrKypqcm6MZE1CEfuU0q1tbUdOXKkvLy8vb29t7e3pqZmae3IyIhhGIcOHbJwQmQddlVy39jYmMPhKC8vFxGv19vf35+81jTNK1euHDt2rKWl5erVq9aMiGxDOHJfJBJxuVyJZZfLFYlEktcWFRVVV1c3Nzfv37//9OnTSikrZkSWIRy5Tylls9nWLif4fD6v12u326urq+fm5q5fv27FjMgyHOPIKZOTkydPnkx+JBgMut3uqampxJfRaNTtdidvcPHiRcMwCgoKREQplVhYsnSvCteeIxnhyClut/v9999f9eC2bdsWFhZM0/R4PH19fXv37hWRGzduxOPxkpKSgYEBl8uVOPZRWlq6tFOTQC+QEuHIfTabrb6+PnE6tqKiora2VkR6enrGx8fr6ur8fn9nZ2d3d3dxcfHhw4etHhbZwcbBMKwnEAjwjgMpcXAUgDbCAUAb4QCgjXAA0EY4AGgjHAC0EQ4A2ggH0uHjEZAS4UA6XACGlAgHAG2EA4A2wgFAG+EAoI1wANBGOABoIxwAtBEOANoIBwBthAOANsKBdLhXBSkRDqTDvSpIiXAA0EY4AGgjHAC0EQ4A2ggHAG2EA4A2wgFAG+EAoI1wANBGOJAOl5wjJcKBdLjkHCkRDgDaCAcAbQVWDwAg85imhMMiIoYhHs/a9YQDwEodHRIISCwmIuJ0Sigkfv+qTdhVAZDENJerISKxmAQCYpqrtiIcAJKEw8vVSIjFbu22JCEcALQRDgBJDEOczhWPOJ1iGKu2IhwAkng8Egott8PplNbWtSdWbEqprZ4MWSJxvTkXj+YjTsdiI6hGnvJ4pKEhzXp2VQBoIxwAtBEOANoIBwBthAOANsIBQBvXcQDQ9j/NQ9GKrK/3tAAAAABJRU5ErkJggg==\"></div><div class=\"grid-item\"><img alt=\"Output\" src=\"data:image/png;base64,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\"></div></div></div>"
      ]
     },
     "execution_count": 32,
     "metadata": {
      "text/html": []
     },
     "output_type": "execute_result"
    }
   ],
   "source": [
    "(* Length[outre] *)\n",
    "pxy={};\n",
    "For[i = 1,\n",
    "i <= Length[outre], i++,\n",
    "(* AppendTo[pxy{1}, x/.outre[[i,1]]];\n",
    "AppendTo[pxy{2}, y/.outre[[i,2]]]; *)\n",
    "AppendTo[pxy, {x/.outre[[i,1]], y/.outre[[i,2]]} ];\n",
    "]\n",
    "ListPlot[pxy,PlotStyle -> {Red, PointSize[Large]}]\n",
    "pxy"
   ]
  },
  {
   "cell_type": "code",
   "execution_count": 307,
   "metadata": {},
   "outputs": [
    {
     "data": {
      "text/html": [
       "<div><pre style=\"&#102;&#111;&#110;&#116;&#45;&#102;&#97;&#109;&#105;&#108;&#121;&#58;&#32;&#34;&#67;&#111;&#117;&#114;&#105;&#101;&#114;&#32;&#78;&#101;&#119;&#34;&#44;&#67;&#111;&#117;&#114;&#105;&#101;&#114;&#44;&#109;&#111;&#110;&#111;&#115;&#112;&#97;&#99;&#101;&#59;\">&#48;</pre></div>"
      ]
     },
     "execution_count": 311,
     "metadata": {
      "text/html": []
     },
     "output_type": "execute_result"
    }
   ],
   "source": [
    "q=1;\n",
    "X=0.5;\n",
    "\n",
    "(* compute critical lines *)\n",
    "pxy={};\n",
    "phi=0\n",
    "Nsec = 1000;\n",
    "(* While[phi<=Pi,\n",
    "outre = NSolve[real==0&&img==0,{x, y}, Reals];\n",
    "For[i = 1,\n",
    "i <= Length[outre], i++,\n",
    "AppendTo[pxy, {x/.outre[[i,1]], y/.outre[[i,2]]} ];\n",
    "]\n",
    "phi = phi + Pi/Nsec;\n",
    "Print[phi];\n",
    "] *)\n",
    "\n",
    "For[j=0,j<Nsec, j++,\n",
    "phi = j*2Pi/Nsec;\n",
    "outre = NSolve[real==0&&img==0,{x, y}, Reals];\n",
    "For[i = 1,\n",
    "i <= Length[outre], i++,\n",
    "AppendTo[pxy, {x/.outre[[i,1]], y/.outre[[i,2]]} ];\n",
    "]\n",
    "(* Print[phi]; *)\n",
    "];\n"
   ]
  },
  {
   "cell_type": "code",
   "execution_count": 315,
   "metadata": {},
   "outputs": [
    {
     "data": {
      "text/html": [
       "<div><pre style=\"&#102;&#111;&#110;&#116;&#45;&#102;&#97;&#109;&#105;&#108;&#121;&#58;&#32;&#34;&#67;&#111;&#117;&#114;&#105;&#101;&#114;&#32;&#78;&#101;&#119;&#34;&#44;&#67;&#111;&#117;&#114;&#105;&#101;&#114;&#44;&#109;&#111;&#110;&#111;&#115;&#112;&#97;&#99;&#101;&#59;\">&#123;&#125;</pre></div>"
      ]
     },
     "execution_count": 316,
     "metadata": {
      "text/html": []
     },
     "output_type": "execute_result"
    }
   ],
   "source": [
    "(* compute caustics *)\n",
    "cauxy = {}\n",
    "(* S = x + I y + m1/(X - x - I y) + m2/(-X - x - I y); *)\n",
    "(* reals = FullSimplify[ComplexExpand[Re[S], (x \\[Element] Reals && y \\[Element] Reals)]];\n",
    "imgs = FullSimplify[ComplexExpand[Im[S], (x \\[Element] Reals && y \\[Element] Reals)]]; *)\n",
    "For[i = 1,\n",
    "i <= Length[pxy], i++,\n",
    "x = pxy[[i,1]];\n",
    "y = pxy[[i,2]];\n",
    "reals = x + m1*(X-x)/((X-x)^2+y^2) + m2*(-X-x)/((-X-x)^2+y^2);\n",
    "imgs = y + m1*y/((X-x)^2+y^2) + m2*y/((-X-x)^2+y^2);\n",
    "AppendTo[cauxy, {reals, imgs} ];\n",
    "]\n"
   ]
  },
  {
   "cell_type": "code",
   "execution_count": 320,
   "metadata": {},
   "outputs": [
    {
     "data": {
      "text/html": [
       "<div><img alt=\"Output\" src=\"data:image/png;base64,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\"></div>"
      ]
     },
     "execution_count": 327,
     "metadata": {
      "text/html": []
     },
     "output_type": "execute_result"
    }
   ],
   "source": [
    "plot1 = ListPlot[pxy,PlotStyle -> {Blue, PointSize[0.005]}];\n",
    "plot2 = ListPlot[cauxy,PlotStyle -> {Red, PointSize[0.005]}];\n",
    "(* Joined->True *)\n",
    "(* Show[plot1, plot2, PlotRange -> All] *)\n",
    "(* Grid[{{plot1, plot2}}, ItemSize -> {{20, 20}}, Frame -> All] *)\n",
    "(* Show[Graphics[{Rectangle[{0, 0}, {1, 1}, plot1], \n",
    "  Rectangle[{0.7, 0.4}, {1, 1}, plot2]}]] *)\n",
    "  \n",
    "Show[Graphics[{Rectangle[{0, 0}, {1, 1}, plot1], \n",
    "  Rectangle[{1, 0}, {2, 1}, plot2]}] , ImageSize->640]\n",
    "\n",
    "(* Show[Graphics[{Rectangle[{-3, 0}, {1, 1}, plot1], \n",
    "  Rectangle[{-3, 1}, {1, 2}, plot2]}] , ImageSize->960] *)\n",
    "\n",
    "(* https://wenku.baidu.com/view/667bf84353d380eb6294dd88d0d233d4b14e3f32.html *)"
   ]
  },
  {
   "cell_type": "code",
   "execution_count": 91,
   "metadata": {},
   "outputs": [],
   "source": [
    "S = x + I y + m1/(X - x - I y) + m2/(-X - x - I y);"
   ]
  },
  {
   "cell_type": "code",
   "execution_count": 92,
   "metadata": {},
   "outputs": [
    {
     "data": {
      "text/html": [
       "<div><pre style=\"&#102;&#111;&#110;&#116;&#45;&#102;&#97;&#109;&#105;&#108;&#121;&#58;&#32;&#34;&#67;&#111;&#117;&#114;&#105;&#101;&#114;&#32;&#78;&#101;&#119;&#34;&#44;&#67;&#111;&#117;&#114;&#105;&#101;&#114;&#44;&#109;&#111;&#110;&#111;&#115;&#112;&#97;&#99;&#101;&#59;\">&#45;&#48;&#46;&#50;&#57;&#55;&#50;&#54;&#51;</pre></div>"
      ]
     },
     "execution_count": 92,
     "metadata": {
      "text/html": []
     },
     "output_type": "execute_result"
    }
   ],
   "source": [
    "sx = FullSimplify[ComplexExpand[Re[S], (x \\[Element] Reals && y \\[Element] Reals)]]"
   ]
  },
  {
   "cell_type": "code",
   "execution_count": 93,
   "metadata": {},
   "outputs": [
    {
     "data": {
      "text/html": [
       "<div><pre style=\"&#102;&#111;&#110;&#116;&#45;&#102;&#97;&#109;&#105;&#108;&#121;&#58;&#32;&#34;&#67;&#111;&#117;&#114;&#105;&#101;&#114;&#32;&#78;&#101;&#119;&#34;&#44;&#67;&#111;&#117;&#114;&#105;&#101;&#114;&#44;&#109;&#111;&#110;&#111;&#115;&#112;&#97;&#99;&#101;&#59;\">&#49;&#46;&#53;&#53;&#52;&#48;&#50;</pre></div>"
      ]
     },
     "execution_count": 93,
     "metadata": {
      "text/html": []
     },
     "output_type": "execute_result"
    }
   ],
   "source": [
    "sy = FullSimplify[ComplexExpand[Im[S], (x \\[Element] Reals && y \\[Element] Reals)]]"
   ]
  },
  {
   "cell_type": "code",
   "execution_count": null,
   "metadata": {},
   "outputs": [],
   "source": []
  }
 ],
 "metadata": {
  "kernelspec": {
   "display_name": "Wolfram Language 12",
   "language": "Wolfram Language",
   "name": "wolframlanguage12"
  },
  "language_info": {
   "codemirror_mode": "mathematica",
   "file_extension": ".m",
   "mimetype": "application/vnd.wolfram.m",
   "name": "Wolfram Language",
   "pygments_lexer": "mathematica",
   "version": "12.0"
  }
 },
 "nbformat": 4,
 "nbformat_minor": 2
}
