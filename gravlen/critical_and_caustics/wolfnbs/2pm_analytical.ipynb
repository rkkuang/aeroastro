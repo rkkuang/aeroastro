{
 "cells": [
  {
   "cell_type": "markdown",
   "metadata": {},
   "source": [
    "Analytical"
   ]
  },
  {
   "cell_type": "code",
   "execution_count": 13,
   "metadata": {},
   "outputs": [
    {
     "data": {
      "text/html": [
       "<div><img alt=\"Output\" src=\"data:image/png;base64,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\"></div>"
      ]
     },
     "execution_count": 20,
     "metadata": {
      "text/html": []
     },
     "output_type": "execute_result"
    }
   ],
   "source": [
    "\\[Mu]1 = q/(1+q);\n",
    "\\[Mu]2 = 1/(1+q);\n",
    "r0 = {X, 0};\n",
    "(* source position: *)\n",
    "x = {x1, x2};\n",
    "(* image position: *)\n",
    "r = {r1, r2};\n",
    "lensequ = x - (r - \\[Mu]1 (r-r0)/Dot[r-r0,r-r0] - \\[Mu]2 (r+r0)/Dot[r+r0,r+r0])"
   ]
  },
  {
   "cell_type": "code",
   "execution_count": 21,
   "metadata": {},
   "outputs": [],
   "source": [
    "q = 1;\n",
    "X = 0.3;"
   ]
  },
  {
   "cell_type": "code",
   "execution_count": 41,
   "metadata": {},
   "outputs": [
    {
     "data": {
      "text/html": [
       "<div><img alt=\"Output\" src=\"data:image/png;base64,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\"></div>"
      ]
     },
     "execution_count": 43,
     "metadata": {
      "text/html": []
     },
     "output_type": "execute_result"
    }
   ],
   "source": [
    "x2 = 0; (*Sheneider 1986 2.3.1 On-axis solution*)\n",
    "(* Clear[x1];  *)\n",
    "lensequ\n",
    "(* Solve[lensequ==0,{r1,r2},Reals] *)"
   ]
  },
  {
   "cell_type": "code",
   "execution_count": null,
   "metadata": {},
   "outputs": [],
   "source": []
  }
 ],
 "metadata": {
  "kernelspec": {
   "display_name": "Wolfram Language 12",
   "language": "Wolfram Language",
   "name": "wolframlanguage12"
  },
  "language_info": {
   "codemirror_mode": "mathematica",
   "file_extension": ".m",
   "mimetype": "application/vnd.wolfram.m",
   "name": "Wolfram Language",
   "pygments_lexer": "mathematica",
   "version": "12.0"
  }
 },
 "nbformat": 4,
 "nbformat_minor": 2
}
