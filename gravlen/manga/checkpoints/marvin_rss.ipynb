{
 "cells": [
  {
   "cell_type": "code",
   "execution_count": 1,
   "metadata": {},
   "outputs": [
    {
     "name": "stderr",
     "output_type": "stream",
     "text": [
      "/usr/local/lib/python3.7/dist-packages/marvin/extern/marvin_brain/python/brain/__init__.py:97: YAMLLoadWarning: calling yaml.load() without Loader=... is deprecated, as the default Loader is unsafe. Please read https://msg.pyyaml.org/load for full details.\n",
      "  config = yaml.load(open(os.path.join(os.path.dirname(__file__), 'data/brain.yml')))\n",
      "/usr/local/lib/python3.7/dist-packages/marvin/__init__.py:128: YAMLLoadWarning: calling yaml.load() without Loader=... is deprecated, as the default Loader is unsafe. Please read https://msg.pyyaml.org/load for full details.\n",
      "  config = yaml.load(f)\n",
      "/usr/local/lib/python3.7/dist-packages/marvin/extern/tree/python/tree/__init__.py:21: YAMLLoadWarning: calling yaml.load() without Loader=... is deprecated, as the default Loader is unsafe. Please read https://msg.pyyaml.org/load for full details.\n",
      "  config = yaml.load(ff)\n",
      "/usr/local/lib/python3.7/dist-packages/marvin/extern/sdss_access/python/sdss_access/__init__.py:31: YAMLLoadWarning: calling yaml.load() without Loader=... is deprecated, as the default Loader is unsafe. Please read https://msg.pyyaml.org/load for full details.\n",
      "  config = yaml.load(ff)\n",
      "/usr/lib/python3.7/importlib/_bootstrap.py:219: RuntimeWarning: numpy.ufunc size changed, may indicate binary incompatibility. Expected 192 from C header, got 216 from PyObject\n",
      "  return f(*args, **kwds)\n",
      "/usr/lib/python3.7/importlib/_bootstrap.py:219: RuntimeWarning: numpy.ufunc size changed, may indicate binary incompatibility. Expected 192 from C header, got 216 from PyObject\n",
      "  return f(*args, **kwds)\n"
     ]
    },
    {
     "name": "stdout",
     "output_type": "stream",
     "text": [
      "INFO: No release version set. Setting default to MPL-8\n"
     ]
    },
    {
     "name": "stderr",
     "output_type": "stream",
     "text": [
      "/usr/lib/python3.7/importlib/_bootstrap.py:219: RuntimeWarning: numpy.ufunc size changed, may indicate binary incompatibility. Expected 192 from C header, got 216 from PyObject\n",
      "  return f(*args, **kwds)\n",
      "/usr/lib/python3.7/importlib/_bootstrap.py:219: RuntimeWarning: numpy.ufunc size changed, may indicate binary incompatibility. Expected 192 from C header, got 216 from PyObject\n",
      "  return f(*args, **kwds)\n",
      "/usr/lib/python3.7/importlib/_bootstrap.py:219: RuntimeWarning: numpy.ufunc size changed, may indicate binary incompatibility. Expected 192 from C header, got 216 from PyObject\n",
      "  return f(*args, **kwds)\n",
      "/usr/lib/python3.7/importlib/_bootstrap.py:219: RuntimeWarning: numpy.ufunc size changed, may indicate binary incompatibility. Expected 192 from C header, got 216 from PyObject\n",
      "  return f(*args, **kwds)\n"
     ]
    }
   ],
   "source": [
    "import marvin\n",
    "from marvin import config\n",
    "import numpy as np\n",
    "import matplotlib.pyplot as plt\n",
    "config.access = 'collab'\n",
    "config.login()\n",
    "\n",
    "# https://sdss-marvin.readthedocs.io/en/stable/tools/rss.html\n"
   ]
  },
  {
   "cell_type": "code",
   "execution_count": 2,
   "metadata": {},
   "outputs": [
    {
     "name": "stdout",
     "output_type": "stream",
     "text": [
      "rss file name:>>> None\n"
     ]
    }
   ],
   "source": [
    "# SDSS J0845+5357, \n",
    "rss = marvin.tools.RSS('8243-3704')"
   ]
  },
  {
   "cell_type": "code",
   "execution_count": 3,
   "metadata": {},
   "outputs": [
    {
     "data": {
      "text/plain": [
       "<Marvin RSS (mangaid='1-47290', plateifu='8243-3704', mode='local', data_origin='file')>"
      ]
     },
     "execution_count": 3,
     "metadata": {},
     "output_type": "execute_result"
    }
   ],
   "source": [
    "rss"
   ]
  },
  {
   "cell_type": "code",
   "execution_count": 4,
   "metadata": {},
   "outputs": [],
   "source": [
    "# rss.download()\n",
    "# ~/sas/mangawork/manga/spectro/redux/v2_5_3/8243/stack/manga-8243-3704-LOGRSS.fits.gz\n",
    "# now I know where the RSS data is located!"
   ]
  },
  {
   "cell_type": "code",
   "execution_count": 5,
   "metadata": {},
   "outputs": [],
   "source": [
    "# fibers = rss.select_fibers()\n",
    "# len(fibers)"
   ]
  },
  {
   "cell_type": "code",
   "execution_count": 6,
   "metadata": {},
   "outputs": [
    {
     "data": {
      "text/plain": [
       "XTENSION= 'IMAGE   '           / IMAGE extension                                \n",
       "BITPIX  =                  -32 / Number of bits per data pixel                  \n",
       "NAXIS   =                    2 / Number of data axes                            \n",
       "NAXIS1  =                 4563 /                                                \n",
       "NAXIS2  =                  444 /                                                \n",
       "PCOUNT  =                    0 / No Group Parameters                            \n",
       "GCOUNT  =                    1 / One Data Group                                 \n",
       "AUTHOR  = 'Brian Cherinka & David Law <bcherin1@jhu.edu, dlaw@stsci.edu>' /     \n",
       "VERSDRP2= 'v2_5_3  '           / MaNGA DRP version (2d processing)              \n",
       "VERSDRP3= 'v2_5_3  '           / MaNGA DRP Version (3d processing)              \n",
       "VERSPLDS= 'v5_1    '           / Platedesign Version                            \n",
       "VERSFLAT= 'v1_31   '           / Specflat Version                               \n",
       "VERSCORE= 'v1_7_1  '           / MaNGAcore Version                              \n",
       "VERSPRIM= 'v2_6    '           / MaNGA Preimaging Version                       \n",
       "VERSUTIL= 'v5_5_33 '           / Version of idlutils                            \n",
       "VERSIDL = 'x86_64 linux unix linux 7.1.1 Aug 21 2009 64 64 ' / Version of IDL   \n",
       "BSCALE  =              1.00000 / Intensity unit scaling                         \n",
       "BZERO   =              0.00000 / Intensity zeropoint                            \n",
       "BUNIT   = '1E-17 erg/s/cm^2/Ang/fiber' / Specific intensity (per fiber-area)    \n",
       "MASKNAME= 'MANGA_DRP2PIXMASK'  / Bits in sdssMaskbits.par used by mask extension\n",
       "TELESCOP= 'SDSS 2.5-M'         / Sloan Digital Sky Survey                       \n",
       "INSTRUME= 'MaNGA   '           / SDSS-IV MaNGA IFU                              \n",
       "SRVYMODE= 'MaNGA dither'       / Survey leading this observation and its mode   \n",
       "PLATETYP= 'APOGEE-2&MaNGA'     / Type of plate (e.g. MANGA, APOGEE-2&MANGA)     \n",
       "OBJSYS  = 'ICRS    '           / The TCC objSys                                 \n",
       "EQUINOX =              2000.00 /                                                \n",
       "RADESYS = 'FK5     '           /                                                \n",
       "LAMPLIST= 'lamphgcdne.dat'     /                                                \n",
       "TPLDATA = 'BOSZ_3000-11000A.fits' /                                             \n",
       "NEXP    =                   12 / Total number of exposures                      \n",
       "EXPTIME =              10801.1 / Total exposure time (seconds)                  \n",
       "BLUESN2 =              28.5446 / Total SN2 in blue channel                      \n",
       "REDSN2  =              58.6578 / Total SN2 in red channel                       \n",
       "AIRMSMIN=              1.07247 / Minimum airmass                                \n",
       "AIRMSMED=              1.08792 / Median airmass                                 \n",
       "AIRMSMAX=              1.17041 / Maximum airmass                                \n",
       "SEEMIN  =              1.32609 / Best guider seeing                             \n",
       "SEEMED  =              1.46576 / Median guider seeing                           \n",
       "SEEMAX  =              1.57401 / Worst guider seeing                            \n",
       "TRANSMIN=             0.905153 / Worst guider transparency                      \n",
       "TRANSMED=             0.909344 / Median guider transparency                     \n",
       "TRANSMAX=             0.914606 / Best guider transparency                       \n",
       "MJDMIN  =                57092 / MJD of first exposure                          \n",
       "MJDMED  =                57092 / MJD of median exposure                         \n",
       "MJDMAX  =                57092 / MJD of last exposure                           \n",
       "DATE-OBS= '2015-03-11'         / Date of median exposure                        \n",
       "MJDRED  =                58421 / MJD of the reduction                           \n",
       "DATERED = '2018-10-30'         / Date of the reduction                          \n",
       "MNGTARG1=                 4224 / manga_target1 maskbit                          \n",
       "MNGTARG2=                    0 / manga_target2 maskbit                          \n",
       "MNGTARG3=                    0 / manga_target3 maskbit                          \n",
       "IFURA   =        131.381670000 / IFU R.A. (J2000 deg.)                          \n",
       "IFUDEC  =        53.9590030000 / IFU Dec. (J2000 deg.)                          \n",
       "OBJRA   =        131.381674782 / Object R.A. (J2000 deg.)                       \n",
       "OBJDEC  =        53.9590028786 / Object Dec. (J2000 deg.)                       \n",
       "CENRA   =        130.113690000 / Plate center R.A. (J2000 deg.)                 \n",
       "CENDEC  =        53.2678220000 / Plate center Dec. (J2000 deg.)                 \n",
       "PLATEID =                 8243 / Current plate                                  \n",
       "DESIGNID=                 8791 / Current design                                 \n",
       "IFUDSGN =                 3704 / ifuDesign                                      \n",
       "FRLPLUG =                   37 / Plugged ferrule                                \n",
       "PLATEIFU= '8243-3704'          / PLATEID-ifuDesign                              \n",
       "CARTID  = '1       '           / Cart(s) used                                   \n",
       "HARNAME = 'ma034   '           / Harness name(s)                                \n",
       "METFILE = 'ma034-56834-2.par'  / IFU metrology file(s)                          \n",
       "MANGAID = '1-47290 '           / MaNGA ID number                                \n",
       "CATIDNUM= '1       '           / Primary target input catalog                   \n",
       "PLTTARG = 'plateTargets-1.par' / plateTarget reference file                     \n",
       "DRP3QUAL=                    0 / DRP-3d quality bitmask                         \n",
       "IFUGLON =        164.082923142 / IFU Galactic longitude (deg)                   \n",
       "IFUGLAT =        38.2244999034 / IFU Galactic latitude (deg)                    \n",
       "EBVGAL  =            0.0250094 / Galactic reddening E(B-V)                      \n",
       "CTYPE1  = 'WAVE-LOG'           /                                                \n",
       "CRPIX1  =                    1 / Starting pixel (1-indexed)                     \n",
       "CRVAL1  =        3621.59598486 / Central wavelength of first pixel              \n",
       "CD1_1   =       0.833903304339 / Initial dispersion per pixel                   \n",
       "CUNIT1  = 'Angstrom'           /                                                \n",
       "HDUCLASS= 'SDSS    '           /SDSS format class                               \n",
       "HDUCLAS1= 'IMAGE   '           /                                                \n",
       "HDUCLAS2= 'DATA    '           /                                                \n",
       "ERRDATA = 'IVAR    '           / Error extension name                           \n",
       "QUALDATA= 'MASK    '           / Mask extension name                            \n",
       "EXTNAME = 'FLUX    '           /                                                \n",
       "DATASUM = '2709586236'         / data unit checksum updated 2018-10-30T07:13:26 \n",
       "CHECKSUM= '9h79Ch699h69Ah69'   / HDU checksum updated 2018-10-30T07:13:26       "
      ]
     },
     "execution_count": 6,
     "metadata": {},
     "output_type": "execute_result"
    }
   ],
   "source": [
    "# As usual, we can access attributes such as the header or the datamodel\n",
    "rss.header"
   ]
  },
  {
   "cell_type": "code",
   "execution_count": 7,
   "metadata": {},
   "outputs": [
    {
     "data": {
      "text/plain": [
       "<DRPRSSDataModel release='MPL-8', n_rss=3, n_spectra=2>"
      ]
     },
     "execution_count": 7,
     "metadata": {},
     "output_type": "execute_result"
    }
   ],
   "source": [
    "rss.datamodel"
   ]
  },
  {
   "cell_type": "code",
   "execution_count": 8,
   "metadata": {},
   "outputs": [
    {
     "data": {
      "text/plain": [
       "[<RSS 'flux', release='MPL-8', unit='1e-17 erg / (Angstrom cm2 fiber s)'>,\n",
       " <RSS 'dispersion', release='MPL-8', unit='Angstrom'>,\n",
       " <RSS 'dispersion_prepixel', release='MPL-8', unit='Angstrom'>]"
      ]
     },
     "execution_count": 8,
     "metadata": {},
     "output_type": "execute_result"
    }
   ],
   "source": [
    "rss.datamodel.rss"
   ]
  },
  {
   "cell_type": "code",
   "execution_count": 9,
   "metadata": {},
   "outputs": [
    {
     "name": "stdout",
     "output_type": "stream",
     "text": [
      "rss file name:>>> /home/anything/sas/mangawork/manga/spectro/redux/v2_5_3/8243/stack/manga-8243-3704-LOGRSS.fits.gz\n",
      "rss file name:>>> /home/anything/sas/mangawork/manga/spectro/redux/v2_5_3/8243/stack/manga-8243-3704-LOGRSS.fits.gz\n"
     ]
    }
   ],
   "source": [
    "# We can use RSS.getCube to retrieve the corresponding Cube\n",
    "cube = rss.getCube()"
   ]
  },
  {
   "cell_type": "code",
   "execution_count": 11,
   "metadata": {},
   "outputs": [],
   "source": [
    "# rss._getFullPath()\n",
    "# rss.plateifu\n",
    "# rss.filename"
   ]
  },
  {
   "cell_type": "code",
   "execution_count": 12,
   "metadata": {},
   "outputs": [
    {
     "data": {
      "text/plain": [
       "<Marvin Cube (plateifu='8243-3704', mode='local', data_origin='file')>"
      ]
     },
     "execution_count": 12,
     "metadata": {},
     "output_type": "execute_result"
    }
   ],
   "source": [
    "cube"
   ]
  },
  {
   "cell_type": "code",
   "execution_count": 14,
   "metadata": {},
   "outputs": [
    {
     "data": {
      "text/html": [
       "<i>Table length=12</i>\n",
       "<table id=\"table140683282068816\" class=\"table-striped table-bordered table-condensed\">\n",
       "<thead><tr><th>SLITFILE</th><th>METFILE</th><th>HARNAME</th><th>IFUDESIGN</th><th>FRLPLUG</th><th>MANGAID</th><th>AIRTEMP</th><th>HUMIDITY</th><th>PRESSURE</th><th>SEEING</th><th>PSFFAC</th><th>TRANSPAR</th><th>PLATEID</th><th>DESIGNID</th><th>CARTID</th><th>MJD</th><th>EXPTIME</th><th>EXPNUM</th><th>SET</th><th>MGDPOS</th><th>MGDRA</th><th>MGDDEC</th><th>OMEGASET_U</th><th>OMEGASET_G</th><th>OMEGASET_R</th><th>OMEGASET_I</th><th>OMEGASET_Z</th><th>EAMFIT_RA</th><th>EAMFIT_DEC</th><th>EAMFIT_THETA</th><th>EAMFIT_THETA0</th><th>EAMFIT_A</th><th>EAMFIT_B</th><th>EAMFIT_RAERR</th><th>EAMFIT_DECERR</th><th>EAMFIT_THETAERR</th><th>EAMFIT_THETA0ERR</th><th>EAMFIT_AERR</th><th>EAMFIT_BERR</th><th>TAIBEG</th><th>HADRILL</th><th>LSTMID</th><th>HAMID</th><th>AIRMASS</th><th>IFURA</th><th>IFUDEC</th><th>CENRA</th><th>CENDEC</th><th>XFOCAL</th><th>YFOCAL</th><th>MNGTARG1</th><th>MNGTARG2</th><th>MNGTARG3</th><th>BLUESN2</th><th>REDSN2</th><th>BLUETHRUPT</th><th>REDTHRUPT</th><th>BLUEPSTAT</th><th>REDPSTAT</th><th>DRP2QUAL</th><th>THISBADIFU</th><th>PF_FWHM_G</th><th>PF_FWHM_R</th><th>PF_FWHM_I</th><th>PF_FWHM_Z</th></tr></thead>\n",
       "<thead><tr><th>str25</th><th>str17</th><th>str5</th><th>int32</th><th>int16</th><th>str8</th><th>float32</th><th>float32</th><th>float32</th><th>float32</th><th>float32</th><th>float32</th><th>int32</th><th>int32</th><th>int16</th><th>int32</th><th>float32</th><th>int32</th><th>int32</th><th>str8</th><th>float32</th><th>float32</th><th>float32</th><th>float32</th><th>float32</th><th>float32</th><th>float32</th><th>float32</th><th>float32</th><th>float32</th><th>float32</th><th>float32</th><th>float32</th><th>float32</th><th>float32</th><th>float32</th><th>float32</th><th>float32</th><th>float32</th><th>str13</th><th>float32</th><th>float32</th><th>float32</th><th>float32</th><th>float64</th><th>float64</th><th>float64</th><th>float64</th><th>float32</th><th>float32</th><th>int32</th><th>int32</th><th>int32</th><th>float32</th><th>float32</th><th>float32</th><th>float32</th><th>float32</th><th>float32</th><th>int32</th><th>int32</th><th>float32</th><th>float32</th><th>float32</th><th>float32</th></tr></thead>\n",
       "<tr><td>slitmap-8243-57090-05.par</td><td>ma034-56834-2.par</td><td>ma034</td><td>3704</td><td>37</td><td>1-47290</td><td>3.4</td><td>33.3</td><td>727.5966</td><td>1.49096</td><td>0.816455</td><td>0.905407</td><td>8243</td><td>8791</td><td>1</td><td>57092</td><td>900.09</td><td>196319</td><td>192</td><td>N</td><td>-0.417</td><td>0.721</td><td>0.07723266</td><td>0.08106168</td><td>0.1437486</td><td>0.17229186</td><td>0.20093466</td><td>0.16350631</td><td>5.9604646e-09</td><td>-1.1803356</td><td>-0.36493692</td><td>0.99848574</td><td>0.0053678425</td><td>0.05574685</td><td>0.05</td><td>0.0025</td><td>1.625</td><td>0.01846519</td><td>0.029438516</td><td>4932757023.00</td><td>0.0</td><td>6.583707</td><td>-2.1750712</td><td>1.1704081</td><td>131.38167</td><td>53.959003</td><td>130.11369</td><td>53.267822</td><td>162.486</td><td>151.983</td><td>4224</td><td>0</td><td>0</td><td>2.18513</td><td>4.82734</td><td>0.22126307</td><td>0.30010393</td><td>0.94781</td><td>0.988858</td><td>512</td><td>0</td><td>1.2832453</td><td>1.2157161</td><td>1.1866997</td><td>1.1520747</td></tr>\n",
       "<tr><td>slitmap-8243-57090-05.par</td><td>ma034-56834-2.par</td><td>ma034</td><td>3704</td><td>37</td><td>1-47290</td><td>3.4</td><td>32.7</td><td>727.7659</td><td>1.55684</td><td>0.831581</td><td>0.909344</td><td>8243</td><td>8791</td><td>1</td><td>57092</td><td>900.1</td><td>196320</td><td>192</td><td>S</td><td>-0.417</td><td>-0.721</td><td>0.07723266</td><td>0.08106168</td><td>0.1437486</td><td>0.17229186</td><td>0.20093466</td><td>0.052012615</td><td>0.050000004</td><td>-1.1841863</td><td>-1.729179</td><td>1.0045642</td><td>0.02800209</td><td>0.0625</td><td>0.03074685</td><td>0.0025</td><td>2.25</td><td>0.018297788</td><td>0.027686179</td><td>4932758007.00</td><td>0.0</td><td>6.85779</td><td>-1.900988</td><td>1.1461954</td><td>131.38167</td><td>53.959003</td><td>130.11369</td><td>53.267822</td><td>162.486</td><td>151.983</td><td>4224</td><td>0</td><td>0</td><td>2.35786</td><td>5.0231</td><td>0.20720606</td><td>0.3065346</td><td>0.940896</td><td>0.904171</td><td>512</td><td>0</td><td>1.3652521</td><td>1.2934679</td><td>1.260738</td><td>1.2233728</td></tr>\n",
       "<tr><td>slitmap-8243-57090-05.par</td><td>ma034-56834-2.par</td><td>ma034</td><td>3704</td><td>37</td><td>1-47290</td><td>3.4</td><td>32.4</td><td>727.93524</td><td>1.45565</td><td>0.840874</td><td>0.908304</td><td>8243</td><td>8791</td><td>1</td><td>57092</td><td>900.1</td><td>196321</td><td>192</td><td>E</td><td>0.833</td><td>0.0</td><td>0.07723266</td><td>0.08106168</td><td>0.1437486</td><td>0.17229186</td><td>0.20093466</td><td>-0.013506298</td><td>0.013506309</td><td>-1.181485</td><td>-0.8611786</td><td>1.0060046</td><td>0.00840078</td><td>0.044253152</td><td>0.0375</td><td>0.0025</td><td>1.3382516</td><td>0.018669657</td><td>0.029265918</td><td>4932758990.00</td><td>0.0</td><td>7.131593</td><td>-1.6271847</td><td>1.1258113</td><td>131.38167</td><td>53.959003</td><td>130.11369</td><td>53.267822</td><td>162.486</td><td>151.983</td><td>4224</td><td>0</td><td>0</td><td>2.43946</td><td>5.00689</td><td>0.21730778</td><td>0.32490748</td><td>0.916897</td><td>0.891038</td><td>512</td><td>0</td><td>1.2902029</td><td>1.2223114</td><td>1.1929593</td><td>1.1580952</td></tr>\n",
       "<tr><td>slitmap-8243-57090-05.par</td><td>ma034-56834-2.par</td><td>ma034</td><td>3704</td><td>37</td><td>1-47290</td><td>3.2</td><td>33.5</td><td>728.1385</td><td>1.4322</td><td>0.8366765</td><td>0.908299</td><td>8243</td><td>8791</td><td>1</td><td>57092</td><td>900.09</td><td>196322</td><td>193</td><td>N</td><td>-0.417</td><td>0.721</td><td>0.20665649</td><td>0.16081832</td><td>0.13682047</td><td>0.12747976</td><td>0.12819773</td><td>0.17500001</td><td>0.036493704</td><td>-1.1803356</td><td>-0.8649369</td><td>0.97111434</td><td>0.01752317</td><td>0.05</td><td>0.0375</td><td>0.0025</td><td>1.5555893</td><td>0.017956411</td><td>0.029282248</td><td>4932759976.00</td><td>0.0</td><td>7.4062304</td><td>-1.3525475</td><td>1.1089315</td><td>131.38167</td><td>53.959003</td><td>130.11369</td><td>53.267822</td><td>162.486</td><td>151.983</td><td>4224</td><td>0</td><td>0</td><td>2.43984</td><td>4.89147</td><td>0.22354165</td><td>0.30420274</td><td>0.968407</td><td>0.980002</td><td>512</td><td>0</td><td>1.2609489</td><td>1.1945314</td><td>1.1663442</td><td>1.1324096</td></tr>\n",
       "<tr><td>slitmap-8243-57090-05.par</td><td>ma034-56834-2.par</td><td>ma034</td><td>3704</td><td>37</td><td>1-47290</td><td>3.3</td><td>33.7</td><td>728.2062</td><td>1.49203</td><td>0.833246</td><td>0.908902</td><td>8243</td><td>8791</td><td>1</td><td>57092</td><td>900.11</td><td>196323</td><td>193</td><td>S</td><td>-0.417</td><td>-0.721</td><td>0.20665649</td><td>0.16081832</td><td>0.13682047</td><td>0.12747976</td><td>0.12819773</td><td>0.06350631</td><td>0.050000004</td><td>-1.1853358</td><td>-1.9828637</td><td>0.99912655</td><td>0.026044058</td><td>0.05574685</td><td>0.03074685</td><td>0.0025</td><td>2.1832159</td><td>0.018216502</td><td>0.027788064</td><td>4932760959.00</td><td>0.0</td><td>7.6800365</td><td>-1.0787414</td><td>1.0954559</td><td>131.38167</td><td>53.959003</td><td>130.11369</td><td>53.267822</td><td>162.486</td><td>151.983</td><td>4224</td><td>0</td><td>0</td><td>2.48652</td><td>4.9014</td><td>0.20893018</td><td>0.30492887</td><td>0.903112</td><td>0.973252</td><td>512</td><td>0</td><td>1.3105165</td><td>1.2416126</td><td>1.2113812</td><td>1.1758605</td></tr>\n",
       "<tr><td>slitmap-8243-57090-05.par</td><td>ma034-56834-2.par</td><td>ma034</td><td>3704</td><td>37</td><td>1-47290</td><td>3.2</td><td>36.5</td><td>728.2739</td><td>1.57401</td><td>0.8794405</td><td>0.910023</td><td>8243</td><td>8791</td><td>1</td><td>57092</td><td>900.1</td><td>196324</td><td>193</td><td>E</td><td>0.833</td><td>0.0</td><td>0.20665649</td><td>0.16081832</td><td>0.13682047</td><td>0.12747976</td><td>0.12819773</td><td>0.1364937</td><td>-0.0635063</td><td>-1.181485</td><td>-0.74999994</td><td>1.0022448</td><td>-0.0033886977</td><td>0.05</td><td>0.03074685</td><td>0.0025</td><td>0.6624981</td><td>0.018495858</td><td>0.02843265</td><td>4932761943.00</td><td>0.0</td><td>7.954117</td><td>-0.80466115</td><td>1.0851607</td><td>131.38167</td><td>53.959003</td><td>130.11369</td><td>53.267822</td><td>162.486</td><td>151.983</td><td>4224</td><td>0</td><td>0</td><td>2.44078</td><td>4.93077</td><td>0.21834536</td><td>0.31462538</td><td>0.88893</td><td>1.02764</td><td>512</td><td>0</td><td>1.4632438</td><td>1.386449</td><td>1.3494952</td><td>1.3088413</td></tr>\n",
       "<tr><td>slitmap-8243-57090-05.par</td><td>ma034-56834-2.par</td><td>ma034</td><td>3704</td><td>37</td><td>1-47290</td><td>3.1</td><td>38.7</td><td>728.2739</td><td>1.49641</td><td>0.8583155</td><td>0.912814</td><td>8243</td><td>8791</td><td>1</td><td>57092</td><td>900.09</td><td>196325</td><td>194</td><td>N</td><td>-0.417</td><td>0.721</td><td>0.17966294</td><td>0.12139552</td><td>0.09768596</td><td>0.088786826</td><td>0.093147516</td><td>0.22500001</td><td>5.9604646e-09</td><td>-1.1803356</td><td>-0.74999994</td><td>0.9817508</td><td>0.0073507</td><td>0.05</td><td>0.0375</td><td>0.0025</td><td>1.6808724</td><td>0.018198043</td><td>0.029438006</td><td>4932763012.00</td><td>0.0</td><td>8.251873</td><td>-0.50690496</td><td>1.0774602</td><td>131.38167</td><td>53.959003</td><td>130.11369</td><td>53.267822</td><td>162.486</td><td>151.983</td><td>4224</td><td>0</td><td>0</td><td>2.45254</td><td>4.90428</td><td>0.21650162</td><td>0.31404352</td><td>1.0471</td><td>0.982768</td><td>512</td><td>0</td><td>1.3546345</td><td>1.283384</td><td>1.2511247</td><td>1.2141069</td></tr>\n",
       "<tr><td>slitmap-8243-57090-05.par</td><td>ma034-56834-2.par</td><td>ma034</td><td>3704</td><td>37</td><td>1-47290</td><td>3.1</td><td>39.3</td><td>728.44324</td><td>1.46576</td><td>0.854014</td><td>0.914606</td><td>8243</td><td>8791</td><td>1</td><td>57092</td><td>900.1</td><td>196326</td><td>194</td><td>S</td><td>-0.417</td><td>-0.721</td><td>0.17966294</td><td>0.12139552</td><td>0.09768596</td><td>0.088786826</td><td>0.093147516</td><td>0.15740056</td><td>0.008799729</td><td>-1.1841863</td><td>-2.75</td><td>0.9931072</td><td>0.04619153</td><td>0.05667841</td><td>0.044253152</td><td>0.0025</td><td>1.5485476</td><td>0.01676506</td><td>0.026564702</td><td>4932763996.00</td><td>0.0</td><td>8.525956</td><td>-0.23282185</td><td>1.0734919</td><td>131.38167</td><td>53.959003</td><td>130.11369</td><td>53.267822</td><td>162.486</td><td>151.983</td><td>4224</td><td>0</td><td>0</td><td>2.41572</td><td>4.85943</td><td>0.21263027</td><td>0.3035401</td><td>0.947819</td><td>0.970723</td><td>512</td><td>0</td><td>1.3216069</td><td>1.252138</td><td>1.2215344</td><td>1.185674</td></tr>\n",
       "<tr><td>slitmap-8243-57090-05.par</td><td>ma034-56834-2.par</td><td>ma034</td><td>3704</td><td>37</td><td>1-47290</td><td>3.0</td><td>39.7</td><td>728.47705</td><td>1.384</td><td>0.835797</td><td>0.905153</td><td>8243</td><td>8791</td><td>1</td><td>57092</td><td>900.08</td><td>196327</td><td>194</td><td>E</td><td>0.833</td><td>0.0</td><td>0.17966294</td><td>0.12139552</td><td>0.09768596</td><td>0.088786826</td><td>0.093147516</td><td>0.22500001</td><td>-0.074999996</td><td>-1.1803356</td><td>-0.9120027</td><td>1.0017573</td><td>-0.01785524</td><td>0.05</td><td>0.025</td><td>0.0025</td><td>0.625</td><td>0.01842928</td><td>0.02855342</td><td>4932764981.00</td><td>0.0</td><td>8.800313</td><td>0.041534998</td><td>1.072468</td><td>131.38167</td><td>53.959003</td><td>130.11369</td><td>53.267822</td><td>162.486</td><td>151.983</td><td>4224</td><td>0</td><td>0</td><td>2.37799</td><td>4.91347</td><td>0.22147585</td><td>0.3233525</td><td>0.909169</td><td>0.922439</td><td>512</td><td>0</td><td>1.219341</td><td>1.1551565</td><td>1.1292075</td><td>1.0968412</td></tr>\n",
       "<tr><td>slitmap-8243-57090-05.par</td><td>ma034-56834-2.par</td><td>ma034</td><td>3704</td><td>37</td><td>1-47290</td><td>2.5</td><td>42.7</td><td>728.5787</td><td>1.39315</td><td>0.8664025</td><td>0.911071</td><td>8243</td><td>8791</td><td>1</td><td>57092</td><td>900.1</td><td>196328</td><td>195</td><td>N</td><td>-0.417</td><td>0.721</td><td>0.10597529</td><td>0.0874489</td><td>0.11372216</td><td>0.12908858</td><td>0.15559417</td><td>0.275</td><td>5.9604646e-09</td><td>-1.181485</td><td>-0.74999994</td><td>1.0165342</td><td>-0.016401177</td><td>0.05574685</td><td>0.044253152</td><td>0.0025</td><td>1.581249</td><td>0.018836325</td><td>0.029360546</td><td>4932766047.00</td><td>0.0</td><td>9.097238</td><td>0.33845958</td><td>1.074671</td><td>131.38167</td><td>53.959003</td><td>130.11369</td><td>53.267822</td><td>162.486</td><td>151.983</td><td>4224</td><td>0</td><td>0</td><td>2.3869</td><td>4.98191</td><td>0.20471065</td><td>0.33138576</td><td>0.952452</td><td>0.907656</td><td>512</td><td>0</td><td>1.2765929</td><td>1.2094669</td><td>1.1811273</td><td>1.1468321</td></tr>\n",
       "<tr><td>slitmap-8243-57090-05.par</td><td>ma034-56834-2.par</td><td>ma034</td><td>3704</td><td>37</td><td>1-47290</td><td>2.4</td><td>46.8</td><td>728.5448</td><td>1.35364</td><td>0.85065</td><td>0.913216</td><td>8243</td><td>8791</td><td>1</td><td>57092</td><td>900.09</td><td>196329</td><td>195</td><td>S</td><td>-0.417</td><td>-0.721</td><td>0.10597529</td><td>0.0874489</td><td>0.11372216</td><td>0.12908858</td><td>0.15559417</td><td>0.17500001</td><td>0.025000006</td><td>-1.1841863</td><td>-2.8783007</td><td>1.0190866</td><td>0.028192824</td><td>0.05574685</td><td>0.044253152</td><td>0.0025</td><td>1.75</td><td>0.018558422</td><td>0.027523074</td><td>4932767031.00</td><td>0.0</td><td>9.371318</td><td>0.6125399</td><td>1.079784</td><td>131.38167</td><td>53.959003</td><td>130.11369</td><td>53.267822</td><td>162.486</td><td>151.983</td><td>4224</td><td>0</td><td>0</td><td>2.35442</td><td>4.7856</td><td>0.21895328</td><td>0.30992535</td><td>0.878522</td><td>1.01645</td><td>512</td><td>0</td><td>1.2180644</td><td>1.1540402</td><td>1.128589</td><td>1.0964342</td></tr>\n",
       "<tr><td>slitmap-8243-57090-05.par</td><td>ma034-56834-2.par</td><td>ma034</td><td>3704</td><td>37</td><td>1-47290</td><td>2.6</td><td>47.0</td><td>728.6464</td><td>1.32609</td><td>0.8268905</td><td>0.906312</td><td>8243</td><td>8791</td><td>1</td><td>57092</td><td>900.07</td><td>196330</td><td>195</td><td>E</td><td>0.833</td><td>0.0</td><td>0.10597529</td><td>0.0874489</td><td>0.11372216</td><td>0.12908858</td><td>0.15559417</td><td>0.18835682</td><td>-0.0635063</td><td>-1.1803356</td><td>0.3993697</td><td>1.0235384</td><td>0.011323359</td><td>0.0375</td><td>0.03074685</td><td>0.0025</td><td>0.5</td><td>0.018617108</td><td>0.028081596</td><td>4932768016.00</td><td>0.0</td><td>9.645676</td><td>0.8868977</td><td>1.087922</td><td>131.38167</td><td>53.959003</td><td>130.11369</td><td>53.267822</td><td>162.486</td><td>151.983</td><td>4224</td><td>0</td><td>0</td><td>2.2074</td><td>4.63212</td><td>0.2203204</td><td>0.33433807</td><td>0.830831</td><td>1.00202</td><td>512</td><td>0</td><td>1.1568407</td><td>1.0959458</td><td>1.0732722</td><td>1.0431098</td></tr>\n",
       "</table>"
      ],
      "text/plain": [
       "<Table length=12>\n",
       "         SLITFILE              METFILE      HARNAME ... PF_FWHM_I PF_FWHM_Z\n",
       "          str25                 str17         str5  ...  float32   float32 \n",
       "------------------------- ----------------- ------- ... --------- ---------\n",
       "slitmap-8243-57090-05.par ma034-56834-2.par   ma034 ... 1.1866997 1.1520747\n",
       "slitmap-8243-57090-05.par ma034-56834-2.par   ma034 ...  1.260738 1.2233728\n",
       "slitmap-8243-57090-05.par ma034-56834-2.par   ma034 ... 1.1929593 1.1580952\n",
       "slitmap-8243-57090-05.par ma034-56834-2.par   ma034 ... 1.1663442 1.1324096\n",
       "slitmap-8243-57090-05.par ma034-56834-2.par   ma034 ... 1.2113812 1.1758605\n",
       "slitmap-8243-57090-05.par ma034-56834-2.par   ma034 ... 1.3494952 1.3088413\n",
       "slitmap-8243-57090-05.par ma034-56834-2.par   ma034 ... 1.2511247 1.2141069\n",
       "slitmap-8243-57090-05.par ma034-56834-2.par   ma034 ... 1.2215344  1.185674\n",
       "slitmap-8243-57090-05.par ma034-56834-2.par   ma034 ... 1.1292075 1.0968412\n",
       "slitmap-8243-57090-05.par ma034-56834-2.par   ma034 ... 1.1811273 1.1468321\n",
       "slitmap-8243-57090-05.par ma034-56834-2.par   ma034 ...  1.128589 1.0964342\n",
       "slitmap-8243-57090-05.par ma034-56834-2.par   ma034 ... 1.0732722 1.0431098"
      ]
     },
     "execution_count": 14,
     "metadata": {},
     "output_type": "execute_result"
    }
   ],
   "source": [
    "# RSS.obsinfo provides access to an Astropy Table with the observing information for this galaxy\n",
    "rss.obsinfo"
   ]
  },
  {
   "cell_type": "markdown",
   "metadata": {},
   "source": [
    "In this case the file includes the spectra from 12 observations. Since this is a 19-fibre IFU that means this RSS contains 19×12=228 flux spectra (and associated extensions). The full datamodel, with descriptions of the contents of each column can be found here.\n",
    "https://data.sdss.org/datamodel/files/MANGA_SPECTRO_REDUX/DRPVER/PLATE4/stack/manga-RSS.html#hdu11"
   ]
  },
  {
   "cell_type": "markdown",
   "metadata": {},
   "source": [
    "## Accessing individual fibres\n",
    "In addition to being a subclass of MarvinToolsClass, RSS is also a list of RSSFiber instances. Each RSSFiber contains the data and metadata associated with a single observation and fibre"
   ]
  },
  {
   "cell_type": "code",
   "execution_count": 21,
   "metadata": {},
   "outputs": [
    {
     "name": "stdout",
     "output_type": "stream",
     "text": [
      "True\n",
      "444\n"
     ]
    }
   ],
   "source": [
    "print(isinstance(rss, list))\n",
    "print(len(rss)) #why not 19×12=228 ?"
   ]
  },
  {
   "cell_type": "code",
   "execution_count": 48,
   "metadata": {},
   "outputs": [
    {
     "data": {
      "text/latex": [
       "$[4.8691883,~1.6419017,~0.33635074,~\\dots,~0,~0,~0] \\; \\mathrm{1 \\times 10^{-17}\\,\\frac{erg}{\\mathring{A}\\,fiber\\,s\\,cm^{2}}}$"
      ],
      "text/plain": [
       "<RSSFiber [4.86918831, 1.64190173, 0.33635074, ..., 0.        , 0.        ,\n",
       "           0.        ] 1e-17 erg / (Angstrom cm2 fiber s)>"
      ]
     },
     "execution_count": 48,
     "metadata": {},
     "output_type": "execute_result"
    }
   ],
   "source": [
    "rssfiber = rss[443];\n",
    "rssfiber"
   ]
  },
  {
   "cell_type": "markdown",
   "metadata": {},
   "source": [
    "RSSFiber instances behave as Spectrum quantities"
   ]
  },
  {
   "cell_type": "code",
   "execution_count": 49,
   "metadata": {},
   "outputs": [
    {
     "data": {
      "text/plain": [
       "array([1.23986028, 0.45693418, 0.09956252, ..., 0.        , 0.        ,\n",
       "       0.        ])"
      ]
     },
     "execution_count": 49,
     "metadata": {},
     "output_type": "execute_result"
    }
   ],
   "source": [
    "# here is SNR!!!\n",
    "rssfiber.snr"
   ]
  },
  {
   "cell_type": "code",
   "execution_count": 50,
   "metadata": {},
   "outputs": [
    {
     "data": {
      "text/latex": [
       "$\\mathrm{1 \\times 10^{-17}\\,\\frac{erg}{\\mathring{A}\\,fiber\\,s\\,cm^{2}}}$"
      ],
      "text/plain": [
       "Unit(\"1e-17 erg / (Angstrom cm2 fiber s)\")"
      ]
     },
     "execution_count": 50,
     "metadata": {},
     "output_type": "execute_result"
    }
   ],
   "source": [
    "rssfiber.unit"
   ]
  },
  {
   "cell_type": "code",
   "execution_count": 51,
   "metadata": {},
   "outputs": [
    {
     "data": {
      "text/plain": [
       "<Maskbit 'MANGA_DRP2PIXMASK' shape=(4563,)>"
      ]
     },
     "execution_count": 51,
     "metadata": {},
     "output_type": "execute_result"
    }
   ],
   "source": [
    "rssfiber.pixmask"
   ]
  },
  {
   "cell_type": "code",
   "execution_count": 52,
   "metadata": {},
   "outputs": [
    {
     "data": {
      "text/html": [
       "<i>Table length=1</i>\n",
       "<table id=\"table140683210184912\" class=\"table-striped table-bordered table-condensed\">\n",
       "<thead><tr><th>SLITFILE</th><th>METFILE</th><th>HARNAME</th><th>IFUDESIGN</th><th>FRLPLUG</th><th>MANGAID</th><th>AIRTEMP</th><th>HUMIDITY</th><th>PRESSURE</th><th>SEEING</th><th>PSFFAC</th><th>TRANSPAR</th><th>PLATEID</th><th>DESIGNID</th><th>CARTID</th><th>MJD</th><th>EXPTIME</th><th>EXPNUM</th><th>SET</th><th>MGDPOS</th><th>MGDRA</th><th>MGDDEC</th><th>OMEGASET_U</th><th>OMEGASET_G</th><th>OMEGASET_R</th><th>OMEGASET_I</th><th>OMEGASET_Z</th><th>EAMFIT_RA</th><th>EAMFIT_DEC</th><th>EAMFIT_THETA</th><th>EAMFIT_THETA0</th><th>EAMFIT_A</th><th>EAMFIT_B</th><th>EAMFIT_RAERR</th><th>EAMFIT_DECERR</th><th>EAMFIT_THETAERR</th><th>EAMFIT_THETA0ERR</th><th>EAMFIT_AERR</th><th>EAMFIT_BERR</th><th>TAIBEG</th><th>HADRILL</th><th>LSTMID</th><th>HAMID</th><th>AIRMASS</th><th>IFURA</th><th>IFUDEC</th><th>CENRA</th><th>CENDEC</th><th>XFOCAL</th><th>YFOCAL</th><th>MNGTARG1</th><th>MNGTARG2</th><th>MNGTARG3</th><th>BLUESN2</th><th>REDSN2</th><th>BLUETHRUPT</th><th>REDTHRUPT</th><th>BLUEPSTAT</th><th>REDPSTAT</th><th>DRP2QUAL</th><th>THISBADIFU</th><th>PF_FWHM_G</th><th>PF_FWHM_R</th><th>PF_FWHM_I</th><th>PF_FWHM_Z</th></tr></thead>\n",
       "<thead><tr><th>str25</th><th>str17</th><th>str5</th><th>int32</th><th>int16</th><th>str8</th><th>float32</th><th>float32</th><th>float32</th><th>float32</th><th>float32</th><th>float32</th><th>int32</th><th>int32</th><th>int16</th><th>int32</th><th>float32</th><th>int32</th><th>int32</th><th>str8</th><th>float32</th><th>float32</th><th>float32</th><th>float32</th><th>float32</th><th>float32</th><th>float32</th><th>float32</th><th>float32</th><th>float32</th><th>float32</th><th>float32</th><th>float32</th><th>float32</th><th>float32</th><th>float32</th><th>float32</th><th>float32</th><th>float32</th><th>str13</th><th>float32</th><th>float32</th><th>float32</th><th>float32</th><th>float64</th><th>float64</th><th>float64</th><th>float64</th><th>float32</th><th>float32</th><th>int32</th><th>int32</th><th>int32</th><th>float32</th><th>float32</th><th>float32</th><th>float32</th><th>float32</th><th>float32</th><th>int32</th><th>int32</th><th>float32</th><th>float32</th><th>float32</th><th>float32</th></tr></thead>\n",
       "<tr><td>slitmap-8243-57090-05.par</td><td>ma034-56834-2.par</td><td>ma034</td><td>3704</td><td>37</td><td>1-47290</td><td>2.6</td><td>47.0</td><td>728.6464</td><td>1.32609</td><td>0.8268905</td><td>0.906312</td><td>8243</td><td>8791</td><td>1</td><td>57092</td><td>900.07</td><td>196330</td><td>195</td><td>E</td><td>0.833</td><td>0.0</td><td>0.10597529</td><td>0.0874489</td><td>0.11372216</td><td>0.12908858</td><td>0.15559417</td><td>0.18835682</td><td>-0.0635063</td><td>-1.1803356</td><td>0.3993697</td><td>1.0235384</td><td>0.011323359</td><td>0.0375</td><td>0.03074685</td><td>0.0025</td><td>0.5</td><td>0.018617108</td><td>0.028081596</td><td>4932768016.00</td><td>0.0</td><td>9.645676</td><td>0.8868977</td><td>1.087922</td><td>131.38167</td><td>53.959003</td><td>130.11369</td><td>53.267822</td><td>162.486</td><td>151.983</td><td>4224</td><td>0</td><td>0</td><td>2.2074</td><td>4.63212</td><td>0.2203204</td><td>0.33433807</td><td>0.830831</td><td>1.00202</td><td>512</td><td>0</td><td>1.1568407</td><td>1.0959458</td><td>1.0732722</td><td>1.0431098</td></tr>\n",
       "</table>"
      ],
      "text/plain": [
       "<Table length=1>\n",
       "         SLITFILE              METFILE      HARNAME ... PF_FWHM_I PF_FWHM_Z\n",
       "          str25                 str17         str5  ...  float32   float32 \n",
       "------------------------- ----------------- ------- ... --------- ---------\n",
       "slitmap-8243-57090-05.par ma034-56834-2.par   ma034 ... 1.0732722 1.0431098"
      ]
     },
     "execution_count": 52,
     "metadata": {},
     "output_type": "execute_result"
    }
   ],
   "source": [
    "# and they also contain the obsinfo data of the exposure associated with this fibre\n",
    "rssfiber.obsinfo"
   ]
  },
  {
   "cell_type": "code",
   "execution_count": 53,
   "metadata": {},
   "outputs": [
    {
     "name": "stdout",
     "output_type": "stream",
     "text": [
      "[1.0073607 1.007826  1.0082911 ... 0.        0.        0.       ] Angstrom\n"
     ]
    }
   ],
   "source": [
    "# From the RSSFiber we can access data associated with the fibre, for instance the dispersion or spectral_resolution\n",
    "print(rssfiber.dispersion)"
   ]
  },
  {
   "cell_type": "markdown",
   "metadata": {},
   "source": [
    "Frequently we want to select all the fibres that were part of an exposure or a set. For that purpose we can use the RSSFiber.select_fibers method"
   ]
  },
  {
   "cell_type": "code",
   "execution_count": 54,
   "metadata": {},
   "outputs": [],
   "source": [
    "# rss.select_fibers(exposure_no=0)\n",
    "# only exposure_no=0 works?"
   ]
  },
  {
   "cell_type": "code",
   "execution_count": 55,
   "metadata": {},
   "outputs": [
    {
     "name": "stderr",
     "output_type": "stream",
     "text": [
      "WARNING: AstropyDeprecationWarning: The truth value of a Quantity is ambiguous. In the future this will raise a ValueError. [astropy.units.quantity]\n"
     ]
    },
    {
     "data": {
      "text/plain": [
       "<matplotlib.axes._subplots.AxesSubplot at 0x7ff357b11190>"
      ]
     },
     "execution_count": 55,
     "metadata": {},
     "output_type": "execute_result"
    },
    {
     "data": {
      "image/png": "[encoded data removed]",
      "text/plain": [
       "<Figure size 432x288 with 1 Axes>"
      ]
     },
     "metadata": {},
     "output_type": "display_data"
    }
   ],
   "source": [
    "rssfiber.plot()"
   ]
  },
  {
   "cell_type": "code",
   "execution_count": null,
   "metadata": {},
   "outputs": [],
   "source": []
  }
 ],
 "metadata": {
  "kernelspec": {
   "display_name": "Python 3",
   "language": "python",
   "name": "python3"
  },
  "language_info": {
   "codemirror_mode": {
    "name": "ipython",
    "version": 3
   },
   "file_extension": ".py",
   "mimetype": "text/x-python",
   "name": "python",
   "nbconvert_exporter": "python",
   "pygments_lexer": "ipython3",
   "version": "3.7.5"
  }
 },
 "nbformat": 4,
 "nbformat_minor": 2
}
