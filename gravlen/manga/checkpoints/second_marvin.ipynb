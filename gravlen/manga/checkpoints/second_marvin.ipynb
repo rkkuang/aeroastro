{
 "cells": [
  {
   "cell_type": "markdown",
   "metadata": {},
   "source": [
    "# Roadmap of Marvin: a tool to visualise and analyse MaNGA data."
   ]
  },
  {
   "cell_type": "markdown",
   "metadata": {},
   "source": [
    "This documentation assumes that you are familiar with MaNGA data and its acronyms. If that is not your case, consider reading https://www.sdss.org/dr15/manga/getting-started/."
   ]
  },
  {
   "cell_type": "markdown",
   "metadata": {},
   "source": [
    "https://sdss-marvin.readthedocs.io/en/latest/getting-started.html\n",
    "All the Tools classes can be accessed from the marvin.tools module. Let’s load a DRP Cube"
   ]
  },
  {
   "cell_type": "code",
   "execution_count": 1,
   "metadata": {},
   "outputs": [
    {
     "name": "stderr",
     "output_type": "stream",
     "text": [
      "/usr/local/lib/python3.7/dist-packages/marvin/extern/marvin_brain/python/brain/__init__.py:97: YAMLLoadWarning: calling yaml.load() without Loader=... is deprecated, as the default Loader is unsafe. Please read https://msg.pyyaml.org/load for full details.\n",
      "  config = yaml.load(open(os.path.join(os.path.dirname(__file__), 'data/brain.yml')))\n",
      "/usr/local/lib/python3.7/dist-packages/marvin/__init__.py:128: YAMLLoadWarning: calling yaml.load() without Loader=... is deprecated, as the default Loader is unsafe. Please read https://msg.pyyaml.org/load for full details.\n",
      "  config = yaml.load(f)\n",
      "/usr/local/lib/python3.7/dist-packages/marvin/extern/tree/python/tree/__init__.py:21: YAMLLoadWarning: calling yaml.load() without Loader=... is deprecated, as the default Loader is unsafe. Please read https://msg.pyyaml.org/load for full details.\n",
      "  config = yaml.load(ff)\n",
      "/usr/local/lib/python3.7/dist-packages/marvin/extern/sdss_access/python/sdss_access/__init__.py:31: YAMLLoadWarning: calling yaml.load() without Loader=... is deprecated, as the default Loader is unsafe. Please read https://msg.pyyaml.org/load for full details.\n",
      "  config = yaml.load(ff)\n",
      "/usr/lib/python3.7/importlib/_bootstrap.py:219: RuntimeWarning: numpy.ufunc size changed, may indicate binary incompatibility. Expected 192 from C header, got 216 from PyObject\n",
      "  return f(*args, **kwds)\n",
      "/usr/lib/python3.7/importlib/_bootstrap.py:219: RuntimeWarning: numpy.ufunc size changed, may indicate binary incompatibility. Expected 192 from C header, got 216 from PyObject\n",
      "  return f(*args, **kwds)\n"
     ]
    },
    {
     "name": "stdout",
     "output_type": "stream",
     "text": [
      "INFO: No release version set. Setting default to MPL-8\n"
     ]
    },
    {
     "name": "stderr",
     "output_type": "stream",
     "text": [
      "/usr/lib/python3.7/importlib/_bootstrap.py:219: RuntimeWarning: numpy.ufunc size changed, may indicate binary incompatibility. Expected 192 from C header, got 216 from PyObject\n",
      "  return f(*args, **kwds)\n",
      "/usr/lib/python3.7/importlib/_bootstrap.py:219: RuntimeWarning: numpy.ufunc size changed, may indicate binary incompatibility. Expected 192 from C header, got 216 from PyObject\n",
      "  return f(*args, **kwds)\n",
      "/usr/lib/python3.7/importlib/_bootstrap.py:219: RuntimeWarning: numpy.ufunc size changed, may indicate binary incompatibility. Expected 192 from C header, got 216 from PyObject\n",
      "  return f(*args, **kwds)\n",
      "/usr/lib/python3.7/importlib/_bootstrap.py:219: RuntimeWarning: numpy.ufunc size changed, may indicate binary incompatibility. Expected 192 from C header, got 216 from PyObject\n",
      "  return f(*args, **kwds)\n"
     ]
    }
   ],
   "source": [
    "import marvin\n",
    "from marvin import config\n",
    "import numpy as np\n",
    "import matplotlib.pyplot as plt\n",
    "config.access = 'collab'\n",
    "config.login()"
   ]
  },
  {
   "cell_type": "code",
   "execution_count": 2,
   "metadata": {},
   "outputs": [
    {
     "data": {
      "text/plain": [
       "<Marvin Cube (plateifu='8595-6101', mode='local', data_origin='file')>"
      ]
     },
     "execution_count": 2,
     "metadata": {},
     "output_type": "execute_result"
    }
   ],
   "source": [
    "fitspath = '../8595_6101/manga-8595-6101-LOGCUBE.fits.gz'\n",
    "my_cube = marvin.tools.Cube(filename=fitspath)\n",
    "my_cube"
   ]
  },
  {
   "cell_type": "code",
   "execution_count": 3,
   "metadata": {},
   "outputs": [
    {
     "name": "stdout",
     "output_type": "stream",
     "text": [
      "../8595_6101/manga-8595-6101-LOGCUBE.fits.gz 8595-6101 1-197718 MPL-8\n"
     ]
    }
   ],
   "source": [
    "print(my_cube.filename, my_cube.plateifu, my_cube.mangaid, my_cube.release)"
   ]
  },
  {
   "cell_type": "code",
   "execution_count": 4,
   "metadata": {},
   "outputs": [
    {
     "name": "stdout",
     "output_type": "stream",
     "text": [
      "219.031216217 49.7203386644\n"
     ]
    }
   ],
   "source": [
    "print(my_cube.ra, my_cube.dec)"
   ]
  },
  {
   "cell_type": "markdown",
   "metadata": {},
   "source": [
    "Similarly we can access the header of the file and the WCS object"
   ]
  },
  {
   "cell_type": "code",
   "execution_count": 5,
   "metadata": {},
   "outputs": [
    {
     "data": {
      "text/plain": [
       "XTENSION= 'IMAGE   '           / IMAGE extension                                \n",
       "BITPIX  =                  -32 / Number of bits per data pixel                  \n",
       "NAXIS   =                    3 / Number of data axes                            \n",
       "NAXIS1  =                   54 /                                                \n",
       "NAXIS2  =                   54 /                                                \n",
       "NAXIS3  =                 4563 /                                                \n",
       "PCOUNT  =                    0 / No Group Parameters                            \n",
       "GCOUNT  =                    1 / One Data Group                                 \n",
       "AUTHOR  = 'Brian Cherinka & David Law <bcherin1@jhu.edu, dlaw@stsci.edu>' /     \n",
       "VERSDRP2= 'v2_5_3  '           / MaNGA DRP version (2d processing)              \n",
       "VERSDRP3= 'v2_5_3  '           / MaNGA DRP Version (3d processing)              \n",
       "VERSPLDS= 'v5_1    '           / Platedesign Version                            \n",
       "VERSFLAT= 'v1_31   '           / Specflat Version                               \n",
       "VERSCORE= 'v1_7_1  '           / MaNGAcore Version                              \n",
       "VERSPRIM= 'v2_6    '           / MaNGA Preimaging Version                       \n",
       "VERSUTIL= 'v5_5_33 '           / Version of idlutils                            \n",
       "VERSIDL = 'x86_64 linux unix linux 7.1.1 Aug 21 2009 64 64 ' / Version of IDL   \n",
       "BSCALE  =              1.00000 / Intensity unit scaling                         \n",
       "BZERO   =              0.00000 / Intensity zeropoint                            \n",
       "BUNIT   = '1E-17 erg/s/cm^2/Ang/spaxel' / Specific intensity (per spaxel)       \n",
       "MASKNAME= 'MANGA_DRP3PIXMASK'  / Bits in sdssMaskbits.par used by mask extension\n",
       "TELESCOP= 'SDSS 2.5-M'         / Sloan Digital Sky Survey                       \n",
       "INSTRUME= 'MaNGA   '           / SDSS-IV MaNGA IFU                              \n",
       "SRVYMODE= 'MaNGA dither'       / Survey leading this observation and its mode   \n",
       "PLATETYP= 'APOGEE-2&MaNGA'     / Type of plate (e.g. MaNGA, APOGEE-2&MANGA)     \n",
       "OBJSYS  = 'ICRS    '           / The TCC objSys                                 \n",
       "EQUINOX =              2000.00 /                                                \n",
       "RADESYS = 'FK5     '           /                                                \n",
       "LAMPLIST= 'lamphgcdne.dat'     /                                                \n",
       "TPLDATA = 'BOSZ_3000-11000A.fits' /                                             \n",
       "NEXP    =                    9 / Total number of exposures                      \n",
       "EXPTIME =              8100.79 / Total exposure time (seconds)                  \n",
       "BLUESN2 =              22.8381 / Total SN2 in blue channel                      \n",
       "REDSN2  =              41.4510 / Total SN2 in red channel                       \n",
       "AIRMSMIN=              1.05666 / Minimum airmass                                \n",
       "AIRMSMED=              1.08694 / Median airmass                                 \n",
       "AIRMSMAX=              1.15709 / Maximum airmass                                \n",
       "SEEMIN  =              1.25836 / Best guider seeing                             \n",
       "SEEMED  =              1.43229 / Median guider seeing                           \n",
       "SEEMAX  =              1.64338 / Worst guider seeing                            \n",
       "TRANSMIN=             0.873694 / Worst guider transparency                      \n",
       "TRANSMED=             0.910404 / Median guider transparency                     \n",
       "TRANSMAX=             0.961698 / Best guider transparency                       \n",
       "MJDMIN  =                57465 / MJD of first exposure                          \n",
       "MJDMED  =                57466 / MJD of median exposure                         \n",
       "MJDMAX  =                57467 / MJD of last exposure                           \n",
       "DATE-OBS= '2016-03-19'         / Date of median exposure                        \n",
       "MJDRED  =                58421 / MJD of the reduction                           \n",
       "DATERED = '2018-10-30'         / Date of the reduction                          \n",
       "MNGTARG1=                 1024 / manga_target1 maskbit                          \n",
       "MNGTARG2=                    0 / manga_target2 maskbit                          \n",
       "MNGTARG3=                    0 / manga_target3 maskbit                          \n",
       "IFURA   =        219.031220000 / IFU R.A. (J2000 deg.)                          \n",
       "IFUDEC  =        49.7203390000 / IFU Dec. (J2000 deg.)                          \n",
       "OBJRA   =        219.031216217 / Object R.A. (J2000 deg.)                       \n",
       "OBJDEC  =        49.7203386644 / Object Dec. (J2000 deg.)                       \n",
       "CENRA   =        219.793670000 / Plate center R.A. (J2000 deg.)                 \n",
       "CENDEC  =        50.9309010000 / Plate center Dec. (J2000 deg.)                 \n",
       "PLATEID =                 8595 / Current plate                                  \n",
       "DESIGNID=                 9027 / Current design                                 \n",
       "IFUDSGN =                 6101 / ifuDesign                                      \n",
       "FRLPLUG =                   21 / Plugged ferrule                                \n",
       "PLATEIFU= '8595-6101'          / PLATEID-ifuDesign                              \n",
       "CARTID  = '5       '           / Cart(s) used                                   \n",
       "HARNAME = 'ma101   '           / Harness name(s)                                \n",
       "METFILE = 'ma101-56974-2.par'  / IFU metrology file(s)                          \n",
       "MANGAID = '1-197718'           / MaNGA ID number                                \n",
       "CATIDNUM= '1       '           / Primary target input catalog                   \n",
       "PLTTARG = 'plateTargets-1.par' / plateTarget reference file                     \n",
       "DRP3QUAL=                    0 / DRP-3d quality bitmask                         \n",
       "IFUGLON =        88.3988178817 / IFU Galactic longitude (deg)                   \n",
       "IFUGLAT =        59.7997792977 / IFU Galactic latitude (deg)                    \n",
       "EBVGAL  =            0.0231470 / Galactic reddening E(B-V)                      \n",
       "GFWHM   =              2.43172 / Reconstructed FWHM in g-band (arcsec)          \n",
       "RFWHM   =              2.46410 / Reconstructed FWHM in r-band (arcsec)          \n",
       "IFWHM   =              2.47924 / Reconstructed FWHM in i-band (arcsec)          \n",
       "ZFWHM   =              2.47878 / Reconstructed FWHM in z-band (arcsec)          \n",
       "CTYPE3  = 'WAVE-LOG'           /                                                \n",
       "CRPIX3  =                    1 / Starting pixel (1-indexed)                     \n",
       "CRVAL3  =        3621.59598486 / Central wavelength of first pixel              \n",
       "CD3_3   =       0.833903304339 / Initial dispersion per pixel                   \n",
       "CUNIT3  = 'Angstrom'           /                                                \n",
       "CRPIX1  =              28.0000 /Reference pixel (1-indexed)                     \n",
       "CRPIX2  =              28.0000 /Reference pixel (1-indexed)                     \n",
       "CRVAL1  =        219.031220000 /                                                \n",
       "CRVAL2  =        49.7203390000 /                                                \n",
       "CD1_1   =         -0.000138889 /                                                \n",
       "CD2_2   =          0.000138889 /                                                \n",
       "CTYPE1  = 'RA---TAN'           /                                                \n",
       "CTYPE2  = 'DEC--TAN'           /                                                \n",
       "CUNIT1  = 'deg     '           /                                                \n",
       "CUNIT2  = 'deg     '           /                                                \n",
       "HDUCLASS= 'SDSS    '           /SDSS format class                               \n",
       "HDUCLAS1= 'CUBE    '           /                                                \n",
       "HDUCLAS2= 'DATA    '           /                                                \n",
       "ERRDATA = 'IVAR    '           / Error extension name                           \n",
       "QUALDATA= 'MASK    '           / Mask extension name                            \n",
       "EXTNAME = 'FLUX    '           /                                                \n",
       "DATASUM = '2007153477'         / data unit checksum updated 2018-10-30T16:13:18 \n",
       "CHECKSUM= 'ZfYFicXFZcXFfcXF'   / HDU checksum updated 2018-10-30T16:13:18       "
      ]
     },
     "execution_count": 5,
     "metadata": {},
     "output_type": "execute_result"
    }
   ],
   "source": [
    "my_cube.header"
   ]
  },
  {
   "cell_type": "code",
   "execution_count": 6,
   "metadata": {},
   "outputs": [
    {
     "data": {
      "text/plain": [
       "WCS Keywords\n",
       "\n",
       "Number of WCS axes: 3\n",
       "CTYPE : 'RA---TAN'  'DEC--TAN'  'WAVE-LOG'  \n",
       "CRVAL : 219.03122  49.720339  3.62159598486e-07  \n",
       "CRPIX : 28.0  28.0  1.0  \n",
       "CD1_1 CD1_2 CD1_3  : -0.000138889  0.0  0.0  \n",
       "CD2_1 CD2_2 CD2_3  : 0.0  0.000138889  0.0  \n",
       "CD3_1 CD3_2 CD3_3  : 0.0  0.0  8.33903304339e-11  \n",
       "NAXIS : 54  54  4563"
      ]
     },
     "execution_count": 6,
     "metadata": {},
     "output_type": "execute_result"
    }
   ],
   "source": [
    "my_cube.wcs"
   ]
  },
  {
   "cell_type": "markdown",
   "metadata": {},
   "source": [
    "What is more, we can access the datamodel of the cube file, which show us what extensions are available, how they are named in Marvin, and what they contain"
   ]
  },
  {
   "cell_type": "code",
   "execution_count": 7,
   "metadata": {},
   "outputs": [
    {
     "data": {
      "text/plain": [
       "<DRPCubeDataModel release='MPL-8', n_datacubes=3, n_spectra=2>"
      ]
     },
     "execution_count": 7,
     "metadata": {},
     "output_type": "execute_result"
    }
   ],
   "source": [
    "datamodel = my_cube.datamodel\n",
    "datamodel"
   ]
  },
  {
   "cell_type": "code",
   "execution_count": 8,
   "metadata": {},
   "outputs": [
    {
     "data": {
      "text/plain": [
       "[<DataCube 'flux', release='MPL-8', unit='1e-17 erg / (Angstrom cm2 s spaxel)'>,\n",
       " <DataCube 'dispersion', release='MPL-8', unit='Angstrom'>,\n",
       " <DataCube 'dispersion_prepixel', release='MPL-8', unit='Angstrom'>]"
      ]
     },
     "execution_count": 8,
     "metadata": {},
     "output_type": "execute_result"
    }
   ],
   "source": [
    "datamodel.datacubes"
   ]
  },
  {
   "cell_type": "code",
   "execution_count": 9,
   "metadata": {},
   "outputs": [
    {
     "data": {
      "text/plain": [
       "[<Spectrum 'spectral_resolution', release='MPL-8', unit='Angstrom'>,\n",
       " <Spectrum 'spectral_resolution_prepixel', release='MPL-8', unit='Angstrom'>]"
      ]
     },
     "execution_count": 9,
     "metadata": {},
     "output_type": "execute_result"
    }
   ],
   "source": [
    "datamodel.spectra"
   ]
  },
  {
   "cell_type": "markdown",
   "metadata": {},
   "source": [
    "This tells us that this cube has two associated 3D datacubes, 'flux', 'dispersion', and 'dispersion_prepixel', and two associated spectra, 'spectral_resolution' and 'spectral_resolution_prepixel', as well as their associated units. We can get a desciption of what each of them"
   ]
  },
  {
   "cell_type": "code",
   "execution_count": 10,
   "metadata": {},
   "outputs": [
    {
     "data": {
      "text/plain": [
       "'3D rectified cube'"
      ]
     },
     "execution_count": 10,
     "metadata": {},
     "output_type": "execute_result"
    }
   ],
   "source": [
    "datamodel.datacubes.flux.description"
   ]
  },
  {
   "cell_type": "code",
   "execution_count": 11,
   "metadata": {},
   "outputs": [
    {
     "data": {
      "text/plain": [
       "'Broadened dispersion solution (1sigma LSF)'"
      ]
     },
     "execution_count": 11,
     "metadata": {},
     "output_type": "execute_result"
    }
   ],
   "source": [
    "datamodel.datacubes.dispersion.description"
   ]
  },
  {
   "cell_type": "code",
   "execution_count": 12,
   "metadata": {},
   "outputs": [
    {
     "data": {
      "text/plain": [
       "'Broadened pre-pixel dispersion solution (1sigma LSF)'"
      ]
     },
     "execution_count": 12,
     "metadata": {},
     "output_type": "execute_result"
    }
   ],
   "source": [
    "datamodel.datacubes.dispersion_prepixel.description"
   ]
  },
  {
   "cell_type": "code",
   "execution_count": 13,
   "metadata": {},
   "outputs": [
    {
     "data": {
      "text/plain": [
       "'Median spectral resolution as a function of wavelength for the fibers in this IFU'"
      ]
     },
     "execution_count": 13,
     "metadata": {},
     "output_type": "execute_result"
    }
   ],
   "source": [
    "datamodel.spectra.spectral_resolution.description"
   ]
  },
  {
   "cell_type": "code",
   "execution_count": 14,
   "metadata": {},
   "outputs": [
    {
     "data": {
      "text/plain": [
       "'Median pre-pixel spectral resolution as a function of wavelength for the fibers in this IFU'"
      ]
     },
     "execution_count": 14,
     "metadata": {},
     "output_type": "execute_result"
    }
   ],
   "source": [
    "datamodel.spectra.spectral_resolution_prepixel.description"
   ]
  },
  {
   "cell_type": "markdown",
   "metadata": {},
   "source": [
    "In my_cube, we can use the name of each of these datacubes and spectra to access the associated data quantity. Let’s get the cube flux"
   ]
  },
  {
   "cell_type": "code",
   "execution_count": 15,
   "metadata": {},
   "outputs": [],
   "source": [
    "flux = my_cube.flux"
   ]
  },
  {
   "cell_type": "code",
   "execution_count": 16,
   "metadata": {},
   "outputs": [
    {
     "data": {
      "text/latex": [
       "$[[[0,~0,~0,~\\dots,~0,~0,~0],~\n",
       "  [0,~0,~0,~\\dots,~0,~0,~0],~\n",
       "  [0,~0,~0,~\\dots,~0,~0,~0],~\n",
       "  \\dots,~\n",
       "  [0,~0,~0,~\\dots,~0,~0,~0],~\n",
       "  [0,~0,~0,~\\dots,~0,~0,~0],~\n",
       "  [0,~0,~0,~\\dots,~0,~0,~0]],~\n",
       "\n",
       " [[0,~0,~0,~\\dots,~0,~0,~0],~\n",
       "  [0,~0,~0,~\\dots,~0,~0,~0],~\n",
       "  [0,~0,~0,~\\dots,~0,~0,~0],~\n",
       "  \\dots,~\n",
       "  [0,~0,~0,~\\dots,~0,~0,~0],~\n",
       "  [0,~0,~0,~\\dots,~0,~0,~0],~\n",
       "  [0,~0,~0,~\\dots,~0,~0,~0]],~\n",
       "\n",
       " [[0,~0,~0,~\\dots,~0,~0,~0],~\n",
       "  [0,~0,~0,~\\dots,~0,~0,~0],~\n",
       "  [0,~0,~0,~\\dots,~0,~0,~0],~\n",
       "  \\dots,~\n",
       "  [0,~0,~0,~\\dots,~0,~0,~0],~\n",
       "  [0,~0,~0,~\\dots,~0,~0,~0],~\n",
       "  [0,~0,~0,~\\dots,~0,~0,~0]],~\n",
       "\n",
       " \\dots,~\n",
       "\n",
       " [[0,~0,~0,~\\dots,~0,~0,~0],~\n",
       "  [0,~0,~0,~\\dots,~0,~0,~0],~\n",
       "  [0,~0,~0,~\\dots,~0,~0,~0],~\n",
       "  \\dots,~\n",
       "  [0,~0,~0,~\\dots,~0,~0,~0],~\n",
       "  [0,~0,~0,~\\dots,~0,~0,~0],~\n",
       "  [0,~0,~0,~\\dots,~0,~0,~0]],~\n",
       "\n",
       " [[0,~0,~0,~\\dots,~0,~0,~0],~\n",
       "  [0,~0,~0,~\\dots,~0,~0,~0],~\n",
       "  [0,~0,~0,~\\dots,~0,~0,~0],~\n",
       "  \\dots,~\n",
       "  [0,~0,~0,~\\dots,~0,~0,~0],~\n",
       "  [0,~0,~0,~\\dots,~0,~0,~0],~\n",
       "  [0,~0,~0,~\\dots,~0,~0,~0]],~\n",
       "\n",
       " [[0,~0,~0,~\\dots,~0,~0,~0],~\n",
       "  [0,~0,~0,~\\dots,~0,~0,~0],~\n",
       "  [0,~0,~0,~\\dots,~0,~0,~0],~\n",
       "  \\dots,~\n",
       "  [0,~0,~0,~\\dots,~0,~0,~0],~\n",
       "  [0,~0,~0,~\\dots,~0,~0,~0],~\n",
       "  [0,~0,~0,~\\dots,~0,~0,~0]]] \\; \\mathrm{1 \\times 10^{-17}\\,\\frac{erg}{\\mathring{A}\\,s\\,spaxel\\,cm^{2}}}$"
      ],
      "text/plain": [
       "<DataCube [[[0., 0., 0., ..., 0., 0., 0.],\n",
       "            [0., 0., 0., ..., 0., 0., 0.],\n",
       "            [0., 0., 0., ..., 0., 0., 0.],\n",
       "            ...,\n",
       "            [0., 0., 0., ..., 0., 0., 0.],\n",
       "            [0., 0., 0., ..., 0., 0., 0.],\n",
       "            [0., 0., 0., ..., 0., 0., 0.]],\n",
       "\n",
       "           [[0., 0., 0., ..., 0., 0., 0.],\n",
       "            [0., 0., 0., ..., 0., 0., 0.],\n",
       "            [0., 0., 0., ..., 0., 0., 0.],\n",
       "            ...,\n",
       "            [0., 0., 0., ..., 0., 0., 0.],\n",
       "            [0., 0., 0., ..., 0., 0., 0.],\n",
       "            [0., 0., 0., ..., 0., 0., 0.]],\n",
       "\n",
       "           [[0., 0., 0., ..., 0., 0., 0.],\n",
       "            [0., 0., 0., ..., 0., 0., 0.],\n",
       "            [0., 0., 0., ..., 0., 0., 0.],\n",
       "            ...,\n",
       "            [0., 0., 0., ..., 0., 0., 0.],\n",
       "            [0., 0., 0., ..., 0., 0., 0.],\n",
       "            [0., 0., 0., ..., 0., 0., 0.]],\n",
       "\n",
       "           ...,\n",
       "\n",
       "           [[0., 0., 0., ..., 0., 0., 0.],\n",
       "            [0., 0., 0., ..., 0., 0., 0.],\n",
       "            [0., 0., 0., ..., 0., 0., 0.],\n",
       "            ...,\n",
       "            [0., 0., 0., ..., 0., 0., 0.],\n",
       "            [0., 0., 0., ..., 0., 0., 0.],\n",
       "            [0., 0., 0., ..., 0., 0., 0.]],\n",
       "\n",
       "           [[0., 0., 0., ..., 0., 0., 0.],\n",
       "            [0., 0., 0., ..., 0., 0., 0.],\n",
       "            [0., 0., 0., ..., 0., 0., 0.],\n",
       "            ...,\n",
       "            [0., 0., 0., ..., 0., 0., 0.],\n",
       "            [0., 0., 0., ..., 0., 0., 0.],\n",
       "            [0., 0., 0., ..., 0., 0., 0.]],\n",
       "\n",
       "           [[0., 0., 0., ..., 0., 0., 0.],\n",
       "            [0., 0., 0., ..., 0., 0., 0.],\n",
       "            [0., 0., 0., ..., 0., 0., 0.],\n",
       "            ...,\n",
       "            [0., 0., 0., ..., 0., 0., 0.],\n",
       "            [0., 0., 0., ..., 0., 0., 0.],\n",
       "            [0., 0., 0., ..., 0., 0., 0.]]] 1e-17 erg / (Angstrom cm2 s spaxel)>"
      ]
     },
     "execution_count": 16,
     "metadata": {},
     "output_type": "execute_result"
    }
   ],
   "source": [
    "flux"
   ]
  },
  {
   "cell_type": "markdown",
   "metadata": {},
   "source": [
    "The flux is represented as a 3D array with units. We can also access the inverse variance and the mask using flux.ivar and flux.mask, respectively. We can slice this datacube to get another datacube"
   ]
  },
  {
   "cell_type": "code",
   "execution_count": 17,
   "metadata": {},
   "outputs": [
    {
     "data": {
      "text/plain": [
       "(4563, 4, 4)"
      ]
     },
     "execution_count": 17,
     "metadata": {},
     "output_type": "execute_result"
    }
   ],
   "source": [
    "flux[:, 50:60, 50:60].shape"
   ]
  },
  {
   "cell_type": "markdown",
   "metadata": {},
   "source": [
    "Or get a single spectrum and plot it:"
   ]
  },
  {
   "cell_type": "code",
   "execution_count": 18,
   "metadata": {},
   "outputs": [
    {
     "data": {
      "text/latex": [
       "$[0.051685017,~0.053184792,~0.092927717,~\\dots,~0,~0,~0] \\; \\mathrm{1 \\times 10^{-17}\\,\\frac{erg}{\\mathring{A}\\,s\\,spaxel\\,cm^{2}}}$"
      ],
      "text/plain": [
       "<Spectrum [0.05168502, 0.05318479, 0.09292772, ..., 0.        , 0.        ,\n",
       "           0.        ] 1e-17 erg / (Angstrom cm2 s spaxel)>"
      ]
     },
     "execution_count": 18,
     "metadata": {},
     "output_type": "execute_result"
    }
   ],
   "source": [
    "spectrum = flux[:, 25, 33]\n",
    "# flux at all wavelength at pixel position (25, 33)\n",
    "spectrum"
   ]
  },
  {
   "cell_type": "code",
   "execution_count": 19,
   "metadata": {},
   "outputs": [
    {
     "name": "stderr",
     "output_type": "stream",
     "text": [
      "WARNING: AstropyDeprecationWarning: The truth value of a Quantity is ambiguous. In the future this will raise a ValueError. [astropy.units.quantity]\n"
     ]
    },
    {
     "data": {
      "text/plain": [
       "<matplotlib.axes._subplots.AxesSubplot at 0x7f94d64db450>"
      ]
     },
     "execution_count": 19,
     "metadata": {},
     "output_type": "execute_result"
    },
    {
     "data": {
      "image/png": "[encoded data removed]",
      "text/plain": [
       "<Figure size 432x288 with 1 Axes>"
      ]
     },
     "metadata": {},
     "output_type": "display_data"
    }
   ],
   "source": [
    "spectrum.plot(show_std=True)"
   ]
  },
  {
   "cell_type": "markdown",
   "metadata": {},
   "source": [
    "From a DRP cube we can get the associated DAP Maps object for a certain bintype"
   ]
  },
  {
   "cell_type": "code",
   "execution_count": 20,
   "metadata": {},
   "outputs": [],
   "source": [
    "hyb_maps = my_cube.getMaps(bintype='HYB10')\n",
    "# /scratch/shared_data/manga/MPL8-DAP/HYB10-MILESHC-MILESHC/8595/manga-8595-6101-LOGCUBE-HYB10-MILESHC-MILESHC.fits.gz\n",
    "# hyb10path = \"../8595_6101/manga-8595-6101-MAPS-HYB10-MILESHC-MILESHC.fits.gz\"\n",
    "# import os\n",
    "# os.path.isfile(hyb10path)\n",
    "# hyb_maps = marvin.tools.Maps(filename=fitspath)"
   ]
  },
  {
   "cell_type": "code",
   "execution_count": 21,
   "metadata": {},
   "outputs": [
    {
     "data": {
      "text/plain": [
       "<Marvin Maps (plateifu='8595-6101', mode='local', data_origin='file', bintype='HYB10', template='MILESHC-MILESHC')>"
      ]
     },
     "execution_count": 21,
     "metadata": {},
     "output_type": "execute_result"
    }
   ],
   "source": [
    "hyb_maps"
   ]
  },
  {
   "cell_type": "markdown",
   "metadata": {},
   "source": [
    "A Maps behaves very similarly to a Cube and everything we have discussed above will still work. Instead of datacubes and spectra, a Maps object contains a set of 2D quantities called Map, each one of them representing a different property measured by the DAP. One can get a full list of all the properties available using the datamodel"
   ]
  },
  {
   "cell_type": "code",
   "execution_count": 22,
   "metadata": {},
   "outputs": [
    {
     "data": {
      "text/plain": [
       "[<Property 'spx_skycoo', channel='on_sky_x', release='2.3.0', unit='arcsec'>,\n",
       " <Property 'spx_skycoo', channel='on_sky_y', release='2.3.0', unit='arcsec'>,\n",
       " <Property 'spx_ellcoo', channel='elliptical_radius', release='2.3.0', unit='arcsec'>,\n",
       " <Property 'spx_ellcoo', channel='r_re', release='2.3.0', unit=''>,\n",
       " <Property 'spx_ellcoo', channel='elliptical_azimuth', release='2.3.0', unit='deg'>,\n",
       " <Property 'spx_mflux', channel='None', release='2.3.0', unit='1e-17 erg / (cm2 s spaxel)'>,\n",
       " <Property 'spx_snr', channel='None', release='2.3.0', unit=''>,\n",
       " <Property 'binid', channel='binned_spectra', release='2.3.0', unit=''>,\n",
       " <Property 'binid', channel='stellar_continua', release='2.3.0', unit=''>,\n",
       " <Property 'binid', channel='em_line_moments', release='2.3.0', unit=''>,\n",
       " <Property 'binid', channel='em_line_models', release='2.3.0', unit=''>,\n",
       " <Property 'binid', channel='spectral_indices', release='2.3.0', unit=''>,\n",
       " <Property 'bin_lwskycoo', channel='lum_weighted_on_sky_x', release='2.3.0', unit='arcsec'>,\n",
       " <Property 'bin_lwskycoo', channel='lum_weighted_on_sky_y', release='2.3.0', unit='arcsec'>,\n",
       " <Property 'bin_lwellcoo', channel='lum_weighted_elliptical_radius', release='2.3.0', unit='arcsec'>,\n",
       " <Property 'bin_lwellcoo', channel='r_re', release='2.3.0', unit=''>,\n",
       " <Property 'bin_lwellcoo', channel='lum_weighted_elliptical_azimuth', release='2.3.0', unit='deg'>,\n",
       " <Property 'bin_area', channel='None', release='2.3.0', unit='arcsec2'>,\n",
       " <Property 'bin_farea', channel='None', release='2.3.0', unit=''>,\n",
       " <Property 'bin_mflux', channel='None', release='2.3.0', unit='1e-17 erg / (cm2 s spaxel)'>,\n",
       " <Property 'bin_snr', channel='None', release='2.3.0', unit=''>,\n",
       " <Property 'stellar_vel', channel='None', release='2.3.0', unit='km / s'>,\n",
       " <Property 'stellar_sigma', channel='None', release='2.3.0', unit='km / s'>,\n",
       " <Property 'specindex', channel='cn1', release='2.3.0', unit='mag'>,\n",
       " <Property 'specindex', channel='cn2', release='2.3.0', unit='mag'>,\n",
       " <Property 'specindex', channel='ca4227', release='2.3.0', unit='Angstrom'>,\n",
       " <Property 'specindex', channel='g4300', release='2.3.0', unit='Angstrom'>,\n",
       " <Property 'specindex', channel='fe4383', release='2.3.0', unit='Angstrom'>,\n",
       " <Property 'specindex', channel='ca4455', release='2.3.0', unit='Angstrom'>,\n",
       " <Property 'specindex', channel='fe4531', release='2.3.0', unit='Angstrom'>,\n",
       " <Property 'specindex', channel='c24668', release='2.3.0', unit='Angstrom'>,\n",
       " <Property 'specindex', channel='hb', release='2.3.0', unit='Angstrom'>,\n",
       " <Property 'specindex', channel='fe5015', release='2.3.0', unit='Angstrom'>,\n",
       " <Property 'specindex', channel='mg1', release='2.3.0', unit='mag'>,\n",
       " <Property 'specindex', channel='mg2', release='2.3.0', unit='mag'>,\n",
       " <Property 'specindex', channel='mgb', release='2.3.0', unit='Angstrom'>,\n",
       " <Property 'specindex', channel='fe5270', release='2.3.0', unit='Angstrom'>,\n",
       " <Property 'specindex', channel='fe5335', release='2.3.0', unit='Angstrom'>,\n",
       " <Property 'specindex', channel='fe5406', release='2.3.0', unit='Angstrom'>,\n",
       " <Property 'specindex', channel='fe5709', release='2.3.0', unit='Angstrom'>,\n",
       " <Property 'specindex', channel='fe5782', release='2.3.0', unit='Angstrom'>,\n",
       " <Property 'specindex', channel='nad', release='2.3.0', unit='Angstrom'>,\n",
       " <Property 'specindex', channel='tio1', release='2.3.0', unit='mag'>,\n",
       " <Property 'specindex', channel='tio2', release='2.3.0', unit='mag'>,\n",
       " <Property 'specindex', channel='hdeltaa', release='2.3.0', unit='Angstrom'>,\n",
       " <Property 'specindex', channel='hgammaa', release='2.3.0', unit='Angstrom'>,\n",
       " <Property 'specindex', channel='hdeltaf', release='2.3.0', unit='Angstrom'>,\n",
       " <Property 'specindex', channel='hgammaf', release='2.3.0', unit='Angstrom'>,\n",
       " <Property 'specindex', channel='cahk', release='2.3.0', unit='Angstrom'>,\n",
       " <Property 'specindex', channel='caii1', release='2.3.0', unit='Angstrom'>,\n",
       " <Property 'specindex', channel='caii2', release='2.3.0', unit='Angstrom'>,\n",
       " <Property 'specindex', channel='caii3', release='2.3.0', unit='Angstrom'>,\n",
       " <Property 'specindex', channel='pa17', release='2.3.0', unit='Angstrom'>,\n",
       " <Property 'specindex', channel='pa14', release='2.3.0', unit='Angstrom'>,\n",
       " <Property 'specindex', channel='pa12', release='2.3.0', unit='Angstrom'>,\n",
       " <Property 'specindex', channel='mgicvd', release='2.3.0', unit='Angstrom'>,\n",
       " <Property 'specindex', channel='naicvd', release='2.3.0', unit='Angstrom'>,\n",
       " <Property 'specindex', channel='mgiir', release='2.3.0', unit='Angstrom'>,\n",
       " <Property 'specindex', channel='fehcvd', release='2.3.0', unit='Angstrom'>,\n",
       " <Property 'specindex', channel='nai', release='2.3.0', unit='Angstrom'>,\n",
       " <Property 'specindex', channel='btio', release='2.3.0', unit='mag'>,\n",
       " <Property 'specindex', channel='atio', release='2.3.0', unit='mag'>,\n",
       " <Property 'specindex', channel='cah1', release='2.3.0', unit='mag'>,\n",
       " <Property 'specindex', channel='cah2', release='2.3.0', unit='mag'>,\n",
       " <Property 'specindex', channel='naisdss', release='2.3.0', unit='Angstrom'>,\n",
       " <Property 'specindex', channel='tio2sdss', release='2.3.0', unit='Angstrom'>,\n",
       " <Property 'specindex', channel='d4000', release='2.3.0', unit=''>,\n",
       " <Property 'specindex', channel='dn4000', release='2.3.0', unit=''>,\n",
       " <Property 'specindex', channel='tiocvd', release='2.3.0', unit=''>,\n",
       " <Property 'specindex_corr', channel='cn1', release='2.3.0', unit='mag'>,\n",
       " <Property 'specindex_corr', channel='cn2', release='2.3.0', unit='mag'>,\n",
       " <Property 'specindex_corr', channel='ca4227', release='2.3.0', unit='Angstrom'>,\n",
       " <Property 'specindex_corr', channel='g4300', release='2.3.0', unit='Angstrom'>,\n",
       " <Property 'specindex_corr', channel='fe4383', release='2.3.0', unit='Angstrom'>,\n",
       " <Property 'specindex_corr', channel='ca4455', release='2.3.0', unit='Angstrom'>,\n",
       " <Property 'specindex_corr', channel='fe4531', release='2.3.0', unit='Angstrom'>,\n",
       " <Property 'specindex_corr', channel='c24668', release='2.3.0', unit='Angstrom'>,\n",
       " <Property 'specindex_corr', channel='hb', release='2.3.0', unit='Angstrom'>,\n",
       " <Property 'specindex_corr', channel='fe5015', release='2.3.0', unit='Angstrom'>,\n",
       " <Property 'specindex_corr', channel='mg1', release='2.3.0', unit='mag'>,\n",
       " <Property 'specindex_corr', channel='mg2', release='2.3.0', unit='mag'>,\n",
       " <Property 'specindex_corr', channel='mgb', release='2.3.0', unit='Angstrom'>,\n",
       " <Property 'specindex_corr', channel='fe5270', release='2.3.0', unit='Angstrom'>,\n",
       " <Property 'specindex_corr', channel='fe5335', release='2.3.0', unit='Angstrom'>,\n",
       " <Property 'specindex_corr', channel='fe5406', release='2.3.0', unit='Angstrom'>,\n",
       " <Property 'specindex_corr', channel='fe5709', release='2.3.0', unit='Angstrom'>,\n",
       " <Property 'specindex_corr', channel='fe5782', release='2.3.0', unit='Angstrom'>,\n",
       " <Property 'specindex_corr', channel='nad', release='2.3.0', unit='Angstrom'>,\n",
       " <Property 'specindex_corr', channel='tio1', release='2.3.0', unit='mag'>,\n",
       " <Property 'specindex_corr', channel='tio2', release='2.3.0', unit='mag'>,\n",
       " <Property 'specindex_corr', channel='hdeltaa', release='2.3.0', unit='Angstrom'>,\n",
       " <Property 'specindex_corr', channel='hgammaa', release='2.3.0', unit='Angstrom'>,\n",
       " <Property 'specindex_corr', channel='hdeltaf', release='2.3.0', unit='Angstrom'>,\n",
       " <Property 'specindex_corr', channel='hgammaf', release='2.3.0', unit='Angstrom'>,\n",
       " <Property 'specindex_corr', channel='cahk', release='2.3.0', unit='Angstrom'>,\n",
       " <Property 'specindex_corr', channel='caii1', release='2.3.0', unit='Angstrom'>,\n",
       " <Property 'specindex_corr', channel='caii2', release='2.3.0', unit='Angstrom'>,\n",
       " <Property 'specindex_corr', channel='caii3', release='2.3.0', unit='Angstrom'>,\n",
       " <Property 'specindex_corr', channel='pa17', release='2.3.0', unit='Angstrom'>,\n",
       " <Property 'specindex_corr', channel='pa14', release='2.3.0', unit='Angstrom'>,\n",
       " <Property 'specindex_corr', channel='pa12', release='2.3.0', unit='Angstrom'>,\n",
       " <Property 'specindex_corr', channel='mgicvd', release='2.3.0', unit='Angstrom'>,\n",
       " <Property 'specindex_corr', channel='naicvd', release='2.3.0', unit='Angstrom'>,\n",
       " <Property 'specindex_corr', channel='mgiir', release='2.3.0', unit='Angstrom'>,\n",
       " <Property 'specindex_corr', channel='fehcvd', release='2.3.0', unit='Angstrom'>,\n",
       " <Property 'specindex_corr', channel='nai', release='2.3.0', unit='Angstrom'>,\n",
       " <Property 'specindex_corr', channel='btio', release='2.3.0', unit='mag'>,\n",
       " <Property 'specindex_corr', channel='atio', release='2.3.0', unit='mag'>,\n",
       " <Property 'specindex_corr', channel='cah1', release='2.3.0', unit='mag'>,\n",
       " <Property 'specindex_corr', channel='cah2', release='2.3.0', unit='mag'>,\n",
       " <Property 'specindex_corr', channel='naisdss', release='2.3.0', unit='Angstrom'>,\n",
       " <Property 'specindex_corr', channel='tio2sdss', release='2.3.0', unit='Angstrom'>,\n",
       " <Property 'specindex_corr', channel='d4000', release='2.3.0', unit=''>,\n",
       " <Property 'specindex_corr', channel='dn4000', release='2.3.0', unit=''>,\n",
       " <Property 'specindex_corr', channel='tiocvd', release='2.3.0', unit=''>,\n",
       " <Property 'emline_sflux', channel='oiid_3728', release='2.3.0', unit='1e-17 erg / (cm2 s spaxel)'>,\n",
       " <Property 'emline_sflux', channel='oii_3729', release='2.3.0', unit='1e-17 erg / (cm2 s spaxel)'>,\n",
       " <Property 'emline_sflux', channel='hthe_3798', release='2.3.0', unit='1e-17 erg / (cm2 s spaxel)'>,\n",
       " <Property 'emline_sflux', channel='heta_3836', release='2.3.0', unit='1e-17 erg / (cm2 s spaxel)'>,\n",
       " <Property 'emline_sflux', channel='neiii_3869', release='2.3.0', unit='1e-17 erg / (cm2 s spaxel)'>,\n",
       " <Property 'emline_sflux', channel='hzet_3890', release='2.3.0', unit='1e-17 erg / (cm2 s spaxel)'>,\n",
       " <Property 'emline_sflux', channel='neiii_3968', release='2.3.0', unit='1e-17 erg / (cm2 s spaxel)'>,\n",
       " <Property 'emline_sflux', channel='heps_3971', release='2.3.0', unit='1e-17 erg / (cm2 s spaxel)'>,\n",
       " <Property 'emline_sflux', channel='hdel_4102', release='2.3.0', unit='1e-17 erg / (cm2 s spaxel)'>,\n",
       " <Property 'emline_sflux', channel='hgam_4341', release='2.3.0', unit='1e-17 erg / (cm2 s spaxel)'>,\n",
       " <Property 'emline_sflux', channel='heii_4687', release='2.3.0', unit='1e-17 erg / (cm2 s spaxel)'>,\n",
       " <Property 'emline_sflux', channel='hb_4862', release='2.3.0', unit='1e-17 erg / (cm2 s spaxel)'>,\n",
       " <Property 'emline_sflux', channel='oiii_4960', release='2.3.0', unit='1e-17 erg / (cm2 s spaxel)'>,\n",
       " <Property 'emline_sflux', channel='oiii_5008', release='2.3.0', unit='1e-17 erg / (cm2 s spaxel)'>,\n",
       " <Property 'emline_sflux', channel='hei_5877', release='2.3.0', unit='1e-17 erg / (cm2 s spaxel)'>,\n",
       " <Property 'emline_sflux', channel='oi_6302', release='2.3.0', unit='1e-17 erg / (cm2 s spaxel)'>,\n",
       " <Property 'emline_sflux', channel='oi_6365', release='2.3.0', unit='1e-17 erg / (cm2 s spaxel)'>,\n",
       " <Property 'emline_sflux', channel='nii_6549', release='2.3.0', unit='1e-17 erg / (cm2 s spaxel)'>,\n",
       " <Property 'emline_sflux', channel='ha_6564', release='2.3.0', unit='1e-17 erg / (cm2 s spaxel)'>,\n",
       " <Property 'emline_sflux', channel='nii_6585', release='2.3.0', unit='1e-17 erg / (cm2 s spaxel)'>,\n",
       " <Property 'emline_sflux', channel='sii_6718', release='2.3.0', unit='1e-17 erg / (cm2 s spaxel)'>,\n",
       " <Property 'emline_sflux', channel='sii_6732', release='2.3.0', unit='1e-17 erg / (cm2 s spaxel)'>,\n",
       " <Property 'emline_sflux', channel='hei_3889', release='2.3.0', unit='1e-17 erg / (cm2 s spaxel)'>,\n",
       " <Property 'emline_sflux', channel='ni_5199', release='2.3.0', unit='1e-17 erg / (cm2 s spaxel)'>,\n",
       " <Property 'emline_sflux', channel='ni_5201', release='2.3.0', unit='1e-17 erg / (cm2 s spaxel)'>,\n",
       " <Property 'emline_sew', channel='oiid_3728', release='2.3.0', unit='Angstrom'>,\n",
       " <Property 'emline_sew', channel='oii_3729', release='2.3.0', unit='Angstrom'>,\n",
       " <Property 'emline_sew', channel='hthe_3798', release='2.3.0', unit='Angstrom'>,\n",
       " <Property 'emline_sew', channel='heta_3836', release='2.3.0', unit='Angstrom'>,\n",
       " <Property 'emline_sew', channel='neiii_3869', release='2.3.0', unit='Angstrom'>,\n",
       " <Property 'emline_sew', channel='hzet_3890', release='2.3.0', unit='Angstrom'>,\n",
       " <Property 'emline_sew', channel='neiii_3968', release='2.3.0', unit='Angstrom'>,\n",
       " <Property 'emline_sew', channel='heps_3971', release='2.3.0', unit='Angstrom'>,\n",
       " <Property 'emline_sew', channel='hdel_4102', release='2.3.0', unit='Angstrom'>,\n",
       " <Property 'emline_sew', channel='hgam_4341', release='2.3.0', unit='Angstrom'>,\n",
       " <Property 'emline_sew', channel='heii_4687', release='2.3.0', unit='Angstrom'>,\n",
       " <Property 'emline_sew', channel='hb_4862', release='2.3.0', unit='Angstrom'>,\n",
       " <Property 'emline_sew', channel='oiii_4960', release='2.3.0', unit='Angstrom'>,\n",
       " <Property 'emline_sew', channel='oiii_5008', release='2.3.0', unit='Angstrom'>,\n",
       " <Property 'emline_sew', channel='hei_5877', release='2.3.0', unit='Angstrom'>,\n",
       " <Property 'emline_sew', channel='oi_6302', release='2.3.0', unit='Angstrom'>,\n",
       " <Property 'emline_sew', channel='oi_6365', release='2.3.0', unit='Angstrom'>,\n",
       " <Property 'emline_sew', channel='nii_6549', release='2.3.0', unit='Angstrom'>,\n",
       " <Property 'emline_sew', channel='ha_6564', release='2.3.0', unit='Angstrom'>,\n",
       " <Property 'emline_sew', channel='nii_6585', release='2.3.0', unit='Angstrom'>,\n",
       " <Property 'emline_sew', channel='sii_6718', release='2.3.0', unit='Angstrom'>,\n",
       " <Property 'emline_sew', channel='sii_6732', release='2.3.0', unit='Angstrom'>,\n",
       " <Property 'emline_sew', channel='hei_3889', release='2.3.0', unit='Angstrom'>,\n",
       " <Property 'emline_sew', channel='ni_5199', release='2.3.0', unit='Angstrom'>,\n",
       " <Property 'emline_sew', channel='ni_5201', release='2.3.0', unit='Angstrom'>,\n",
       " <Property 'emline_gflux', channel='oii_3727', release='2.3.0', unit='1e-17 erg / (cm2 s spaxel)'>,\n",
       " <Property 'emline_gflux', channel='oii_3729', release='2.3.0', unit='1e-17 erg / (cm2 s spaxel)'>,\n",
       " <Property 'emline_gflux', channel='hthe_3798', release='2.3.0', unit='1e-17 erg / (cm2 s spaxel)'>,\n",
       " <Property 'emline_gflux', channel='heta_3836', release='2.3.0', unit='1e-17 erg / (cm2 s spaxel)'>,\n",
       " <Property 'emline_gflux', channel='neiii_3869', release='2.3.0', unit='1e-17 erg / (cm2 s spaxel)'>,\n",
       " <Property 'emline_gflux', channel='hzet_3890', release='2.3.0', unit='1e-17 erg / (cm2 s spaxel)'>,\n",
       " <Property 'emline_gflux', channel='neiii_3968', release='2.3.0', unit='1e-17 erg / (cm2 s spaxel)'>,\n",
       " <Property 'emline_gflux', channel='heps_3971', release='2.3.0', unit='1e-17 erg / (cm2 s spaxel)'>,\n",
       " <Property 'emline_gflux', channel='hdel_4102', release='2.3.0', unit='1e-17 erg / (cm2 s spaxel)'>,\n",
       " <Property 'emline_gflux', channel='hgam_4341', release='2.3.0', unit='1e-17 erg / (cm2 s spaxel)'>,\n",
       " <Property 'emline_gflux', channel='heii_4687', release='2.3.0', unit='1e-17 erg / (cm2 s spaxel)'>,\n",
       " <Property 'emline_gflux', channel='hb_4862', release='2.3.0', unit='1e-17 erg / (cm2 s spaxel)'>,\n",
       " <Property 'emline_gflux', channel='oiii_4960', release='2.3.0', unit='1e-17 erg / (cm2 s spaxel)'>,\n",
       " <Property 'emline_gflux', channel='oiii_5008', release='2.3.0', unit='1e-17 erg / (cm2 s spaxel)'>,\n",
       " <Property 'emline_gflux', channel='hei_5877', release='2.3.0', unit='1e-17 erg / (cm2 s spaxel)'>,\n",
       " <Property 'emline_gflux', channel='oi_6302', release='2.3.0', unit='1e-17 erg / (cm2 s spaxel)'>,\n",
       " <Property 'emline_gflux', channel='oi_6365', release='2.3.0', unit='1e-17 erg / (cm2 s spaxel)'>,\n",
       " <Property 'emline_gflux', channel='nii_6549', release='2.3.0', unit='1e-17 erg / (cm2 s spaxel)'>,\n",
       " <Property 'emline_gflux', channel='ha_6564', release='2.3.0', unit='1e-17 erg / (cm2 s spaxel)'>,\n",
       " <Property 'emline_gflux', channel='nii_6585', release='2.3.0', unit='1e-17 erg / (cm2 s spaxel)'>,\n",
       " <Property 'emline_gflux', channel='sii_6718', release='2.3.0', unit='1e-17 erg / (cm2 s spaxel)'>,\n",
       " <Property 'emline_gflux', channel='sii_6732', release='2.3.0', unit='1e-17 erg / (cm2 s spaxel)'>,\n",
       " <Property 'emline_gflux', channel='hei_3889', release='2.3.0', unit='1e-17 erg / (cm2 s spaxel)'>,\n",
       " <Property 'emline_gflux', channel='ni_5199', release='2.3.0', unit='1e-17 erg / (cm2 s spaxel)'>,\n",
       " <Property 'emline_gflux', channel='ni_5201', release='2.3.0', unit='1e-17 erg / (cm2 s spaxel)'>,\n",
       " <Property 'emline_gvel', channel='oii_3727', release='2.3.0', unit='km / s'>,\n",
       " <Property 'emline_gvel', channel='oii_3729', release='2.3.0', unit='km / s'>,\n",
       " <Property 'emline_gvel', channel='hthe_3798', release='2.3.0', unit='km / s'>,\n",
       " <Property 'emline_gvel', channel='heta_3836', release='2.3.0', unit='km / s'>,\n",
       " <Property 'emline_gvel', channel='neiii_3869', release='2.3.0', unit='km / s'>,\n",
       " <Property 'emline_gvel', channel='hzet_3890', release='2.3.0', unit='km / s'>,\n",
       " <Property 'emline_gvel', channel='neiii_3968', release='2.3.0', unit='km / s'>,\n",
       " <Property 'emline_gvel', channel='heps_3971', release='2.3.0', unit='km / s'>,\n",
       " <Property 'emline_gvel', channel='hdel_4102', release='2.3.0', unit='km / s'>,\n",
       " <Property 'emline_gvel', channel='hgam_4341', release='2.3.0', unit='km / s'>,\n",
       " <Property 'emline_gvel', channel='heii_4687', release='2.3.0', unit='km / s'>,\n",
       " <Property 'emline_gvel', channel='hb_4862', release='2.3.0', unit='km / s'>,\n",
       " <Property 'emline_gvel', channel='oiii_4960', release='2.3.0', unit='km / s'>,\n",
       " <Property 'emline_gvel', channel='oiii_5008', release='2.3.0', unit='km / s'>,\n",
       " <Property 'emline_gvel', channel='hei_5877', release='2.3.0', unit='km / s'>,\n",
       " <Property 'emline_gvel', channel='oi_6302', release='2.3.0', unit='km / s'>,\n",
       " <Property 'emline_gvel', channel='oi_6365', release='2.3.0', unit='km / s'>,\n",
       " <Property 'emline_gvel', channel='nii_6549', release='2.3.0', unit='km / s'>,\n",
       " <Property 'emline_gvel', channel='ha_6564', release='2.3.0', unit='km / s'>,\n",
       " <Property 'emline_gvel', channel='nii_6585', release='2.3.0', unit='km / s'>,\n",
       " <Property 'emline_gvel', channel='sii_6718', release='2.3.0', unit='km / s'>,\n",
       " <Property 'emline_gvel', channel='sii_6732', release='2.3.0', unit='km / s'>,\n",
       " <Property 'emline_gvel', channel='hei_3889', release='2.3.0', unit='km / s'>,\n",
       " <Property 'emline_gvel', channel='ni_5199', release='2.3.0', unit='km / s'>,\n",
       " <Property 'emline_gvel', channel='ni_5201', release='2.3.0', unit='km / s'>,\n",
       " <Property 'emline_gew', channel='oii_3727', release='2.3.0', unit='Angstrom'>,\n",
       " <Property 'emline_gew', channel='oii_3729', release='2.3.0', unit='Angstrom'>,\n",
       " <Property 'emline_gew', channel='hthe_3798', release='2.3.0', unit='Angstrom'>,\n",
       " <Property 'emline_gew', channel='heta_3836', release='2.3.0', unit='Angstrom'>,\n",
       " <Property 'emline_gew', channel='neiii_3869', release='2.3.0', unit='Angstrom'>,\n",
       " <Property 'emline_gew', channel='hzet_3890', release='2.3.0', unit='Angstrom'>,\n",
       " <Property 'emline_gew', channel='neiii_3968', release='2.3.0', unit='Angstrom'>,\n",
       " <Property 'emline_gew', channel='heps_3971', release='2.3.0', unit='Angstrom'>,\n",
       " <Property 'emline_gew', channel='hdel_4102', release='2.3.0', unit='Angstrom'>,\n",
       " <Property 'emline_gew', channel='hgam_4341', release='2.3.0', unit='Angstrom'>,\n",
       " <Property 'emline_gew', channel='heii_4687', release='2.3.0', unit='Angstrom'>,\n",
       " <Property 'emline_gew', channel='hb_4862', release='2.3.0', unit='Angstrom'>,\n",
       " <Property 'emline_gew', channel='oiii_4960', release='2.3.0', unit='Angstrom'>,\n",
       " <Property 'emline_gew', channel='oiii_5008', release='2.3.0', unit='Angstrom'>,\n",
       " <Property 'emline_gew', channel='hei_5877', release='2.3.0', unit='Angstrom'>,\n",
       " <Property 'emline_gew', channel='oi_6302', release='2.3.0', unit='Angstrom'>,\n",
       " <Property 'emline_gew', channel='oi_6365', release='2.3.0', unit='Angstrom'>,\n",
       " <Property 'emline_gew', channel='nii_6549', release='2.3.0', unit='Angstrom'>,\n",
       " <Property 'emline_gew', channel='ha_6564', release='2.3.0', unit='Angstrom'>,\n",
       " <Property 'emline_gew', channel='nii_6585', release='2.3.0', unit='Angstrom'>,\n",
       " <Property 'emline_gew', channel='sii_6718', release='2.3.0', unit='Angstrom'>,\n",
       " <Property 'emline_gew', channel='sii_6732', release='2.3.0', unit='Angstrom'>,\n",
       " <Property 'emline_gew', channel='hei_3889', release='2.3.0', unit='Angstrom'>,\n",
       " <Property 'emline_gew', channel='ni_5199', release='2.3.0', unit='Angstrom'>,\n",
       " <Property 'emline_gew', channel='ni_5201', release='2.3.0', unit='Angstrom'>,\n",
       " <Property 'emline_gsigma', channel='oii_3727', release='2.3.0', unit='km / s'>,\n",
       " <Property 'emline_gsigma', channel='oii_3729', release='2.3.0', unit='km / s'>,\n",
       " <Property 'emline_gsigma', channel='hthe_3798', release='2.3.0', unit='km / s'>,\n",
       " <Property 'emline_gsigma', channel='heta_3836', release='2.3.0', unit='km / s'>,\n",
       " <Property 'emline_gsigma', channel='neiii_3869', release='2.3.0', unit='km / s'>,\n",
       " <Property 'emline_gsigma', channel='hzet_3890', release='2.3.0', unit='km / s'>,\n",
       " <Property 'emline_gsigma', channel='neiii_3968', release='2.3.0', unit='km / s'>,\n",
       " <Property 'emline_gsigma', channel='heps_3971', release='2.3.0', unit='km / s'>,\n",
       " <Property 'emline_gsigma', channel='hdel_4102', release='2.3.0', unit='km / s'>,\n",
       " <Property 'emline_gsigma', channel='hgam_4341', release='2.3.0', unit='km / s'>,\n",
       " <Property 'emline_gsigma', channel='heii_4687', release='2.3.0', unit='km / s'>,\n",
       " <Property 'emline_gsigma', channel='hb_4862', release='2.3.0', unit='km / s'>,\n",
       " <Property 'emline_gsigma', channel='oiii_4960', release='2.3.0', unit='km / s'>,\n",
       " <Property 'emline_gsigma', channel='oiii_5008', release='2.3.0', unit='km / s'>,\n",
       " <Property 'emline_gsigma', channel='hei_5877', release='2.3.0', unit='km / s'>,\n",
       " <Property 'emline_gsigma', channel='oi_6302', release='2.3.0', unit='km / s'>,\n",
       " <Property 'emline_gsigma', channel='oi_6365', release='2.3.0', unit='km / s'>,\n",
       " <Property 'emline_gsigma', channel='nii_6549', release='2.3.0', unit='km / s'>,\n",
       " <Property 'emline_gsigma', channel='ha_6564', release='2.3.0', unit='km / s'>,\n",
       " <Property 'emline_gsigma', channel='nii_6585', release='2.3.0', unit='km / s'>,\n",
       " <Property 'emline_gsigma', channel='sii_6718', release='2.3.0', unit='km / s'>,\n",
       " <Property 'emline_gsigma', channel='sii_6732', release='2.3.0', unit='km / s'>,\n",
       " <Property 'emline_gsigma', channel='hei_3889', release='2.3.0', unit='km / s'>,\n",
       " <Property 'emline_gsigma', channel='ni_5199', release='2.3.0', unit='km / s'>,\n",
       " <Property 'emline_gsigma', channel='ni_5201', release='2.3.0', unit='km / s'>,\n",
       " <Property 'emline_instsigma', channel='oii_3727', release='2.3.0', unit='km / s'>,\n",
       " <Property 'emline_instsigma', channel='oii_3729', release='2.3.0', unit='km / s'>,\n",
       " <Property 'emline_instsigma', channel='hthe_3798', release='2.3.0', unit='km / s'>,\n",
       " <Property 'emline_instsigma', channel='heta_3836', release='2.3.0', unit='km / s'>,\n",
       " <Property 'emline_instsigma', channel='neiii_3869', release='2.3.0', unit='km / s'>,\n",
       " <Property 'emline_instsigma', channel='hzet_3890', release='2.3.0', unit='km / s'>,\n",
       " <Property 'emline_instsigma', channel='neiii_3968', release='2.3.0', unit='km / s'>,\n",
       " <Property 'emline_instsigma', channel='heps_3971', release='2.3.0', unit='km / s'>,\n",
       " <Property 'emline_instsigma', channel='hdel_4102', release='2.3.0', unit='km / s'>,\n",
       " <Property 'emline_instsigma', channel='hgam_4341', release='2.3.0', unit='km / s'>,\n",
       " <Property 'emline_instsigma', channel='heii_4687', release='2.3.0', unit='km / s'>,\n",
       " <Property 'emline_instsigma', channel='hb_4862', release='2.3.0', unit='km / s'>,\n",
       " <Property 'emline_instsigma', channel='oiii_4960', release='2.3.0', unit='km / s'>,\n",
       " <Property 'emline_instsigma', channel='oiii_5008', release='2.3.0', unit='km / s'>,\n",
       " <Property 'emline_instsigma', channel='hei_5877', release='2.3.0', unit='km / s'>,\n",
       " <Property 'emline_instsigma', channel='oi_6302', release='2.3.0', unit='km / s'>,\n",
       " <Property 'emline_instsigma', channel='oi_6365', release='2.3.0', unit='km / s'>,\n",
       " <Property 'emline_instsigma', channel='nii_6549', release='2.3.0', unit='km / s'>,\n",
       " <Property 'emline_instsigma', channel='ha_6564', release='2.3.0', unit='km / s'>,\n",
       " <Property 'emline_instsigma', channel='nii_6585', release='2.3.0', unit='km / s'>,\n",
       " <Property 'emline_instsigma', channel='sii_6718', release='2.3.0', unit='km / s'>,\n",
       " <Property 'emline_instsigma', channel='sii_6732', release='2.3.0', unit='km / s'>,\n",
       " <Property 'emline_instsigma', channel='hei_3889', release='2.3.0', unit='km / s'>,\n",
       " <Property 'emline_instsigma', channel='ni_5199', release='2.3.0', unit='km / s'>,\n",
       " <Property 'emline_instsigma', channel='ni_5201', release='2.3.0', unit='km / s'>,\n",
       " <Property 'emline_tplsigma', channel='oii_3727', release='2.3.0', unit='km / s'>,\n",
       " <Property 'emline_tplsigma', channel='oii_3729', release='2.3.0', unit='km / s'>,\n",
       " <Property 'emline_tplsigma', channel='hthe_3798', release='2.3.0', unit='km / s'>,\n",
       " <Property 'emline_tplsigma', channel='heta_3836', release='2.3.0', unit='km / s'>,\n",
       " <Property 'emline_tplsigma', channel='neiii_3869', release='2.3.0', unit='km / s'>,\n",
       " <Property 'emline_tplsigma', channel='hzet_3890', release='2.3.0', unit='km / s'>,\n",
       " <Property 'emline_tplsigma', channel='neiii_3968', release='2.3.0', unit='km / s'>,\n",
       " <Property 'emline_tplsigma', channel='heps_3971', release='2.3.0', unit='km / s'>,\n",
       " <Property 'emline_tplsigma', channel='hdel_4102', release='2.3.0', unit='km / s'>,\n",
       " <Property 'emline_tplsigma', channel='hgam_4341', release='2.3.0', unit='km / s'>,\n",
       " <Property 'emline_tplsigma', channel='heii_4687', release='2.3.0', unit='km / s'>,\n",
       " <Property 'emline_tplsigma', channel='hb_4862', release='2.3.0', unit='km / s'>,\n",
       " <Property 'emline_tplsigma', channel='oiii_4960', release='2.3.0', unit='km / s'>,\n",
       " <Property 'emline_tplsigma', channel='oiii_5008', release='2.3.0', unit='km / s'>,\n",
       " <Property 'emline_tplsigma', channel='hei_5877', release='2.3.0', unit='km / s'>,\n",
       " <Property 'emline_tplsigma', channel='oi_6302', release='2.3.0', unit='km / s'>,\n",
       " <Property 'emline_tplsigma', channel='oi_6365', release='2.3.0', unit='km / s'>,\n",
       " <Property 'emline_tplsigma', channel='nii_6549', release='2.3.0', unit='km / s'>,\n",
       " <Property 'emline_tplsigma', channel='ha_6564', release='2.3.0', unit='km / s'>,\n",
       " <Property 'emline_tplsigma', channel='nii_6585', release='2.3.0', unit='km / s'>,\n",
       " <Property 'emline_tplsigma', channel='sii_6718', release='2.3.0', unit='km / s'>,\n",
       " <Property 'emline_tplsigma', channel='sii_6732', release='2.3.0', unit='km / s'>,\n",
       " <Property 'emline_tplsigma', channel='hei_3889', release='2.3.0', unit='km / s'>,\n",
       " <Property 'emline_tplsigma', channel='ni_5199', release='2.3.0', unit='km / s'>,\n",
       " <Property 'emline_tplsigma', channel='ni_5201', release='2.3.0', unit='km / s'>,\n",
       " <Property 'emline_ga', channel='oii_3727', release='2.3.0', unit='1e-17 erg / (Angstrom cm2 s spaxel)'>,\n",
       " <Property 'emline_ga', channel='oii_3729', release='2.3.0', unit='1e-17 erg / (Angstrom cm2 s spaxel)'>,\n",
       " <Property 'emline_ga', channel='hthe_3798', release='2.3.0', unit='1e-17 erg / (Angstrom cm2 s spaxel)'>,\n",
       " <Property 'emline_ga', channel='heta_3836', release='2.3.0', unit='1e-17 erg / (Angstrom cm2 s spaxel)'>,\n",
       " <Property 'emline_ga', channel='neiii_3869', release='2.3.0', unit='1e-17 erg / (Angstrom cm2 s spaxel)'>,\n",
       " <Property 'emline_ga', channel='hzet_3890', release='2.3.0', unit='1e-17 erg / (Angstrom cm2 s spaxel)'>,\n",
       " <Property 'emline_ga', channel='neiii_3968', release='2.3.0', unit='1e-17 erg / (Angstrom cm2 s spaxel)'>,\n",
       " <Property 'emline_ga', channel='heps_3971', release='2.3.0', unit='1e-17 erg / (Angstrom cm2 s spaxel)'>,\n",
       " <Property 'emline_ga', channel='hdel_4102', release='2.3.0', unit='1e-17 erg / (Angstrom cm2 s spaxel)'>,\n",
       " <Property 'emline_ga', channel='hgam_4341', release='2.3.0', unit='1e-17 erg / (Angstrom cm2 s spaxel)'>,\n",
       " <Property 'emline_ga', channel='heii_4687', release='2.3.0', unit='1e-17 erg / (Angstrom cm2 s spaxel)'>,\n",
       " <Property 'emline_ga', channel='hb_4862', release='2.3.0', unit='1e-17 erg / (Angstrom cm2 s spaxel)'>,\n",
       " <Property 'emline_ga', channel='oiii_4960', release='2.3.0', unit='1e-17 erg / (Angstrom cm2 s spaxel)'>,\n",
       " <Property 'emline_ga', channel='oiii_5008', release='2.3.0', unit='1e-17 erg / (Angstrom cm2 s spaxel)'>,\n",
       " <Property 'emline_ga', channel='hei_5877', release='2.3.0', unit='1e-17 erg / (Angstrom cm2 s spaxel)'>,\n",
       " <Property 'emline_ga', channel='oi_6302', release='2.3.0', unit='1e-17 erg / (Angstrom cm2 s spaxel)'>,\n",
       " <Property 'emline_ga', channel='oi_6365', release='2.3.0', unit='1e-17 erg / (Angstrom cm2 s spaxel)'>,\n",
       " <Property 'emline_ga', channel='nii_6549', release='2.3.0', unit='1e-17 erg / (Angstrom cm2 s spaxel)'>,\n",
       " <Property 'emline_ga', channel='ha_6564', release='2.3.0', unit='1e-17 erg / (Angstrom cm2 s spaxel)'>,\n",
       " <Property 'emline_ga', channel='nii_6585', release='2.3.0', unit='1e-17 erg / (Angstrom cm2 s spaxel)'>,\n",
       " <Property 'emline_ga', channel='sii_6718', release='2.3.0', unit='1e-17 erg / (Angstrom cm2 s spaxel)'>,\n",
       " <Property 'emline_ga', channel='sii_6732', release='2.3.0', unit='1e-17 erg / (Angstrom cm2 s spaxel)'>,\n",
       " <Property 'emline_ga', channel='hei_3889', release='2.3.0', unit='1e-17 erg / (Angstrom cm2 s spaxel)'>,\n",
       " <Property 'emline_ga', channel='ni_5199', release='2.3.0', unit='1e-17 erg / (Angstrom cm2 s spaxel)'>,\n",
       " <Property 'emline_ga', channel='ni_5201', release='2.3.0', unit='1e-17 erg / (Angstrom cm2 s spaxel)'>,\n",
       " <Property 'emline_ganr', channel='oii_3727', release='2.3.0', unit=''>,\n",
       " <Property 'emline_ganr', channel='oii_3729', release='2.3.0', unit=''>,\n",
       " <Property 'emline_ganr', channel='hthe_3798', release='2.3.0', unit=''>,\n",
       " <Property 'emline_ganr', channel='heta_3836', release='2.3.0', unit=''>,\n",
       " <Property 'emline_ganr', channel='neiii_3869', release='2.3.0', unit=''>,\n",
       " <Property 'emline_ganr', channel='hzet_3890', release='2.3.0', unit=''>,\n",
       " <Property 'emline_ganr', channel='neiii_3968', release='2.3.0', unit=''>,\n",
       " <Property 'emline_ganr', channel='heps_3971', release='2.3.0', unit=''>,\n",
       " <Property 'emline_ganr', channel='hdel_4102', release='2.3.0', unit=''>,\n",
       " <Property 'emline_ganr', channel='hgam_4341', release='2.3.0', unit=''>,\n",
       " <Property 'emline_ganr', channel='heii_4687', release='2.3.0', unit=''>,\n",
       " <Property 'emline_ganr', channel='hb_4862', release='2.3.0', unit=''>,\n",
       " <Property 'emline_ganr', channel='oiii_4960', release='2.3.0', unit=''>,\n",
       " <Property 'emline_ganr', channel='oiii_5008', release='2.3.0', unit=''>,\n",
       " <Property 'emline_ganr', channel='hei_5877', release='2.3.0', unit=''>,\n",
       " <Property 'emline_ganr', channel='oi_6302', release='2.3.0', unit=''>,\n",
       " <Property 'emline_ganr', channel='oi_6365', release='2.3.0', unit=''>,\n",
       " <Property 'emline_ganr', channel='nii_6549', release='2.3.0', unit=''>,\n",
       " <Property 'emline_ganr', channel='ha_6564', release='2.3.0', unit=''>,\n",
       " <Property 'emline_ganr', channel='nii_6585', release='2.3.0', unit=''>,\n",
       " <Property 'emline_ganr', channel='sii_6718', release='2.3.0', unit=''>,\n",
       " <Property 'emline_ganr', channel='sii_6732', release='2.3.0', unit=''>,\n",
       " <Property 'emline_ganr', channel='hei_3889', release='2.3.0', unit=''>,\n",
       " <Property 'emline_ganr', channel='ni_5199', release='2.3.0', unit=''>,\n",
       " <Property 'emline_ganr', channel='ni_5201', release='2.3.0', unit=''>,\n",
       " <Property 'emline_lfom', channel='oii_3727', release='2.3.0', unit=''>,\n",
       " <Property 'emline_lfom', channel='oii_3729', release='2.3.0', unit=''>,\n",
       " <Property 'emline_lfom', channel='hthe_3798', release='2.3.0', unit=''>,\n",
       " <Property 'emline_lfom', channel='heta_3836', release='2.3.0', unit=''>,\n",
       " <Property 'emline_lfom', channel='neiii_3869', release='2.3.0', unit=''>,\n",
       " <Property 'emline_lfom', channel='hzet_3890', release='2.3.0', unit=''>,\n",
       " <Property 'emline_lfom', channel='neiii_3968', release='2.3.0', unit=''>,\n",
       " <Property 'emline_lfom', channel='heps_3971', release='2.3.0', unit=''>,\n",
       " <Property 'emline_lfom', channel='hdel_4102', release='2.3.0', unit=''>,\n",
       " <Property 'emline_lfom', channel='hgam_4341', release='2.3.0', unit=''>,\n",
       " <Property 'emline_lfom', channel='heii_4687', release='2.3.0', unit=''>,\n",
       " <Property 'emline_lfom', channel='hb_4862', release='2.3.0', unit=''>,\n",
       " <Property 'emline_lfom', channel='oiii_4960', release='2.3.0', unit=''>,\n",
       " <Property 'emline_lfom', channel='oiii_5008', release='2.3.0', unit=''>,\n",
       " <Property 'emline_lfom', channel='hei_5877', release='2.3.0', unit=''>,\n",
       " <Property 'emline_lfom', channel='oi_6302', release='2.3.0', unit=''>,\n",
       " <Property 'emline_lfom', channel='oi_6365', release='2.3.0', unit=''>,\n",
       " <Property 'emline_lfom', channel='nii_6549', release='2.3.0', unit=''>,\n",
       " <Property 'emline_lfom', channel='ha_6564', release='2.3.0', unit=''>,\n",
       " <Property 'emline_lfom', channel='nii_6585', release='2.3.0', unit=''>,\n",
       " <Property 'emline_lfom', channel='sii_6718', release='2.3.0', unit=''>,\n",
       " <Property 'emline_lfom', channel='sii_6732', release='2.3.0', unit=''>,\n",
       " <Property 'emline_lfom', channel='hei_3889', release='2.3.0', unit=''>,\n",
       " <Property 'emline_lfom', channel='ni_5199', release='2.3.0', unit=''>,\n",
       " <Property 'emline_lfom', channel='ni_5201', release='2.3.0', unit=''>,\n",
       " <Property 'emline_fom', channel='rms', release='2.3.0', unit=''>,\n",
       " <Property 'emline_fom', channel='frms', release='2.3.0', unit=''>,\n",
       " <Property 'emline_fom', channel='rchi2', release='2.3.0', unit=''>,\n",
       " <Property 'emline_fom', channel='fresid_68th_percentile', release='2.3.0', unit=''>,\n",
       " <Property 'emline_fom', channel='fresid_99th_percentile', release='2.3.0', unit=''>,\n",
       " <Property 'emline_fom', channel='fresid_max', release='2.3.0', unit=''>,\n",
       " <Property 'emline_fom', channel='per_pix_chi_68th_percentile', release='2.3.0', unit=''>,\n",
       " <Property 'emline_fom', channel='per_pix_chi_99th_percentile', release='2.3.0', unit=''>,\n",
       " <Property 'emline_fom', channel='per_pix_chi_max', release='2.3.0', unit=''>,\n",
       " <Property 'stellar_fom', channel='rms', release='2.3.0', unit=''>,\n",
       " <Property 'stellar_fom', channel='frms', release='2.3.0', unit=''>,\n",
       " <Property 'stellar_fom', channel='rchi2', release='2.3.0', unit=''>,\n",
       " <Property 'stellar_fom', channel='fresid_68th_percentile', release='2.3.0', unit=''>,\n",
       " <Property 'stellar_fom', channel='fresid_99th_percentile', release='2.3.0', unit=''>,\n",
       " <Property 'stellar_fom', channel='fresid_max', release='2.3.0', unit=''>,\n",
       " <Property 'stellar_fom', channel='per_pix_chi_68th_percentile', release='2.3.0', unit=''>,\n",
       " <Property 'stellar_fom', channel='per_pix_chi_99th_percentile', release='2.3.0', unit=''>,\n",
       " <Property 'stellar_fom', channel='per_pix_chi_max', release='2.3.0', unit=''>,\n",
       " <Property 'stellar_sigmacorr', channel='resolution_difference', release='2.3.0', unit='km / s'>,\n",
       " <Property 'stellar_sigmacorr', channel='fit', release='2.3.0', unit='km / s'>]"
      ]
     },
     "execution_count": 22,
     "metadata": {},
     "output_type": "execute_result"
    }
   ],
   "source": [
    "hyb_maps.datamodel"
   ]
  },
  {
   "cell_type": "markdown",
   "metadata": {},
   "source": [
    "Note that some properties such as 'spx_skycoo' have multiple channels (in this case the on-sky x and y coordinates). We can get more information about a property"
   ]
  },
  {
   "cell_type": "code",
   "execution_count": 23,
   "metadata": {},
   "outputs": [
    {
     "data": {
      "text/plain": [
       "'Offsets of each spaxel from the galaxy center. Channel = On-sky X.'"
      ]
     },
     "execution_count": 23,
     "metadata": {},
     "output_type": "execute_result"
    }
   ],
   "source": [
    "hyb_maps.datamodel.spx_skycoo_on_sky_x.description"
   ]
  },
  {
   "cell_type": "code",
   "execution_count": 24,
   "metadata": {},
   "outputs": [
    {
     "data": {
      "text/plain": [
       "'Offsets of each spaxel from the galaxy center. Channel = On-sky Y.'"
      ]
     },
     "execution_count": 24,
     "metadata": {},
     "output_type": "execute_result"
    }
   ],
   "source": [
    "hyb_maps.datamodel.spx_skycoo_on_sky_y.description"
   ]
  },
  {
   "cell_type": "markdown",
   "metadata": {},
   "source": [
    "See the datamodel section for more information on how to use this feature. We can retrieve the map associated to a specific property directly from the Maps instance. For example, let’s get the H 𝛼 emission line flux (fitted by a Gaussian) from a Maps file"
   ]
  },
  {
   "cell_type": "code",
   "execution_count": 25,
   "metadata": {},
   "outputs": [],
   "source": [
    "ha = hyb_maps.emline_gflux_ha_6564"
   ]
  },
  {
   "cell_type": "code",
   "execution_count": 26,
   "metadata": {},
   "outputs": [
    {
     "data": {
      "text/latex": [
       "$[[0,~0,~0,~\\dots,~0,~0,~0],~\n",
       " [0,~0,~0,~\\dots,~0,~0,~0],~\n",
       " [0,~0,~0,~\\dots,~0,~0,~0],~\n",
       " \\dots,~\n",
       " [0,~0,~0,~\\dots,~0,~0,~0],~\n",
       " [0,~0,~0,~\\dots,~0,~0,~0],~\n",
       " [0,~0,~0,~\\dots,~0,~0,~0]] \\; \\mathrm{1 \\times 10^{-17}\\,\\frac{erg}{s\\,spaxel\\,cm^{2}}}$"
      ],
      "text/plain": [
       "<Marvin Map (property='emline_gflux_ha_6564')>\n",
       "[[0. 0. 0. ... 0. 0. 0.]\n",
       " [0. 0. 0. ... 0. 0. 0.]\n",
       " [0. 0. 0. ... 0. 0. 0.]\n",
       " ...\n",
       " [0. 0. 0. ... 0. 0. 0.]\n",
       " [0. 0. 0. ... 0. 0. 0.]\n",
       " [0. 0. 0. ... 0. 0. 0.]] 1e-17 erg / (cm2 s spaxel)"
      ]
     },
     "execution_count": 26,
     "metadata": {},
     "output_type": "execute_result"
    }
   ],
   "source": [
    "ha"
   ]
  },
  {
   "cell_type": "markdown",
   "metadata": {},
   "source": [
    "Map quantities are similar to DataCube but wrap a 2D array. We can plot the Map as"
   ]
  },
  {
   "cell_type": "code",
   "execution_count": 27,
   "metadata": {},
   "outputs": [
    {
     "name": "stderr",
     "output_type": "stream",
     "text": [
      "/usr/local/lib/python3.7/dist-packages/matplotlib/image.py:395: UserWarning: Warning: converting a masked element to nan.\n",
      "  dv = (np.float64(self.norm.vmax) -\n",
      "/usr/local/lib/python3.7/dist-packages/matplotlib/colors.py:918: UserWarning: Warning: converting a masked element to nan.\n",
      "  dtype = np.min_scalar_type(value)\n",
      "/usr/lib/python3/dist-packages/numpy/ma/core.py:713: UserWarning: Warning: converting a masked element to nan.\n",
      "  data = np.array(a, copy=False, subok=subok)\n"
     ]
    },
    {
     "data": {
      "image/png": "[encoded data removed]",
      "text/plain": [
       "<Figure size 432x288 with 2 Axes>"
      ]
     },
     "metadata": {},
     "output_type": "display_data"
    }
   ],
   "source": [
    "fig, ax = ha.plot()"
   ]
  },
  {
   "cell_type": "markdown",
   "metadata": {},
   "source": [
    "Note that the [`plot`](https://sdss-marvin.readthedocs.io/en/latest/reference/quantities.html#marvin.tools.quantities.map.Map.plot) method returns the matplotlib [`Figure`](https://matplotlib.org/api/_as_gen/matplotlib.figure.Figure.html#matplotlib.figure.Figure) and [`Axes`](https://matplotlib.org/api/axes_api.html#matplotlib.axes.Axes) for the plot. We can use those to modify or save the plot. Marvin plotting routines try to select the best parameters, colour maps, and dynamic ranges. You can modify those by passing extra arguments to [`plot`](https://sdss-marvin.readthedocs.io/en/latest/reference/quantities.html#marvin.tools.quantities.map.Map.plot). You can learn more in the [Map plotting](https://sdss-marvin.readthedocs.io/en/latest/tools/utils/plot-map.html#marvin-utils-plot-map) section. We will talk about the [`Map`](https://sdss-marvin.readthedocs.io/en/latest/reference/quantities.html#marvin.tools.quantities.map.Map) class in detail in [Working with Astropy Quantities](https://sdss-marvin.readthedocs.io/en/latest/getting-started.html#marvin-quantities) and in [Map](https://sdss-marvin.readthedocs.io/en/latest/tools/map.html#marvin-map)."
   ]
  },
  {
   "cell_type": "markdown",
   "metadata": {},
   "source": [
    "Let’s take a step back and go back to hyb_maps, our Maps instance. We can access the targeting bits for that galaxy (for an introduction to maskbits check this page)"
   ]
  },
  {
   "cell_type": "code",
   "execution_count": 28,
   "metadata": {},
   "outputs": [
    {
     "data": {
      "text/plain": [
       "[<Maskbit 'MANGA_TARGET1' ['PRIMARY_v1_2_0']>,\n",
       " <Maskbit 'MANGA_TARGET2' []>,\n",
       " <Maskbit 'MANGA_TARGET3' []>]"
      ]
     },
     "execution_count": 28,
     "metadata": {},
     "output_type": "execute_result"
    }
   ],
   "source": [
    "hyb_maps.target_flags"
   ]
  },
  {
   "cell_type": "markdown",
   "metadata": {},
   "source": [
    "Note that in this case the galaxy belongs to the primary sample from the final target selection (PRIMARY_v1_2_0) as well as to the primary and colour enhanced samples from several commissioning target selections. The galaxy does not have any ancillary bit (manga_target3).\n",
    "Similarly, we can access quality flags, which indicate us if there is something we need to know about the data"
   ]
  },
  {
   "cell_type": "code",
   "execution_count": 29,
   "metadata": {},
   "outputs": [
    {
     "data": {
      "text/plain": [
       "<Maskbit 'MANGA_DAPQUAL' []>"
      ]
     },
     "execution_count": 29,
     "metadata": {},
     "output_type": "execute_result"
    }
   ],
   "source": [
    "hyb_maps.quality_flag"
   ]
  },
  {
   "cell_type": "markdown",
   "metadata": {},
   "source": [
    "In this case the `MANGA_DAPQUAL` maskbit does not have any bit activated, which means the data is safe to use. See the [Maskbits](https://sdss-marvin.readthedocs.io/en/latest/reference/utils.html#marvin-utils-maskbit) section for more information.\n",
    "\n",
    "For each target we can also access additional catalogue data: the associated parameters from the [NASA Sloan Atlas](http://nsatlas.org/), and the [DAPall](https://testng.sdss.org/dr15/manga/manga-data/catalogs/#DAPALLFile) file"
   ]
  },
  {
   "cell_type": "code",
   "execution_count": 30,
   "metadata": {},
   "outputs": [
    {
     "data": {
      "text/plain": [
       "{'iauname': 'J143607.49+494313.2',\n",
       " 'field': 92,\n",
       " 'run': 3180,\n",
       " 'camcol': 3,\n",
       " 'version': 'v1_0_1',\n",
       " 'nsaid': 209150,\n",
       " 'nsaid_v1b': -999,\n",
       " 'z': 0.125351,\n",
       " 'zdist': 0.125734,\n",
       " 'sersic_absmag': [-14.7289,\n",
       "  -17.2523,\n",
       "  -19.9365,\n",
       "  -21.7668,\n",
       "  -22.7967,\n",
       "  -23.1481,\n",
       "  -23.3881],\n",
       " 'elpetro_absmag': [-15.231,\n",
       "  -16.8879,\n",
       "  -20.4775,\n",
       "  -21.9938,\n",
       "  -22.7939,\n",
       "  -23.18,\n",
       "  -23.4998],\n",
       " 'elpetro_amivar': [0.00295919,\n",
       "  0.245976,\n",
       "  66.0908,\n",
       "  1526.25,\n",
       "  2275.19,\n",
       "  2292.13,\n",
       "  875.712],\n",
       " 'sersic_mass': 182299000000.0,\n",
       " 'elpetro_mass': 189525000000.0,\n",
       " 'elpetro_ba': 0.824142,\n",
       " 'elpetro_phi': 164.0,\n",
       " 'extinction': [0.193361,\n",
       "  0.190796,\n",
       "  0.120239,\n",
       "  0.0884705,\n",
       "  0.0641662,\n",
       "  0.0486553,\n",
       "  0.0344972],\n",
       " 'elpetro_th50_r': 5.9923,\n",
       " 'petro_th50': 5.98512,\n",
       " 'petro_flux': [0.753768,\n",
       "  1.42818,\n",
       "  70.6643,\n",
       "  249.172,\n",
       "  652.948,\n",
       "  1003.05,\n",
       "  1209.18],\n",
       " 'petro_flux_ivar': [0.0109842,\n",
       "  0.0617021,\n",
       "  0.0258123,\n",
       "  0.0606823,\n",
       "  0.0615077,\n",
       "  0.0264026,\n",
       "  0.00203526],\n",
       " 'elpetro_flux': [0.521104,\n",
       "  2.02288,\n",
       "  53.7041,\n",
       "  235.964,\n",
       "  628.345,\n",
       "  970.91,\n",
       "  1391.64],\n",
       " 'elpetro_flux_ivar': [0.0128462,\n",
       "  0.0708881,\n",
       "  0.0323599,\n",
       "  0.0829608,\n",
       "  0.0755415,\n",
       "  0.0344722,\n",
       "  0.00251598],\n",
       " 'sersic_ba': 0.765588,\n",
       " 'sersic_n': 6.0,\n",
       " 'sersic_phi': 167.245,\n",
       " 'sersic_th50': 3.6909,\n",
       " 'sersic_flux': [-0.161424,\n",
       "  2.05061,\n",
       "  29.6467,\n",
       "  183.373,\n",
       "  609.17,\n",
       "  919.55,\n",
       "  1220.27],\n",
       " 'sersic_flux_ivar': [0.142761,\n",
       "  0.626496,\n",
       "  0.634408,\n",
       "  0.703063,\n",
       "  0.297888,\n",
       "  0.137289,\n",
       "  0.0209831]}"
      ]
     },
     "execution_count": 30,
     "metadata": {},
     "output_type": "execute_result"
    }
   ],
   "source": [
    "hyb_maps.nsa"
   ]
  },
  {
   "cell_type": "code",
   "execution_count": 31,
   "metadata": {},
   "outputs": [],
   "source": [
    "# hyb_maps.dapall"
   ]
  },
  {
   "cell_type": "markdown",
   "metadata": {},
   "source": [
    "The NSA and DAPall catalogues are implemented as mixins via NSAMixIn and DAPAllMixIn, respectively.\n",
    "\n",
    "While Marvin allows you to access data remotely, frequently you will find that you want to download the file associated to an object so that you can access it more quickly in the future. We can do that using the MarvinToolsClass.download method. Let’s try to load a cube that we know we do not have in out hard drive"
   ]
  },
  {
   "cell_type": "code",
   "execution_count": 32,
   "metadata": {},
   "outputs": [],
   "source": [
    "# hyb_maps.download()"
   ]
  },
  {
   "cell_type": "code",
   "execution_count": 33,
   "metadata": {},
   "outputs": [],
   "source": [
    "# hyb_maps = marvin.tools.Maps(\"8595-6101\")\n",
    "# hyb_maps\n",
    "# hyb_maps.datamodel\n",
    "# ok"
   ]
  },
  {
   "cell_type": "code",
   "execution_count": 34,
   "metadata": {},
   "outputs": [
    {
     "data": {
      "text/plain": [
       "<Marvin Maps (plateifu='8595-6101', mode='local', data_origin='file', bintype='HYB10', template='MILESHC-MILESHC')>"
      ]
     },
     "execution_count": 34,
     "metadata": {},
     "output_type": "execute_result"
    }
   ],
   "source": [
    "# Not fitspath!!!!!!!!!!!!!!!!!!!!!!!!!!!!!!!!!!!!\n",
    "# hyb_maps = marvin.tools.Maps(filename=fitspath)\n",
    "\n",
    "\n",
    "# hyb10path = \"/home/anything/sas/mangawork/manga/spectro/analysis/v2_5_3/2.3.0/HYB10-MILESHC-MILESHC/8595/6101/manga-8595-6101-MAPS-HYB10-MILESHC-MILESHC.fits.gz\"\n",
    "\n",
    "# or:\n",
    "hyb10path = \"../8595_6101/manga-8595-6101-MAPS-HYB10-MILESHC-MILESHC.fits.gz\"\n",
    "# so now you know what are MAPs\n",
    "\n",
    "# manga-8595-6101-MAPS-HYB10-MILESHC-MILESHC.fits.gz\n",
    "\n",
    "\n",
    "hyb_map = marvin.tools.Maps(filename = hyb10path)\n",
    "hyb_maps"
   ]
  },
  {
   "cell_type": "markdown",
   "metadata": {},
   "source": [
    "Finally, we can extract one or more Spaxel object from a Galaxy Tool. We can either use the standard array slicing notation (0-indexed, origin of coordinates in the lower left corner of the array)"
   ]
  },
  {
   "cell_type": "code",
   "execution_count": 35,
   "metadata": {},
   "outputs": [
    {
     "data": {
      "text/plain": [
       "<Marvin Spaxel (plateifu=8595-6101, x=10, y=15; x_cen=-17, y_cen=-12, loaded=cube)>"
      ]
     },
     "execution_count": 35,
     "metadata": {},
     "output_type": "execute_result"
    }
   ],
   "source": [
    "spaxel = my_cube[15, 10]\n",
    "spaxel"
   ]
  },
  {
   "cell_type": "markdown",
   "metadata": {},
   "source": [
    "or we can use getSpaxel, which accepts multiple arguments (refer to the method’s documentation). Note that by default, (x, y) coordinates passed to getSpaxel are measured from the centre of the array"
   ]
  },
  {
   "cell_type": "code",
   "execution_count": 36,
   "metadata": {},
   "outputs": [
    {
     "data": {
      "text/plain": [
       "<Marvin Spaxel (plateifu=8595-6101, x=27, y=27; x_cen=0, y_cen=0, loaded=cube)>"
      ]
     },
     "execution_count": 36,
     "metadata": {},
     "output_type": "execute_result"
    }
   ],
   "source": [
    "central_spaxel = my_cube.getSpaxel(x=0, y=0)\n",
    "central_spaxel"
   ]
  },
  {
   "cell_type": "markdown",
   "metadata": {},
   "source": [
    "Spaxel and Bin will be treated in detail in the marvin–subregion-tools section."
   ]
  },
  {
   "cell_type": "markdown",
   "metadata": {},
   "source": [
    "## Working with Astropy Quantities\n",
    "Marvin presents scientific data in the form of [Astropy Quantities](http://docs.astropy.org/en/stable/units/quantity.html#quantity). A Quantity is essentially a number with an associated physical unit. In Marvin we expand on that concept and extend the Quantities with a mask, an inverse variance ([why do we use ivar in MaNGA?](https://www.sdss.org/manga/manga-tutorials/manga-faq/#WhydoyououtputIVAR(inversevariance)insteadoferrors?)) and, when relevant, the associated wavelength. Marvin Quantities also provide useful methods to, for instance, calculate the SNR or plot the value. Marvin provides Quantities for 1D ([`Spectrum`](https://sdss-marvin.readthedocs.io/en/latest/reference/quantities.html#marvin.tools.quantities.spectrum.Spectrum), [`AnalysisProperty`](https://sdss-marvin.readthedocs.io/en/latest/reference/quantities.html#marvin.tools.quantities.analysis_props.AnalysisProperty)), 2D ([`Map`](https://sdss-marvin.readthedocs.io/en/latest/reference/quantities.html#marvin.tools.quantities.map.Map)), and 3D data ([`DataCube`](https://sdss-marvin.readthedocs.io/en/latest/reference/quantities.html#marvin.tools.quantities.datacube.DataCube)).\n",
    "\n",
    "All Quantities behave similarly. Let’s start by getting a datacube (3D Quantity) from a [`Cube`](https://sdss-marvin.readthedocs.io/en/latest/reference/tools.html#marvin.tools.cube.Cube) object"
   ]
  },
  {
   "cell_type": "code",
   "execution_count": 37,
   "metadata": {},
   "outputs": [
    {
     "data": {
      "text/latex": [
       "$[3621.596,~3622.43,~3623.2642,~\\dots,~10349.038,~10351.422,~10353.805] \\; \\mathrm{\\mathring{A}}$"
      ],
      "text/plain": [
       "<Quantity [ 3621.59598486,  3622.42998417,  3623.26417553, ...,\n",
       "           10349.03843826, 10351.42166679, 10353.80544415] Angstrom>"
      ]
     },
     "execution_count": 37,
     "metadata": {},
     "output_type": "execute_result"
    }
   ],
   "source": [
    "flux.wavelength"
   ]
  },
  {
   "cell_type": "code",
   "execution_count": 38,
   "metadata": {},
   "outputs": [
    {
     "data": {
      "text/latex": [
       "$\\mathrm{1 \\times 10^{-17}\\,\\frac{erg}{\\mathring{A}\\,s\\,spaxel\\,cm^{2}}}$"
      ],
      "text/plain": [
       "Unit(\"1e-17 erg / (Angstrom cm2 s spaxel)\")"
      ]
     },
     "execution_count": 38,
     "metadata": {},
     "output_type": "execute_result"
    }
   ],
   "source": [
    "flux_section = flux[1000:2000, 15:20, 15:20]\n",
    "flux_section;\n",
    "flux_section.value;\n",
    "flux_section.unit\n",
    "# flux_section.unit.scale"
   ]
  },
  {
   "cell_type": "markdown",
   "metadata": {},
   "source": [
    "It’s important to pay attention to the scale to convert to physical units. If you prefer to have the scale included in the value you can use the descale method"
   ]
  },
  {
   "cell_type": "code",
   "execution_count": 39,
   "metadata": {},
   "outputs": [
    {
     "data": {
      "text/plain": [
       "0.032087475"
      ]
     },
     "execution_count": 39,
     "metadata": {},
     "output_type": "execute_result"
    }
   ],
   "source": [
    "flux.value[1000, 15, 15]"
   ]
  },
  {
   "cell_type": "code",
   "execution_count": 40,
   "metadata": {},
   "outputs": [
    {
     "name": "stderr",
     "output_type": "stream",
     "text": [
      "/usr/local/lib/python3.7/dist-packages/marvin/tools/quantities/base_quantity.py:202: RuntimeWarning: overflow encountered in true_divide\n",
      "  ivar_descaled = self.ivar / (self.unit.scale ** 2)\n"
     ]
    },
    {
     "data": {
      "text/plain": [
       "3.2087473e-19"
      ]
     },
     "execution_count": 40,
     "metadata": {},
     "output_type": "execute_result"
    }
   ],
   "source": [
    "descaled = flux.descale();\n",
    "descaled.value[1000, 15, 15]"
   ]
  },
  {
   "cell_type": "markdown",
   "metadata": {},
   "source": [
    "We can also access the associated inverse variance or convert it to error, as well as compute the signal-to-noise ratio\n",
    "variance 的导数，即 $\\frac{1}{\\sigma^2}$"
   ]
  },
  {
   "cell_type": "code",
   "execution_count": 41,
   "metadata": {},
   "outputs": [
    {
     "data": {
      "text/plain": [
       "6363.267"
      ]
     },
     "execution_count": 41,
     "metadata": {},
     "output_type": "execute_result"
    }
   ],
   "source": [
    "# \n",
    "flux.ivar[1000, 15, 15]"
   ]
  },
  {
   "cell_type": "code",
   "execution_count": 42,
   "metadata": {},
   "outputs": [
    {
     "data": {
      "text/plain": [
       "0.012536027229258324"
      ]
     },
     "execution_count": 42,
     "metadata": {},
     "output_type": "execute_result"
    }
   ],
   "source": [
    "(1/6363.267)**0.5 # 标准差"
   ]
  },
  {
   "cell_type": "code",
   "execution_count": 43,
   "metadata": {},
   "outputs": [
    {
     "data": {
      "text/latex": [
       "$0.012536027 \\; \\mathrm{1 \\times 10^{-17}\\,\\frac{erg}{\\mathring{A}\\,s\\,spaxel\\,cm^{2}}}$"
      ],
      "text/plain": [
       "<Quantity 0.01253603 1e-17 erg / (Angstrom cm2 s spaxel)>"
      ]
     },
     "execution_count": 43,
     "metadata": {},
     "output_type": "execute_result"
    }
   ],
   "source": [
    "flux.error[1000, 15, 15]"
   ]
  },
  {
   "cell_type": "code",
   "execution_count": 44,
   "metadata": {},
   "outputs": [
    {
     "data": {
      "text/plain": [
       "2.5596206"
      ]
     },
     "execution_count": 44,
     "metadata": {},
     "output_type": "execute_result"
    }
   ],
   "source": [
    "flux.snr[1000, 15, 15]"
   ]
  },
  {
   "cell_type": "markdown",
   "metadata": {},
   "source": [
    "The mask associated with the values is easily accessible via the mask attribute. We can also use the masked method to return a Numpy masked array in which the values that should not be used have been masked away"
   ]
  },
  {
   "cell_type": "code",
   "execution_count": 45,
   "metadata": {},
   "outputs": [
    {
     "data": {
      "text/plain": [
       "masked_array(\n",
       "  data=[[[0.032087475061416626, 0.04121425375342369,\n",
       "          0.050076354295015335, 0.05647555738687515,\n",
       "          0.05469176545739174],\n",
       "         [0.03209947049617767, 0.03639042377471924,\n",
       "          0.040828000754117966, 0.04658112674951553,\n",
       "          0.04227665066719055],\n",
       "         [0.03019268997013569, 0.028818607330322266,\n",
       "          0.03064817190170288, 0.033731523901224136,\n",
       "          0.03370772302150726],\n",
       "         [0.024737343192100525, 0.020018398761749268,\n",
       "          0.02560598962008953, 0.03211492672562599, 0.03473940119147301],\n",
       "         [0.020598897710442543, 0.02054685167968273,\n",
       "          0.02890884317457676, 0.04129589721560478, 0.04637172818183899]],\n",
       "\n",
       "        [[0.02228431962430477, 0.023608069866895676,\n",
       "          0.022303054109215736, 0.01658300869166851,\n",
       "          0.020516999065876007],\n",
       "         [0.024636751040816307, 0.03168349713087082,\n",
       "          0.03729921579360962, 0.03933802247047424,\n",
       "          0.039510875940322876],\n",
       "         [0.020158464089035988, 0.032928500324487686,\n",
       "          0.04517272487282753, 0.054976653307676315,\n",
       "          0.060083869844675064],\n",
       "         [0.016434920951724052, 0.02522500976920128, 0.0397653803229332,\n",
       "          0.05434243008494377, 0.060022931545972824],\n",
       "         [0.01939183846116066, 0.0225069560110569, 0.030426543205976486,\n",
       "          0.03958214074373245, 0.04643130674958229]],\n",
       "\n",
       "        [[0.0006325189606286585, 0.003944371826946735,\n",
       "          0.007082883268594742, 0.006397841032594442,\n",
       "          0.0069984495639801025],\n",
       "         [0.007422526832669973, 0.009873580187559128,\n",
       "          0.013621481135487556, 0.018981819972395897,\n",
       "          0.015566345304250717],\n",
       "         [0.014207526110112667, 0.017312368378043175,\n",
       "          0.022507574409246445, 0.03166532516479492,\n",
       "          0.03228571638464928],\n",
       "         [0.01893182471394539, 0.02060001716017723, 0.02757030911743641,\n",
       "          0.03665025532245636, 0.041249897330999374],\n",
       "         [0.021219592541456223, 0.024241546168923378,\n",
       "          0.028941668570041656, 0.033556677401065826,\n",
       "          0.03990331292152405]],\n",
       "\n",
       "        ...,\n",
       "\n",
       "        [[0.03271245211362839, 0.03682529553771019, 0.04155760630965233,\n",
       "          0.050911933183670044, 0.061473049223423004],\n",
       "         [0.041113611310720444, 0.04382570832967758,\n",
       "          0.04560599848628044, 0.051725294440984726,\n",
       "          0.06332936882972717],\n",
       "         [0.04731439799070358, 0.047296732664108276,\n",
       "          0.04728612303733826, 0.050237592309713364,\n",
       "          0.06290607154369354],\n",
       "         [0.04898740351200104, 0.05005095899105072,\n",
       "          0.047372374683618546, 0.04817125201225281,\n",
       "          0.058368343859910965],\n",
       "         [0.05078701302409172, 0.05266357213258743,\n",
       "          0.047779932618141174, 0.04528578743338585,\n",
       "          0.05840442702174187]],\n",
       "\n",
       "        [[0.03861214220523834, 0.03770443797111511, 0.03595104068517685,\n",
       "          0.03554707393050194, 0.039868395775556564],\n",
       "         [0.036995094269514084, 0.03537926450371742,\n",
       "          0.034273114055395126, 0.0335727296769619, 0.03560582175850868],\n",
       "         [0.04023987427353859, 0.03942861407995224, 0.03667967766523361,\n",
       "          0.03541993349790573, 0.037646275013685226],\n",
       "         [0.04496094211935997, 0.046496257185935974, 0.0442371740937233,\n",
       "          0.04383512958884239, 0.045653581619262695],\n",
       "         [0.04601183533668518, 0.05051812157034874, 0.05171280726790428,\n",
       "          0.0528668574988842, 0.06088351830840111]],\n",
       "\n",
       "        [[0.032900359481573105, 0.03376974165439606,\n",
       "          0.03260743245482445, 0.031161796301603317,\n",
       "          0.03417661413550377],\n",
       "         [0.02846730686724186, 0.033948589116334915,\n",
       "          0.038207974284887314, 0.0426366850733757, 0.04694923013448715],\n",
       "         [0.02938021905720234, 0.03859834372997284, 0.04683677852153778,\n",
       "          0.05471529811620712, 0.05673438683152199],\n",
       "         [0.031910549849271774, 0.042923808097839355,\n",
       "          0.054275840520858765, 0.0642143040895462, 0.06550383567810059],\n",
       "         [0.03546161204576492, 0.04759553447365761, 0.0584472119808197,\n",
       "          0.06755532324314117, 0.07251518964767456]]],\n",
       "  mask=[[[False, False, False, False, False],\n",
       "         [False, False, False, False, False],\n",
       "         [False, False, False, False, False],\n",
       "         [False, False, False, False, False],\n",
       "         [False, False, False, False, False]],\n",
       "\n",
       "        [[False, False, False, False, False],\n",
       "         [False, False, False, False, False],\n",
       "         [False, False, False, False, False],\n",
       "         [False, False, False, False, False],\n",
       "         [False, False, False, False, False]],\n",
       "\n",
       "        [[False, False, False, False, False],\n",
       "         [False, False, False, False, False],\n",
       "         [False, False, False, False, False],\n",
       "         [False, False, False, False, False],\n",
       "         [False, False, False, False, False]],\n",
       "\n",
       "        ...,\n",
       "\n",
       "        [[False, False, False, False, False],\n",
       "         [False, False, False, False, False],\n",
       "         [False, False, False, False, False],\n",
       "         [False, False, False, False, False],\n",
       "         [False, False, False, False, False]],\n",
       "\n",
       "        [[False, False, False, False, False],\n",
       "         [False, False, False, False, False],\n",
       "         [False, False, False, False, False],\n",
       "         [False, False, False, False, False],\n",
       "         [False, False, False, False, False]],\n",
       "\n",
       "        [[False, False, False, False, False],\n",
       "         [False, False, False, False, False],\n",
       "         [False, False, False, False, False],\n",
       "         [False, False, False, False, False],\n",
       "         [False, False, False, False, False]]],\n",
       "  fill_value=1e+20,\n",
       "  dtype=float32)"
      ]
     },
     "execution_count": 45,
     "metadata": {},
     "output_type": "execute_result"
    }
   ],
   "source": [
    "flux_section.masked"
   ]
  },
  {
   "cell_type": "markdown",
   "metadata": {},
   "source": [
    "Quantities have an associated [`pixmask`](https://sdss-marvin.readthedocs.io/en/latest/reference/quantities.html#marvin.tools.quantities.base_quantity.QuantityMixIn.pixmask), which provides a simple way to interact with the mask bits (for more information, go to the [Maskbits](https://sdss-marvin.readthedocs.io/en/latest/tools/utils/maskbit.html#marvin-maskbit) section)"
   ]
  },
  {
   "cell_type": "code",
   "execution_count": 46,
   "metadata": {},
   "outputs": [
    {
     "data": {
      "text/plain": [
       "<Maskbit 'MANGA_DRP3PIXMASK' shape=(4563, 54, 54)>"
      ]
     },
     "execution_count": 46,
     "metadata": {},
     "output_type": "execute_result"
    }
   ],
   "source": [
    "flux.pixmask"
   ]
  },
  {
   "cell_type": "code",
   "execution_count": 47,
   "metadata": {},
   "outputs": [
    {
     "data": {
      "text/plain": [
       "array([[[1, 1, 1, ..., 1, 1, 1],\n",
       "        [1, 1, 1, ..., 1, 1, 1],\n",
       "        [1, 1, 1, ..., 1, 1, 1],\n",
       "        ...,\n",
       "        [1, 1, 1, ..., 1, 1, 1],\n",
       "        [1, 1, 1, ..., 1, 1, 1],\n",
       "        [1, 1, 1, ..., 1, 1, 1]],\n",
       "\n",
       "       [[1, 1, 1, ..., 1, 1, 1],\n",
       "        [1, 1, 1, ..., 1, 1, 1],\n",
       "        [1, 1, 1, ..., 1, 1, 1],\n",
       "        ...,\n",
       "        [1, 1, 1, ..., 1, 1, 1],\n",
       "        [1, 1, 1, ..., 1, 1, 1],\n",
       "        [1, 1, 1, ..., 1, 1, 1]],\n",
       "\n",
       "       [[1, 1, 1, ..., 1, 1, 1],\n",
       "        [1, 1, 1, ..., 1, 1, 1],\n",
       "        [1, 1, 1, ..., 1, 1, 1],\n",
       "        ...,\n",
       "        [1, 1, 1, ..., 1, 1, 1],\n",
       "        [1, 1, 1, ..., 1, 1, 1],\n",
       "        [1, 1, 1, ..., 1, 1, 1]],\n",
       "\n",
       "       ...,\n",
       "\n",
       "       [[1, 1, 1, ..., 1, 1, 1],\n",
       "        [1, 1, 1, ..., 1, 1, 1],\n",
       "        [1, 1, 1, ..., 1, 1, 1],\n",
       "        ...,\n",
       "        [1, 1, 1, ..., 1, 1, 1],\n",
       "        [1, 1, 1, ..., 1, 1, 1],\n",
       "        [1, 1, 1, ..., 1, 1, 1]],\n",
       "\n",
       "       [[1, 1, 1, ..., 1, 1, 1],\n",
       "        [1, 1, 1, ..., 1, 1, 1],\n",
       "        [1, 1, 1, ..., 1, 1, 1],\n",
       "        ...,\n",
       "        [1, 1, 1, ..., 1, 1, 1],\n",
       "        [1, 1, 1, ..., 1, 1, 1],\n",
       "        [1, 1, 1, ..., 1, 1, 1]],\n",
       "\n",
       "       [[1, 1, 1, ..., 1, 1, 1],\n",
       "        [1, 1, 1, ..., 1, 1, 1],\n",
       "        [1, 1, 1, ..., 1, 1, 1],\n",
       "        ...,\n",
       "        [1, 1, 1, ..., 1, 1, 1],\n",
       "        [1, 1, 1, ..., 1, 1, 1],\n",
       "        [1, 1, 1, ..., 1, 1, 1]]])"
      ]
     },
     "execution_count": 47,
     "metadata": {},
     "output_type": "execute_result"
    }
   ],
   "source": [
    "flux.pixmask.get_mask('NOCOV')  # Returns a mask of values with the NOCOV maskbit."
   ]
  },
  {
   "cell_type": "markdown",
   "metadata": {},
   "source": [
    "We can also slice a datacube to get a single spectrum"
   ]
  },
  {
   "cell_type": "code",
   "execution_count": 48,
   "metadata": {},
   "outputs": [
    {
     "data": {
      "text/latex": [
       "$[-0.057420537,~0.00044591093,~-0.056182209,~\\dots,~0,~0,~0] \\; \\mathrm{1 \\times 10^{-17}\\,\\frac{erg}{\\mathring{A}\\,s\\,spaxel\\,cm^{2}}}$"
      ],
      "text/plain": [
       "<Spectrum [-0.05742054,  0.00044591, -0.05618221, ...,  0.        ,\n",
       "            0.        ,  0.        ] 1e-17 erg / (Angstrom cm2 s spaxel)>"
      ]
     },
     "execution_count": 48,
     "metadata": {},
     "output_type": "execute_result"
    }
   ],
   "source": [
    "spectrum_20_20 = flux[:, 20, 20]\n",
    "spectrum_20_20"
   ]
  },
  {
   "cell_type": "markdown",
   "metadata": {},
   "source": [
    "In this case the returned Quantity is a 1D Spectrum. This new Quantity behaves exactly as the DataCube but in this case we can also plot the spectrum"
   ]
  },
  {
   "cell_type": "code",
   "execution_count": 49,
   "metadata": {},
   "outputs": [
    {
     "name": "stderr",
     "output_type": "stream",
     "text": [
      "WARNING: AstropyDeprecationWarning: The truth value of a Quantity is ambiguous. In the future this will raise a ValueError. [astropy.units.quantity]\n"
     ]
    },
    {
     "data": {
      "text/plain": [
       "<matplotlib.axes._subplots.AxesSubplot at 0x7f94cc5eb550>"
      ]
     },
     "execution_count": 49,
     "metadata": {},
     "output_type": "execute_result"
    },
    {
     "data": {
      "image/png": "[encoded data removed]",
      "text/plain": [
       "<Figure size 432x288 with 1 Axes>"
      ]
     },
     "metadata": {},
     "output_type": "display_data"
    }
   ],
   "source": [
    "spectrum_20_20.plot()"
   ]
  },
  {
   "cell_type": "markdown",
   "metadata": {},
   "source": [
    "Let’s now have a look at the Marvin 2D Quantity: the Map."
   ]
  },
  {
   "cell_type": "code",
   "execution_count": 50,
   "metadata": {},
   "outputs": [
    {
     "data": {
      "text/latex": [
       "$[[0,~0,~0,~\\dots,~0,~0,~0],~\n",
       " [0,~0,~0,~\\dots,~0,~0,~0],~\n",
       " [0,~0,~0,~\\dots,~0,~0,~0],~\n",
       " \\dots,~\n",
       " [0,~0,~0,~\\dots,~0,~0,~0],~\n",
       " [0,~0,~0,~\\dots,~0,~0,~0],~\n",
       " [0,~0,~0,~\\dots,~0,~0,~0]] \\; \\mathrm{1 \\times 10^{-17}\\,\\frac{erg}{s\\,spaxel\\,cm^{2}}}$"
      ],
      "text/plain": [
       "<Marvin Map (property='emline_gflux_ha_6564')>\n",
       "[[0. 0. 0. ... 0. 0. 0.]\n",
       " [0. 0. 0. ... 0. 0. 0.]\n",
       " [0. 0. 0. ... 0. 0. 0.]\n",
       " ...\n",
       " [0. 0. 0. ... 0. 0. 0.]\n",
       " [0. 0. 0. ... 0. 0. 0.]\n",
       " [0. 0. 0. ... 0. 0. 0.]] 1e-17 erg / (cm2 s spaxel)"
      ]
     },
     "execution_count": 50,
     "metadata": {},
     "output_type": "execute_result"
    }
   ],
   "source": [
    "ha = hyb_map.emline_gflux_ha_6564\n",
    "ha"
   ]
  },
  {
   "cell_type": "code",
   "execution_count": 51,
   "metadata": {},
   "outputs": [
    {
     "data": {
      "text/plain": [
       "array([[0., 0., 0., ..., 0., 0., 0.],\n",
       "       [0., 0., 0., ..., 0., 0., 0.],\n",
       "       [0., 0., 0., ..., 0., 0., 0.],\n",
       "       ...,\n",
       "       [0., 0., 0., ..., 0., 0., 0.],\n",
       "       [0., 0., 0., ..., 0., 0., 0.],\n",
       "       [0., 0., 0., ..., 0., 0., 0.]], dtype=float32)"
      ]
     },
     "execution_count": 51,
     "metadata": {},
     "output_type": "execute_result"
    }
   ],
   "source": [
    "snr = ha.snr\n",
    "snr"
   ]
  },
  {
   "cell_type": "code",
   "execution_count": 52,
   "metadata": {},
   "outputs": [
    {
     "data": {
      "text/plain": [
       "<matplotlib.image.AxesImage at 0x7f94ccb27050>"
      ]
     },
     "execution_count": 52,
     "metadata": {},
     "output_type": "execute_result"
    },
    {
     "data": {
      "image/png": "[encoded data removed]",
      "text/plain": [
       "<Figure size 432x288 with 1 Axes>"
      ]
     },
     "metadata": {
      "needs_background": "light"
     },
     "output_type": "display_data"
    }
   ],
   "source": [
    "import matplotlib.pyplot as plt\n",
    "plt.imshow(snr, origin='lower')"
   ]
  },
  {
   "cell_type": "markdown",
   "metadata": {},
   "source": [
    "`Map` objects are a bit special, though, and we will discuss them in detail in [their own section](https://sdss-marvin.readthedocs.io/en/latest/tools/map.html#marvin-map). Here, let’s see how we can do “Map arithmetic” by calculating the $H_\\alpha/H_\\beta$ ratio"
   ]
  },
  {
   "cell_type": "code",
   "execution_count": 53,
   "metadata": {},
   "outputs": [
    {
     "data": {
      "text/latex": [
       "$[[0,~0,~0,~\\dots,~0,~0,~0],~\n",
       " [0,~0,~0,~\\dots,~0,~0,~0],~\n",
       " [0,~0,~0,~\\dots,~0,~0,~0],~\n",
       " \\dots,~\n",
       " [0,~0,~0,~\\dots,~0,~0,~0],~\n",
       " [0,~0,~0,~\\dots,~0,~0,~0],~\n",
       " [0,~0,~0,~\\dots,~0,~0,~0]] \\; \\mathrm{\\mathring{A}}$"
      ],
      "text/plain": [
       "<Marvin Map (property='emline_gew_hb_4862')>\n",
       "[[0. 0. 0. ... 0. 0. 0.]\n",
       " [0. 0. 0. ... 0. 0. 0.]\n",
       " [0. 0. 0. ... 0. 0. 0.]\n",
       " ...\n",
       " [0. 0. 0. ... 0. 0. 0.]\n",
       " [0. 0. 0. ... 0. 0. 0.]\n",
       " [0. 0. 0. ... 0. 0. 0.]] Angstrom"
      ]
     },
     "execution_count": 53,
     "metadata": {},
     "output_type": "execute_result"
    }
   ],
   "source": [
    "hb = hyb_map.emline_gew_hb_4862\n",
    "hb"
   ]
  },
  {
   "cell_type": "code",
   "execution_count": 54,
   "metadata": {},
   "outputs": [
    {
     "data": {
      "text/latex": [
       "$[[{\\rm NaN},~{\\rm NaN},~{\\rm NaN},~\\dots,~{\\rm NaN},~{\\rm NaN},~{\\rm NaN}],~\n",
       " [{\\rm NaN},~{\\rm NaN},~{\\rm NaN},~\\dots,~{\\rm NaN},~{\\rm NaN},~{\\rm NaN}],~\n",
       " [{\\rm NaN},~{\\rm NaN},~{\\rm NaN},~\\dots,~{\\rm NaN},~{\\rm NaN},~{\\rm NaN}],~\n",
       " \\dots,~\n",
       " [{\\rm NaN},~{\\rm NaN},~{\\rm NaN},~\\dots,~{\\rm NaN},~{\\rm NaN},~{\\rm NaN}],~\n",
       " [{\\rm NaN},~{\\rm NaN},~{\\rm NaN},~\\dots,~{\\rm NaN},~{\\rm NaN},~{\\rm NaN}],~\n",
       " [{\\rm NaN},~{\\rm NaN},~{\\rm NaN},~\\dots,~{\\rm NaN},~{\\rm NaN},~{\\rm NaN}]] \\; \\mathrm{1 \\times 10^{-17}\\,\\frac{erg}{\\mathring{A}\\,s\\,spaxel\\,cm^{2}}}$"
      ],
      "text/plain": [
       "<Marvin EnhancedMap>\n",
       "array([[nan, nan, nan, ..., nan, nan, nan],\n",
       "       [nan, nan, nan, ..., nan, nan, nan],\n",
       "       [nan, nan, nan, ..., nan, nan, nan],\n",
       "       ...,\n",
       "       [nan, nan, nan, ..., nan, nan, nan],\n",
       "       [nan, nan, nan, ..., nan, nan, nan],\n",
       "       [nan, nan, nan, ..., nan, nan, nan]], dtype=float32) '1e-17 erg / (Angstrom cm2 s spaxel)'"
      ]
     },
     "execution_count": 54,
     "metadata": {},
     "output_type": "execute_result"
    }
   ],
   "source": [
    "ha_hb = ha / hb\n",
    "ha_hb"
   ]
  },
  {
   "cell_type": "code",
   "execution_count": 55,
   "metadata": {},
   "outputs": [
    {
     "name": "stderr",
     "output_type": "stream",
     "text": [
      "/usr/local/lib/python3.7/dist-packages/marvin/utils/plot/map.py:111: RuntimeWarning: invalid value encountered in multiply\n",
      "  low_snr[np.abs(value * np.sqrt(ivar)) < snr_min] = True\n",
      "/usr/local/lib/python3.7/dist-packages/marvin/utils/plot/map.py:111: RuntimeWarning: invalid value encountered in less\n",
      "  low_snr[np.abs(value * np.sqrt(ivar)) < snr_min] = True\n"
     ]
    },
    {
     "data": {
      "text/plain": [
       "(<Figure size 432x288 with 2 Axes>,\n",
       " <matplotlib.axes._subplots.AxesSubplot at 0x7f94cc90ebd0>)"
      ]
     },
     "execution_count": 55,
     "metadata": {},
     "output_type": "execute_result"
    },
    {
     "name": "stderr",
     "output_type": "stream",
     "text": [
      "/usr/local/lib/python3.7/dist-packages/matplotlib/image.py:395: UserWarning: Warning: converting a masked element to nan.\n",
      "  dv = (np.float64(self.norm.vmax) -\n",
      "/usr/local/lib/python3.7/dist-packages/matplotlib/colors.py:918: UserWarning: Warning: converting a masked element to nan.\n",
      "  dtype = np.min_scalar_type(value)\n",
      "/usr/lib/python3/dist-packages/numpy/ma/core.py:713: UserWarning: Warning: converting a masked element to nan.\n",
      "  data = np.array(a, copy=False, subok=subok)\n"
     ]
    },
    {
     "data": {
      "image/png": "[encoded data removed]",
      "text/plain": [
       "<Figure size 432x288 with 2 Axes>"
      ]
     },
     "metadata": {},
     "output_type": "display_data"
    }
   ],
   "source": [
    "ha_hb.plot()"
   ]
  },
  {
   "cell_type": "markdown",
   "metadata": {},
   "source": [
    "[`EnhancedMap`](https://sdss-marvin.readthedocs.io/en/latest/reference/quantities.html#marvin.tools.quantities.map.EnhancedMap) result from the arithmetic combination of two maps and take care of all the gritty details: error propagation, division by zero, maskbit propagation, etc.\n",
    "\n",
    "Finally, [`AnalysisProperty`](https://sdss-marvin.readthedocs.io/en/latest/reference/quantities.html#marvin.tools.quantities.analysis_props.AnalysisProperty) are 1D quantities associated with a value for a single spaxel on a [`Map`](https://sdss-marvin.readthedocs.io/en/latest/reference/quantities.html#marvin.tools.quantities.map.Map). We will discuss them in depth when we talk about marvin-subregion-tools."
   ]
  },
  {
   "cell_type": "code",
   "execution_count": 56,
   "metadata": {},
   "outputs": [
    {
     "name": "stdout",
     "output_type": "stream",
     "text": [
      "8315.13779\n",
      "8321.36228\n"
     ]
    }
   ],
   "source": [
    "# cosmological redshift\n",
    "# http://astronomy.swin.edu.au/cosmos/C/Cosmological+Redshift\n",
    "# z = (l_obs - l_rest)/l_rest\n",
    "# l_obs = (1+z)*l_rest\n",
    "lambda_rest_OII_1 = 3727.09\n",
    "lambda_rest_OII_2 = 3729.88\n",
    "z = 1.231\n",
    "lambda_obs_OII_1 = (1+z)*lambda_rest_OII_1\n",
    "lambda_obs_OII_2 = (1+z)*lambda_rest_OII_2\n",
    "print(lambda_obs_OII_1)\n",
    "print(lambda_obs_OII_2)\n"
   ]
  },
  {
   "cell_type": "code",
   "execution_count": 57,
   "metadata": {},
   "outputs": [],
   "source": [
    "# flux[0,0,0].wavelength\n",
    "# lambda0 = flux[0,0,0].wavelength\n",
    "# lambdaend = flux[-1,0,0].wavelength\n",
    "# dlambda = (lambdaend-lambda0)/len(flux[:,0,0])\n",
    "\n",
    "# lambda0 = lambda0.value\n",
    "# dlambda = dlambda.value\n",
    "# type(dlambda)\n",
    "\n",
    "\n",
    "\n",
    "startindex, endindex = 0, 0\n",
    "for i in (flux[:,0,0].wavelength.value):\n",
    "    if i<lambda_obs_OII_1-4:\n",
    "        startindex += 1\n",
    "    else:\n",
    "        break\n",
    "for i in (flux[:,0,0].wavelength.value):\n",
    "    if i<lambda_obs_OII_2+4:\n",
    "        endindex += 1\n",
    "    else:\n",
    "        break\n"
   ]
  },
  {
   "cell_type": "code",
   "execution_count": 58,
   "metadata": {},
   "outputs": [],
   "source": [
    "# from 1911.06338, the source has emission line at 8300-8350\n",
    "flux[0,:,:].shape; #(54, 54)\n",
    "flux[0,:,:].value;\n",
    "# startindex = int((8315 - lambda0)/dlambda)\n",
    "# endindex = int((8330 - lambda0)/dlambda)"
   ]
  },
  {
   "cell_type": "code",
   "execution_count": 59,
   "metadata": {},
   "outputs": [
    {
     "data": {
      "text/plain": [
       "<matplotlib.colorbar.Colorbar at 0x7f9505b4ef10>"
      ]
     },
     "execution_count": 59,
     "metadata": {},
     "output_type": "execute_result"
    },
    {
     "data": {
      "image/png": "[encoded data removed]",
      "text/plain": [
       "<Figure size 1152x648 with 2 Axes>"
      ]
     },
     "metadata": {
      "needs_background": "light"
     },
     "output_type": "display_data"
    }
   ],
   "source": [
    "# narrow_band_img = []\n",
    "import numpy as np\n",
    "%matplotlib inline\n",
    "%config InlineBackend.rc = {}\n",
    "narrow_band_img = np.zeros(shape=flux[0,:,:].shape)\n",
    "for idx in range(startindex, endindex+1):\n",
    "    narrow_band_img += flux[idx,:,:].value\n",
    "# image_hist = plt.hist(final_image.flatten(), 10)\n",
    "plt.figure(figsize=(16,9))\n",
    "plt.imshow(narrow_band_img, cmap='gray')#, vmin=2.e3, vmax=3.e3\n",
    "plt.colorbar()"
   ]
  },
  {
   "cell_type": "markdown",
   "metadata": {},
   "source": [
    "# You need foregroud galaxy substraction\n",
    "by either:\n",
    "1. fit a elliptical galaxy image directly from 2d image and substract it, or\n",
    "2. fit continum spectras pixel by pixel then substract them, then replot the narrow band image to see the images of lensed source\n",
    "\n",
    "in 1911.06338 Saburu paper:\n",
    "The lens light has been sub-\n",
    "tracted using the neighbouring continuum, and a correction\n",
    "has been made to remove a radial trend in the net image\n",
    "(caused by gradients in spectral features in the lens galaxy).\n",
    "\n",
    "in SDSS IV MANGA paper: section 3.1, Foreground Galaxy Subtraction\n",
    "before using PCA, you need to handle the redshift, today(191220) you can implimenting PCA first to see if the lensing system is significant after foreground galaxy subtraction, but later you need to figure out the dependence of redshift,\n",
    "\n",
    "\n",
    "we constructed a best-fit model spectrum to the galaxy\n",
    "continuum using a basis of 7 principal component analysis\n",
    "(PCA) eigenspectra, and subtracted this continuum model\n",
    "from the data. Fibres which were at too low a S/N to yield\n",
    "a spectroscopic redshift were discarded from consideration\n",
    "in the search for background emission-lines.\n",
    "\n",
    "\n",
    "you need to choose the second method\n",
    "\n",
    "Yet 1d pca or 2d pca or 3d pca?\n",
    "\n",
    "https://learnche.org/pid/latent-variable-modelling/principal-component-analysis/pca-example-analysis-of-spectral-data\n",
    "https://nirpyresearch.com/principal-component-regression-python/\n"
   ]
  },
  {
   "cell_type": "code",
   "execution_count": 60,
   "metadata": {},
   "outputs": [],
   "source": [
    "# # https://www.jianshu.com/p/044a7783980f\n",
    "# def PCA(dataMat,topNfeat=5):\n",
    "# #topNfeat=5 默认选择前五个最大的特征值\n",
    "# #减去均值 \n",
    "#     meanVals = np.mean(dataMat,axis = 0)\n",
    "#     dataMean = dataMat - meanVals\n",
    "# #求协方差方阵 \n",
    "#     conMat = dataMean.T.dot(dataMean)\n",
    "# #求特征值和特征向量\n",
    "#     eigVals,eigVects = np.linalg.eig(conMat)  \n",
    "# #对特征值进行排序  \n",
    "#     eigValInd = np.argsort(eigVals)\n",
    "#     #得到的eigValInd是从小到大的排列，对应的原数据中该元素的索引\n",
    "#     #x = np.array([3, 1, 2])\n",
    "#     #np.argsort(x)\n",
    "#     #array([1, 2, 0])\n",
    "#     #从小到大依次是1,2,3,1对应的索引是1,2对应的索引是2,3对应的索引是0\n",
    "#     eigValInd = eigValInd[:-(topNfeat+1):-1]\n",
    "#     #逆序，从最大到最小的前topNfeat个\n",
    "# #除去不需要的特征向量\n",
    "#     redeigVects=eigVects[:,eigValInd]  \n",
    "# #求新的数据矩阵\n",
    "#     lowdataMat = dataMean.dot(redeigVects)\n",
    "# #求从低维还原回来的数据\n",
    "#     condata = (lowdataMat.dot(redeigVects.T)) + meanVals\n",
    "# #输出降完维德数据加均值\n",
    "#         #因为降维后的数据是一维的了，所以只能加上dataMat整体的平均数进行恢复了\n",
    "#     reducedata=lowdataMat+np.mean(dataMat)\n",
    "#     return reducedata,condata"
   ]
  },
  {
   "cell_type": "code",
   "execution_count": 61,
   "metadata": {},
   "outputs": [],
   "source": [
    "# redflux = np.zeros(flux.shape) # reduced flux\n",
    "# Ncomp = 10\n",
    "# redflux.shape\n",
    "# dataMattest = np.array((flux[:,25,25].wavelength.value, flux[:,25,25].value))\n",
    "# # dataMat.shape\n",
    "# plt.figure(figsize=(16,9))\n",
    "# plt.plot(flux[:,25,25].wavelength.value,flux[:,25,25].value,label=\"model\")\n",
    "# _, x0y1test = PCA(dataMattest,topNfeat=Ncomp)\n",
    "# plt.plot(x0y1test[0,:],x0y1test[1,:],label=\"rec\")\n",
    "# plt.plot(x0y1test[0,:],x0y1test[1,:]-flux[:,25,25].value,label=\"rec-model\")\n",
    "# plt.legend()\n",
    "# print(_.shape)"
   ]
  },
  {
   "cell_type": "code",
   "execution_count": 62,
   "metadata": {},
   "outputs": [],
   "source": [
    "# # flux[:,0,0].wavelength.value.shape\n",
    "x = flux[:,0,0].wavelength.value"
   ]
  },
  {
   "cell_type": "code",
   "execution_count": 63,
   "metadata": {},
   "outputs": [
    {
     "data": {
      "image/png": "[encoded data removed]",
      "text/plain": [
       "<Figure size 432x288 with 1 Axes>"
      ]
     },
     "metadata": {
      "needs_background": "light"
     },
     "output_type": "display_data"
    }
   ],
   "source": [
    "for i in range(flux.shape[1]):\n",
    "    for j in range(flux.shape[2]):\n",
    "        y = flux[:,i,j].value\n",
    "#         y = flux[startindex:endindex, i,j]\n",
    "        plt.plot(x,y)\n",
    "#         dataMat = np.array((x,y)).T\n",
    "#         _, x0y1 = PCA(dataMat,topNfeat=Ncomp)\n",
    "#         redflux[:,i,j]=x0y1[1,:]"
   ]
  },
  {
   "cell_type": "code",
   "execution_count": 64,
   "metadata": {},
   "outputs": [
    {
     "name": "stdout",
     "output_type": "stream",
     "text": [
      "(4563, 2916)\n",
      "(2916, 4563)\n"
     ]
    }
   ],
   "source": [
    "combflux = np.zeros((flux.shape[0],flux.shape[1]*flux.shape[2])) # combined flux\n",
    "print(combflux.shape)\n",
    "combflux = flux.value.reshape(flux.shape[0],flux.shape[1]*flux.shape[2])\n",
    "combflux = combflux.T\n",
    "print(combflux.shape)"
   ]
  },
  {
   "cell_type": "code",
   "execution_count": 99,
   "metadata": {},
   "outputs": [
    {
     "name": "stdout",
     "output_type": "stream",
     "text": [
      "(2916, 1)\n",
      "[0.92094872]\n",
      "(2916, 4563)\n"
     ]
    }
   ],
   "source": [
    "# https://stackoverflow.com/questions/23294616/how-to-use-scikit-learn-pca-for-features-reduction-and-know-which-features-are-d\n",
    "from sklearn.decomposition import PCA\n",
    "\n",
    "pca = PCA(n_components=1)#n_components=7\n",
    "newX = pca.fit_transform(combflux)\n",
    "print(newX.shape)\n",
    "print(pca.explained_variance_ratio_)\n",
    "# # X is the matrix transposed (n samples on the rows, m features on the columns)\n",
    "# pca.fit(combflux)\n",
    "\n",
    "# X_new = pca.transform(X)\n",
    "X_rec = pca.inverse_transform(newX) # X_proj is originally X_new\n",
    "# Here, X_rec is close to X, but the less important information was dropped by PCA. So we can say X_rec is denoised.\n",
    "# In my opinion, I can say the noise is discard.\n",
    "print(X_rec.shape)"
   ]
  },
  {
   "cell_type": "code",
   "execution_count": 100,
   "metadata": {},
   "outputs": [
    {
     "data": {
      "text/plain": [
       "(4563, 54, 54)"
      ]
     },
     "execution_count": 100,
     "metadata": {},
     "output_type": "execute_result"
    }
   ],
   "source": [
    "recflux = X_rec.T.reshape(flux.shape)# .T operation is important\n",
    "recflux.shape"
   ]
  },
  {
   "cell_type": "code",
   "execution_count": 101,
   "metadata": {},
   "outputs": [
    {
     "data": {
      "text/plain": [
       "numpy.ndarray"
      ]
     },
     "execution_count": 101,
     "metadata": {},
     "output_type": "execute_result"
    }
   ],
   "source": [
    "type(flux.value)"
   ]
  },
  {
   "cell_type": "code",
   "execution_count": 102,
   "metadata": {},
   "outputs": [],
   "source": [
    "dflux = flux.value - recflux"
   ]
  },
  {
   "cell_type": "code",
   "execution_count": 103,
   "metadata": {},
   "outputs": [],
   "source": [
    "narrow_band_img = np.zeros(shape=flux[0,:,:].shape)\n",
    "\n",
    "#narrow band image\n",
    "for idx in range(startindex, endindex+1):\n",
    "    narrow_band_img += dflux[idx,:,:]\n",
    "\n",
    "# full band image\n",
    "# for idx in range(0, len(x)):\n",
    "#     narrow_band_img += dflux[idx,:,:]"
   ]
  },
  {
   "cell_type": "markdown",
   "metadata": {},
   "source": [
    "https://sdss-marvin.readthedocs.io/en/stable/tutorials/exercises/resolved_mass_metallicity_relation.html#Calculate-physical-size-of-a-spaxel\n",
    "MaNGA’s maps (and data cubes) have a spaxel size of 0.5 arcsec. "
   ]
  },
  {
   "cell_type": "code",
   "execution_count": 104,
   "metadata": {},
   "outputs": [
    {
     "data": {
      "text/plain": [
       "Text(0.5, 0.98, 'Net emission line (OII doublet) image of MaNGA lens system J1436+4943\\n$\\\\theta_{Ein}=2.03$ (red) arcsec according to arxiv 1911.06338\\n')"
      ]
     },
     "execution_count": 104,
     "metadata": {},
     "output_type": "execute_result"
    },
    {
     "data": {
      "image/png": "[encoded data removed]",
      "text/plain": [
       "<Figure size 1152x648 with 2 Axes>"
      ]
     },
     "metadata": {
      "needs_background": "light"
     },
     "output_type": "display_data"
    }
   ],
   "source": [
    "# image_hist = plt.hist(final_image.flatten(), 10)\n",
    "plt.figure(figsize=(16,9))\n",
    "ax = plt.gca()\n",
    "# plt.imshow(narrow_band_img[27-5:27+5,27-5:27+5], cmap='gray',origin=\"low\")#, vmin=2.e3, vmax=3.e3\n",
    "centerx, centery = 27,27\n",
    "plt.scatter(centerx, centery,c=\"r\",marker=\"x\")\n",
    "cphi = np.linspace(0,2*np.pi,20)\n",
    "r = 2.03*2\n",
    "plt.scatter(centerx+r*np.cos(cphi),centery+r*np.sin(cphi),c=\"r\",marker=\".\")\n",
    "\n",
    "r2 = 2.59*2\n",
    "# plt.scatter(centerx+r2*np.cos(cphi),centery+r2*np.sin(cphi),c=\"b\",marker=\".\")\n",
    "\n",
    "plt.scatter(23, 29,c=\"g\",marker=\"x\")\n",
    "plt.scatter(23, 26,c=\"g\",marker=\"x\")\n",
    "plt.scatter(30, 27,c=\"g\",marker=\"x\")\n",
    "# narrow_band_img[29,23]=-2\n",
    "\n",
    "\n",
    "plt.imshow((narrow_band_img), cmap='gray',origin=\"low\")#\n",
    "plt.xlim(centerx-10,centerx+10)\n",
    "plt.ylim(centery-10,centery+10)\n",
    "plt.plot([20,22],[20,20],\"k\",linewidth = 4)\n",
    "plt.annotate(r\"$1^{''}$\",xy=(20,20.2),size=18)\n",
    "# cl = plt.Circle((28,28),2.03*2,color='r',alpha=0.1, lw=5, edgecolor='b')\n",
    "# ax.add_artist(cl)\n",
    "plt.colorbar()\n",
    "title = \"Net emission line (OII doublet) image of MaNGA lens system J1436+4943\\n\"\\\n",
    "+r\"$\\theta_{Ein}=2.03$ (red) arcsec according to arxiv 1911.06338\"+\"\\n\"\\\n",
    "# +r\"$\\theta_{Ein}=2.59$ (blue) arcsec according to arxiv 1803.03604\"\n",
    "plt.suptitle(title,fontsize = 20)"
   ]
  },
  {
   "cell_type": "markdown",
   "metadata": {},
   "source": [
    "By comparing with Sabaru data, the spatial resolution of MaNGA IFU is 2-3 times worther, i.e. MaNGA IFU: 0.5\"/pixel, Sabaru IFU: 0.2\"/pixel(read from Fig 1 or Sec 2 of arxiv 1911.06338 paper)"
   ]
  },
  {
   "cell_type": "code",
   "execution_count": 105,
   "metadata": {},
   "outputs": [
    {
     "data": {
      "text/plain": [
       "[<matplotlib.lines.Line2D at 0x7f94a2950490>]"
      ]
     },
     "execution_count": 105,
     "metadata": {},
     "output_type": "execute_result"
    },
    {
     "data": {
      "image/png": "[encoded data removed]",
      "text/plain": [
       "<Figure size 1152x648 with 1 Axes>"
      ]
     },
     "metadata": {
      "needs_background": "light"
     },
     "output_type": "display_data"
    }
   ],
   "source": [
    "# plt.figure(figsize=(16,9))\n",
    "# print(startindex)\n",
    "# print(endindex)\n",
    "# for i in range(centerx-10,centerx+10):\n",
    "#     for j in range(centery-10,centery+10):\n",
    "# #         y = flux[:,i,j].value\n",
    "# #         plt.plot(x,y)\n",
    "#         y = flux[startindex-100:endindex+100, i,j].value\n",
    "#         plt.plot(x[startindex-100:endindex+100],y)\n",
    "# plt.plot([lambda_obs_OII_1,lambda_obs_OII_1], [-0.1, 1.2],\"r-.\")\n",
    "# plt.plot([lambda_obs_OII_2,lambda_obs_OII_2], [-0.1, 1.2],\"r-.\")      \n",
    "    \n",
    "# flux of the image pixel of the source\n",
    "I = [29, 26, 27]\n",
    "J = [23, 23, 30]\n",
    "label = [\"B img\", \"A img\", \"C img\"]\n",
    "# I = [29, 26, 27, centerx]\n",
    "# J = [23, 23, 30, centery]\n",
    "# label = [\"B img\", \"A img\", \"C img\", \"central\"]\n",
    "plt.figure(figsize=(16,9))\n",
    "for i,j,lb in zip(I,J,label):\n",
    "        y = dflux[startindex-50:endindex+50, i,j]\n",
    "        plt.plot(x[startindex-50:endindex+50],y,label=lb)\n",
    "#         y = dflux[:, i,j]\n",
    "#         plt.plot(x,y,label=lb)\n",
    "plt.legend()\n",
    "\n",
    "plt.plot([lambda_obs_OII_1,lambda_obs_OII_1], [-0.1, 0.2],\"r-.\")\n",
    "plt.plot([lambda_obs_OII_2,lambda_obs_OII_2], [-0.1, 0.2],\"r-.\")"
   ]
  },
  {
   "cell_type": "code",
   "execution_count": 106,
   "metadata": {},
   "outputs": [
    {
     "name": "stdout",
     "output_type": "stream",
     "text": [
      "3621.5959848601933\n",
      "10353.805444147549\n",
      "1 - 0>>> 0.8339993067943396\n",
      "2 - 1>>> 0.8341913643380394\n",
      "3 - 2>>> 0.8343834661177425\n",
      "3608\n",
      "3616\n"
     ]
    }
   ],
   "source": [
    "# it seems that wavelength is nonliner!\n",
    "\n",
    "flux[0,0,0].wavelength\n",
    "lambda0 = flux[0,0,0].wavelength.value\n",
    "lambdaend = flux[-1,0,0].wavelength.value\n",
    "print(lambda0)\n",
    "print(lambdaend)\n",
    "print(\"1 - 0>>>\", flux[1,0,0].wavelength.value - lambda0)\n",
    "print(\"2 - 1>>>\", flux[2,0,0].wavelength.value - flux[1,0,0].wavelength.value)\n",
    "print(\"3 - 2>>>\", flux[3,0,0].wavelength.value - flux[2,0,0].wavelength.value)\n",
    "# startindex, endindex = 0, 0\n",
    "# for i in (flux[:,0,0].wavelength.value):\n",
    "#     if i<8315:\n",
    "#         startindex += 1\n",
    "#     else:\n",
    "#         break\n",
    "# for i in (flux[:,0,0].wavelength.value):\n",
    "#     if i<8335:\n",
    "#         endindex += 1\n",
    "#     else:\n",
    "#         break\n",
    "print(startindex)\n",
    "print(endindex)\n",
    "# 3610\n",
    "# 3621\n",
    "# before: 3181 3191"
   ]
  },
  {
   "cell_type": "code",
   "execution_count": null,
   "metadata": {},
   "outputs": [],
   "source": []
  }
 ],
 "metadata": {
  "kernelspec": {
   "display_name": "Python 3",
   "language": "python",
   "name": "python3"
  },
  "language_info": {
   "codemirror_mode": {
    "name": "ipython",
    "version": 3
   },
   "file_extension": ".py",
   "mimetype": "text/x-python",
   "name": "python",
   "nbconvert_exporter": "python",
   "pygments_lexer": "ipython3",
   "version": "3.7.5"
  }
 },
 "nbformat": 4,
 "nbformat_minor": 2
}
