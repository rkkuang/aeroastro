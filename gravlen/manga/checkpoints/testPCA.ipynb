{
 "cells": [
  {
   "cell_type": "markdown",
   "metadata": {},
   "source": [
    "# tesing PCA"
   ]
  },
  {
   "cell_type": "code",
   "execution_count": 1,
   "metadata": {},
   "outputs": [],
   "source": [
    "from sklearn.decomposition import PCA\n",
    "import numpy as np\n",
    "import matplotlib.pyplot as plt"
   ]
  },
  {
   "cell_type": "code",
   "execution_count": 35,
   "metadata": {},
   "outputs": [],
   "source": [
    "# X_train = np.sin(np.linspace(0, 2*np.pi)).reshape(1, -1)\n",
    "# plt.plot(X_train[0,:])\n",
    "# X_train.shape"
   ]
  },
  {
   "cell_type": "code",
   "execution_count": 36,
   "metadata": {},
   "outputs": [],
   "source": [
    "# pca = PCA(n_components=2)\n",
    "# X_train2 = pca.fit_transform(X_train)\n",
    "# # X_test = pca.transform(X_test)"
   ]
  },
  {
   "cell_type": "code",
   "execution_count": 37,
   "metadata": {},
   "outputs": [],
   "source": [
    "# plt.plot(X_train)"
   ]
  },
  {
   "cell_type": "code",
   "execution_count": 38,
   "metadata": {},
   "outputs": [],
   "source": [
    "# from numpy import *\n",
    "\n",
    "# '''通过方差的百分比来计算将数据降到多少维是比较合适的，\n",
    "# 函数传入的参数是特征值和百分比percentage，返回需要降到的维度数num'''\n",
    "# def eigValPct(eigVals,percentage):\n",
    "#     #使用numpy中的sort()对特征值按照从小到大排序\n",
    "#     sortArray=sort(eigVals)\n",
    "#     #特征值从大到小排序\n",
    "#     sortArray=sortArray[-1::-1]\n",
    "#     #数据全部的方差arraySum\n",
    "#     arraySum=sum(sortArray)\n",
    "#     tempSum=0\n",
    "#     num=0\n",
    "#     for i in sortArray:\n",
    "#         tempSum+=i\n",
    "#         num+=i\n",
    "#         if tempsum>=arraySum*percentage:\n",
    "#             return num\n",
    "\n",
    "# '''pca函数有两个参数，其中dataMat是已经转换成矩阵matrix形式的数据集，列表示特征；\n",
    "# 其中的percentage表示取前多少个特征需要达到的方差占比，默认为0.9'''\n",
    "# def pca(dataMat,percentage=0.9):\n",
    "#     #对每一列求平均值，因为协方差的计算中需要减去均值\n",
    "#     meanVals=mean(dataMat,axis=0)\n",
    "#     meanRemoved=dataMat-meanVals\n",
    "#     #cov()计算方差\n",
    "#     covMat=cov(meanRemoved,rowvar=0)\n",
    "#     #利用numpy中寻找特征值和特征向量的模块linalg中的eig()方法\n",
    "#     eigVals,eigVects=linalg.eig(mat(covMat))\n",
    "#     #要达到方差的百分比percentage，需要前k个向量\n",
    "#     k=eigValPct(eigVals,percentage)\n",
    "#     #对特征值eigVals从小到大排序\n",
    "#     eigValInd=argsort(eigVals)\n",
    "#     #从排好序的特征值，从后往前取k个，这样就实现了特征值的从大到小排列\n",
    "#     eigValInd=eigValInd[:-(k+1):-1]\n",
    "#     #返回排序后特征值对应的特征向量redEigVects（主成分）\n",
    "#     redEigVects=eigVects[:,eigValInd]\n",
    "#     #将原始数据投影到主成分上得到新的低维数据lowDDataMat\n",
    "#     lowDDataMat=meanRemoved*redEigVects\n",
    "#     #得到重构数据reconMat\n",
    "#     reconMat=(lowDDataMat*redEigVects.T)+meanVals\n",
    "#     return lowDDataMat,reconMat"
   ]
  },
  {
   "cell_type": "code",
   "execution_count": 61,
   "metadata": {},
   "outputs": [],
   "source": [
    "# https://www.jianshu.com/p/044a7783980f\n",
    "def PCA(dataMat,topNfeat=5):\n",
    "#topNfeat=5 默认选择前五个最大的特征值\n",
    "#减去均值 \n",
    "    meanVals = np.mean(dataMat,axis = 0)\n",
    "    dataMean = dataMat - meanVals\n",
    "#求协方差方阵 \n",
    "    conMat = dataMean.T.dot(dataMean)\n",
    "    print(conMat.shape)\n",
    "#求特征值和特征向量\n",
    "    eigVals,eigVects = np.linalg.eig(conMat)  \n",
    "#对特征值进行排序  \n",
    "    eigValInd = np.argsort(eigVals)\n",
    "    #得到的eigValInd是从小到大的排列，对应的原数据中该元素的索引\n",
    "    #x = np.array([3, 1, 2])\n",
    "    #np.argsort(x)\n",
    "    #array([1, 2, 0])\n",
    "    #从小到大依次是1,2,3,1对应的索引是1,2对应的索引是2,3对应的索引是0\n",
    "    eigValInd = eigValInd[:-(topNfeat+1):-1]\n",
    "    #逆序，从最大到最小的前topNfeat个\n",
    "#除去不需要的特征向量\n",
    "    redeigVects=eigVects[:,eigValInd]  \n",
    "#求新的数据矩阵\n",
    "    lowdataMat = dataMean.dot(redeigVects)\n",
    "#求从低维还原回来的数据\n",
    "    condata = (lowdataMat.dot(redeigVects.T)) + meanVals\n",
    "#输出降完维德数据加均值\n",
    "        #因为降维后的数据是一维的了，所以只能加上dataMat整体的平均数进行恢复了\n",
    "    reducedata=lowdataMat#+meanVals\n",
    "    return reducedata,condata"
   ]
  },
  {
   "cell_type": "code",
   "execution_count": 62,
   "metadata": {},
   "outputs": [
    {
     "data": {
      "text/plain": [
       "[<matplotlib.lines.Line2D at 0x7fe5576e3ad0>]"
      ]
     },
     "execution_count": 62,
     "metadata": {},
     "output_type": "execute_result"
    },
    {
     "data": {
      "image/png": "[encoded data removed]",
      "text/plain": [
       "<Figure size 432x288 with 1 Axes>"
      ]
     },
     "metadata": {
      "needs_background": "light"
     },
     "output_type": "display_data"
    }
   ],
   "source": [
    "x0 = np.linspace(0, 2*np.pi).reshape(-1,1)\n",
    "y0 = np.sin(x0)+np.random.random(x0.shape).reshape(-1,1)\n",
    "plt.plot(x0,y0)"
   ]
  },
  {
   "cell_type": "code",
   "execution_count": 63,
   "metadata": {},
   "outputs": [
    {
     "data": {
      "text/plain": [
       "(1, 50)"
      ]
     },
     "execution_count": 63,
     "metadata": {},
     "output_type": "execute_result"
    }
   ],
   "source": [
    "dataMat = np.array(y0).T\n",
    "dataMat.shape"
   ]
  },
  {
   "cell_type": "code",
   "execution_count": 64,
   "metadata": {},
   "outputs": [
    {
     "name": "stdout",
     "output_type": "stream",
     "text": [
      "(50, 50)\n",
      "(1, 20)\n",
      "(1, 50)\n"
     ]
    }
   ],
   "source": [
    "_, x0y1 = PCA(dataMat,topNfeat=20)\n",
    "print(_.shape)\n",
    "print(x0y1.shape)\n",
    "x0y1 = x0y1.T"
   ]
  },
  {
   "cell_type": "code",
   "execution_count": 65,
   "metadata": {},
   "outputs": [
    {
     "data": {
      "text/plain": [
       "<matplotlib.legend.Legend at 0x7fe557917cd0>"
      ]
     },
     "execution_count": 65,
     "metadata": {},
     "output_type": "execute_result"
    },
    {
     "data": {
      "image/png": "[encoded data removed]",
      "text/plain": [
       "<Figure size 432x288 with 1 Axes>"
      ]
     },
     "metadata": {
      "needs_background": "light"
     },
     "output_type": "display_data"
    }
   ],
   "source": [
    "plt.plot(x0,y0,label=\"model\")\n",
    "plt.plot(x0,x0y1,label=\"rec\")\n",
    "plt.plot(x0,x0y1-y0,label=\"rec-model\")\n",
    "plt.legend()"
   ]
  },
  {
   "cell_type": "code",
   "execution_count": 87,
   "metadata": {},
   "outputs": [],
   "source": [
    "from numpy import *\n",
    "def pcaFun(dataMat,topNfeat=9999999):\n",
    "    # 计算每列的平均值axis=0,计算每行的平均值axis=1\n",
    "    meanVals=mean(dataMat,axis=0);\n",
    "    # 去平均值,shape(dataMat)=(1000, 2),shape(meanVals)=(1, 2)\n",
    "    meanRemoved=dataMat-meanVals;# 可以直接对两个维度不同的矩阵进行运算\n",
    "    # 计算协方差矩阵shape(covMat)=(2, 2)\n",
    "    covMat=cov(meanRemoved,rowvar=0);\n",
    "    # 计算协方差矩阵的特征值和特征向量\n",
    "    eigVals,eigVects=linalg.eig(mat(covMat));\n",
    "    # 对特征值按升序排序\n",
    "    eigValInd=argsort(eigVals);\n",
    "    # 对特征值进行逆序排序\n",
    "    eigValInd=eigValInd[:-(topNfeat+1):-1];\n",
    "    # 计算最大特征值对应的特征向量\n",
    "    redEigVects=eigVects[:,eigValInd];\n",
    "    # 计算降维之后的数据集\n",
    "    lowDDataMat=meanRemoved*redEigVects;\n",
    "    # 重构原始数据\n",
    "    reconMat=(lowDDataMat*redEigVects.T)+meanVals;\n",
    "    return lowDDataMat,reconMat;\n",
    "\n",
    "def plotData(dataMat,reconMat):\n",
    "    # import matplotlib;\n",
    "    # import matplotlib.pyplot as plt;\n",
    "    fig=plt.figure();\n",
    "    ax=fig.add_subplot(111);\n",
    "    ax.scatter(dataMat[:,0],dataMat[:,1],marker='^',s=90);\n",
    "    ax.scatter(reconMat[:,0],reconMat[:,1],marker='o',s=50,c='red');\n",
    "    plt.show();"
   ]
  },
  {
   "cell_type": "code",
   "execution_count": 88,
   "metadata": {},
   "outputs": [
    {
     "data": {
      "text/plain": [
       "(50, 2)"
      ]
     },
     "execution_count": 88,
     "metadata": {},
     "output_type": "execute_result"
    }
   ],
   "source": [
    "x0 = np.linspace(0, 2*np.pi)\n",
    "y0 = np.sin(x0)+np.random.random(x0.shape)\n",
    "dataMat = np.array((x0,y0)).T\n",
    "dataMat.shape"
   ]
  },
  {
   "cell_type": "code",
   "execution_count": 89,
   "metadata": {},
   "outputs": [
    {
     "name": "stdout",
     "output_type": "stream",
     "text": [
      "(50, 1)\n",
      "(50, 2)\n"
     ]
    }
   ],
   "source": [
    "lowDDataMat,reconMat = pcaFun(dataMat,topNfeat=1)\n",
    "print(lowDDataMat.shape)\n",
    "print(reconMat.shape)"
   ]
  },
  {
   "cell_type": "code",
   "execution_count": 90,
   "metadata": {},
   "outputs": [
    {
     "data": {
      "text/plain": [
       "<function matplotlib.pyplot.legend(*args, **kwargs)>"
      ]
     },
     "execution_count": 90,
     "metadata": {},
     "output_type": "execute_result"
    },
    {
     "data": {
      "image/png": "[encoded data removed]",
      "text/plain": [
       "<Figure size 432x288 with 1 Axes>"
      ]
     },
     "metadata": {
      "needs_background": "light"
     },
     "output_type": "display_data"
    }
   ],
   "source": [
    "# plotData(dataMat,reconMat)\n",
    "plt.plot(dataMat[:,0],dataMat[:,1],label=\"model\")\n",
    "plt.plot(reconMat[:,0],reconMat[:,1],label=\"rec\")\n",
    "plt.legend"
   ]
  },
  {
   "cell_type": "code",
   "execution_count": 91,
   "metadata": {},
   "outputs": [
    {
     "name": "stdout",
     "output_type": "stream",
     "text": [
      "[[-1 -1]\n",
      " [-2 -1]\n",
      " [-3 -2]\n",
      " [ 1  1]\n",
      " [ 2  1]\n",
      " [ 3  2]]\n"
     ]
    }
   ],
   "source": [
    "import numpy as np\n",
    "from sklearn.decomposition import PCA\n",
    "X = np.array([[-1, -1], [-2, -1], [-3, -2], [1, 1], [2, 1], [3, 2]])\n",
    "pca = PCA(n_components=2)\n",
    "newX = pca.fit_transform(X)\n",
    "print(X)"
   ]
  },
  {
   "cell_type": "code",
   "execution_count": 92,
   "metadata": {},
   "outputs": [
    {
     "data": {
      "text/plain": [
       "(6, 2)"
      ]
     },
     "execution_count": 92,
     "metadata": {},
     "output_type": "execute_result"
    }
   ],
   "source": [
    "X.shape"
   ]
  },
  {
   "cell_type": "code",
   "execution_count": 93,
   "metadata": {},
   "outputs": [
    {
     "name": "stdout",
     "output_type": "stream",
     "text": [
      "[0.99244289 0.00755711]\n"
     ]
    }
   ],
   "source": [
    "print(pca.explained_variance_ratio_)"
   ]
  },
  {
   "cell_type": "code",
   "execution_count": 95,
   "metadata": {},
   "outputs": [
    {
     "name": "stdout",
     "output_type": "stream",
     "text": [
      "(6, 1)\n",
      "[0.99244289]\n"
     ]
    }
   ],
   "source": [
    "pca = PCA(n_components=1)\n",
    "newX = pca.fit_transform(X)\n",
    "print(newX.shape)\n",
    "print(pca.explained_variance_ratio_)"
   ]
  },
  {
   "cell_type": "code",
   "execution_count": 96,
   "metadata": {},
   "outputs": [],
   "source": [
    "X_rec = pca.inverse_transform(newX)"
   ]
  },
  {
   "cell_type": "code",
   "execution_count": 97,
   "metadata": {},
   "outputs": [
    {
     "name": "stdout",
     "output_type": "stream",
     "text": [
      "[[-1.15997501 -0.75383654]\n",
      " [-1.86304424 -1.21074232]\n",
      " [-3.02301925 -1.96457886]\n",
      " [ 1.15997501  0.75383654]\n",
      " [ 1.86304424  1.21074232]\n",
      " [ 3.02301925  1.96457886]]\n"
     ]
    }
   ],
   "source": [
    "print(X_rec)"
   ]
  },
  {
   "cell_type": "code",
   "execution_count": null,
   "metadata": {},
   "outputs": [],
   "source": []
  }
 ],
 "metadata": {
  "kernelspec": {
   "display_name": "Python 3",
   "language": "python",
   "name": "python3"
  },
  "language_info": {
   "codemirror_mode": {
    "name": "ipython",
    "version": 3
   },
   "file_extension": ".py",
   "mimetype": "text/x-python",
   "name": "python",
   "nbconvert_exporter": "python",
   "pygments_lexer": "ipython3",
   "version": "3.7.5"
  }
 },
 "nbformat": 4,
 "nbformat_minor": 2
}
