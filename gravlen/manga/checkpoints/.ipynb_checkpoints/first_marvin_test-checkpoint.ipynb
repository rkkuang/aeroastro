{
 "cells": [
  {
   "cell_type": "markdown",
   "metadata": {},
   "source": [
    "# Roadmap of Marvin: a tool to visualise and analyse MaNGA data."
   ]
  },
  {
   "cell_type": "code",
   "execution_count": 1,
   "metadata": {},
   "outputs": [
    {
     "name": "stderr",
     "output_type": "stream",
     "text": [
      "/usr/local/lib/python3.7/dist-packages/marvin/extern/marvin_brain/python/brain/__init__.py:97: YAMLLoadWarning: calling yaml.load() without Loader=... is deprecated, as the default Loader is unsafe. Please read https://msg.pyyaml.org/load for full details.\n",
      "  config = yaml.load(open(os.path.join(os.path.dirname(__file__), 'data/brain.yml')))\n",
      "/usr/local/lib/python3.7/dist-packages/marvin/__init__.py:128: YAMLLoadWarning: calling yaml.load() without Loader=... is deprecated, as the default Loader is unsafe. Please read https://msg.pyyaml.org/load for full details.\n",
      "  config = yaml.load(f)\n",
      "/usr/local/lib/python3.7/dist-packages/marvin/extern/tree/python/tree/__init__.py:21: YAMLLoadWarning: calling yaml.load() without Loader=... is deprecated, as the default Loader is unsafe. Please read https://msg.pyyaml.org/load for full details.\n",
      "  config = yaml.load(ff)\n",
      "/usr/local/lib/python3.7/dist-packages/marvin/extern/sdss_access/python/sdss_access/__init__.py:31: YAMLLoadWarning: calling yaml.load() without Loader=... is deprecated, as the default Loader is unsafe. Please read https://msg.pyyaml.org/load for full details.\n",
      "  config = yaml.load(ff)\n",
      "/usr/local/lib/python3.7/dist-packages/marvin/__init__.py:369: MarvinUserWarning: path /home/anything/sas/dr15/manga/spectro/redux/v2_4_3/drpall-v2_4_3.fits cannot be found. Setting drpall to None.\n",
      "  .format(value), MarvinUserWarning)\n",
      "/usr/lib/python3.7/importlib/_bootstrap.py:219: RuntimeWarning: numpy.ufunc size changed, may indicate binary incompatibility. Expected 192 from C header, got 216 from PyObject\n",
      "  return f(*args, **kwds)\n",
      "/usr/lib/python3.7/importlib/_bootstrap.py:219: RuntimeWarning: numpy.ufunc size changed, may indicate binary incompatibility. Expected 192 from C header, got 216 from PyObject\n",
      "  return f(*args, **kwds)\n"
     ]
    },
    {
     "name": "stdout",
     "output_type": "stream",
     "text": [
      "INFO: No release version set. Setting default to DR15\n"
     ]
    },
    {
     "name": "stderr",
     "output_type": "stream",
     "text": [
      "/usr/lib/python3.7/importlib/_bootstrap.py:219: RuntimeWarning: numpy.ufunc size changed, may indicate binary incompatibility. Expected 192 from C header, got 216 from PyObject\n",
      "  return f(*args, **kwds)\n",
      "/usr/lib/python3.7/importlib/_bootstrap.py:219: RuntimeWarning: numpy.ufunc size changed, may indicate binary incompatibility. Expected 192 from C header, got 216 from PyObject\n",
      "  return f(*args, **kwds)\n",
      "/usr/lib/python3.7/importlib/_bootstrap.py:219: RuntimeWarning: numpy.ufunc size changed, may indicate binary incompatibility. Expected 192 from C header, got 216 from PyObject\n",
      "  return f(*args, **kwds)\n",
      "/usr/lib/python3.7/importlib/_bootstrap.py:219: RuntimeWarning: numpy.ufunc size changed, may indicate binary incompatibility. Expected 192 from C header, got 216 from PyObject\n",
      "  return f(*args, **kwds)\n"
     ]
    }
   ],
   "source": [
    "# sudo pip3 install sdss-marvin==2.3.2\n",
    "import marvin"
   ]
  },
  {
   "cell_type": "code",
   "execution_count": 2,
   "metadata": {},
   "outputs": [
    {
     "data": {
      "text/plain": [
       "'2.3.2'"
      ]
     },
     "execution_count": 2,
     "metadata": {},
     "output_type": "execute_result"
    }
   ],
   "source": [
    "marvin.__version__"
   ]
  },
  {
   "cell_type": "code",
   "execution_count": 14,
   "metadata": {},
   "outputs": [],
   "source": [
    "# All the Tools classes can be accessed from the marvin.tools module. Let’s load a DRP Cube\n",
    "my_cube = marvin.tools.Cube('8485-1901')\n",
    "# my_cube\n",
    "# All tools provide quick access to some basic metadata\n",
    "# print(my_cube.filename, my_cube.plateifu, my_cube.mangaid, my_cube.release)\n",
    "# print(my_cube.ra, my_cube.dec)\n",
    "# Similarly we can access the header of the file and the WCS object\n",
    "# my_cube.header\n",
    "# my_cube.wcs\n",
    "\n",
    "# What is more, we can access the datamodel of the cube file, which show us what extensions are available, how they are named in Marvin, and what they contain\n",
    "# datamodel = my_cube.datamodel\n",
    "# datamodel\n",
    "# datamodel.datacubes\n",
    "# datamodel.spectra\n",
    "\n",
    "# This tells us that this cube has two associated 3D datacubes, 'flux', 'dispersion', and 'dispersion_prepixel', and two associated spectra, 'spectral_resolution' and 'spectral_resolution_prepixel', as well as their associated units. We can get a desciption of what each of them\n",
    "\n",
    "# datamodel.datacubes.flux.description\n",
    "# datamodel.datacubes.dispersion.description"
   ]
  },
  {
   "cell_type": "code",
   "execution_count": 15,
   "metadata": {},
   "outputs": [
    {
     "data": {
      "text/plain": [
       "<Marvin Cube (plateifu='8485-1901', mode='remote', data_origin='api')>"
      ]
     },
     "execution_count": 15,
     "metadata": {},
     "output_type": "execute_result"
    }
   ],
   "source": [
    "my_cube"
   ]
  },
  {
   "cell_type": "code",
   "execution_count": 16,
   "metadata": {},
   "outputs": [
    {
     "data": {
      "text/latex": [
       "$[] \\; \\mathrm{1 \\times 10^{-17}\\,\\frac{erg}{\\mathring{A}\\,s\\,spaxel\\,cm^{2}}}$"
      ],
      "text/plain": [
       "<DataCube [] 1e-17 erg / (Angstrom cm2 s spaxel)>"
      ]
     },
     "execution_count": 16,
     "metadata": {},
     "output_type": "execute_result"
    }
   ],
   "source": [
    "flux = my_cube.flux\n",
    "# flux[:, 50:60, 50:60]"
   ]
  },
  {
   "cell_type": "code",
   "execution_count": 22,
   "metadata": {},
   "outputs": [
    {
     "name": "stdout",
     "output_type": "stream",
     "text": [
      "[0. 0. 0. ... 0. 0. 0.] 1e-17 erg / (Angstrom cm2 s spaxel)\n"
     ]
    },
    {
     "name": "stderr",
     "output_type": "stream",
     "text": [
      "WARNING: AstropyDeprecationWarning: The truth value of a Quantity is ambiguous. In the future this will raise a ValueError. [astropy.units.quantity]\n"
     ]
    },
    {
     "data": {
      "text/plain": [
       "<matplotlib.axes._subplots.AxesSubplot at 0x7fbcf47b9a50>"
      ]
     },
     "execution_count": 22,
     "metadata": {},
     "output_type": "execute_result"
    },
    {
     "data": {
      "image/png": "[encoded data removed]",
      "text/plain": [
       "<Figure size 432x288 with 1 Axes>"
      ]
     },
     "metadata": {},
     "output_type": "display_data"
    }
   ],
   "source": [
    "# Or get a single spectrum and plot it:\n",
    "spectrum = flux[:, 1, 2]\n",
    "print(spectrum)\n",
    "spectrum.plot(show_std=True)"
   ]
  },
  {
   "cell_type": "code",
   "execution_count": null,
   "metadata": {},
   "outputs": [],
   "source": [
    "# From a DRP cube we can get the associated DAP Maps object for a certain bintype\n",
    "hyb_maps = my_cube.getMaps(bintype='HYB10')"
   ]
  },
  {
   "cell_type": "code",
   "execution_count": null,
   "metadata": {},
   "outputs": [],
   "source": [
    "hyb_maps.datamodel"
   ]
  },
  {
   "cell_type": "code",
   "execution_count": null,
   "metadata": {},
   "outputs": [],
   "source": [
    "hyb_maps.datamodel.spx_skycoo_on_sky_x.description"
   ]
  },
  {
   "cell_type": "code",
   "execution_count": null,
   "metadata": {},
   "outputs": [],
   "source": [
    "my_cube = marvin.tools.Maps('7443-12703')\n",
    "ha = my_cube.emline_gflux_ha_6564\n",
    "fig, ax = ha.plot()"
   ]
  },
  {
   "cell_type": "code",
   "execution_count": null,
   "metadata": {},
   "outputs": [],
   "source": [
    "hyb_maps.target_flags"
   ]
  },
  {
   "cell_type": "code",
   "execution_count": null,
   "metadata": {},
   "outputs": [],
   "source": [
    "hyb_maps.quality_flag"
   ]
  },
  {
   "cell_type": "code",
   "execution_count": null,
   "metadata": {},
   "outputs": [],
   "source": [
    "my_cube.nsa"
   ]
  },
  {
   "cell_type": "code",
   "execution_count": null,
   "metadata": {},
   "outputs": [],
   "source": [
    "my_maps.dapall"
   ]
  },
  {
   "cell_type": "code",
   "execution_count": null,
   "metadata": {},
   "outputs": [],
   "source": [
    "remote_cube = marvin.tools.Cube('8485-1902')\n",
    "remote_cube"
   ]
  },
  {
   "cell_type": "code",
   "execution_count": null,
   "metadata": {},
   "outputs": [],
   "source": [
    "remote_cube.download()"
   ]
  },
  {
   "cell_type": "code",
   "execution_count": null,
   "metadata": {},
   "outputs": [
    {
     "name": "stderr",
     "output_type": "stream",
     "text": [
      "Sentry responded with an error: <urlopen error timed out> (url: https://sentry.io/api/107924/store/)\n",
      "Traceback (most recent call last):\n",
      "  File \"/usr/lib/python3.7/urllib/request.py\", line 1317, in do_open\n",
      "    encode_chunked=req.has_header('Transfer-encoding'))\n",
      "  File \"/usr/lib/python3.7/http/client.py\", line 1252, in request\n",
      "    self._send_request(method, url, body, headers, encode_chunked)\n",
      "  File \"/usr/lib/python3.7/http/client.py\", line 1298, in _send_request\n",
      "    self.endheaders(body, encode_chunked=encode_chunked)\n",
      "  File \"/usr/lib/python3.7/http/client.py\", line 1247, in endheaders\n",
      "    self._send_output(message_body, encode_chunked=encode_chunked)\n",
      "  File \"/usr/lib/python3.7/http/client.py\", line 1026, in _send_output\n",
      "    self.send(msg)\n",
      "  File \"/usr/lib/python3.7/http/client.py\", line 966, in send\n",
      "    self.connect()\n",
      "  File \"/usr/local/lib/python3.7/dist-packages/raven/utils/http.py\", line 31, in connect\n",
      "    timeout=self.timeout,\n",
      "  File \"/usr/lib/python3.7/socket.py\", line 727, in create_connection\n",
      "    raise err\n",
      "  File \"/usr/lib/python3.7/socket.py\", line 716, in create_connection\n",
      "    sock.connect(sa)\n",
      "socket.timeout: timed out\n",
      "\n",
      "During handling of the above exception, another exception occurred:\n",
      "\n",
      "Traceback (most recent call last):\n",
      "  File \"/usr/local/lib/python3.7/dist-packages/raven/transport/threaded.py\", line 165, in send_sync\n",
      "    super(ThreadedHTTPTransport, self).send(url, data, headers)\n",
      "  File \"/usr/local/lib/python3.7/dist-packages/raven/transport/http.py\", line 43, in send\n",
      "    ca_certs=self.ca_certs,\n",
      "  File \"/usr/local/lib/python3.7/dist-packages/raven/utils/http.py\", line 66, in urlopen\n",
      "    return opener.open(url, data, timeout)\n",
      "  File \"/usr/lib/python3.7/urllib/request.py\", line 525, in open\n",
      "    response = self._open(req, data)\n",
      "  File \"/usr/lib/python3.7/urllib/request.py\", line 543, in _open\n",
      "    '_open', req)\n",
      "  File \"/usr/lib/python3.7/urllib/request.py\", line 503, in _call_chain\n",
      "    result = func(*args)\n",
      "  File \"/usr/local/lib/python3.7/dist-packages/raven/utils/http.py\", line 46, in https_open\n",
      "    return self.do_open(ValidHTTPSConnection, req)\n",
      "  File \"/usr/lib/python3.7/urllib/request.py\", line 1319, in do_open\n",
      "    raise URLError(err)\n",
      "urllib.error.URLError: <urlopen error timed out>\n",
      "[\"BrainError: Requests Connection Error: HTTPSConnectionPool(host='dr15.sdss.org', port=443): Read timed out.\", '  File \"marvin/tools/cube.py\", line 407, in _get_extension_data', '  File \"marvin/tools/core.py\", line 132, in _toolInteraction', '  File \"brain/api/api.py\", line 56, in __init__', '  File \"brain/api/api.py\", line 288, in _sendRequest']\n"
     ]
    }
   ],
   "source": [
    "new_cube = marvin.tools.Cube('8485-1902')\n",
    "new_cube"
   ]
  },
  {
   "cell_type": "code",
   "execution_count": null,
   "metadata": {},
   "outputs": [],
   "source": []
  }
 ],
 "metadata": {
  "kernelspec": {
   "display_name": "Python 3",
   "language": "python",
   "name": "python3"
  },
  "language_info": {
   "codemirror_mode": {
    "name": "ipython",
    "version": 3
   },
   "file_extension": ".py",
   "mimetype": "text/x-python",
   "name": "python",
   "nbconvert_exporter": "python",
   "pygments_lexer": "ipython3",
   "version": "3.7.5"
  }
 },
 "nbformat": 4,
 "nbformat_minor": 2
}
