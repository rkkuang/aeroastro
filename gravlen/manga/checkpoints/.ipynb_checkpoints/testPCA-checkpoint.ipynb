{
 "cells": [
  {
   "cell_type": "markdown",
   "metadata": {},
   "source": [
    "# tesing PCA"
   ]
  },
  {
   "cell_type": "code",
   "execution_count": 1,
   "metadata": {},
   "outputs": [],
   "source": [
    "from sklearn.decomposition import PCA\n",
    "import numpy as np\n",
    "import matplotlib.pyplot as plt"
   ]
  },
  {
   "cell_type": "code",
   "execution_count": 35,
   "metadata": {},
   "outputs": [],
   "source": [
    "# X_train = np.sin(np.linspace(0, 2*np.pi)).reshape(1, -1)\n",
    "# plt.plot(X_train[0,:])\n",
    "# X_train.shape"
   ]
  },
  {
   "cell_type": "code",
   "execution_count": 36,
   "metadata": {},
   "outputs": [],
   "source": [
    "# pca = PCA(n_components=2)\n",
    "# X_train2 = pca.fit_transform(X_train)\n",
    "# # X_test = pca.transform(X_test)"
   ]
  },
  {
   "cell_type": "code",
   "execution_count": 37,
   "metadata": {},
   "outputs": [],
   "source": [
    "# plt.plot(X_train)"
   ]
  },
  {
   "cell_type": "code",
   "execution_count": 38,
   "metadata": {},
   "outputs": [],
   "source": [
    "# from numpy import *\n",
    "\n",
    "# '''通过方差的百分比来计算将数据降到多少维是比较合适的，\n",
    "# 函数传入的参数是特征值和百分比percentage，返回需要降到的维度数num'''\n",
    "# def eigValPct(eigVals,percentage):\n",
    "#     #使用numpy中的sort()对特征值按照从小到大排序\n",
    "#     sortArray=sort(eigVals)\n",
    "#     #特征值从大到小排序\n",
    "#     sortArray=sortArray[-1::-1]\n",
    "#     #数据全部的方差arraySum\n",
    "#     arraySum=sum(sortArray)\n",
    "#     tempSum=0\n",
    "#     num=0\n",
    "#     for i in sortArray:\n",
    "#         tempSum+=i\n",
    "#         num+=i\n",
    "#         if tempsum>=arraySum*percentage:\n",
    "#             return num\n",
    "\n",
    "# '''pca函数有两个参数，其中dataMat是已经转换成矩阵matrix形式的数据集，列表示特征；\n",
    "# 其中的percentage表示取前多少个特征需要达到的方差占比，默认为0.9'''\n",
    "# def pca(dataMat,percentage=0.9):\n",
    "#     #对每一列求平均值，因为协方差的计算中需要减去均值\n",
    "#     meanVals=mean(dataMat,axis=0)\n",
    "#     meanRemoved=dataMat-meanVals\n",
    "#     #cov()计算方差\n",
    "#     covMat=cov(meanRemoved,rowvar=0)\n",
    "#     #利用numpy中寻找特征值和特征向量的模块linalg中的eig()方法\n",
    "#     eigVals,eigVects=linalg.eig(mat(covMat))\n",
    "#     #要达到方差的百分比percentage，需要前k个向量\n",
    "#     k=eigValPct(eigVals,percentage)\n",
    "#     #对特征值eigVals从小到大排序\n",
    "#     eigValInd=argsort(eigVals)\n",
    "#     #从排好序的特征值，从后往前取k个，这样就实现了特征值的从大到小排列\n",
    "#     eigValInd=eigValInd[:-(k+1):-1]\n",
    "#     #返回排序后特征值对应的特征向量redEigVects（主成分）\n",
    "#     redEigVects=eigVects[:,eigValInd]\n",
    "#     #将原始数据投影到主成分上得到新的低维数据lowDDataMat\n",
    "#     lowDDataMat=meanRemoved*redEigVects\n",
    "#     #得到重构数据reconMat\n",
    "#     reconMat=(lowDDataMat*redEigVects.T)+meanVals\n",
    "#     return lowDDataMat,reconMat"
   ]
  },
  {
   "cell_type": "code",
   "execution_count": 61,
   "metadata": {},
   "outputs": [],
   "source": [
    "# https://www.jianshu.com/p/044a7783980f\n",
    "def PCA(dataMat,topNfeat=5):\n",
    "#topNfeat=5 默认选择前五个最大的特征值\n",
    "#减去均值 \n",
    "    meanVals = np.mean(dataMat,axis = 0)\n",
    "    dataMean = dataMat - meanVals\n",
    "#求协方差方阵 \n",
    "    conMat = dataMean.T.dot(dataMean)\n",
    "    print(conMat.shape)\n",
    "#求特征值和特征向量\n",
    "    eigVals,eigVects = np.linalg.eig(conMat)  \n",
    "#对特征值进行排序  \n",
    "    eigValInd = np.argsort(eigVals)\n",
    "    #得到的eigValInd是从小到大的排列，对应的原数据中该元素的索引\n",
    "    #x = np.array([3, 1, 2])\n",
    "    #np.argsort(x)\n",
    "    #array([1, 2, 0])\n",
    "    #从小到大依次是1,2,3,1对应的索引是1,2对应的索引是2,3对应的索引是0\n",
    "    eigValInd = eigValInd[:-(topNfeat+1):-1]\n",
    "    #逆序，从最大到最小的前topNfeat个\n",
    "#除去不需要的特征向量\n",
    "    redeigVects=eigVects[:,eigValInd]  \n",
    "#求新的数据矩阵\n",
    "    lowdataMat = dataMean.dot(redeigVects)\n",
    "#求从低维还原回来的数据\n",
    "    condata = (lowdataMat.dot(redeigVects.T)) + meanVals\n",
    "#输出降完维德数据加均值\n",
    "        #因为降维后的数据是一维的了，所以只能加上dataMat整体的平均数进行恢复了\n",
    "    reducedata=lowdataMat#+meanVals\n",
    "    return reducedata,condata"
   ]
  },
  {
   "cell_type": "code",
   "execution_count": 62,
   "metadata": {},
   "outputs": [
    {
     "data": {
      "text/plain": [
       "[<matplotlib.lines.Line2D at 0x7fe5576e3ad0>]"
      ]
     },
     "execution_count": 62,
     "metadata": {},
     "output_type": "execute_result"
    },
    {
     "data": {
      "image/png": "[encoded data removed]",
      "text/plain": [
       "<Figure size 432x288 with 1 Axes>"
      ]
     },
     "metadata": {
      "needs_background": "light"
     },
     "output_type": "display_data"
    }
   ],
   "source": [
    "x0 = np.linspace(0, 2*np.pi).reshape(-1,1)\n",
    "y0 = np.sin(x0)+np.random.random(x0.shape).reshape(-1,1)\n",
    "plt.plot(x0,y0)"
   ]
  },
  {
   "cell_type": "code",
   "execution_count": 63,
   "metadata": {},
   "outputs": [
    {
     "data": {
      "text/plain": [
       "(1, 50)"
      ]
     },
     "execution_count": 63,
     "metadata": {},
     "output_type": "execute_result"
    }
   ],
   "source": [
    "dataMat = np.array(y0).T\n",
    "dataMat.shape"
   ]
  },
  {
   "cell_type": "code",
   "execution_count": 64,
   "metadata": {},
   "outputs": [
    {
     "name": "stdout",
     "output_type": "stream",
     "text": [
      "(50, 50)\n",
      "(1, 20)\n",
      "(1, 50)\n"
     ]
    }
   ],
   "source": [
    "_, x0y1 = PCA(dataMat,topNfeat=20)\n",
    "print(_.shape)\n",
    "print(x0y1.shape)\n",
    "x0y1 = x0y1.T"
   ]
  },
  {
   "cell_type": "code",
   "execution_count": 65,
   "metadata": {},
   "outputs": [
    {
     "data": {
      "text/plain": [
       "<matplotlib.legend.Legend at 0x7fe557917cd0>"
      ]
     },
     "execution_count": 65,
     "metadata": {},
     "output_type": "execute_result"
    },
    {
     "data": {
      "image/png": "[encoded data removed]",
      "text/plain": [
       "<Figure size 432x288 with 1 Axes>"
      ]
     },
     "metadata": {
      "needs_background": "light"
     },
     "output_type": "display_data"
    }
   ],
   "source": [
    "plt.plot(x0,y0,label=\"model\")\n",
    "plt.plot(x0,x0y1,label=\"rec\")\n",
    "plt.plot(x0,x0y1-y0,label=\"rec-model\")\n",
    "plt.legend()"
   ]
  },
  {
   "cell_type": "code",
   "execution_count": 81,
   "metadata": {},
   "outputs": [],
   "source": [
    "from numpy import *\n",
    "def pcaFun(dataMat,topNfeat=9999999):\n",
    "    # 计算每列的平均值axis=0,计算每行的平均值axis=1\n",
    "    meanVals=mean(dataMat,axis=0);\n",
    "    # 去平均值,shape(dataMat)=(1000, 2),shape(meanVals)=(1, 2)\n",
    "    meanRemoved=dataMat-meanVals;# 可以直接对两个维度不同的矩阵进行运算\n",
    "    # 计算协方差矩阵shape(covMat)=(2, 2)\n",
    "    covMat=cov(meanRemoved,rowvar=0);\n",
    "    # 计算协方差矩阵的特征值和特征向量\n",
    "    eigVals,eigVects=linalg.eig(mat(covMat));\n",
    "    # 对特征值按升序排序\n",
    "    eigValInd=argsort(eigVals);\n",
    "    # 对特征值进行逆序排序\n",
    "    eigValInd=eigValInd[:-(topNfeat+1):-1];\n",
    "    # 计算最大特征值对应的特征向量\n",
    "    redEigVects=eigVects[:,eigValInd];\n",
    "    # 计算降维之后的数据集\n",
    "    lowDDataMat=meanRemoved*redEigVects;\n",
    "    # 重构原始数据\n",
    "    reconMat=(lowDDataMat*redEigVects.T)+meanVals;\n",
    "    return lowDDataMat,reconMat;\n",
    "\n",
    "def plotData(dataMat,reconMat):\n",
    "    # import matplotlib;\n",
    "    # import matplotlib.pyplot as plt;\n",
    "    fig=plt.figure();\n",
    "    ax=fig.add_subplot(111);\n",
    "    ax.scatter(dataMat[:,0],dataMat[:,1],marker='^',s=90);\n",
    "    ax.scatter(reconMat[:,0],reconMat[:,1],marker='o',s=50,c='red');\n",
    "    plt.show();"
   ]
  },
  {
   "cell_type": "code",
   "execution_count": 82,
   "metadata": {},
   "outputs": [
    {
     "data": {
      "text/plain": [
       "(50, 2)"
      ]
     },
     "execution_count": 82,
     "metadata": {},
     "output_type": "execute_result"
    }
   ],
   "source": [
    "x0 = np.linspace(0, 2*np.pi)\n",
    "y0 = np.sin(x0)+np.random.random(x0.shape)\n",
    "dataMat = np.array((x0,y0)).T\n",
    "dataMat.shape"
   ]
  },
  {
   "cell_type": "code",
   "execution_count": 83,
   "metadata": {},
   "outputs": [
    {
     "name": "stdout",
     "output_type": "stream",
     "text": [
      "(50, 1)\n",
      "(50, 2)\n"
     ]
    }
   ],
   "source": [
    "lowDDataMat,reconMat = pcaFun(dataMat,topNfeat=1)\n",
    "print(lowDDataMat.shape)\n",
    "print(reconMat.shape)"
   ]
  },
  {
   "cell_type": "code",
   "execution_count": 84,
   "metadata": {},
   "outputs": [
    {
     "ename": "ValueError",
     "evalue": "Masked arrays must be 1-D",
     "output_type": "error",
     "traceback": [
      "\u001b[0;31m-----------------------------------------------\u001b[0m",
      "\u001b[0;31mValueError\u001b[0m    Traceback (most recent call last)",
      "\u001b[0;32m<ipython-input-84-5e1d61980f16>\u001b[0m in \u001b[0;36m<module>\u001b[0;34m\u001b[0m\n\u001b[0;32m----> 1\u001b[0;31m \u001b[0mplotData\u001b[0m\u001b[0;34m(\u001b[0m\u001b[0mdataMat\u001b[0m\u001b[0;34m,\u001b[0m\u001b[0mreconMat\u001b[0m\u001b[0;34m)\u001b[0m\u001b[0;34m\u001b[0m\u001b[0;34m\u001b[0m\u001b[0m\n\u001b[0m",
      "\u001b[0;32m<ipython-input-81-471c9a40d913>\u001b[0m in \u001b[0;36mplotData\u001b[0;34m(dataMat, reconMat)\u001b[0m\n\u001b[1;32m     27\u001b[0m     \u001b[0max\u001b[0m\u001b[0;34m=\u001b[0m\u001b[0mfig\u001b[0m\u001b[0;34m.\u001b[0m\u001b[0madd_subplot\u001b[0m\u001b[0;34m(\u001b[0m\u001b[0;36m111\u001b[0m\u001b[0;34m)\u001b[0m\u001b[0;34m;\u001b[0m\u001b[0;34m\u001b[0m\u001b[0;34m\u001b[0m\u001b[0m\n\u001b[1;32m     28\u001b[0m     \u001b[0max\u001b[0m\u001b[0;34m.\u001b[0m\u001b[0mscatter\u001b[0m\u001b[0;34m(\u001b[0m\u001b[0mdataMat\u001b[0m\u001b[0;34m[\u001b[0m\u001b[0;34m:\u001b[0m\u001b[0;34m,\u001b[0m\u001b[0;36m0\u001b[0m\u001b[0;34m]\u001b[0m\u001b[0;34m,\u001b[0m\u001b[0mdataMat\u001b[0m\u001b[0;34m[\u001b[0m\u001b[0;34m:\u001b[0m\u001b[0;34m,\u001b[0m\u001b[0;36m1\u001b[0m\u001b[0;34m]\u001b[0m\u001b[0;34m,\u001b[0m\u001b[0mmarker\u001b[0m\u001b[0;34m=\u001b[0m\u001b[0;34m'^'\u001b[0m\u001b[0;34m,\u001b[0m\u001b[0ms\u001b[0m\u001b[0;34m=\u001b[0m\u001b[0;36m90\u001b[0m\u001b[0;34m)\u001b[0m\u001b[0;34m;\u001b[0m\u001b[0;34m\u001b[0m\u001b[0;34m\u001b[0m\u001b[0m\n\u001b[0;32m---> 29\u001b[0;31m     \u001b[0max\u001b[0m\u001b[0;34m.\u001b[0m\u001b[0mscatter\u001b[0m\u001b[0;34m(\u001b[0m\u001b[0mreconMat\u001b[0m\u001b[0;34m[\u001b[0m\u001b[0;34m:\u001b[0m\u001b[0;34m,\u001b[0m\u001b[0;36m0\u001b[0m\u001b[0;34m]\u001b[0m\u001b[0;34m,\u001b[0m\u001b[0mreconMat\u001b[0m\u001b[0;34m[\u001b[0m\u001b[0;34m:\u001b[0m\u001b[0;34m,\u001b[0m\u001b[0;36m1\u001b[0m\u001b[0;34m]\u001b[0m\u001b[0;34m,\u001b[0m\u001b[0mmarker\u001b[0m\u001b[0;34m=\u001b[0m\u001b[0;34m'o'\u001b[0m\u001b[0;34m,\u001b[0m\u001b[0ms\u001b[0m\u001b[0;34m=\u001b[0m\u001b[0;36m50\u001b[0m\u001b[0;34m,\u001b[0m\u001b[0mc\u001b[0m\u001b[0;34m=\u001b[0m\u001b[0;34m'red'\u001b[0m\u001b[0;34m)\u001b[0m\u001b[0;34m;\u001b[0m\u001b[0;34m\u001b[0m\u001b[0;34m\u001b[0m\u001b[0m\n\u001b[0m\u001b[1;32m     30\u001b[0m     \u001b[0mplt\u001b[0m\u001b[0;34m.\u001b[0m\u001b[0mshow\u001b[0m\u001b[0;34m(\u001b[0m\u001b[0;34m)\u001b[0m\u001b[0;34m;\u001b[0m\u001b[0;34m\u001b[0m\u001b[0;34m\u001b[0m\u001b[0m\n",
      "\u001b[0;32m/usr/local/lib/python3.7/dist-packages/matplotlib/__init__.py\u001b[0m in \u001b[0;36minner\u001b[0;34m(ax, data, *args, **kwargs)\u001b[0m\n\u001b[1;32m   1808\u001b[0m                         \u001b[0;34m\"the Matplotlib list!)\"\u001b[0m \u001b[0;34m%\u001b[0m \u001b[0;34m(\u001b[0m\u001b[0mlabel_namer\u001b[0m\u001b[0;34m,\u001b[0m \u001b[0mfunc\u001b[0m\u001b[0;34m.\u001b[0m\u001b[0m__name__\u001b[0m\u001b[0;34m)\u001b[0m\u001b[0;34m,\u001b[0m\u001b[0;34m\u001b[0m\u001b[0;34m\u001b[0m\u001b[0m\n\u001b[1;32m   1809\u001b[0m                         RuntimeWarning, stacklevel=2)\n\u001b[0;32m-> 1810\u001b[0;31m             \u001b[0;32mreturn\u001b[0m \u001b[0mfunc\u001b[0m\u001b[0;34m(\u001b[0m\u001b[0max\u001b[0m\u001b[0;34m,\u001b[0m \u001b[0;34m*\u001b[0m\u001b[0margs\u001b[0m\u001b[0;34m,\u001b[0m \u001b[0;34m**\u001b[0m\u001b[0mkwargs\u001b[0m\u001b[0;34m)\u001b[0m\u001b[0;34m\u001b[0m\u001b[0;34m\u001b[0m\u001b[0m\n\u001b[0m\u001b[1;32m   1811\u001b[0m \u001b[0;34m\u001b[0m\u001b[0m\n\u001b[1;32m   1812\u001b[0m         inner.__doc__ = _add_data_doc(inner.__doc__,\n",
      "\u001b[0;32m/usr/local/lib/python3.7/dist-packages/matplotlib/axes/_axes.py\u001b[0m in \u001b[0;36mscatter\u001b[0;34m(self, x, y, s, c, marker, cmap, norm, vmin, vmax, alpha, linewidths, verts, edgecolors, **kwargs)\u001b[0m\n\u001b[1;32m   4260\u001b[0m         \u001b[0mx\u001b[0m\u001b[0;34m,\u001b[0m \u001b[0my\u001b[0m\u001b[0;34m,\u001b[0m \u001b[0ms\u001b[0m\u001b[0;34m,\u001b[0m \u001b[0mc\u001b[0m\u001b[0;34m,\u001b[0m \u001b[0mcolors\u001b[0m\u001b[0;34m,\u001b[0m \u001b[0medgecolors\u001b[0m\u001b[0;34m,\u001b[0m \u001b[0mlinewidths\u001b[0m \u001b[0;34m=\u001b[0m\u001b[0;31m\\\u001b[0m\u001b[0;34m\u001b[0m\u001b[0;34m\u001b[0m\u001b[0m\n\u001b[1;32m   4261\u001b[0m             cbook.delete_masked_points(\n\u001b[0;32m-> 4262\u001b[0;31m                 x, y, s, c, colors, edgecolors, linewidths)\n\u001b[0m\u001b[1;32m   4263\u001b[0m \u001b[0;34m\u001b[0m\u001b[0m\n\u001b[1;32m   4264\u001b[0m         \u001b[0mscales\u001b[0m \u001b[0;34m=\u001b[0m \u001b[0ms\u001b[0m   \u001b[0;31m# Renamed for readability below.\u001b[0m\u001b[0;34m\u001b[0m\u001b[0;34m\u001b[0m\u001b[0m\n",
      "\u001b[0;32m/usr/local/lib/python3.7/dist-packages/matplotlib/cbook/__init__.py\u001b[0m in \u001b[0;36mdelete_masked_points\u001b[0;34m(*args)\u001b[0m\n\u001b[1;32m   1030\u001b[0m             \u001b[0;32mif\u001b[0m \u001b[0misinstance\u001b[0m\u001b[0;34m(\u001b[0m\u001b[0mx\u001b[0m\u001b[0;34m,\u001b[0m \u001b[0mnp\u001b[0m\u001b[0;34m.\u001b[0m\u001b[0mma\u001b[0m\u001b[0;34m.\u001b[0m\u001b[0mMaskedArray\u001b[0m\u001b[0;34m)\u001b[0m\u001b[0;34m:\u001b[0m\u001b[0;34m\u001b[0m\u001b[0;34m\u001b[0m\u001b[0m\n\u001b[1;32m   1031\u001b[0m                 \u001b[0;32mif\u001b[0m \u001b[0mx\u001b[0m\u001b[0;34m.\u001b[0m\u001b[0mndim\u001b[0m \u001b[0;34m>\u001b[0m \u001b[0;36m1\u001b[0m\u001b[0;34m:\u001b[0m\u001b[0;34m\u001b[0m\u001b[0;34m\u001b[0m\u001b[0m\n\u001b[0;32m-> 1032\u001b[0;31m                     \u001b[0;32mraise\u001b[0m \u001b[0mValueError\u001b[0m\u001b[0;34m(\u001b[0m\u001b[0;34m\"Masked arrays must be 1-D\"\u001b[0m\u001b[0;34m)\u001b[0m\u001b[0;34m\u001b[0m\u001b[0;34m\u001b[0m\u001b[0m\n\u001b[0m\u001b[1;32m   1033\u001b[0m             \u001b[0;32melse\u001b[0m\u001b[0;34m:\u001b[0m\u001b[0;34m\u001b[0m\u001b[0;34m\u001b[0m\u001b[0m\n\u001b[1;32m   1034\u001b[0m                 \u001b[0mx\u001b[0m \u001b[0;34m=\u001b[0m \u001b[0mnp\u001b[0m\u001b[0;34m.\u001b[0m\u001b[0masarray\u001b[0m\u001b[0;34m(\u001b[0m\u001b[0mx\u001b[0m\u001b[0;34m)\u001b[0m\u001b[0;34m\u001b[0m\u001b[0;34m\u001b[0m\u001b[0m\n",
      "\u001b[0;31mValueError\u001b[0m: Masked arrays must be 1-D"
     ]
    },
    {
     "data": {
      "image/png": "[encoded data removed]",
      "text/plain": [
       "<Figure size 432x288 with 1 Axes>"
      ]
     },
     "metadata": {
      "needs_background": "light"
     },
     "output_type": "display_data"
    }
   ],
   "source": [
    "# plotData(dataMat,reconMat)\n",
    "plt.plot()"
   ]
  },
  {
   "cell_type": "code",
   "execution_count": null,
   "metadata": {},
   "outputs": [],
   "source": []
  }
 ],
 "metadata": {
  "kernelspec": {
   "display_name": "Python 3",
   "language": "python",
   "name": "python3"
  },
  "language_info": {
   "codemirror_mode": {
    "name": "ipython",
    "version": 3
   },
   "file_extension": ".py",
   "mimetype": "text/x-python",
   "name": "python",
   "nbconvert_exporter": "python",
   "pygments_lexer": "ipython3",
   "version": "3.7.5"
  }
 },
 "nbformat": 4,
 "nbformat_minor": 2
}
