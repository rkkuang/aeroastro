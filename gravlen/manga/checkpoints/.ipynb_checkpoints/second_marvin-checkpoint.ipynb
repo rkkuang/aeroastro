{
 "cells": [
  {
   "cell_type": "markdown",
   "metadata": {},
   "source": [
    "# Roadmap of Marvin: a tool to visualise and analyse MaNGA data."
   ]
  },
  {
   "cell_type": "markdown",
   "metadata": {},
   "source": [
    "This documentation assumes that you are familiar with MaNGA data and its acronyms. If that is not your case, consider reading https://www.sdss.org/dr15/manga/getting-started/."
   ]
  },
  {
   "cell_type": "markdown",
   "metadata": {},
   "source": [
    "https://sdss-marvin.readthedocs.io/en/latest/getting-started.html\n",
    "All the Tools classes can be accessed from the marvin.tools module. Let’s load a DRP Cube"
   ]
  },
  {
   "cell_type": "code",
   "execution_count": 1,
   "metadata": {},
   "outputs": [
    {
     "name": "stderr",
     "output_type": "stream",
     "text": [
      "/usr/local/lib/python3.7/dist-packages/marvin/extern/marvin_brain/python/brain/__init__.py:97: YAMLLoadWarning: calling yaml.load() without Loader=... is deprecated, as the default Loader is unsafe. Please read https://msg.pyyaml.org/load for full details.\n",
      "  config = yaml.load(open(os.path.join(os.path.dirname(__file__), 'data/brain.yml')))\n",
      "/usr/local/lib/python3.7/dist-packages/marvin/__init__.py:128: YAMLLoadWarning: calling yaml.load() without Loader=... is deprecated, as the default Loader is unsafe. Please read https://msg.pyyaml.org/load for full details.\n",
      "  config = yaml.load(f)\n",
      "/usr/local/lib/python3.7/dist-packages/marvin/extern/tree/python/tree/__init__.py:21: YAMLLoadWarning: calling yaml.load() without Loader=... is deprecated, as the default Loader is unsafe. Please read https://msg.pyyaml.org/load for full details.\n",
      "  config = yaml.load(ff)\n",
      "/usr/local/lib/python3.7/dist-packages/marvin/extern/sdss_access/python/sdss_access/__init__.py:31: YAMLLoadWarning: calling yaml.load() without Loader=... is deprecated, as the default Loader is unsafe. Please read https://msg.pyyaml.org/load for full details.\n",
      "  config = yaml.load(ff)\n",
      "/usr/local/lib/python3.7/dist-packages/marvin/__init__.py:369: MarvinUserWarning: path /home/anything/sas/mangawork/manga/spectro/redux/v2_5_3/drpall-v2_5_3.fits cannot be found. Setting drpall to None.\n",
      "  .format(value), MarvinUserWarning)\n",
      "/usr/lib/python3.7/importlib/_bootstrap.py:219: RuntimeWarning: numpy.ufunc size changed, may indicate binary incompatibility. Expected 192 from C header, got 216 from PyObject\n",
      "  return f(*args, **kwds)\n",
      "/usr/lib/python3.7/importlib/_bootstrap.py:219: RuntimeWarning: numpy.ufunc size changed, may indicate binary incompatibility. Expected 192 from C header, got 216 from PyObject\n",
      "  return f(*args, **kwds)\n"
     ]
    },
    {
     "name": "stdout",
     "output_type": "stream",
     "text": [
      "INFO: No release version set. Setting default to MPL-8\n"
     ]
    },
    {
     "name": "stderr",
     "output_type": "stream",
     "text": [
      "/usr/lib/python3.7/importlib/_bootstrap.py:219: RuntimeWarning: numpy.ufunc size changed, may indicate binary incompatibility. Expected 192 from C header, got 216 from PyObject\n",
      "  return f(*args, **kwds)\n",
      "/usr/lib/python3.7/importlib/_bootstrap.py:219: RuntimeWarning: numpy.ufunc size changed, may indicate binary incompatibility. Expected 192 from C header, got 216 from PyObject\n",
      "  return f(*args, **kwds)\n",
      "/usr/lib/python3.7/importlib/_bootstrap.py:219: RuntimeWarning: numpy.ufunc size changed, may indicate binary incompatibility. Expected 192 from C header, got 216 from PyObject\n",
      "  return f(*args, **kwds)\n",
      "/usr/lib/python3.7/importlib/_bootstrap.py:219: RuntimeWarning: numpy.ufunc size changed, may indicate binary incompatibility. Expected 192 from C header, got 216 from PyObject\n",
      "  return f(*args, **kwds)\n"
     ]
    }
   ],
   "source": [
    "import marvin\n",
    "from marvin import config\n",
    "config.access = 'collab'\n",
    "config.login()"
   ]
  },
  {
   "cell_type": "code",
   "execution_count": 4,
   "metadata": {},
   "outputs": [
    {
     "data": {
      "text/plain": [
       "<Marvin Cube (plateifu='8595-6101', mode='local', data_origin='file')>"
      ]
     },
     "execution_count": 4,
     "metadata": {},
     "output_type": "execute_result"
    }
   ],
   "source": [
    "fitspath = '../8595_6101/manga-8595-6101-LOGCUBE.fits.gz'\n",
    "my_cube = marvin.tools.Cube(filename=fitspath)\n",
    "my_cube"
   ]
  },
  {
   "cell_type": "code",
   "execution_count": 6,
   "metadata": {},
   "outputs": [
    {
     "name": "stdout",
     "output_type": "stream",
     "text": [
      "../8595_6101/manga-8595-6101-LOGCUBE.fits.gz 8595-6101 1-197718 MPL-8\n"
     ]
    }
   ],
   "source": [
    "print(my_cube.filename, my_cube.plateifu, my_cube.mangaid, my_cube.release)"
   ]
  },
  {
   "cell_type": "code",
   "execution_count": 7,
   "metadata": {},
   "outputs": [
    {
     "name": "stdout",
     "output_type": "stream",
     "text": [
      "219.031216217 49.7203386644\n"
     ]
    }
   ],
   "source": [
    "print(my_cube.ra, my_cube.dec)"
   ]
  },
  {
   "cell_type": "markdown",
   "metadata": {},
   "source": [
    "Similarly we can access the header of the file and the WCS object"
   ]
  },
  {
   "cell_type": "code",
   "execution_count": 8,
   "metadata": {},
   "outputs": [
    {
     "data": {
      "text/plain": [
       "XTENSION= 'IMAGE   '           / IMAGE extension                                \n",
       "BITPIX  =                  -32 / Number of bits per data pixel                  \n",
       "NAXIS   =                    3 / Number of data axes                            \n",
       "NAXIS1  =                   54 /                                                \n",
       "NAXIS2  =                   54 /                                                \n",
       "NAXIS3  =                 4563 /                                                \n",
       "PCOUNT  =                    0 / No Group Parameters                            \n",
       "GCOUNT  =                    1 / One Data Group                                 \n",
       "AUTHOR  = 'Brian Cherinka & David Law <bcherin1@jhu.edu, dlaw@stsci.edu>' /     \n",
       "VERSDRP2= 'v2_5_3  '           / MaNGA DRP version (2d processing)              \n",
       "VERSDRP3= 'v2_5_3  '           / MaNGA DRP Version (3d processing)              \n",
       "VERSPLDS= 'v5_1    '           / Platedesign Version                            \n",
       "VERSFLAT= 'v1_31   '           / Specflat Version                               \n",
       "VERSCORE= 'v1_7_1  '           / MaNGAcore Version                              \n",
       "VERSPRIM= 'v2_6    '           / MaNGA Preimaging Version                       \n",
       "VERSUTIL= 'v5_5_33 '           / Version of idlutils                            \n",
       "VERSIDL = 'x86_64 linux unix linux 7.1.1 Aug 21 2009 64 64 ' / Version of IDL   \n",
       "BSCALE  =              1.00000 / Intensity unit scaling                         \n",
       "BZERO   =              0.00000 / Intensity zeropoint                            \n",
       "BUNIT   = '1E-17 erg/s/cm^2/Ang/spaxel' / Specific intensity (per spaxel)       \n",
       "MASKNAME= 'MANGA_DRP3PIXMASK'  / Bits in sdssMaskbits.par used by mask extension\n",
       "TELESCOP= 'SDSS 2.5-M'         / Sloan Digital Sky Survey                       \n",
       "INSTRUME= 'MaNGA   '           / SDSS-IV MaNGA IFU                              \n",
       "SRVYMODE= 'MaNGA dither'       / Survey leading this observation and its mode   \n",
       "PLATETYP= 'APOGEE-2&MaNGA'     / Type of plate (e.g. MaNGA, APOGEE-2&MANGA)     \n",
       "OBJSYS  = 'ICRS    '           / The TCC objSys                                 \n",
       "EQUINOX =              2000.00 /                                                \n",
       "RADESYS = 'FK5     '           /                                                \n",
       "LAMPLIST= 'lamphgcdne.dat'     /                                                \n",
       "TPLDATA = 'BOSZ_3000-11000A.fits' /                                             \n",
       "NEXP    =                    9 / Total number of exposures                      \n",
       "EXPTIME =              8100.79 / Total exposure time (seconds)                  \n",
       "BLUESN2 =              22.8381 / Total SN2 in blue channel                      \n",
       "REDSN2  =              41.4510 / Total SN2 in red channel                       \n",
       "AIRMSMIN=              1.05666 / Minimum airmass                                \n",
       "AIRMSMED=              1.08694 / Median airmass                                 \n",
       "AIRMSMAX=              1.15709 / Maximum airmass                                \n",
       "SEEMIN  =              1.25836 / Best guider seeing                             \n",
       "SEEMED  =              1.43229 / Median guider seeing                           \n",
       "SEEMAX  =              1.64338 / Worst guider seeing                            \n",
       "TRANSMIN=             0.873694 / Worst guider transparency                      \n",
       "TRANSMED=             0.910404 / Median guider transparency                     \n",
       "TRANSMAX=             0.961698 / Best guider transparency                       \n",
       "MJDMIN  =                57465 / MJD of first exposure                          \n",
       "MJDMED  =                57466 / MJD of median exposure                         \n",
       "MJDMAX  =                57467 / MJD of last exposure                           \n",
       "DATE-OBS= '2016-03-19'         / Date of median exposure                        \n",
       "MJDRED  =                58421 / MJD of the reduction                           \n",
       "DATERED = '2018-10-30'         / Date of the reduction                          \n",
       "MNGTARG1=                 1024 / manga_target1 maskbit                          \n",
       "MNGTARG2=                    0 / manga_target2 maskbit                          \n",
       "MNGTARG3=                    0 / manga_target3 maskbit                          \n",
       "IFURA   =        219.031220000 / IFU R.A. (J2000 deg.)                          \n",
       "IFUDEC  =        49.7203390000 / IFU Dec. (J2000 deg.)                          \n",
       "OBJRA   =        219.031216217 / Object R.A. (J2000 deg.)                       \n",
       "OBJDEC  =        49.7203386644 / Object Dec. (J2000 deg.)                       \n",
       "CENRA   =        219.793670000 / Plate center R.A. (J2000 deg.)                 \n",
       "CENDEC  =        50.9309010000 / Plate center Dec. (J2000 deg.)                 \n",
       "PLATEID =                 8595 / Current plate                                  \n",
       "DESIGNID=                 9027 / Current design                                 \n",
       "IFUDSGN =                 6101 / ifuDesign                                      \n",
       "FRLPLUG =                   21 / Plugged ferrule                                \n",
       "PLATEIFU= '8595-6101'          / PLATEID-ifuDesign                              \n",
       "CARTID  = '5       '           / Cart(s) used                                   \n",
       "HARNAME = 'ma101   '           / Harness name(s)                                \n",
       "METFILE = 'ma101-56974-2.par'  / IFU metrology file(s)                          \n",
       "MANGAID = '1-197718'           / MaNGA ID number                                \n",
       "CATIDNUM= '1       '           / Primary target input catalog                   \n",
       "PLTTARG = 'plateTargets-1.par' / plateTarget reference file                     \n",
       "DRP3QUAL=                    0 / DRP-3d quality bitmask                         \n",
       "IFUGLON =        88.3988178817 / IFU Galactic longitude (deg)                   \n",
       "IFUGLAT =        59.7997792977 / IFU Galactic latitude (deg)                    \n",
       "EBVGAL  =            0.0231470 / Galactic reddening E(B-V)                      \n",
       "GFWHM   =              2.43172 / Reconstructed FWHM in g-band (arcsec)          \n",
       "RFWHM   =              2.46410 / Reconstructed FWHM in r-band (arcsec)          \n",
       "IFWHM   =              2.47924 / Reconstructed FWHM in i-band (arcsec)          \n",
       "ZFWHM   =              2.47878 / Reconstructed FWHM in z-band (arcsec)          \n",
       "CTYPE3  = 'WAVE-LOG'           /                                                \n",
       "CRPIX3  =                    1 / Starting pixel (1-indexed)                     \n",
       "CRVAL3  =        3621.59598486 / Central wavelength of first pixel              \n",
       "CD3_3   =       0.833903304339 / Initial dispersion per pixel                   \n",
       "CUNIT3  = 'Angstrom'           /                                                \n",
       "CRPIX1  =              28.0000 /Reference pixel (1-indexed)                     \n",
       "CRPIX2  =              28.0000 /Reference pixel (1-indexed)                     \n",
       "CRVAL1  =        219.031220000 /                                                \n",
       "CRVAL2  =        49.7203390000 /                                                \n",
       "CD1_1   =         -0.000138889 /                                                \n",
       "CD2_2   =          0.000138889 /                                                \n",
       "CTYPE1  = 'RA---TAN'           /                                                \n",
       "CTYPE2  = 'DEC--TAN'           /                                                \n",
       "CUNIT1  = 'deg     '           /                                                \n",
       "CUNIT2  = 'deg     '           /                                                \n",
       "HDUCLASS= 'SDSS    '           /SDSS format class                               \n",
       "HDUCLAS1= 'CUBE    '           /                                                \n",
       "HDUCLAS2= 'DATA    '           /                                                \n",
       "ERRDATA = 'IVAR    '           / Error extension name                           \n",
       "QUALDATA= 'MASK    '           / Mask extension name                            \n",
       "EXTNAME = 'FLUX    '           /                                                \n",
       "DATASUM = '2007153477'         / data unit checksum updated 2018-10-30T16:13:18 \n",
       "CHECKSUM= 'ZfYFicXFZcXFfcXF'   / HDU checksum updated 2018-10-30T16:13:18       "
      ]
     },
     "execution_count": 8,
     "metadata": {},
     "output_type": "execute_result"
    }
   ],
   "source": [
    "my_cube.header"
   ]
  },
  {
   "cell_type": "code",
   "execution_count": 9,
   "metadata": {},
   "outputs": [
    {
     "data": {
      "text/plain": [
       "WCS Keywords\n",
       "\n",
       "Number of WCS axes: 3\n",
       "CTYPE : 'RA---TAN'  'DEC--TAN'  'WAVE-LOG'  \n",
       "CRVAL : 219.03122  49.720339  3.62159598486e-07  \n",
       "CRPIX : 28.0  28.0  1.0  \n",
       "CD1_1 CD1_2 CD1_3  : -0.000138889  0.0  0.0  \n",
       "CD2_1 CD2_2 CD2_3  : 0.0  0.000138889  0.0  \n",
       "CD3_1 CD3_2 CD3_3  : 0.0  0.0  8.33903304339e-11  \n",
       "NAXIS : 54  54  4563"
      ]
     },
     "execution_count": 9,
     "metadata": {},
     "output_type": "execute_result"
    }
   ],
   "source": [
    "my_cube.wcs"
   ]
  },
  {
   "cell_type": "markdown",
   "metadata": {},
   "source": [
    "What is more, we can access the datamodel of the cube file, which show us what extensions are available, how they are named in Marvin, and what they contain"
   ]
  },
  {
   "cell_type": "code",
   "execution_count": 10,
   "metadata": {},
   "outputs": [
    {
     "data": {
      "text/plain": [
       "<DRPCubeDataModel release='MPL-8', n_datacubes=3, n_spectra=2>"
      ]
     },
     "execution_count": 10,
     "metadata": {},
     "output_type": "execute_result"
    }
   ],
   "source": [
    "datamodel = my_cube.datamodel\n",
    "datamodel"
   ]
  },
  {
   "cell_type": "code",
   "execution_count": 11,
   "metadata": {},
   "outputs": [
    {
     "data": {
      "text/plain": [
       "[<DataCube 'flux', release='MPL-8', unit='1e-17 erg / (Angstrom cm2 s spaxel)'>,\n",
       " <DataCube 'dispersion', release='MPL-8', unit='Angstrom'>,\n",
       " <DataCube 'dispersion_prepixel', release='MPL-8', unit='Angstrom'>]"
      ]
     },
     "execution_count": 11,
     "metadata": {},
     "output_type": "execute_result"
    }
   ],
   "source": [
    "datamodel.datacubes"
   ]
  },
  {
   "cell_type": "code",
   "execution_count": 12,
   "metadata": {},
   "outputs": [
    {
     "data": {
      "text/plain": [
       "[<Spectrum 'spectral_resolution', release='MPL-8', unit='Angstrom'>,\n",
       " <Spectrum 'spectral_resolution_prepixel', release='MPL-8', unit='Angstrom'>]"
      ]
     },
     "execution_count": 12,
     "metadata": {},
     "output_type": "execute_result"
    }
   ],
   "source": [
    "datamodel.spectra"
   ]
  },
  {
   "cell_type": "markdown",
   "metadata": {},
   "source": [
    "This tells us that this cube has two associated 3D datacubes, 'flux', 'dispersion', and 'dispersion_prepixel', and two associated spectra, 'spectral_resolution' and 'spectral_resolution_prepixel', as well as their associated units. We can get a desciption of what each of them"
   ]
  },
  {
   "cell_type": "code",
   "execution_count": 13,
   "metadata": {},
   "outputs": [
    {
     "data": {
      "text/plain": [
       "'3D rectified cube'"
      ]
     },
     "execution_count": 13,
     "metadata": {},
     "output_type": "execute_result"
    }
   ],
   "source": [
    "datamodel.datacubes.flux.description"
   ]
  },
  {
   "cell_type": "code",
   "execution_count": 14,
   "metadata": {},
   "outputs": [
    {
     "data": {
      "text/plain": [
       "'Broadened dispersion solution (1sigma LSF)'"
      ]
     },
     "execution_count": 14,
     "metadata": {},
     "output_type": "execute_result"
    }
   ],
   "source": [
    "datamodel.datacubes.dispersion.description"
   ]
  },
  {
   "cell_type": "code",
   "execution_count": 15,
   "metadata": {},
   "outputs": [
    {
     "data": {
      "text/plain": [
       "'Broadened pre-pixel dispersion solution (1sigma LSF)'"
      ]
     },
     "execution_count": 15,
     "metadata": {},
     "output_type": "execute_result"
    }
   ],
   "source": [
    "datamodel.datacubes.dispersion_prepixel.description"
   ]
  },
  {
   "cell_type": "code",
   "execution_count": 20,
   "metadata": {},
   "outputs": [
    {
     "data": {
      "text/plain": [
       "'Median spectral resolution as a function of wavelength for the fibers in this IFU'"
      ]
     },
     "execution_count": 20,
     "metadata": {},
     "output_type": "execute_result"
    }
   ],
   "source": [
    "datamodel.spectra.spectral_resolution.description"
   ]
  },
  {
   "cell_type": "code",
   "execution_count": 21,
   "metadata": {},
   "outputs": [
    {
     "data": {
      "text/plain": [
       "'Median pre-pixel spectral resolution as a function of wavelength for the fibers in this IFU'"
      ]
     },
     "execution_count": 21,
     "metadata": {},
     "output_type": "execute_result"
    }
   ],
   "source": [
    "datamodel.spectra.spectral_resolution_prepixel.description"
   ]
  },
  {
   "cell_type": "markdown",
   "metadata": {},
   "source": [
    "In my_cube, we can use the name of each of these datacubes and spectra to access the associated data quantity. Let’s get the cube flux"
   ]
  },
  {
   "cell_type": "code",
   "execution_count": 22,
   "metadata": {},
   "outputs": [],
   "source": [
    "flux = my_cube.flux"
   ]
  },
  {
   "cell_type": "code",
   "execution_count": 23,
   "metadata": {},
   "outputs": [
    {
     "data": {
      "text/latex": [
       "$[[[0,~0,~0,~\\dots,~0,~0,~0],~\n",
       "  [0,~0,~0,~\\dots,~0,~0,~0],~\n",
       "  [0,~0,~0,~\\dots,~0,~0,~0],~\n",
       "  \\dots,~\n",
       "  [0,~0,~0,~\\dots,~0,~0,~0],~\n",
       "  [0,~0,~0,~\\dots,~0,~0,~0],~\n",
       "  [0,~0,~0,~\\dots,~0,~0,~0]],~\n",
       "\n",
       " [[0,~0,~0,~\\dots,~0,~0,~0],~\n",
       "  [0,~0,~0,~\\dots,~0,~0,~0],~\n",
       "  [0,~0,~0,~\\dots,~0,~0,~0],~\n",
       "  \\dots,~\n",
       "  [0,~0,~0,~\\dots,~0,~0,~0],~\n",
       "  [0,~0,~0,~\\dots,~0,~0,~0],~\n",
       "  [0,~0,~0,~\\dots,~0,~0,~0]],~\n",
       "\n",
       " [[0,~0,~0,~\\dots,~0,~0,~0],~\n",
       "  [0,~0,~0,~\\dots,~0,~0,~0],~\n",
       "  [0,~0,~0,~\\dots,~0,~0,~0],~\n",
       "  \\dots,~\n",
       "  [0,~0,~0,~\\dots,~0,~0,~0],~\n",
       "  [0,~0,~0,~\\dots,~0,~0,~0],~\n",
       "  [0,~0,~0,~\\dots,~0,~0,~0]],~\n",
       "\n",
       " \\dots,~\n",
       "\n",
       " [[0,~0,~0,~\\dots,~0,~0,~0],~\n",
       "  [0,~0,~0,~\\dots,~0,~0,~0],~\n",
       "  [0,~0,~0,~\\dots,~0,~0,~0],~\n",
       "  \\dots,~\n",
       "  [0,~0,~0,~\\dots,~0,~0,~0],~\n",
       "  [0,~0,~0,~\\dots,~0,~0,~0],~\n",
       "  [0,~0,~0,~\\dots,~0,~0,~0]],~\n",
       "\n",
       " [[0,~0,~0,~\\dots,~0,~0,~0],~\n",
       "  [0,~0,~0,~\\dots,~0,~0,~0],~\n",
       "  [0,~0,~0,~\\dots,~0,~0,~0],~\n",
       "  \\dots,~\n",
       "  [0,~0,~0,~\\dots,~0,~0,~0],~\n",
       "  [0,~0,~0,~\\dots,~0,~0,~0],~\n",
       "  [0,~0,~0,~\\dots,~0,~0,~0]],~\n",
       "\n",
       " [[0,~0,~0,~\\dots,~0,~0,~0],~\n",
       "  [0,~0,~0,~\\dots,~0,~0,~0],~\n",
       "  [0,~0,~0,~\\dots,~0,~0,~0],~\n",
       "  \\dots,~\n",
       "  [0,~0,~0,~\\dots,~0,~0,~0],~\n",
       "  [0,~0,~0,~\\dots,~0,~0,~0],~\n",
       "  [0,~0,~0,~\\dots,~0,~0,~0]]] \\; \\mathrm{1 \\times 10^{-17}\\,\\frac{erg}{\\mathring{A}\\,s\\,spaxel\\,cm^{2}}}$"
      ],
      "text/plain": [
       "<DataCube [[[0., 0., 0., ..., 0., 0., 0.],\n",
       "            [0., 0., 0., ..., 0., 0., 0.],\n",
       "            [0., 0., 0., ..., 0., 0., 0.],\n",
       "            ...,\n",
       "            [0., 0., 0., ..., 0., 0., 0.],\n",
       "            [0., 0., 0., ..., 0., 0., 0.],\n",
       "            [0., 0., 0., ..., 0., 0., 0.]],\n",
       "\n",
       "           [[0., 0., 0., ..., 0., 0., 0.],\n",
       "            [0., 0., 0., ..., 0., 0., 0.],\n",
       "            [0., 0., 0., ..., 0., 0., 0.],\n",
       "            ...,\n",
       "            [0., 0., 0., ..., 0., 0., 0.],\n",
       "            [0., 0., 0., ..., 0., 0., 0.],\n",
       "            [0., 0., 0., ..., 0., 0., 0.]],\n",
       "\n",
       "           [[0., 0., 0., ..., 0., 0., 0.],\n",
       "            [0., 0., 0., ..., 0., 0., 0.],\n",
       "            [0., 0., 0., ..., 0., 0., 0.],\n",
       "            ...,\n",
       "            [0., 0., 0., ..., 0., 0., 0.],\n",
       "            [0., 0., 0., ..., 0., 0., 0.],\n",
       "            [0., 0., 0., ..., 0., 0., 0.]],\n",
       "\n",
       "           ...,\n",
       "\n",
       "           [[0., 0., 0., ..., 0., 0., 0.],\n",
       "            [0., 0., 0., ..., 0., 0., 0.],\n",
       "            [0., 0., 0., ..., 0., 0., 0.],\n",
       "            ...,\n",
       "            [0., 0., 0., ..., 0., 0., 0.],\n",
       "            [0., 0., 0., ..., 0., 0., 0.],\n",
       "            [0., 0., 0., ..., 0., 0., 0.]],\n",
       "\n",
       "           [[0., 0., 0., ..., 0., 0., 0.],\n",
       "            [0., 0., 0., ..., 0., 0., 0.],\n",
       "            [0., 0., 0., ..., 0., 0., 0.],\n",
       "            ...,\n",
       "            [0., 0., 0., ..., 0., 0., 0.],\n",
       "            [0., 0., 0., ..., 0., 0., 0.],\n",
       "            [0., 0., 0., ..., 0., 0., 0.]],\n",
       "\n",
       "           [[0., 0., 0., ..., 0., 0., 0.],\n",
       "            [0., 0., 0., ..., 0., 0., 0.],\n",
       "            [0., 0., 0., ..., 0., 0., 0.],\n",
       "            ...,\n",
       "            [0., 0., 0., ..., 0., 0., 0.],\n",
       "            [0., 0., 0., ..., 0., 0., 0.],\n",
       "            [0., 0., 0., ..., 0., 0., 0.]]] 1e-17 erg / (Angstrom cm2 s spaxel)>"
      ]
     },
     "execution_count": 23,
     "metadata": {},
     "output_type": "execute_result"
    }
   ],
   "source": [
    "flux"
   ]
  },
  {
   "cell_type": "markdown",
   "metadata": {},
   "source": [
    "The flux is represented as a 3D array with units. We can also access the inverse variance and the mask using flux.ivar and flux.mask, respectively. We can slice this datacube to get another datacube"
   ]
  },
  {
   "cell_type": "code",
   "execution_count": 29,
   "metadata": {},
   "outputs": [
    {
     "data": {
      "text/plain": [
       "(4563, 4, 4)"
      ]
     },
     "execution_count": 29,
     "metadata": {},
     "output_type": "execute_result"
    }
   ],
   "source": [
    "flux[:, 50:60, 50:60].shape"
   ]
  },
  {
   "cell_type": "markdown",
   "metadata": {},
   "source": [
    "Or get a single spectrum and plot it:"
   ]
  },
  {
   "cell_type": "code",
   "execution_count": 39,
   "metadata": {},
   "outputs": [
    {
     "data": {
      "text/latex": [
       "$[0.051685017,~0.053184792,~0.092927717,~\\dots,~0,~0,~0] \\; \\mathrm{1 \\times 10^{-17}\\,\\frac{erg}{\\mathring{A}\\,s\\,spaxel\\,cm^{2}}}$"
      ],
      "text/plain": [
       "<Spectrum [0.05168502, 0.05318479, 0.09292772, ..., 0.        , 0.        ,\n",
       "           0.        ] 1e-17 erg / (Angstrom cm2 s spaxel)>"
      ]
     },
     "execution_count": 39,
     "metadata": {},
     "output_type": "execute_result"
    }
   ],
   "source": [
    "spectrum = flux[:, 25, 33]\n",
    "# flux at all wavelength at pixel position (25, 33)\n",
    "spectrum"
   ]
  },
  {
   "cell_type": "code",
   "execution_count": 40,
   "metadata": {},
   "outputs": [
    {
     "name": "stderr",
     "output_type": "stream",
     "text": [
      "WARNING: AstropyDeprecationWarning: The truth value of a Quantity is ambiguous. In the future this will raise a ValueError. [astropy.units.quantity]\n"
     ]
    },
    {
     "data": {
      "text/plain": [
       "<matplotlib.axes._subplots.AxesSubplot at 0x7f1b80f0ea10>"
      ]
     },
     "execution_count": 40,
     "metadata": {},
     "output_type": "execute_result"
    },
    {
     "data": {
      "image/png": "[encoded data removed]",
      "text/plain": [
       "<Figure size 432x288 with 1 Axes>"
      ]
     },
     "metadata": {},
     "output_type": "display_data"
    }
   ],
   "source": [
    "spectrum.plot(show_std=True)"
   ]
  },
  {
   "cell_type": "markdown",
   "metadata": {},
   "source": [
    "From a DRP cube we can get the associated DAP Maps object for a certain bintype"
   ]
  },
  {
   "cell_type": "code",
   "execution_count": 59,
   "metadata": {},
   "outputs": [],
   "source": [
    "hyb_maps = my_cube.getMaps(bintype='HYB10')\n",
    "# /scratch/shared_data/manga/MPL8-DAP/HYB10-MILESHC-MILESHC/8595/manga-8595-6101-LOGCUBE-HYB10-MILESHC-MILESHC.fits.gz\n",
    "# hyb10path = \"../8595_6101/manga-8595-6101-MAPS-HYB10-MILESHC-MILESHC.fits.gz\"\n",
    "# import os\n",
    "# os.path.isfile(hyb10path)\n",
    "# hyb_maps = marvin.tools.Maps(filename=fitspath)"
   ]
  },
  {
   "cell_type": "code",
   "execution_count": 60,
   "metadata": {},
   "outputs": [
    {
     "data": {
      "text/plain": [
       "<Marvin Maps (plateifu='8595-6101', mode='remote', data_origin='api', bintype='HYB10', template='MILESHC-MILESHC')>"
      ]
     },
     "execution_count": 60,
     "metadata": {},
     "output_type": "execute_result"
    }
   ],
   "source": [
    "hyb_maps"
   ]
  },
  {
   "cell_type": "markdown",
   "metadata": {},
   "source": [
    "A Maps behaves very similarly to a Cube and everything we have discussed above will still work. Instead of datacubes and spectra, a Maps object contains a set of 2D quantities called Map, each one of them representing a different property measured by the DAP. One can get a full list of all the properties available using the datamodel"
   ]
  },
  {
   "cell_type": "code",
   "execution_count": 61,
   "metadata": {},
   "outputs": [
    {
     "data": {
      "text/plain": [
       "[<Property 'spx_skycoo', channel='on_sky_x', release='2.3.0', unit='arcsec'>,\n",
       " <Property 'spx_skycoo', channel='on_sky_y', release='2.3.0', unit='arcsec'>,\n",
       " <Property 'spx_ellcoo', channel='elliptical_radius', release='2.3.0', unit='arcsec'>,\n",
       " <Property 'spx_ellcoo', channel='r_re', release='2.3.0', unit=''>,\n",
       " <Property 'spx_ellcoo', channel='elliptical_azimuth', release='2.3.0', unit='deg'>,\n",
       " <Property 'spx_mflux', channel='None', release='2.3.0', unit='1e-17 erg / (cm2 s spaxel)'>,\n",
       " <Property 'spx_snr', channel='None', release='2.3.0', unit=''>,\n",
       " <Property 'binid', channel='binned_spectra', release='2.3.0', unit=''>,\n",
       " <Property 'binid', channel='stellar_continua', release='2.3.0', unit=''>,\n",
       " <Property 'binid', channel='em_line_moments', release='2.3.0', unit=''>,\n",
       " <Property 'binid', channel='em_line_models', release='2.3.0', unit=''>,\n",
       " <Property 'binid', channel='spectral_indices', release='2.3.0', unit=''>,\n",
       " <Property 'bin_lwskycoo', channel='lum_weighted_on_sky_x', release='2.3.0', unit='arcsec'>,\n",
       " <Property 'bin_lwskycoo', channel='lum_weighted_on_sky_y', release='2.3.0', unit='arcsec'>,\n",
       " <Property 'bin_lwellcoo', channel='lum_weighted_elliptical_radius', release='2.3.0', unit='arcsec'>,\n",
       " <Property 'bin_lwellcoo', channel='r_re', release='2.3.0', unit=''>,\n",
       " <Property 'bin_lwellcoo', channel='lum_weighted_elliptical_azimuth', release='2.3.0', unit='deg'>,\n",
       " <Property 'bin_area', channel='None', release='2.3.0', unit='arcsec2'>,\n",
       " <Property 'bin_farea', channel='None', release='2.3.0', unit=''>,\n",
       " <Property 'bin_mflux', channel='None', release='2.3.0', unit='1e-17 erg / (cm2 s spaxel)'>,\n",
       " <Property 'bin_snr', channel='None', release='2.3.0', unit=''>,\n",
       " <Property 'stellar_vel', channel='None', release='2.3.0', unit='km / s'>,\n",
       " <Property 'stellar_sigma', channel='None', release='2.3.0', unit='km / s'>,\n",
       " <Property 'specindex', channel='cn1', release='2.3.0', unit='mag'>,\n",
       " <Property 'specindex', channel='cn2', release='2.3.0', unit='mag'>,\n",
       " <Property 'specindex', channel='ca4227', release='2.3.0', unit='Angstrom'>,\n",
       " <Property 'specindex', channel='g4300', release='2.3.0', unit='Angstrom'>,\n",
       " <Property 'specindex', channel='fe4383', release='2.3.0', unit='Angstrom'>,\n",
       " <Property 'specindex', channel='ca4455', release='2.3.0', unit='Angstrom'>,\n",
       " <Property 'specindex', channel='fe4531', release='2.3.0', unit='Angstrom'>,\n",
       " <Property 'specindex', channel='c24668', release='2.3.0', unit='Angstrom'>,\n",
       " <Property 'specindex', channel='hb', release='2.3.0', unit='Angstrom'>,\n",
       " <Property 'specindex', channel='fe5015', release='2.3.0', unit='Angstrom'>,\n",
       " <Property 'specindex', channel='mg1', release='2.3.0', unit='mag'>,\n",
       " <Property 'specindex', channel='mg2', release='2.3.0', unit='mag'>,\n",
       " <Property 'specindex', channel='mgb', release='2.3.0', unit='Angstrom'>,\n",
       " <Property 'specindex', channel='fe5270', release='2.3.0', unit='Angstrom'>,\n",
       " <Property 'specindex', channel='fe5335', release='2.3.0', unit='Angstrom'>,\n",
       " <Property 'specindex', channel='fe5406', release='2.3.0', unit='Angstrom'>,\n",
       " <Property 'specindex', channel='fe5709', release='2.3.0', unit='Angstrom'>,\n",
       " <Property 'specindex', channel='fe5782', release='2.3.0', unit='Angstrom'>,\n",
       " <Property 'specindex', channel='nad', release='2.3.0', unit='Angstrom'>,\n",
       " <Property 'specindex', channel='tio1', release='2.3.0', unit='mag'>,\n",
       " <Property 'specindex', channel='tio2', release='2.3.0', unit='mag'>,\n",
       " <Property 'specindex', channel='hdeltaa', release='2.3.0', unit='Angstrom'>,\n",
       " <Property 'specindex', channel='hgammaa', release='2.3.0', unit='Angstrom'>,\n",
       " <Property 'specindex', channel='hdeltaf', release='2.3.0', unit='Angstrom'>,\n",
       " <Property 'specindex', channel='hgammaf', release='2.3.0', unit='Angstrom'>,\n",
       " <Property 'specindex', channel='cahk', release='2.3.0', unit='Angstrom'>,\n",
       " <Property 'specindex', channel='caii1', release='2.3.0', unit='Angstrom'>,\n",
       " <Property 'specindex', channel='caii2', release='2.3.0', unit='Angstrom'>,\n",
       " <Property 'specindex', channel='caii3', release='2.3.0', unit='Angstrom'>,\n",
       " <Property 'specindex', channel='pa17', release='2.3.0', unit='Angstrom'>,\n",
       " <Property 'specindex', channel='pa14', release='2.3.0', unit='Angstrom'>,\n",
       " <Property 'specindex', channel='pa12', release='2.3.0', unit='Angstrom'>,\n",
       " <Property 'specindex', channel='mgicvd', release='2.3.0', unit='Angstrom'>,\n",
       " <Property 'specindex', channel='naicvd', release='2.3.0', unit='Angstrom'>,\n",
       " <Property 'specindex', channel='mgiir', release='2.3.0', unit='Angstrom'>,\n",
       " <Property 'specindex', channel='fehcvd', release='2.3.0', unit='Angstrom'>,\n",
       " <Property 'specindex', channel='nai', release='2.3.0', unit='Angstrom'>,\n",
       " <Property 'specindex', channel='btio', release='2.3.0', unit='mag'>,\n",
       " <Property 'specindex', channel='atio', release='2.3.0', unit='mag'>,\n",
       " <Property 'specindex', channel='cah1', release='2.3.0', unit='mag'>,\n",
       " <Property 'specindex', channel='cah2', release='2.3.0', unit='mag'>,\n",
       " <Property 'specindex', channel='naisdss', release='2.3.0', unit='Angstrom'>,\n",
       " <Property 'specindex', channel='tio2sdss', release='2.3.0', unit='Angstrom'>,\n",
       " <Property 'specindex', channel='d4000', release='2.3.0', unit=''>,\n",
       " <Property 'specindex', channel='dn4000', release='2.3.0', unit=''>,\n",
       " <Property 'specindex', channel='tiocvd', release='2.3.0', unit=''>,\n",
       " <Property 'specindex_corr', channel='cn1', release='2.3.0', unit='mag'>,\n",
       " <Property 'specindex_corr', channel='cn2', release='2.3.0', unit='mag'>,\n",
       " <Property 'specindex_corr', channel='ca4227', release='2.3.0', unit='Angstrom'>,\n",
       " <Property 'specindex_corr', channel='g4300', release='2.3.0', unit='Angstrom'>,\n",
       " <Property 'specindex_corr', channel='fe4383', release='2.3.0', unit='Angstrom'>,\n",
       " <Property 'specindex_corr', channel='ca4455', release='2.3.0', unit='Angstrom'>,\n",
       " <Property 'specindex_corr', channel='fe4531', release='2.3.0', unit='Angstrom'>,\n",
       " <Property 'specindex_corr', channel='c24668', release='2.3.0', unit='Angstrom'>,\n",
       " <Property 'specindex_corr', channel='hb', release='2.3.0', unit='Angstrom'>,\n",
       " <Property 'specindex_corr', channel='fe5015', release='2.3.0', unit='Angstrom'>,\n",
       " <Property 'specindex_corr', channel='mg1', release='2.3.0', unit='mag'>,\n",
       " <Property 'specindex_corr', channel='mg2', release='2.3.0', unit='mag'>,\n",
       " <Property 'specindex_corr', channel='mgb', release='2.3.0', unit='Angstrom'>,\n",
       " <Property 'specindex_corr', channel='fe5270', release='2.3.0', unit='Angstrom'>,\n",
       " <Property 'specindex_corr', channel='fe5335', release='2.3.0', unit='Angstrom'>,\n",
       " <Property 'specindex_corr', channel='fe5406', release='2.3.0', unit='Angstrom'>,\n",
       " <Property 'specindex_corr', channel='fe5709', release='2.3.0', unit='Angstrom'>,\n",
       " <Property 'specindex_corr', channel='fe5782', release='2.3.0', unit='Angstrom'>,\n",
       " <Property 'specindex_corr', channel='nad', release='2.3.0', unit='Angstrom'>,\n",
       " <Property 'specindex_corr', channel='tio1', release='2.3.0', unit='mag'>,\n",
       " <Property 'specindex_corr', channel='tio2', release='2.3.0', unit='mag'>,\n",
       " <Property 'specindex_corr', channel='hdeltaa', release='2.3.0', unit='Angstrom'>,\n",
       " <Property 'specindex_corr', channel='hgammaa', release='2.3.0', unit='Angstrom'>,\n",
       " <Property 'specindex_corr', channel='hdeltaf', release='2.3.0', unit='Angstrom'>,\n",
       " <Property 'specindex_corr', channel='hgammaf', release='2.3.0', unit='Angstrom'>,\n",
       " <Property 'specindex_corr', channel='cahk', release='2.3.0', unit='Angstrom'>,\n",
       " <Property 'specindex_corr', channel='caii1', release='2.3.0', unit='Angstrom'>,\n",
       " <Property 'specindex_corr', channel='caii2', release='2.3.0', unit='Angstrom'>,\n",
       " <Property 'specindex_corr', channel='caii3', release='2.3.0', unit='Angstrom'>,\n",
       " <Property 'specindex_corr', channel='pa17', release='2.3.0', unit='Angstrom'>,\n",
       " <Property 'specindex_corr', channel='pa14', release='2.3.0', unit='Angstrom'>,\n",
       " <Property 'specindex_corr', channel='pa12', release='2.3.0', unit='Angstrom'>,\n",
       " <Property 'specindex_corr', channel='mgicvd', release='2.3.0', unit='Angstrom'>,\n",
       " <Property 'specindex_corr', channel='naicvd', release='2.3.0', unit='Angstrom'>,\n",
       " <Property 'specindex_corr', channel='mgiir', release='2.3.0', unit='Angstrom'>,\n",
       " <Property 'specindex_corr', channel='fehcvd', release='2.3.0', unit='Angstrom'>,\n",
       " <Property 'specindex_corr', channel='nai', release='2.3.0', unit='Angstrom'>,\n",
       " <Property 'specindex_corr', channel='btio', release='2.3.0', unit='mag'>,\n",
       " <Property 'specindex_corr', channel='atio', release='2.3.0', unit='mag'>,\n",
       " <Property 'specindex_corr', channel='cah1', release='2.3.0', unit='mag'>,\n",
       " <Property 'specindex_corr', channel='cah2', release='2.3.0', unit='mag'>,\n",
       " <Property 'specindex_corr', channel='naisdss', release='2.3.0', unit='Angstrom'>,\n",
       " <Property 'specindex_corr', channel='tio2sdss', release='2.3.0', unit='Angstrom'>,\n",
       " <Property 'specindex_corr', channel='d4000', release='2.3.0', unit=''>,\n",
       " <Property 'specindex_corr', channel='dn4000', release='2.3.0', unit=''>,\n",
       " <Property 'specindex_corr', channel='tiocvd', release='2.3.0', unit=''>,\n",
       " <Property 'emline_sflux', channel='oiid_3728', release='2.3.0', unit='1e-17 erg / (cm2 s spaxel)'>,\n",
       " <Property 'emline_sflux', channel='oii_3729', release='2.3.0', unit='1e-17 erg / (cm2 s spaxel)'>,\n",
       " <Property 'emline_sflux', channel='hthe_3798', release='2.3.0', unit='1e-17 erg / (cm2 s spaxel)'>,\n",
       " <Property 'emline_sflux', channel='heta_3836', release='2.3.0', unit='1e-17 erg / (cm2 s spaxel)'>,\n",
       " <Property 'emline_sflux', channel='neiii_3869', release='2.3.0', unit='1e-17 erg / (cm2 s spaxel)'>,\n",
       " <Property 'emline_sflux', channel='hzet_3890', release='2.3.0', unit='1e-17 erg / (cm2 s spaxel)'>,\n",
       " <Property 'emline_sflux', channel='neiii_3968', release='2.3.0', unit='1e-17 erg / (cm2 s spaxel)'>,\n",
       " <Property 'emline_sflux', channel='heps_3971', release='2.3.0', unit='1e-17 erg / (cm2 s spaxel)'>,\n",
       " <Property 'emline_sflux', channel='hdel_4102', release='2.3.0', unit='1e-17 erg / (cm2 s spaxel)'>,\n",
       " <Property 'emline_sflux', channel='hgam_4341', release='2.3.0', unit='1e-17 erg / (cm2 s spaxel)'>,\n",
       " <Property 'emline_sflux', channel='heii_4687', release='2.3.0', unit='1e-17 erg / (cm2 s spaxel)'>,\n",
       " <Property 'emline_sflux', channel='hb_4862', release='2.3.0', unit='1e-17 erg / (cm2 s spaxel)'>,\n",
       " <Property 'emline_sflux', channel='oiii_4960', release='2.3.0', unit='1e-17 erg / (cm2 s spaxel)'>,\n",
       " <Property 'emline_sflux', channel='oiii_5008', release='2.3.0', unit='1e-17 erg / (cm2 s spaxel)'>,\n",
       " <Property 'emline_sflux', channel='hei_5877', release='2.3.0', unit='1e-17 erg / (cm2 s spaxel)'>,\n",
       " <Property 'emline_sflux', channel='oi_6302', release='2.3.0', unit='1e-17 erg / (cm2 s spaxel)'>,\n",
       " <Property 'emline_sflux', channel='oi_6365', release='2.3.0', unit='1e-17 erg / (cm2 s spaxel)'>,\n",
       " <Property 'emline_sflux', channel='nii_6549', release='2.3.0', unit='1e-17 erg / (cm2 s spaxel)'>,\n",
       " <Property 'emline_sflux', channel='ha_6564', release='2.3.0', unit='1e-17 erg / (cm2 s spaxel)'>,\n",
       " <Property 'emline_sflux', channel='nii_6585', release='2.3.0', unit='1e-17 erg / (cm2 s spaxel)'>,\n",
       " <Property 'emline_sflux', channel='sii_6718', release='2.3.0', unit='1e-17 erg / (cm2 s spaxel)'>,\n",
       " <Property 'emline_sflux', channel='sii_6732', release='2.3.0', unit='1e-17 erg / (cm2 s spaxel)'>,\n",
       " <Property 'emline_sflux', channel='hei_3889', release='2.3.0', unit='1e-17 erg / (cm2 s spaxel)'>,\n",
       " <Property 'emline_sflux', channel='ni_5199', release='2.3.0', unit='1e-17 erg / (cm2 s spaxel)'>,\n",
       " <Property 'emline_sflux', channel='ni_5201', release='2.3.0', unit='1e-17 erg / (cm2 s spaxel)'>,\n",
       " <Property 'emline_sew', channel='oiid_3728', release='2.3.0', unit='Angstrom'>,\n",
       " <Property 'emline_sew', channel='oii_3729', release='2.3.0', unit='Angstrom'>,\n",
       " <Property 'emline_sew', channel='hthe_3798', release='2.3.0', unit='Angstrom'>,\n",
       " <Property 'emline_sew', channel='heta_3836', release='2.3.0', unit='Angstrom'>,\n",
       " <Property 'emline_sew', channel='neiii_3869', release='2.3.0', unit='Angstrom'>,\n",
       " <Property 'emline_sew', channel='hzet_3890', release='2.3.0', unit='Angstrom'>,\n",
       " <Property 'emline_sew', channel='neiii_3968', release='2.3.0', unit='Angstrom'>,\n",
       " <Property 'emline_sew', channel='heps_3971', release='2.3.0', unit='Angstrom'>,\n",
       " <Property 'emline_sew', channel='hdel_4102', release='2.3.0', unit='Angstrom'>,\n",
       " <Property 'emline_sew', channel='hgam_4341', release='2.3.0', unit='Angstrom'>,\n",
       " <Property 'emline_sew', channel='heii_4687', release='2.3.0', unit='Angstrom'>,\n",
       " <Property 'emline_sew', channel='hb_4862', release='2.3.0', unit='Angstrom'>,\n",
       " <Property 'emline_sew', channel='oiii_4960', release='2.3.0', unit='Angstrom'>,\n",
       " <Property 'emline_sew', channel='oiii_5008', release='2.3.0', unit='Angstrom'>,\n",
       " <Property 'emline_sew', channel='hei_5877', release='2.3.0', unit='Angstrom'>,\n",
       " <Property 'emline_sew', channel='oi_6302', release='2.3.0', unit='Angstrom'>,\n",
       " <Property 'emline_sew', channel='oi_6365', release='2.3.0', unit='Angstrom'>,\n",
       " <Property 'emline_sew', channel='nii_6549', release='2.3.0', unit='Angstrom'>,\n",
       " <Property 'emline_sew', channel='ha_6564', release='2.3.0', unit='Angstrom'>,\n",
       " <Property 'emline_sew', channel='nii_6585', release='2.3.0', unit='Angstrom'>,\n",
       " <Property 'emline_sew', channel='sii_6718', release='2.3.0', unit='Angstrom'>,\n",
       " <Property 'emline_sew', channel='sii_6732', release='2.3.0', unit='Angstrom'>,\n",
       " <Property 'emline_sew', channel='hei_3889', release='2.3.0', unit='Angstrom'>,\n",
       " <Property 'emline_sew', channel='ni_5199', release='2.3.0', unit='Angstrom'>,\n",
       " <Property 'emline_sew', channel='ni_5201', release='2.3.0', unit='Angstrom'>,\n",
       " <Property 'emline_gflux', channel='oii_3727', release='2.3.0', unit='1e-17 erg / (cm2 s spaxel)'>,\n",
       " <Property 'emline_gflux', channel='oii_3729', release='2.3.0', unit='1e-17 erg / (cm2 s spaxel)'>,\n",
       " <Property 'emline_gflux', channel='hthe_3798', release='2.3.0', unit='1e-17 erg / (cm2 s spaxel)'>,\n",
       " <Property 'emline_gflux', channel='heta_3836', release='2.3.0', unit='1e-17 erg / (cm2 s spaxel)'>,\n",
       " <Property 'emline_gflux', channel='neiii_3869', release='2.3.0', unit='1e-17 erg / (cm2 s spaxel)'>,\n",
       " <Property 'emline_gflux', channel='hzet_3890', release='2.3.0', unit='1e-17 erg / (cm2 s spaxel)'>,\n",
       " <Property 'emline_gflux', channel='neiii_3968', release='2.3.0', unit='1e-17 erg / (cm2 s spaxel)'>,\n",
       " <Property 'emline_gflux', channel='heps_3971', release='2.3.0', unit='1e-17 erg / (cm2 s spaxel)'>,\n",
       " <Property 'emline_gflux', channel='hdel_4102', release='2.3.0', unit='1e-17 erg / (cm2 s spaxel)'>,\n",
       " <Property 'emline_gflux', channel='hgam_4341', release='2.3.0', unit='1e-17 erg / (cm2 s spaxel)'>,\n",
       " <Property 'emline_gflux', channel='heii_4687', release='2.3.0', unit='1e-17 erg / (cm2 s spaxel)'>,\n",
       " <Property 'emline_gflux', channel='hb_4862', release='2.3.0', unit='1e-17 erg / (cm2 s spaxel)'>,\n",
       " <Property 'emline_gflux', channel='oiii_4960', release='2.3.0', unit='1e-17 erg / (cm2 s spaxel)'>,\n",
       " <Property 'emline_gflux', channel='oiii_5008', release='2.3.0', unit='1e-17 erg / (cm2 s spaxel)'>,\n",
       " <Property 'emline_gflux', channel='hei_5877', release='2.3.0', unit='1e-17 erg / (cm2 s spaxel)'>,\n",
       " <Property 'emline_gflux', channel='oi_6302', release='2.3.0', unit='1e-17 erg / (cm2 s spaxel)'>,\n",
       " <Property 'emline_gflux', channel='oi_6365', release='2.3.0', unit='1e-17 erg / (cm2 s spaxel)'>,\n",
       " <Property 'emline_gflux', channel='nii_6549', release='2.3.0', unit='1e-17 erg / (cm2 s spaxel)'>,\n",
       " <Property 'emline_gflux', channel='ha_6564', release='2.3.0', unit='1e-17 erg / (cm2 s spaxel)'>,\n",
       " <Property 'emline_gflux', channel='nii_6585', release='2.3.0', unit='1e-17 erg / (cm2 s spaxel)'>,\n",
       " <Property 'emline_gflux', channel='sii_6718', release='2.3.0', unit='1e-17 erg / (cm2 s spaxel)'>,\n",
       " <Property 'emline_gflux', channel='sii_6732', release='2.3.0', unit='1e-17 erg / (cm2 s spaxel)'>,\n",
       " <Property 'emline_gflux', channel='hei_3889', release='2.3.0', unit='1e-17 erg / (cm2 s spaxel)'>,\n",
       " <Property 'emline_gflux', channel='ni_5199', release='2.3.0', unit='1e-17 erg / (cm2 s spaxel)'>,\n",
       " <Property 'emline_gflux', channel='ni_5201', release='2.3.0', unit='1e-17 erg / (cm2 s spaxel)'>,\n",
       " <Property 'emline_gvel', channel='oii_3727', release='2.3.0', unit='km / s'>,\n",
       " <Property 'emline_gvel', channel='oii_3729', release='2.3.0', unit='km / s'>,\n",
       " <Property 'emline_gvel', channel='hthe_3798', release='2.3.0', unit='km / s'>,\n",
       " <Property 'emline_gvel', channel='heta_3836', release='2.3.0', unit='km / s'>,\n",
       " <Property 'emline_gvel', channel='neiii_3869', release='2.3.0', unit='km / s'>,\n",
       " <Property 'emline_gvel', channel='hzet_3890', release='2.3.0', unit='km / s'>,\n",
       " <Property 'emline_gvel', channel='neiii_3968', release='2.3.0', unit='km / s'>,\n",
       " <Property 'emline_gvel', channel='heps_3971', release='2.3.0', unit='km / s'>,\n",
       " <Property 'emline_gvel', channel='hdel_4102', release='2.3.0', unit='km / s'>,\n",
       " <Property 'emline_gvel', channel='hgam_4341', release='2.3.0', unit='km / s'>,\n",
       " <Property 'emline_gvel', channel='heii_4687', release='2.3.0', unit='km / s'>,\n",
       " <Property 'emline_gvel', channel='hb_4862', release='2.3.0', unit='km / s'>,\n",
       " <Property 'emline_gvel', channel='oiii_4960', release='2.3.0', unit='km / s'>,\n",
       " <Property 'emline_gvel', channel='oiii_5008', release='2.3.0', unit='km / s'>,\n",
       " <Property 'emline_gvel', channel='hei_5877', release='2.3.0', unit='km / s'>,\n",
       " <Property 'emline_gvel', channel='oi_6302', release='2.3.0', unit='km / s'>,\n",
       " <Property 'emline_gvel', channel='oi_6365', release='2.3.0', unit='km / s'>,\n",
       " <Property 'emline_gvel', channel='nii_6549', release='2.3.0', unit='km / s'>,\n",
       " <Property 'emline_gvel', channel='ha_6564', release='2.3.0', unit='km / s'>,\n",
       " <Property 'emline_gvel', channel='nii_6585', release='2.3.0', unit='km / s'>,\n",
       " <Property 'emline_gvel', channel='sii_6718', release='2.3.0', unit='km / s'>,\n",
       " <Property 'emline_gvel', channel='sii_6732', release='2.3.0', unit='km / s'>,\n",
       " <Property 'emline_gvel', channel='hei_3889', release='2.3.0', unit='km / s'>,\n",
       " <Property 'emline_gvel', channel='ni_5199', release='2.3.0', unit='km / s'>,\n",
       " <Property 'emline_gvel', channel='ni_5201', release='2.3.0', unit='km / s'>,\n",
       " <Property 'emline_gew', channel='oii_3727', release='2.3.0', unit='Angstrom'>,\n",
       " <Property 'emline_gew', channel='oii_3729', release='2.3.0', unit='Angstrom'>,\n",
       " <Property 'emline_gew', channel='hthe_3798', release='2.3.0', unit='Angstrom'>,\n",
       " <Property 'emline_gew', channel='heta_3836', release='2.3.0', unit='Angstrom'>,\n",
       " <Property 'emline_gew', channel='neiii_3869', release='2.3.0', unit='Angstrom'>,\n",
       " <Property 'emline_gew', channel='hzet_3890', release='2.3.0', unit='Angstrom'>,\n",
       " <Property 'emline_gew', channel='neiii_3968', release='2.3.0', unit='Angstrom'>,\n",
       " <Property 'emline_gew', channel='heps_3971', release='2.3.0', unit='Angstrom'>,\n",
       " <Property 'emline_gew', channel='hdel_4102', release='2.3.0', unit='Angstrom'>,\n",
       " <Property 'emline_gew', channel='hgam_4341', release='2.3.0', unit='Angstrom'>,\n",
       " <Property 'emline_gew', channel='heii_4687', release='2.3.0', unit='Angstrom'>,\n",
       " <Property 'emline_gew', channel='hb_4862', release='2.3.0', unit='Angstrom'>,\n",
       " <Property 'emline_gew', channel='oiii_4960', release='2.3.0', unit='Angstrom'>,\n",
       " <Property 'emline_gew', channel='oiii_5008', release='2.3.0', unit='Angstrom'>,\n",
       " <Property 'emline_gew', channel='hei_5877', release='2.3.0', unit='Angstrom'>,\n",
       " <Property 'emline_gew', channel='oi_6302', release='2.3.0', unit='Angstrom'>,\n",
       " <Property 'emline_gew', channel='oi_6365', release='2.3.0', unit='Angstrom'>,\n",
       " <Property 'emline_gew', channel='nii_6549', release='2.3.0', unit='Angstrom'>,\n",
       " <Property 'emline_gew', channel='ha_6564', release='2.3.0', unit='Angstrom'>,\n",
       " <Property 'emline_gew', channel='nii_6585', release='2.3.0', unit='Angstrom'>,\n",
       " <Property 'emline_gew', channel='sii_6718', release='2.3.0', unit='Angstrom'>,\n",
       " <Property 'emline_gew', channel='sii_6732', release='2.3.0', unit='Angstrom'>,\n",
       " <Property 'emline_gew', channel='hei_3889', release='2.3.0', unit='Angstrom'>,\n",
       " <Property 'emline_gew', channel='ni_5199', release='2.3.0', unit='Angstrom'>,\n",
       " <Property 'emline_gew', channel='ni_5201', release='2.3.0', unit='Angstrom'>,\n",
       " <Property 'emline_gsigma', channel='oii_3727', release='2.3.0', unit='km / s'>,\n",
       " <Property 'emline_gsigma', channel='oii_3729', release='2.3.0', unit='km / s'>,\n",
       " <Property 'emline_gsigma', channel='hthe_3798', release='2.3.0', unit='km / s'>,\n",
       " <Property 'emline_gsigma', channel='heta_3836', release='2.3.0', unit='km / s'>,\n",
       " <Property 'emline_gsigma', channel='neiii_3869', release='2.3.0', unit='km / s'>,\n",
       " <Property 'emline_gsigma', channel='hzet_3890', release='2.3.0', unit='km / s'>,\n",
       " <Property 'emline_gsigma', channel='neiii_3968', release='2.3.0', unit='km / s'>,\n",
       " <Property 'emline_gsigma', channel='heps_3971', release='2.3.0', unit='km / s'>,\n",
       " <Property 'emline_gsigma', channel='hdel_4102', release='2.3.0', unit='km / s'>,\n",
       " <Property 'emline_gsigma', channel='hgam_4341', release='2.3.0', unit='km / s'>,\n",
       " <Property 'emline_gsigma', channel='heii_4687', release='2.3.0', unit='km / s'>,\n",
       " <Property 'emline_gsigma', channel='hb_4862', release='2.3.0', unit='km / s'>,\n",
       " <Property 'emline_gsigma', channel='oiii_4960', release='2.3.0', unit='km / s'>,\n",
       " <Property 'emline_gsigma', channel='oiii_5008', release='2.3.0', unit='km / s'>,\n",
       " <Property 'emline_gsigma', channel='hei_5877', release='2.3.0', unit='km / s'>,\n",
       " <Property 'emline_gsigma', channel='oi_6302', release='2.3.0', unit='km / s'>,\n",
       " <Property 'emline_gsigma', channel='oi_6365', release='2.3.0', unit='km / s'>,\n",
       " <Property 'emline_gsigma', channel='nii_6549', release='2.3.0', unit='km / s'>,\n",
       " <Property 'emline_gsigma', channel='ha_6564', release='2.3.0', unit='km / s'>,\n",
       " <Property 'emline_gsigma', channel='nii_6585', release='2.3.0', unit='km / s'>,\n",
       " <Property 'emline_gsigma', channel='sii_6718', release='2.3.0', unit='km / s'>,\n",
       " <Property 'emline_gsigma', channel='sii_6732', release='2.3.0', unit='km / s'>,\n",
       " <Property 'emline_gsigma', channel='hei_3889', release='2.3.0', unit='km / s'>,\n",
       " <Property 'emline_gsigma', channel='ni_5199', release='2.3.0', unit='km / s'>,\n",
       " <Property 'emline_gsigma', channel='ni_5201', release='2.3.0', unit='km / s'>,\n",
       " <Property 'emline_instsigma', channel='oii_3727', release='2.3.0', unit='km / s'>,\n",
       " <Property 'emline_instsigma', channel='oii_3729', release='2.3.0', unit='km / s'>,\n",
       " <Property 'emline_instsigma', channel='hthe_3798', release='2.3.0', unit='km / s'>,\n",
       " <Property 'emline_instsigma', channel='heta_3836', release='2.3.0', unit='km / s'>,\n",
       " <Property 'emline_instsigma', channel='neiii_3869', release='2.3.0', unit='km / s'>,\n",
       " <Property 'emline_instsigma', channel='hzet_3890', release='2.3.0', unit='km / s'>,\n",
       " <Property 'emline_instsigma', channel='neiii_3968', release='2.3.0', unit='km / s'>,\n",
       " <Property 'emline_instsigma', channel='heps_3971', release='2.3.0', unit='km / s'>,\n",
       " <Property 'emline_instsigma', channel='hdel_4102', release='2.3.0', unit='km / s'>,\n",
       " <Property 'emline_instsigma', channel='hgam_4341', release='2.3.0', unit='km / s'>,\n",
       " <Property 'emline_instsigma', channel='heii_4687', release='2.3.0', unit='km / s'>,\n",
       " <Property 'emline_instsigma', channel='hb_4862', release='2.3.0', unit='km / s'>,\n",
       " <Property 'emline_instsigma', channel='oiii_4960', release='2.3.0', unit='km / s'>,\n",
       " <Property 'emline_instsigma', channel='oiii_5008', release='2.3.0', unit='km / s'>,\n",
       " <Property 'emline_instsigma', channel='hei_5877', release='2.3.0', unit='km / s'>,\n",
       " <Property 'emline_instsigma', channel='oi_6302', release='2.3.0', unit='km / s'>,\n",
       " <Property 'emline_instsigma', channel='oi_6365', release='2.3.0', unit='km / s'>,\n",
       " <Property 'emline_instsigma', channel='nii_6549', release='2.3.0', unit='km / s'>,\n",
       " <Property 'emline_instsigma', channel='ha_6564', release='2.3.0', unit='km / s'>,\n",
       " <Property 'emline_instsigma', channel='nii_6585', release='2.3.0', unit='km / s'>,\n",
       " <Property 'emline_instsigma', channel='sii_6718', release='2.3.0', unit='km / s'>,\n",
       " <Property 'emline_instsigma', channel='sii_6732', release='2.3.0', unit='km / s'>,\n",
       " <Property 'emline_instsigma', channel='hei_3889', release='2.3.0', unit='km / s'>,\n",
       " <Property 'emline_instsigma', channel='ni_5199', release='2.3.0', unit='km / s'>,\n",
       " <Property 'emline_instsigma', channel='ni_5201', release='2.3.0', unit='km / s'>,\n",
       " <Property 'emline_tplsigma', channel='oii_3727', release='2.3.0', unit='km / s'>,\n",
       " <Property 'emline_tplsigma', channel='oii_3729', release='2.3.0', unit='km / s'>,\n",
       " <Property 'emline_tplsigma', channel='hthe_3798', release='2.3.0', unit='km / s'>,\n",
       " <Property 'emline_tplsigma', channel='heta_3836', release='2.3.0', unit='km / s'>,\n",
       " <Property 'emline_tplsigma', channel='neiii_3869', release='2.3.0', unit='km / s'>,\n",
       " <Property 'emline_tplsigma', channel='hzet_3890', release='2.3.0', unit='km / s'>,\n",
       " <Property 'emline_tplsigma', channel='neiii_3968', release='2.3.0', unit='km / s'>,\n",
       " <Property 'emline_tplsigma', channel='heps_3971', release='2.3.0', unit='km / s'>,\n",
       " <Property 'emline_tplsigma', channel='hdel_4102', release='2.3.0', unit='km / s'>,\n",
       " <Property 'emline_tplsigma', channel='hgam_4341', release='2.3.0', unit='km / s'>,\n",
       " <Property 'emline_tplsigma', channel='heii_4687', release='2.3.0', unit='km / s'>,\n",
       " <Property 'emline_tplsigma', channel='hb_4862', release='2.3.0', unit='km / s'>,\n",
       " <Property 'emline_tplsigma', channel='oiii_4960', release='2.3.0', unit='km / s'>,\n",
       " <Property 'emline_tplsigma', channel='oiii_5008', release='2.3.0', unit='km / s'>,\n",
       " <Property 'emline_tplsigma', channel='hei_5877', release='2.3.0', unit='km / s'>,\n",
       " <Property 'emline_tplsigma', channel='oi_6302', release='2.3.0', unit='km / s'>,\n",
       " <Property 'emline_tplsigma', channel='oi_6365', release='2.3.0', unit='km / s'>,\n",
       " <Property 'emline_tplsigma', channel='nii_6549', release='2.3.0', unit='km / s'>,\n",
       " <Property 'emline_tplsigma', channel='ha_6564', release='2.3.0', unit='km / s'>,\n",
       " <Property 'emline_tplsigma', channel='nii_6585', release='2.3.0', unit='km / s'>,\n",
       " <Property 'emline_tplsigma', channel='sii_6718', release='2.3.0', unit='km / s'>,\n",
       " <Property 'emline_tplsigma', channel='sii_6732', release='2.3.0', unit='km / s'>,\n",
       " <Property 'emline_tplsigma', channel='hei_3889', release='2.3.0', unit='km / s'>,\n",
       " <Property 'emline_tplsigma', channel='ni_5199', release='2.3.0', unit='km / s'>,\n",
       " <Property 'emline_tplsigma', channel='ni_5201', release='2.3.0', unit='km / s'>,\n",
       " <Property 'emline_ga', channel='oii_3727', release='2.3.0', unit='1e-17 erg / (Angstrom cm2 s spaxel)'>,\n",
       " <Property 'emline_ga', channel='oii_3729', release='2.3.0', unit='1e-17 erg / (Angstrom cm2 s spaxel)'>,\n",
       " <Property 'emline_ga', channel='hthe_3798', release='2.3.0', unit='1e-17 erg / (Angstrom cm2 s spaxel)'>,\n",
       " <Property 'emline_ga', channel='heta_3836', release='2.3.0', unit='1e-17 erg / (Angstrom cm2 s spaxel)'>,\n",
       " <Property 'emline_ga', channel='neiii_3869', release='2.3.0', unit='1e-17 erg / (Angstrom cm2 s spaxel)'>,\n",
       " <Property 'emline_ga', channel='hzet_3890', release='2.3.0', unit='1e-17 erg / (Angstrom cm2 s spaxel)'>,\n",
       " <Property 'emline_ga', channel='neiii_3968', release='2.3.0', unit='1e-17 erg / (Angstrom cm2 s spaxel)'>,\n",
       " <Property 'emline_ga', channel='heps_3971', release='2.3.0', unit='1e-17 erg / (Angstrom cm2 s spaxel)'>,\n",
       " <Property 'emline_ga', channel='hdel_4102', release='2.3.0', unit='1e-17 erg / (Angstrom cm2 s spaxel)'>,\n",
       " <Property 'emline_ga', channel='hgam_4341', release='2.3.0', unit='1e-17 erg / (Angstrom cm2 s spaxel)'>,\n",
       " <Property 'emline_ga', channel='heii_4687', release='2.3.0', unit='1e-17 erg / (Angstrom cm2 s spaxel)'>,\n",
       " <Property 'emline_ga', channel='hb_4862', release='2.3.0', unit='1e-17 erg / (Angstrom cm2 s spaxel)'>,\n",
       " <Property 'emline_ga', channel='oiii_4960', release='2.3.0', unit='1e-17 erg / (Angstrom cm2 s spaxel)'>,\n",
       " <Property 'emline_ga', channel='oiii_5008', release='2.3.0', unit='1e-17 erg / (Angstrom cm2 s spaxel)'>,\n",
       " <Property 'emline_ga', channel='hei_5877', release='2.3.0', unit='1e-17 erg / (Angstrom cm2 s spaxel)'>,\n",
       " <Property 'emline_ga', channel='oi_6302', release='2.3.0', unit='1e-17 erg / (Angstrom cm2 s spaxel)'>,\n",
       " <Property 'emline_ga', channel='oi_6365', release='2.3.0', unit='1e-17 erg / (Angstrom cm2 s spaxel)'>,\n",
       " <Property 'emline_ga', channel='nii_6549', release='2.3.0', unit='1e-17 erg / (Angstrom cm2 s spaxel)'>,\n",
       " <Property 'emline_ga', channel='ha_6564', release='2.3.0', unit='1e-17 erg / (Angstrom cm2 s spaxel)'>,\n",
       " <Property 'emline_ga', channel='nii_6585', release='2.3.0', unit='1e-17 erg / (Angstrom cm2 s spaxel)'>,\n",
       " <Property 'emline_ga', channel='sii_6718', release='2.3.0', unit='1e-17 erg / (Angstrom cm2 s spaxel)'>,\n",
       " <Property 'emline_ga', channel='sii_6732', release='2.3.0', unit='1e-17 erg / (Angstrom cm2 s spaxel)'>,\n",
       " <Property 'emline_ga', channel='hei_3889', release='2.3.0', unit='1e-17 erg / (Angstrom cm2 s spaxel)'>,\n",
       " <Property 'emline_ga', channel='ni_5199', release='2.3.0', unit='1e-17 erg / (Angstrom cm2 s spaxel)'>,\n",
       " <Property 'emline_ga', channel='ni_5201', release='2.3.0', unit='1e-17 erg / (Angstrom cm2 s spaxel)'>,\n",
       " <Property 'emline_ganr', channel='oii_3727', release='2.3.0', unit=''>,\n",
       " <Property 'emline_ganr', channel='oii_3729', release='2.3.0', unit=''>,\n",
       " <Property 'emline_ganr', channel='hthe_3798', release='2.3.0', unit=''>,\n",
       " <Property 'emline_ganr', channel='heta_3836', release='2.3.0', unit=''>,\n",
       " <Property 'emline_ganr', channel='neiii_3869', release='2.3.0', unit=''>,\n",
       " <Property 'emline_ganr', channel='hzet_3890', release='2.3.0', unit=''>,\n",
       " <Property 'emline_ganr', channel='neiii_3968', release='2.3.0', unit=''>,\n",
       " <Property 'emline_ganr', channel='heps_3971', release='2.3.0', unit=''>,\n",
       " <Property 'emline_ganr', channel='hdel_4102', release='2.3.0', unit=''>,\n",
       " <Property 'emline_ganr', channel='hgam_4341', release='2.3.0', unit=''>,\n",
       " <Property 'emline_ganr', channel='heii_4687', release='2.3.0', unit=''>,\n",
       " <Property 'emline_ganr', channel='hb_4862', release='2.3.0', unit=''>,\n",
       " <Property 'emline_ganr', channel='oiii_4960', release='2.3.0', unit=''>,\n",
       " <Property 'emline_ganr', channel='oiii_5008', release='2.3.0', unit=''>,\n",
       " <Property 'emline_ganr', channel='hei_5877', release='2.3.0', unit=''>,\n",
       " <Property 'emline_ganr', channel='oi_6302', release='2.3.0', unit=''>,\n",
       " <Property 'emline_ganr', channel='oi_6365', release='2.3.0', unit=''>,\n",
       " <Property 'emline_ganr', channel='nii_6549', release='2.3.0', unit=''>,\n",
       " <Property 'emline_ganr', channel='ha_6564', release='2.3.0', unit=''>,\n",
       " <Property 'emline_ganr', channel='nii_6585', release='2.3.0', unit=''>,\n",
       " <Property 'emline_ganr', channel='sii_6718', release='2.3.0', unit=''>,\n",
       " <Property 'emline_ganr', channel='sii_6732', release='2.3.0', unit=''>,\n",
       " <Property 'emline_ganr', channel='hei_3889', release='2.3.0', unit=''>,\n",
       " <Property 'emline_ganr', channel='ni_5199', release='2.3.0', unit=''>,\n",
       " <Property 'emline_ganr', channel='ni_5201', release='2.3.0', unit=''>,\n",
       " <Property 'emline_lfom', channel='oii_3727', release='2.3.0', unit=''>,\n",
       " <Property 'emline_lfom', channel='oii_3729', release='2.3.0', unit=''>,\n",
       " <Property 'emline_lfom', channel='hthe_3798', release='2.3.0', unit=''>,\n",
       " <Property 'emline_lfom', channel='heta_3836', release='2.3.0', unit=''>,\n",
       " <Property 'emline_lfom', channel='neiii_3869', release='2.3.0', unit=''>,\n",
       " <Property 'emline_lfom', channel='hzet_3890', release='2.3.0', unit=''>,\n",
       " <Property 'emline_lfom', channel='neiii_3968', release='2.3.0', unit=''>,\n",
       " <Property 'emline_lfom', channel='heps_3971', release='2.3.0', unit=''>,\n",
       " <Property 'emline_lfom', channel='hdel_4102', release='2.3.0', unit=''>,\n",
       " <Property 'emline_lfom', channel='hgam_4341', release='2.3.0', unit=''>,\n",
       " <Property 'emline_lfom', channel='heii_4687', release='2.3.0', unit=''>,\n",
       " <Property 'emline_lfom', channel='hb_4862', release='2.3.0', unit=''>,\n",
       " <Property 'emline_lfom', channel='oiii_4960', release='2.3.0', unit=''>,\n",
       " <Property 'emline_lfom', channel='oiii_5008', release='2.3.0', unit=''>,\n",
       " <Property 'emline_lfom', channel='hei_5877', release='2.3.0', unit=''>,\n",
       " <Property 'emline_lfom', channel='oi_6302', release='2.3.0', unit=''>,\n",
       " <Property 'emline_lfom', channel='oi_6365', release='2.3.0', unit=''>,\n",
       " <Property 'emline_lfom', channel='nii_6549', release='2.3.0', unit=''>,\n",
       " <Property 'emline_lfom', channel='ha_6564', release='2.3.0', unit=''>,\n",
       " <Property 'emline_lfom', channel='nii_6585', release='2.3.0', unit=''>,\n",
       " <Property 'emline_lfom', channel='sii_6718', release='2.3.0', unit=''>,\n",
       " <Property 'emline_lfom', channel='sii_6732', release='2.3.0', unit=''>,\n",
       " <Property 'emline_lfom', channel='hei_3889', release='2.3.0', unit=''>,\n",
       " <Property 'emline_lfom', channel='ni_5199', release='2.3.0', unit=''>,\n",
       " <Property 'emline_lfom', channel='ni_5201', release='2.3.0', unit=''>,\n",
       " <Property 'emline_fom', channel='rms', release='2.3.0', unit=''>,\n",
       " <Property 'emline_fom', channel='frms', release='2.3.0', unit=''>,\n",
       " <Property 'emline_fom', channel='rchi2', release='2.3.0', unit=''>,\n",
       " <Property 'emline_fom', channel='fresid_68th_percentile', release='2.3.0', unit=''>,\n",
       " <Property 'emline_fom', channel='fresid_99th_percentile', release='2.3.0', unit=''>,\n",
       " <Property 'emline_fom', channel='fresid_max', release='2.3.0', unit=''>,\n",
       " <Property 'emline_fom', channel='per_pix_chi_68th_percentile', release='2.3.0', unit=''>,\n",
       " <Property 'emline_fom', channel='per_pix_chi_99th_percentile', release='2.3.0', unit=''>,\n",
       " <Property 'emline_fom', channel='per_pix_chi_max', release='2.3.0', unit=''>,\n",
       " <Property 'stellar_fom', channel='rms', release='2.3.0', unit=''>,\n",
       " <Property 'stellar_fom', channel='frms', release='2.3.0', unit=''>,\n",
       " <Property 'stellar_fom', channel='rchi2', release='2.3.0', unit=''>,\n",
       " <Property 'stellar_fom', channel='fresid_68th_percentile', release='2.3.0', unit=''>,\n",
       " <Property 'stellar_fom', channel='fresid_99th_percentile', release='2.3.0', unit=''>,\n",
       " <Property 'stellar_fom', channel='fresid_max', release='2.3.0', unit=''>,\n",
       " <Property 'stellar_fom', channel='per_pix_chi_68th_percentile', release='2.3.0', unit=''>,\n",
       " <Property 'stellar_fom', channel='per_pix_chi_99th_percentile', release='2.3.0', unit=''>,\n",
       " <Property 'stellar_fom', channel='per_pix_chi_max', release='2.3.0', unit=''>,\n",
       " <Property 'stellar_sigmacorr', channel='resolution_difference', release='2.3.0', unit='km / s'>,\n",
       " <Property 'stellar_sigmacorr', channel='fit', release='2.3.0', unit='km / s'>]"
      ]
     },
     "execution_count": 61,
     "metadata": {},
     "output_type": "execute_result"
    }
   ],
   "source": [
    "hyb_maps.datamodel"
   ]
  },
  {
   "cell_type": "markdown",
   "metadata": {},
   "source": [
    "Note that some properties such as 'spx_skycoo' have multiple channels (in this case the on-sky x and y coordinates). We can get more information about a property"
   ]
  },
  {
   "cell_type": "code",
   "execution_count": 62,
   "metadata": {},
   "outputs": [
    {
     "data": {
      "text/plain": [
       "'Offsets of each spaxel from the galaxy center. Channel = On-sky X.'"
      ]
     },
     "execution_count": 62,
     "metadata": {},
     "output_type": "execute_result"
    }
   ],
   "source": [
    "hyb_maps.datamodel.spx_skycoo_on_sky_x.description"
   ]
  },
  {
   "cell_type": "code",
   "execution_count": 63,
   "metadata": {},
   "outputs": [
    {
     "data": {
      "text/plain": [
       "'Offsets of each spaxel from the galaxy center. Channel = On-sky Y.'"
      ]
     },
     "execution_count": 63,
     "metadata": {},
     "output_type": "execute_result"
    }
   ],
   "source": [
    "hyb_maps.datamodel.spx_skycoo_on_sky_y.description"
   ]
  },
  {
   "cell_type": "markdown",
   "metadata": {},
   "source": [
    "See the datamodel section for more information on how to use this feature. We can retrieve the map associated to a specific property directly from the Maps instance. For example, let’s get the H 𝛼 emission line flux (fitted by a Gaussian) from a Maps file"
   ]
  },
  {
   "cell_type": "code",
   "execution_count": 65,
   "metadata": {},
   "outputs": [],
   "source": [
    "ha = hyb_maps.emline_gflux_ha_6564"
   ]
  },
  {
   "cell_type": "code",
   "execution_count": 66,
   "metadata": {},
   "outputs": [
    {
     "data": {
      "text/latex": [
       "$[[0,~0,~0,~\\dots,~0,~0,~0],~\n",
       " [0,~0,~0,~\\dots,~0,~0,~0],~\n",
       " [0,~0,~0,~\\dots,~0,~0,~0],~\n",
       " \\dots,~\n",
       " [0,~0,~0,~\\dots,~0,~0,~0],~\n",
       " [0,~0,~0,~\\dots,~0,~0,~0],~\n",
       " [0,~0,~0,~\\dots,~0,~0,~0]] \\; \\mathrm{1 \\times 10^{-17}\\,\\frac{erg}{s\\,spaxel\\,cm^{2}}}$"
      ],
      "text/plain": [
       "<Marvin Map (property='emline_gflux_ha_6564')>\n",
       "[[0. 0. 0. ... 0. 0. 0.]\n",
       " [0. 0. 0. ... 0. 0. 0.]\n",
       " [0. 0. 0. ... 0. 0. 0.]\n",
       " ...\n",
       " [0. 0. 0. ... 0. 0. 0.]\n",
       " [0. 0. 0. ... 0. 0. 0.]\n",
       " [0. 0. 0. ... 0. 0. 0.]] 1e-17 erg / (cm2 s spaxel)"
      ]
     },
     "execution_count": 66,
     "metadata": {},
     "output_type": "execute_result"
    }
   ],
   "source": [
    "ha"
   ]
  },
  {
   "cell_type": "markdown",
   "metadata": {},
   "source": [
    "Map quantities are similar to DataCube but wrap a 2D array. We can plot the Map as"
   ]
  },
  {
   "cell_type": "code",
   "execution_count": 67,
   "metadata": {},
   "outputs": [
    {
     "name": "stderr",
     "output_type": "stream",
     "text": [
      "/usr/local/lib/python3.7/dist-packages/matplotlib/image.py:395: UserWarning: Warning: converting a masked element to nan.\n",
      "  dv = (np.float64(self.norm.vmax) -\n",
      "/usr/local/lib/python3.7/dist-packages/matplotlib/colors.py:918: UserWarning: Warning: converting a masked element to nan.\n",
      "  dtype = np.min_scalar_type(value)\n",
      "/usr/lib/python3/dist-packages/numpy/ma/core.py:713: UserWarning: Warning: converting a masked element to nan.\n",
      "  data = np.array(a, copy=False, subok=subok)\n"
     ]
    },
    {
     "data": {
      "image/png": "[encoded data removed]",
      "text/plain": [
       "<Figure size 432x288 with 2 Axes>"
      ]
     },
     "metadata": {},
     "output_type": "display_data"
    }
   ],
   "source": [
    "fig, ax = ha.plot()"
   ]
  },
  {
   "cell_type": "markdown",
   "metadata": {},
   "source": [
    "Note that the [`plot`](https://sdss-marvin.readthedocs.io/en/latest/reference/quantities.html#marvin.tools.quantities.map.Map.plot) method returns the matplotlib [`Figure`](https://matplotlib.org/api/_as_gen/matplotlib.figure.Figure.html#matplotlib.figure.Figure) and [`Axes`](https://matplotlib.org/api/axes_api.html#matplotlib.axes.Axes) for the plot. We can use those to modify or save the plot. Marvin plotting routines try to select the best parameters, colour maps, and dynamic ranges. You can modify those by passing extra arguments to [`plot`](https://sdss-marvin.readthedocs.io/en/latest/reference/quantities.html#marvin.tools.quantities.map.Map.plot). You can learn more in the [Map plotting](https://sdss-marvin.readthedocs.io/en/latest/tools/utils/plot-map.html#marvin-utils-plot-map) section. We will talk about the [`Map`](https://sdss-marvin.readthedocs.io/en/latest/reference/quantities.html#marvin.tools.quantities.map.Map) class in detail in [Working with Astropy Quantities](https://sdss-marvin.readthedocs.io/en/latest/getting-started.html#marvin-quantities) and in [Map](https://sdss-marvin.readthedocs.io/en/latest/tools/map.html#marvin-map)."
   ]
  },
  {
   "cell_type": "markdown",
   "metadata": {},
   "source": [
    "Let’s take a step back and go back to hyb_maps, our Maps instance. We can access the targeting bits for that galaxy (for an introduction to maskbits check this page)"
   ]
  },
  {
   "cell_type": "code",
   "execution_count": 68,
   "metadata": {},
   "outputs": [
    {
     "data": {
      "text/plain": [
       "[<Maskbit 'MANGA_TARGET1' ['PRIMARY_v1_2_0']>,\n",
       " <Maskbit 'MANGA_TARGET2' []>,\n",
       " <Maskbit 'MANGA_TARGET3' []>]"
      ]
     },
     "execution_count": 68,
     "metadata": {},
     "output_type": "execute_result"
    }
   ],
   "source": [
    "hyb_maps.target_flags"
   ]
  },
  {
   "cell_type": "markdown",
   "metadata": {},
   "source": [
    "Note that in this case the galaxy belongs to the primary sample from the final target selection (PRIMARY_v1_2_0) as well as to the primary and colour enhanced samples from several commissioning target selections. The galaxy does not have any ancillary bit (manga_target3).\n",
    "Similarly, we can access quality flags, which indicate us if there is something we need to know about the data"
   ]
  },
  {
   "cell_type": "code",
   "execution_count": 69,
   "metadata": {},
   "outputs": [
    {
     "data": {
      "text/plain": [
       "<Maskbit 'MANGA_DAPQUAL' []>"
      ]
     },
     "execution_count": 69,
     "metadata": {},
     "output_type": "execute_result"
    }
   ],
   "source": [
    "hyb_maps.quality_flag"
   ]
  },
  {
   "cell_type": "markdown",
   "metadata": {},
   "source": [
    "In this case the `MANGA_DAPQUAL` maskbit does not have any bit activated, which means the data is safe to use. See the [Maskbits](https://sdss-marvin.readthedocs.io/en/latest/reference/utils.html#marvin-utils-maskbit) section for more information.\n",
    "\n",
    "For each target we can also access additional catalogue data: the associated parameters from the [NASA Sloan Atlas](http://nsatlas.org/), and the [DAPall](https://testng.sdss.org/dr15/manga/manga-data/catalogs/#DAPALLFile) file"
   ]
  },
  {
   "cell_type": "code",
   "execution_count": 70,
   "metadata": {},
   "outputs": [
    {
     "data": {
      "text/plain": [
       "{'iauname': 'J143607.49+494313.2',\n",
       " 'subdir': '14h/p48/J143607.49+494313.2',\n",
       " 'ra': 219.031216216703,\n",
       " 'dec': 49.7203386643674,\n",
       " 'isdss': 213644,\n",
       " 'ined': -1,\n",
       " 'isixdf': -1,\n",
       " 'ialfalfa': -1,\n",
       " 'izcat': 351206,\n",
       " 'itwodf': -1,\n",
       " 'mag': 16.799967,\n",
       " 'z': 0.12535109,\n",
       " 'zsrc': 'sdss   ',\n",
       " 'size': 0.032973114,\n",
       " 'run': 3180,\n",
       " 'camcol': 3,\n",
       " 'field': 92,\n",
       " 'rerun': '301',\n",
       " 'xpos': 1293.0586,\n",
       " 'ypos': 1016.3787,\n",
       " 'nsaid': 209150,\n",
       " 'zdist': 0.12573443,\n",
       " 'sersic_nmgy': [-0.192891418933868,\n",
       "  2.44456100463867,\n",
       "  34.2351379394531,\n",
       "  196.754455566406,\n",
       "  640.33154296875,\n",
       "  937.211364746094,\n",
       "  1214.09765625],\n",
       " 'sersic_nmgy_ivar': [0.0999814420938492,\n",
       "  0.439270317554474,\n",
       "  0.21798013150692,\n",
       "  0.0676891058683395,\n",
       "  0.00700087333098054,\n",
       "  0.00327209569513798,\n",
       "  0.000852833618409932],\n",
       " 'sersic_ok': 1,\n",
       " 'sersic_rnmgy': [0.535620927810669,\n",
       "  1.25072491168976,\n",
       "  37.3727378845215,\n",
       "  205.864288330078,\n",
       "  581.910766601562,\n",
       "  919.505126953125,\n",
       "  1336.4267578125],\n",
       " 'sersic_absmag': [-14.7289085388184,\n",
       "  -17.2522773742676,\n",
       "  -19.9364566802979,\n",
       "  -21.7668132781982,\n",
       "  -22.7966938018799,\n",
       "  -23.1480579376221,\n",
       "  -23.3880500793457],\n",
       " 'sersic_amivar': [0.0,\n",
       "  2.22681951522827,\n",
       "  216.726654052734,\n",
       "  2222.89672851562,\n",
       "  2435.08056640625,\n",
       "  2438.10498046875,\n",
       "  1066.40673828125],\n",
       " 'extinction': [0.19336149096489,\n",
       "  0.19079577922821,\n",
       "  0.120238661766052,\n",
       "  0.088470458984375,\n",
       "  0.0641661584377289,\n",
       "  0.0486552529036999,\n",
       "  0.034497182816267],\n",
       " 'sersic_kcorrect': [-0.167999997735023,\n",
       "  0.707013070583344,\n",
       "  0.525511980056763,\n",
       "  0.457237809896469,\n",
       "  0.20591789484024,\n",
       "  0.143699884414673,\n",
       "  0.102650716900826],\n",
       " 'sersic_kcoeff': [5.88174843869638e-05,\n",
       "  2.30482504250067e-36,\n",
       "  7.38068814728247e-22,\n",
       "  0.000137453127535991,\n",
       "  1.23892880143846e-34],\n",
       " 'sersic_mtol': [0.00677206227555871,\n",
       "  4.5365514755249,\n",
       "  4.92223119735718,\n",
       "  3.05387139320374,\n",
       "  2.11657762527466,\n",
       "  1.57330965995789,\n",
       "  1.14833283424377],\n",
       " 'sersic_b300': 1.2359111e-10,\n",
       " 'sersic_b1000': 0.19924913,\n",
       " 'sersic_mets': 0.030887365,\n",
       " 'sersic_mass': 182298850000.0,\n",
       " 'xcen': 147.473388671875,\n",
       " 'ycen': 147.468276977539,\n",
       " 'nprof': [8, 8, 11, 11, 11, 11, 11],\n",
       " 'profmean': [[-0.00880128983408213,\n",
       "   0.0744242593646049,\n",
       "   0.250012755393982,\n",
       "   1.47058594226837,\n",
       "   4.73067092895508,\n",
       "   7.29709434509277,\n",
       "   10.6232652664185],\n",
       "  [-0.00794348865747452,\n",
       "   0.0536494702100754,\n",
       "   0.193423449993134,\n",
       "   1.28300595283508,\n",
       "   3.89503145217896,\n",
       "   5.89029598236084,\n",
       "   8.7484016418457],\n",
       "  [0.00871636532247066,\n",
       "   0.0357934311032295,\n",
       "   0.153337702155113,\n",
       "   0.94255918264389,\n",
       "   2.69243121147156,\n",
       "   4.01492834091187,\n",
       "   5.95405054092407],\n",
       "  [-0.00856198463588953,\n",
       "   -0.00137119379360229,\n",
       "   0.103112429380417,\n",
       "   0.555280327796936,\n",
       "   1.46067583560944,\n",
       "   2.22546148300171,\n",
       "   3.20480442047119],\n",
       "  [0.00223887106403708,\n",
       "   0.00162960146553814,\n",
       "   0.0452740229666233,\n",
       "   0.256997883319855,\n",
       "   0.665215790271759,\n",
       "   1.00998628139496,\n",
       "   1.41189301013947],\n",
       "  [-0.000918317877221853,\n",
       "   0.000660177785903215,\n",
       "   0.0218171030282974,\n",
       "   0.116193287074566,\n",
       "   0.306667685508728,\n",
       "   0.46589007973671,\n",
       "   0.639933407306671],\n",
       "  [0.00128062744624913,\n",
       "   0.000562611036002636,\n",
       "   0.0114175220951438,\n",
       "   0.05260019749403,\n",
       "   0.140744641423225,\n",
       "   0.21464991569519,\n",
       "   0.278218060731888],\n",
       "  [0.00040942375198938,\n",
       "   -0.00037083582719788,\n",
       "   0.00633557746186852,\n",
       "   0.0244005341082811,\n",
       "   0.0620615258812904,\n",
       "   0.0972493141889572,\n",
       "   0.111816480755806],\n",
       "  [0.0,\n",
       "   0.0,\n",
       "   0.00302432500757277,\n",
       "   0.00962872616946697,\n",
       "   0.0267591718584299,\n",
       "   0.0410926789045334,\n",
       "   0.0475049018859863],\n",
       "  [0.0,\n",
       "   0.0,\n",
       "   0.00183183420449495,\n",
       "   0.00346392136998475,\n",
       "   0.00783577933907509,\n",
       "   0.0123112117871642,\n",
       "   0.00999860744923353],\n",
       "  [0.0,\n",
       "   0.0,\n",
       "   0.00160017726011574,\n",
       "   0.00107152864802629,\n",
       "   0.00288999872282147,\n",
       "   0.00473652593791485,\n",
       "   -0.00351946498267353],\n",
       "  [0.0, 0.0, 0.0, 0.0, 0.0, 0.0, 0.0],\n",
       "  [0.0, 0.0, 0.0, 0.0, 0.0, 0.0, 0.0],\n",
       "  [0.0, 0.0, 0.0, 0.0, 0.0, 0.0, 0.0],\n",
       "  [0.0, 0.0, 0.0, 0.0, 0.0, 0.0, 0.0]],\n",
       " 'profmean_ivar': [[25.5368232727051,\n",
       "   139.412231445312,\n",
       "   481.479614257812,\n",
       "   807.034729003906,\n",
       "   182.206802368164,\n",
       "   82.126708984375,\n",
       "   13.7350769042969],\n",
       "  [16.5862522125244,\n",
       "   90.9615097045898,\n",
       "   347.856323242188,\n",
       "   593.989440917969,\n",
       "   145.104309082031,\n",
       "   67.8744277954102,\n",
       "   10.6032772064209],\n",
       "  [16.0924053192139,\n",
       "   83.5634460449219,\n",
       "   369.503540039062,\n",
       "   761.066345214844,\n",
       "   209.120025634766,\n",
       "   99.4264144897461,\n",
       "   13.8853578567505],\n",
       "  [15.752667427063,\n",
       "   84.9583206176758,\n",
       "   403.562194824219,\n",
       "   1140.1845703125,\n",
       "   355.655181884766,\n",
       "   166.445877075195,\n",
       "   20.2519397735596],\n",
       "  [15.4333658218384,\n",
       "   85.2591781616211,\n",
       "   460.20068359375,\n",
       "   113.737548828125,\n",
       "   608.320922851562,\n",
       "   283.979095458984,\n",
       "   28.5244617462158],\n",
       "  [15.1770210266113,\n",
       "   84.2122650146484,\n",
       "   490.652465820312,\n",
       "   854.927917480469,\n",
       "   856.002685546875,\n",
       "   396.068481445312,\n",
       "   34.3645858764648],\n",
       "  [14.8656311035156,\n",
       "   83.9539566040039,\n",
       "   502.378356933594,\n",
       "   510.243316650391,\n",
       "   1040.89880371094,\n",
       "   477.492706298828,\n",
       "   37.8426628112793],\n",
       "  [14.7066593170166,\n",
       "   84.1598663330078,\n",
       "   503.935791015625,\n",
       "   1977.29162597656,\n",
       "   1146.24060058594,\n",
       "   522.437683105469,\n",
       "   39.2985496520996],\n",
       "  [0.0,\n",
       "   0.0,\n",
       "   511.930114746094,\n",
       "   1114.46630859375,\n",
       "   1210.12133789062,\n",
       "   552.386901855469,\n",
       "   40.3156700134277],\n",
       "  [0.0,\n",
       "   0.0,\n",
       "   514.764343261719,\n",
       "   1289.49401855469,\n",
       "   1261.76831054688,\n",
       "   574.977844238281,\n",
       "   40.3144950866699],\n",
       "  [0.0,\n",
       "   0.0,\n",
       "   463.151977539062,\n",
       "   1930.29858398438,\n",
       "   1261.60632324219,\n",
       "   342.253967285156,\n",
       "   41.1234474182129],\n",
       "  [0.0, 0.0, 0.0, 0.0, 0.0, 0.0, 0.0],\n",
       "  [0.0, 0.0, 0.0, 0.0, 0.0, 0.0, 0.0],\n",
       "  [0.0, 0.0, 0.0, 0.0, 0.0, 0.0, 0.0],\n",
       "  [0.0, 0.0, 0.0, 0.0, 0.0, 0.0, 0.0]],\n",
       " 'qstokes': [[0.0129187479615211,\n",
       "   -0.0339237116277218,\n",
       "   -0.0135022206231952,\n",
       "   0.00246300036087632,\n",
       "   -0.00250599207356572,\n",
       "   -0.00228110002353787,\n",
       "   0.00206804717890918],\n",
       "  [-0.0237610936164856,\n",
       "   0.0789941474795341,\n",
       "   -0.0564904287457466,\n",
       "   0.00224557472392917,\n",
       "   -0.00852655712515116,\n",
       "   -0.0102286878973246,\n",
       "   0.0017074728384614],\n",
       "  [4.1119179725647,\n",
       "   0.359858751296997,\n",
       "   -0.032349981367588,\n",
       "   -0.00638045789673924,\n",
       "   -0.0130407111719251,\n",
       "   -0.018366739153862,\n",
       "   -0.00552283972501755],\n",
       "  [-0.561378657817841,\n",
       "   0.484865337610245,\n",
       "   0.00330632645636797,\n",
       "   -0.0174307208508253,\n",
       "   -0.0253373850136995,\n",
       "   -0.0297591276466846,\n",
       "   -0.0265544578433037],\n",
       "  [-3.07634305953979,\n",
       "   0.579178929328918,\n",
       "   0.0572799332439899,\n",
       "   -0.0280535072088242,\n",
       "   -0.0360550247132778,\n",
       "   -0.04145897179842,\n",
       "   -0.0409586355090141],\n",
       "  [0.00127516128122807,\n",
       "   0.621600925922394,\n",
       "   0.0331549979746342,\n",
       "   -0.0379406660795212,\n",
       "   -0.0446575470268726,\n",
       "   -0.0480962023139,\n",
       "   -0.049656979739666],\n",
       "  [-0.459461063146591,\n",
       "   0.741339325904846,\n",
       "   -0.00109563313890249,\n",
       "   -0.0458161421120167,\n",
       "   -0.0482653193175793,\n",
       "   -0.0545220971107483,\n",
       "   -0.0516990348696709],\n",
       "  [1.21371126174927,\n",
       "   -0.982199013233185,\n",
       "   -0.0129920793697238,\n",
       "   -0.0496056117117405,\n",
       "   -0.0542779192328453,\n",
       "   -0.061221394687891,\n",
       "   -0.062537781894207],\n",
       "  [0.0,\n",
       "   0.0,\n",
       "   -0.0831227451562881,\n",
       "   -0.0741583630442619,\n",
       "   -0.0786364451050758,\n",
       "   -0.0803219750523567,\n",
       "   -0.0939835086464882],\n",
       "  [0.0,\n",
       "   0.0,\n",
       "   -0.119741812348366,\n",
       "   -0.0802128687500954,\n",
       "   -0.0920783802866936,\n",
       "   -0.0943717956542969,\n",
       "   -0.111700564622879],\n",
       "  [0.0,\n",
       "   0.0,\n",
       "   -0.101348698139191,\n",
       "   -0.0872108787298203,\n",
       "   -0.105255626142025,\n",
       "   -0.105936169624329,\n",
       "   -0.147758975625038],\n",
       "  [0.0, 0.0, 0.0, 0.0, 0.0, 0.0, 0.0],\n",
       "  [0.0, 0.0, 0.0, 0.0, 0.0, 0.0, 0.0],\n",
       "  [0.0, 0.0, 0.0, 0.0, 0.0, 0.0, 0.0],\n",
       "  [1.00227069854736,\n",
       "   -0.356623977422714,\n",
       "   -0.137091010808945,\n",
       "   -0.0982069596648216,\n",
       "   -0.114213824272156,\n",
       "   -0.121374174952507,\n",
       "   -0.198518082499504]],\n",
       " 'ustokes': [[-0.0201678760349751,\n",
       "   -0.00254535651765764,\n",
       "   0.00144669378641993,\n",
       "   0.000471728533739224,\n",
       "   0.000287888426100835,\n",
       "   0.000173855689354241,\n",
       "   0.000318362930556759],\n",
       "  [0.0524523891508579,\n",
       "   0.00966277439147234,\n",
       "   0.0439603626728058,\n",
       "   0.0147839952260256,\n",
       "   0.00935298483818769,\n",
       "   0.0077488673850894,\n",
       "   0.0120700001716614],\n",
       "  [-5.27639245986938,\n",
       "   0.323513865470886,\n",
       "   0.040408406406641,\n",
       "   0.0243852362036705,\n",
       "   0.015333604067564,\n",
       "   0.0181604474782944,\n",
       "   0.0250076223164797],\n",
       "  [0.58327704668045,\n",
       "   0.357394009828568,\n",
       "   0.0137805175036192,\n",
       "   0.0330484695732594,\n",
       "   0.0246362145990133,\n",
       "   0.0267830472439528,\n",
       "   0.0353032760322094],\n",
       "  [13.8055381774902,\n",
       "   0.632993161678314,\n",
       "   -0.0177115723490715,\n",
       "   0.0304432585835457,\n",
       "   0.0249484516680241,\n",
       "   0.0251849815249443,\n",
       "   0.0319391116499901],\n",
       "  [2.2717502117157,\n",
       "   0.84884786605835,\n",
       "   0.0188827030360699,\n",
       "   0.0348611436784267,\n",
       "   0.0290955156087875,\n",
       "   0.0290763638913631,\n",
       "   0.0421048849821091],\n",
       "  [-1.22889649868011,\n",
       "   0.524885058403015,\n",
       "   0.0555698275566101,\n",
       "   0.0530171394348145,\n",
       "   0.0454266741871834,\n",
       "   0.0421612225472927,\n",
       "   0.0480722077190876],\n",
       "  [-2.33079719543457,\n",
       "   -1.76128506660461,\n",
       "   0.0777176842093468,\n",
       "   0.0587153621017933,\n",
       "   0.0487289279699326,\n",
       "   0.0449237637221813,\n",
       "   0.0454618260264397],\n",
       "  [0.0,\n",
       "   0.0,\n",
       "   0.0470052920281887,\n",
       "   0.0617029741406441,\n",
       "   0.050846092402935,\n",
       "   0.0513860136270523,\n",
       "   0.0588236972689629],\n",
       "  [0.0,\n",
       "   0.0,\n",
       "   0.114584557712078,\n",
       "   0.0600884258747101,\n",
       "   0.0513258166611195,\n",
       "   0.060021661221981,\n",
       "   0.0730660557746887],\n",
       "  [0.0,\n",
       "   0.0,\n",
       "   0.171799764037132,\n",
       "   0.0519187189638615,\n",
       "   0.0556803084909916,\n",
       "   0.0583337098360062,\n",
       "   0.097857877612114],\n",
       "  [0.0, 0.0, 0.0, 0.0, 0.0, 0.0, 0.0],\n",
       "  [0.0, 0.0, 0.0, 0.0, 0.0, 0.0, 0.0],\n",
       "  [0.0, 0.0, 0.0, 0.0, 0.0, 0.0, 0.0],\n",
       "  [-1.04666805267334,\n",
       "   -1.19204747676849,\n",
       "   0.0836752206087112,\n",
       "   0.0629216879606247,\n",
       "   0.0589505732059479,\n",
       "   0.0615707337856293,\n",
       "   0.164546653628349]],\n",
       " 'bastokes': [[0.953218996524811,\n",
       "   0.934200286865234,\n",
       "   0.973204910755157,\n",
       "   0.994997024536133,\n",
       "   0.994967699050903,\n",
       "   0.995435059070587,\n",
       "   0.995823919773102],\n",
       "  [0.891103863716125,\n",
       "   0.852567315101624,\n",
       "   0.866403102874756,\n",
       "   0.970533549785614,\n",
       "   0.975003898143768,\n",
       "   0.974660277366638,\n",
       "   0.975913345813751],\n",
       "  [-0.739902019500732,\n",
       "   0.347799330949783,\n",
       "   0.901569843292236,\n",
       "   0.950827181339264,\n",
       "   0.960536241531372,\n",
       "   0.949642539024353,\n",
       "   0.950058579444885],\n",
       "  [0.105252183973789,\n",
       "   0.248167246580124,\n",
       "   0.972052872180939,\n",
       "   0.927964568138123,\n",
       "   0.931732356548309,\n",
       "   0.923008978366852,\n",
       "   0.915387153625488],\n",
       "  [-0.867935717105865,\n",
       "   0.0764381885528564,\n",
       "   0.886871159076691,\n",
       "   0.920495390892029,\n",
       "   0.91599315404892,\n",
       "   0.907470345497131,\n",
       "   0.901249945163727],\n",
       "  [-0.388706505298615,\n",
       "   -0.0253913607448339,\n",
       "   0.926494419574738,\n",
       "   0.90200001001358,\n",
       "   0.898795008659363,\n",
       "   0.893576920032501,\n",
       "   0.877749443054199],\n",
       "  [-0.134940698742867,\n",
       "   0.048029463738203,\n",
       "   0.894691824913025,\n",
       "   0.869035065174103,\n",
       "   0.875678718090057,\n",
       "   0.871044158935547,\n",
       "   0.868119180202484],\n",
       "  [-0.448712587356567,\n",
       "   -0.337010830640793,\n",
       "   0.853918313980103,\n",
       "   0.857243239879608,\n",
       "   0.864032864570618,\n",
       "   0.858847439289093,\n",
       "   0.856465637683868],\n",
       "  [1.0,\n",
       "   1.0,\n",
       "   0.825662314891815,\n",
       "   0.82403302192688,\n",
       "   0.828750371932983,\n",
       "   0.825895845890045,\n",
       "   0.800383508205414],\n",
       "  [1.0,\n",
       "   1.0,\n",
       "   0.715657472610474,\n",
       "   0.817812621593475,\n",
       "   0.80927175283432,\n",
       "   0.798816740512848,\n",
       "   0.764484822750092],\n",
       "  [1.0,\n",
       "   1.0,\n",
       "   0.667408525943756,\n",
       "   0.815713584423065,\n",
       "   0.78718900680542,\n",
       "   0.784224689006805,\n",
       "   0.698909878730774],\n",
       "  [1.0, 1.0, 1.0, 1.0, 1.0, 1.0, 1.0],\n",
       "  [1.0, 1.0, 1.0, 1.0, 1.0, 1.0, 1.0],\n",
       "  [1.0, 1.0, 1.0, 1.0, 1.0, 1.0, 1.0],\n",
       "  [-0.183392971754074,\n",
       "   -0.108833692967892,\n",
       "   0.72323215007782,\n",
       "   0.791095376014709,\n",
       "   0.772216975688934,\n",
       "   0.760411620140076,\n",
       "   0.590018630027771]],\n",
       " 'phistokes': [[-28.6789875030518,\n",
       "   -87.8545227050781,\n",
       "   86.9421844482422,\n",
       "   5.42116403579712,\n",
       "   86.7232971191406,\n",
       "   87.8207931518555,\n",
       "   4.37581253051758],\n",
       "  [57.1853370666504,\n",
       "   3.48696327209473,\n",
       "   71.0551300048828,\n",
       "   40.6816139221191,\n",
       "   66.1767807006836,\n",
       "   71.4269027709961,\n",
       "   40.974063873291],\n",
       "  [-26.035270690918,\n",
       "   20.9778079986572,\n",
       "   64.3399505615234,\n",
       "   52.3314361572266,\n",
       "   65.1900177001953,\n",
       "   67.6617965698242,\n",
       "   51.2268257141113],\n",
       "  [66.9520111083984,\n",
       "   18.1969528198242,\n",
       "   38.254093170166,\n",
       "   58.9042358398438,\n",
       "   67.9019317626953,\n",
       "   69.006477355957,\n",
       "   63.4748954772949],\n",
       "  [51.2810974121094,\n",
       "   23.7709846496582,\n",
       "   -8.59108638763428,\n",
       "   66.3303070068359,\n",
       "   72.6592559814453,\n",
       "   74.3613357543945,\n",
       "   71.0266418457031],\n",
       "  [44.9839210510254,\n",
       "   26.8925685882568,\n",
       "   14.8313646316528,\n",
       "   68.7110824584961,\n",
       "   73.4573745727539,\n",
       "   74.4225540161133,\n",
       "   69.8524475097656],\n",
       "  [-55.2499084472656,\n",
       "   17.64967918396,\n",
       "   45.5647583007812,\n",
       "   65.4163970947266,\n",
       "   68.3676986694336,\n",
       "   71.1428451538086,\n",
       "   68.5409317016602],\n",
       "  [-31.2463722229004,\n",
       "   -59.5733413696289,\n",
       "   49.7451934814453,\n",
       "   65.0963821411133,\n",
       "   69.0417709350586,\n",
       "   71.8645401000977,\n",
       "   71.9923629760742],\n",
       "  [0.0,\n",
       "   0.0,\n",
       "   75.2560806274414,\n",
       "   70.1190338134766,\n",
       "   73.5567016601562,\n",
       "   73.6954498291016,\n",
       "   73.9788970947266],\n",
       "  [0.0,\n",
       "   0.0,\n",
       "   68.1304016113281,\n",
       "   71.5813369750977,\n",
       "   75.4320373535156,\n",
       "   73.7715606689453,\n",
       "   73.405158996582],\n",
       "  [0.0,\n",
       "   0.0,\n",
       "   60.2686767578125,\n",
       "   74.6168212890625,\n",
       "   76.0605621337891,\n",
       "   75.580322265625,\n",
       "   73.2421340942383],\n",
       "  [0.0, 0.0, 0.0, 0.0, 0.0, 0.0, 0.0],\n",
       "  [0.0, 0.0, 0.0, 0.0, 0.0, 0.0, 0.0],\n",
       "  [0.0, 0.0, 0.0, 0.0, 0.0, 0.0, 0.0],\n",
       "  [-23.1206569671631,\n",
       "   -53.3277854919434,\n",
       "   74.3008346557617,\n",
       "   73.6760559082031,\n",
       "   76.3499145507812,\n",
       "   76.5511093139648,\n",
       "   70.1727523803711]],\n",
       " 'petro_flux': [0.75376832485199,\n",
       "  1.42818439006805,\n",
       "  70.6642837524414,\n",
       "  249.172012329102,\n",
       "  652.947509765625,\n",
       "  1003.04528808594,\n",
       "  1209.17639160156],\n",
       " 'petro_flux_ivar': [0.0109842140227556,\n",
       "  0.061702087521553,\n",
       "  0.0258123390376568,\n",
       "  0.0606822818517685,\n",
       "  0.0615077130496502,\n",
       "  0.026402585208416,\n",
       "  0.00203526136465371],\n",
       " 'fiber_flux': [-0.0851710736751556,\n",
       "  0.162723988294601,\n",
       "  6.16549968719482,\n",
       "  36.8153076171875,\n",
       "  104.006736755371,\n",
       "  156.873291015625,\n",
       "  230.644821166992],\n",
       " 'fiber_flux_ivar': [6.46791791915894,\n",
       "  35.7466697692871,\n",
       "  8.86393642425537,\n",
       "  -159.32551574707,\n",
       "  5.38824653625488,\n",
       "  2.52691006660461,\n",
       "  0.346351444721222],\n",
       " 'petro_ba50': 0.8871253,\n",
       " 'petro_phi50': 160.88797,\n",
       " 'petro_ba90': 0.8241418,\n",
       " 'petro_phi90': 164.0004,\n",
       " 'sersic_flux': [-0.161424070596695,\n",
       "  2.05060768127441,\n",
       "  29.6467151641846,\n",
       "  183.373428344727,\n",
       "  609.169860839844,\n",
       "  919.550170898438,\n",
       "  1220.26672363281],\n",
       " 'sersic_flux_ivar': [0.142761394381523,\n",
       "  0.626496434211731,\n",
       "  0.634407937526703,\n",
       "  0.703062772750854,\n",
       "  0.297888219356537,\n",
       "  0.137289479374886,\n",
       "  0.0209831334650517],\n",
       " 'sersic_n': 6.0,\n",
       " 'sersic_ba': 0.765588,\n",
       " 'sersic_phi': 167.24521,\n",
       " 'asymmetry': [-47.3272590637207,\n",
       "  0.0,\n",
       "  -0.891056776046753,\n",
       "  -0.0849508941173553,\n",
       "  -0.0291972011327744,\n",
       "  -0.0185789316892624,\n",
       "  -0.0485634803771973],\n",
       " 'clumpy': [-56.4417953491211,\n",
       "  0.0,\n",
       "  -1.02703523635864,\n",
       "  -0.104256331920624,\n",
       "  -0.00991429388523102,\n",
       "  -0.012077122926712,\n",
       "  -0.0426316261291504],\n",
       " 'dflags': [0, 24, 0, 0, 0, 0, 0],\n",
       " 'aid': 0,\n",
       " 'pid': 7,\n",
       " 'dversion': 'v2_1_14 ',\n",
       " 'proftheta': [0.223419234156609,\n",
       "  0.670257329940796,\n",
       "  1.02383506298065,\n",
       "  1.74495899677277,\n",
       "  2.9723973274231,\n",
       "  4.5841760635376,\n",
       "  7.35927677154541,\n",
       "  11.3064184188843,\n",
       "  18.0195484161377,\n",
       "  27.9220218658447,\n",
       "  43.7701835632324,\n",
       "  68.3074417114258,\n",
       "  106.729568481445,\n",
       "  166.522171020508,\n",
       "  258.390014648438],\n",
       " 'petro_theta': 15.393984,\n",
       " 'petro_th50': 5.985117,\n",
       " 'petro_th90': 20.362452,\n",
       " 'sersic_th50': 3.6908996,\n",
       " 'plate': 1047,\n",
       " 'fiberid': 390,\n",
       " 'mjd': 52733,\n",
       " 'racat': 219.031211689367,\n",
       " 'deccat': 49.7203421538843,\n",
       " 'zsdssline': 0.0,\n",
       " 'survey': 'sdss  ',\n",
       " 'programname': 'legacy                     ',\n",
       " 'platequality': 'good    ',\n",
       " 'tile': 802,\n",
       " 'plug_ra': 219.03121,\n",
       " 'plug_dec': 49.72034,\n",
       " 'elpetro_ba': 0.8241418,\n",
       " 'elpetro_phi': 164.0004,\n",
       " 'elpetro_flux_r': 628.3453,\n",
       " 'elpetro_flux_ivar_r': 0.07554148,\n",
       " 'elpetro_theta_r': 15.423392,\n",
       " 'elpetro_th50_r': 5.9923034,\n",
       " 'elpetro_th90_r': 20.47929,\n",
       " 'elpetro_theta': 15.423392,\n",
       " 'elpetro_flux': [0.521104276180267,\n",
       "  2.02287626266479,\n",
       "  53.7041053771973,\n",
       "  235.963928222656,\n",
       "  628.345275878906,\n",
       "  970.910461425781,\n",
       "  1391.64245605469],\n",
       " 'elpetro_flux_ivar': [0.012846190482378,\n",
       "  0.0708881393074989,\n",
       "  0.0323598608374596,\n",
       "  0.0829607993364334,\n",
       "  0.0755414813756943,\n",
       "  0.0344721898436546,\n",
       "  0.0025159758515656],\n",
       " 'elpetro_th50': [24.0582447052002,\n",
       "  11.3769187927246,\n",
       "  9.37490081787109,\n",
       "  6.16246128082275,\n",
       "  5.99230337142944,\n",
       "  6.17225122451782,\n",
       "  6.26727437973022],\n",
       " 'elpetro_th90': [-9999.0,\n",
       "  30.1212215423584,\n",
       "  24.3798961639404,\n",
       "  21.0054016113281,\n",
       "  20.4792900085449,\n",
       "  20.7741928100586,\n",
       "  22.834888458252],\n",
       " 'elpetro_apcorr_r': 0.9997913,\n",
       " 'elpetro_apcorr': [1.02861344814301,\n",
       "  1.03683412075043,\n",
       "  1.00072264671326,\n",
       "  0.999012291431427,\n",
       "  1.0,\n",
       "  1.00018239021301,\n",
       "  0.999816834926605],\n",
       " 'elpetro_apcorr_self': [1.0091849565506,\n",
       "  1.09547412395477,\n",
       "  1.00014889240265,\n",
       "  0.998920023441315,\n",
       "  1.0,\n",
       "  1.00026667118073,\n",
       "  0.999817192554474],\n",
       " 'elpetro_nmgy': [0.622686207294464,\n",
       "  2.41150188446045,\n",
       "  62.0158882141113,\n",
       "  253.182571411133,\n",
       "  660.487915039062,\n",
       "  989.558044433594,\n",
       "  1384.60705566406],\n",
       " 'elpetro_nmgy_ivar': [0.00899669900536537,\n",
       "  0.0498615726828575,\n",
       "  0.0202574171125889,\n",
       "  0.028067622333765,\n",
       "  0.00614802772179246,\n",
       "  0.00275933556258678,\n",
       "  0.000538464111741632],\n",
       " 'elpetro_ok': 1,\n",
       " 'elpetro_rnmgy': [2.06824374198914,\n",
       "  5.54265451431274,\n",
       "  56.409797668457,\n",
       "  254.628707885742,\n",
       "  659.495239257812,\n",
       "  989.492126464844,\n",
       "  1383.78051757812],\n",
       " 'elpetro_absmag': [-15.2309541702271,\n",
       "  -16.887903213501,\n",
       "  -20.477466583252,\n",
       "  -21.9937591552734,\n",
       "  -22.7939109802246,\n",
       "  -23.1799793243408,\n",
       "  -23.4998016357422],\n",
       " 'elpetro_amivar': [0.00295919086784124,\n",
       "  0.245975896716118,\n",
       "  66.0908432006836,\n",
       "  1526.24633789062,\n",
       "  2275.18603515625,\n",
       "  2292.12524414062,\n",
       "  875.711669921875],\n",
       " 'elpetro_kcorrect': [0.170516386628151,\n",
       "  0.357420772314072,\n",
       "  0.421445697546005,\n",
       "  0.410410434007645,\n",
       "  0.169486030936241,\n",
       "  0.116611167788506,\n",
       "  0.0717202425003052],\n",
       " 'elpetro_kcoeff': [3.6556797567755e-05,\n",
       "  7.34826151884668e-26,\n",
       "  2.7396365731569e-10,\n",
       "  0.000170133091160096,\n",
       "  6.9498054244832e-07],\n",
       " 'elpetro_mass': 189525460000.0,\n",
       " 'elpetro_mtol': [0.00133491575252265,\n",
       "  1.46855568885803,\n",
       "  3.73140645027161,\n",
       "  2.68002557754517,\n",
       "  2.00786900520325,\n",
       "  1.55838632583618,\n",
       "  1.186319231987],\n",
       " 'elpetro_b300': 0.0018126724,\n",
       " 'elpetro_b1000': 0.11902203,\n",
       " 'elpetro_mets': 0.02703452,\n",
       " 'in_dr7_lss': 1.0,\n",
       " 'elpetro_absmag_r_i': 0.3860683441162003,\n",
       " 'elpetro_mag_r_i': 0.47245206353123237,\n",
       " 'elpetro_mag_r_z': 0.8633235559694192,\n",
       " 'elpetro_mag_u_i': 3.142921894521317,\n",
       " 'elpetro_absmag_F_g': 6.762804985046298,\n",
       " 'elpetro_absmag_u_i': 2.7025127410887997,\n",
       " 'elpetro_absmag_u_g': 1.516292572021399,\n",
       " 'elpetro_absmag_r': -22.7939109802246,\n",
       " 'elpetro_absmag_g_i': 1.1862201690674006,\n",
       " 'elpetro_mag_g_r': 1.0633817235286127,\n",
       " 'elpetro_mag_g_i': 1.535833787059845,\n",
       " 'elpetro_mag_g_z': 1.926705279498032,\n",
       " 'elpetro_absmag_g_z': 1.5060424804688033,\n",
       " 'elpetro_mag_g': 16.567885798303333,\n",
       " 'elpetro_mag_u_g': 1.6070881074614718,\n",
       " 'elpetro_absmag_u': -20.477466583252,\n",
       " 'sersic_logmass': 11.260783928993817,\n",
       " 'elpetro_absmag_r_z': 0.705890655517603,\n",
       " 'elpetro_mag_u_r': 2.6704698309900845,\n",
       " 'elpetro_logmass': 11.277667559395347,\n",
       " 'elpetro_mag_i_z': 0.39087149243818686,\n",
       " 'elpetro_absmag_i': -23.1799793243408,\n",
       " 'elpetro_absmag_F_N': 1.656949043273901,\n",
       " 'elpetro_absmag_F_z': 8.268847465515101,\n",
       " 'elpetro_mag_u': 18.174973905764805,\n",
       " 'elpetro_absmag_z': -23.4998016357422,\n",
       " 'elpetro_absmag_N_g': 5.105855941772397,\n",
       " 'elpetro_absmag_F_r': 7.562956809997498,\n",
       " 'elpetro_absmag_g_r': 0.8001518249512003,\n",
       " 'elpetro_absmag_F': -15.2309541702271,\n",
       " 'elpetro_absmag_g': -21.9937591552734,\n",
       " 'elpetro_absmag_u_r': 2.3164443969725994,\n",
       " 'elpetro_absmag_N_r': 5.906007766723597,\n",
       " 'elpetro_absmag_i_z': 0.3198223114014027,\n",
       " 'elpetro_absmag_N_u': 3.589563369750998,\n",
       " 'elpetro_absmag_F_u': 5.246512413024899,\n",
       " 'elpetro_mag_u_z': 3.5337933869595037,\n",
       " 'elpetro_absmag_N_z': 6.6118984222412,\n",
       " 'elpetro_absmag_N': -16.887903213501,\n",
       " 'elpetro_mag_i': 15.032052011243488,\n",
       " 'elpetro_mag_r': 15.50450407477472,\n",
       " 'elpetro_absmag_N_i': 6.292076110839798,\n",
       " 'elpetro_absmag_u_z': 3.0223350524902024,\n",
       " 'elpetro_absmag_F_i': 7.9490251541136985,\n",
       " 'elpetro_mag_z': 14.641180518805301}"
      ]
     },
     "execution_count": 70,
     "metadata": {},
     "output_type": "execute_result"
    }
   ],
   "source": [
    "hyb_maps.nsa"
   ]
  },
  {
   "cell_type": "code",
   "execution_count": 71,
   "metadata": {},
   "outputs": [
    {
     "data": {
      "text/plain": [
       "{'adist_nsa_z': 324.297,\n",
       " 'adist_z': 324.297,\n",
       " 'bin_r_n_1': 113.0,\n",
       " 'bin_r_n_2': 43.0,\n",
       " 'bin_r_n_3': 0.0,\n",
       " 'bin_r_snr_1': 15.1008,\n",
       " 'bin_r_snr_2': 7.72835,\n",
       " 'bin_r_snr_3': 0.0,\n",
       " 'bin_rmax': 1.36353,\n",
       " 'binkey': 'HYB10',\n",
       " 'binsnr': 10.0,\n",
       " 'bintype': 'voronoi',\n",
       " 'dapbins': 1277,\n",
       " 'dapdone': 'true',\n",
       " 'dapqual': 0,\n",
       " 'daptype': 'HYB10-MILESHC-MILESHC',\n",
       " 'datedap': '2019-02-02',\n",
       " 'drp3qual': 0,\n",
       " 'drpallindx': 3204,\n",
       " 'elfkey': 'EFITMPL8DB',\n",
       " 'elmkey': 'EMOMMPL8',\n",
       " 'emline_gew_1re_ariii_7137': None,\n",
       " 'emline_gew_1re_ariii_7753': None,\n",
       " 'emline_gew_1re_h11_3771': None,\n",
       " 'emline_gew_1re_h12_3751': None,\n",
       " 'emline_gew_1re_ha_6564': 0.236098,\n",
       " 'emline_gew_1re_hb_4862': 0.452571,\n",
       " 'emline_gew_1re_hdel_4102': 0.553571,\n",
       " 'emline_gew_1re_hei_3889': 0.793182,\n",
       " 'emline_gew_1re_hei_5877': 0.27046,\n",
       " 'emline_gew_1re_hei_7067': None,\n",
       " 'emline_gew_1re_heii_4687': 0.236361,\n",
       " 'emline_gew_1re_heps_3971': 0.523461,\n",
       " 'emline_gew_1re_heta_3836': 1.3595,\n",
       " 'emline_gew_1re_hgam_4341': 0.375592,\n",
       " 'emline_gew_1re_hthe_3798': 1.71653,\n",
       " 'emline_gew_1re_hzet_3890': 0.537454,\n",
       " 'emline_gew_1re_neiii_3869': 2.60212,\n",
       " 'emline_gew_1re_neiii_3968': 0.408317,\n",
       " 'emline_gew_1re_ni_5199': 0.426344,\n",
       " 'emline_gew_1re_ni_5201': 0.238289,\n",
       " 'emline_gew_1re_nii_6549': 0.0952632,\n",
       " 'emline_gew_1re_nii_6585': 0.286689,\n",
       " 'emline_gew_1re_oi_6302': 0.32554,\n",
       " 'emline_gew_1re_oi_6365': 0.105152,\n",
       " 'emline_gew_1re_oii_3727': 1.45257,\n",
       " 'emline_gew_1re_oii_3729': 1.788,\n",
       " 'emline_gew_1re_oiii_4960': 0.0698699,\n",
       " 'emline_gew_1re_oiii_5008': 0.213498,\n",
       " 'emline_gew_1re_peps_9548': None,\n",
       " 'emline_gew_1re_peta_9017': None,\n",
       " 'emline_gew_1re_pzet_9231': None,\n",
       " 'emline_gew_1re_sii_6718': 0.25976,\n",
       " 'emline_gew_1re_sii_6732': 0.932268,\n",
       " 'emline_gew_1re_siii_9071': None,\n",
       " 'emline_gew_1re_siii_9533': None,\n",
       " 'emline_gew_peak_ariii_7137': None,\n",
       " 'emline_gew_peak_ariii_7753': None,\n",
       " 'emline_gew_peak_h11_3771': None,\n",
       " 'emline_gew_peak_h12_3751': None,\n",
       " 'emline_gew_peak_ha_6564': 4.97386,\n",
       " 'emline_gew_peak_hb_4862': 8.25909,\n",
       " 'emline_gew_peak_hdel_4102': 16.7965,\n",
       " 'emline_gew_peak_hei_3889': 39.2364,\n",
       " 'emline_gew_peak_hei_5877': 4.6533,\n",
       " 'emline_gew_peak_hei_7067': None,\n",
       " 'emline_gew_peak_heii_4687': 5.86122,\n",
       " 'emline_gew_peak_heps_3971': 16.5925,\n",
       " 'emline_gew_peak_heta_3836': 45.3952,\n",
       " 'emline_gew_peak_hgam_4341': 5.86679,\n",
       " 'emline_gew_peak_hthe_3798': 70.6966,\n",
       " 'emline_gew_peak_hzet_3890': 42.355,\n",
       " 'emline_gew_peak_neiii_3869': 72.4655,\n",
       " 'emline_gew_peak_neiii_3968': 12.8846,\n",
       " 'emline_gew_peak_ni_5199': 8.86504,\n",
       " 'emline_gew_peak_ni_5201': 9.27113,\n",
       " 'emline_gew_peak_nii_6549': 1.79593,\n",
       " 'emline_gew_peak_nii_6585': 5.43594,\n",
       " 'emline_gew_peak_oi_6302': 7.53553,\n",
       " 'emline_gew_peak_oi_6365': 2.2269,\n",
       " 'emline_gew_peak_oii_3727': 110.513,\n",
       " 'emline_gew_peak_oii_3729': 189.225,\n",
       " 'emline_gew_peak_oiii_4960': 2.10654,\n",
       " 'emline_gew_peak_oiii_5008': 6.20336,\n",
       " 'emline_gew_peak_peps_9548': None,\n",
       " 'emline_gew_peak_peta_9017': None,\n",
       " 'emline_gew_peak_pzet_9231': None,\n",
       " 'emline_gew_peak_sii_6718': 5.44365,\n",
       " 'emline_gew_peak_sii_6732': 8.89809,\n",
       " 'emline_gew_peak_siii_9071': None,\n",
       " 'emline_gew_peak_siii_9533': None,\n",
       " 'emline_gflux_1re_ariii_7137': None,\n",
       " 'emline_gflux_1re_ariii_7753': None,\n",
       " 'emline_gflux_1re_h11_3771': None,\n",
       " 'emline_gflux_1re_h12_3751': None,\n",
       " 'emline_gflux_1re_ha_6564': 19.6724,\n",
       " 'emline_gflux_1re_hb_4862': 21.0495,\n",
       " 'emline_gflux_1re_hdel_4102': 10.163,\n",
       " 'emline_gflux_1re_hei_3889': 24.4028,\n",
       " 'emline_gflux_1re_hei_5877': 7.05268,\n",
       " 'emline_gflux_1re_hei_7067': None,\n",
       " 'emline_gflux_1re_heii_4687': 4.9674,\n",
       " 'emline_gflux_1re_heps_3971': 12.7943,\n",
       " 'emline_gflux_1re_heta_3836': 11.3583,\n",
       " 'emline_gflux_1re_hgam_4341': 8.76655,\n",
       " 'emline_gflux_1re_hthe_3798': 36.3937,\n",
       " 'emline_gflux_1re_hzet_3890': 6.99055,\n",
       " 'emline_gflux_1re_neiii_3869': 32.0991,\n",
       " 'emline_gflux_1re_neiii_3968': 3.67279,\n",
       " 'emline_gflux_1re_ni_5199': 12.8988,\n",
       " 'emline_gflux_1re_ni_5201': 10.7836,\n",
       " 'emline_gflux_1re_nii_6549': 4.38732,\n",
       " 'emline_gflux_1re_nii_6585': 13.4169,\n",
       " 'emline_gflux_1re_oi_6302': 14.4257,\n",
       " 'emline_gflux_1re_oi_6365': 4.73164,\n",
       " 'emline_gflux_1re_oii_3727': 14.9723,\n",
       " 'emline_gflux_1re_oii_3729': 13.5486,\n",
       " 'emline_gflux_1re_oiii_4960': 5.77833,\n",
       " 'emline_gflux_1re_oiii_5008': 16.9951,\n",
       " 'emline_gflux_1re_peps_9548': None,\n",
       " 'emline_gflux_1re_peta_9017': None,\n",
       " 'emline_gflux_1re_pzet_9231': None,\n",
       " 'emline_gflux_1re_sii_6718': 15.7659,\n",
       " 'emline_gflux_1re_sii_6732': 28.4567,\n",
       " 'emline_gflux_1re_siii_9071': None,\n",
       " 'emline_gflux_1re_siii_9533': None,\n",
       " 'emline_gflux_cen_ariii_7137': None,\n",
       " 'emline_gflux_cen_ariii_7753': None,\n",
       " 'emline_gflux_cen_h11_3771': None,\n",
       " 'emline_gflux_cen_h12_3751': None,\n",
       " 'emline_gflux_cen_ha_6564': 8.89728,\n",
       " 'emline_gflux_cen_hb_4862': 6.19486,\n",
       " 'emline_gflux_cen_hdel_4102': 2.12962,\n",
       " 'emline_gflux_cen_hei_3889': 9.65158,\n",
       " 'emline_gflux_cen_hei_5877': 1.84728,\n",
       " 'emline_gflux_cen_hei_7067': None,\n",
       " 'emline_gflux_cen_heii_4687': 1.4251,\n",
       " 'emline_gflux_cen_heps_3971': 5.42427,\n",
       " 'emline_gflux_cen_heta_3836': 2.88341,\n",
       " 'emline_gflux_cen_hgam_4341': 1.58399,\n",
       " 'emline_gflux_cen_hthe_3798': 15.0492,\n",
       " 'emline_gflux_cen_hzet_3890': 0.701053,\n",
       " 'emline_gflux_cen_neiii_3869': 8.63108,\n",
       " 'emline_gflux_cen_neiii_3968': 0.726933,\n",
       " 'emline_gflux_cen_ni_5199': 6.00599,\n",
       " 'emline_gflux_cen_ni_5201': 4.84484,\n",
       " 'emline_gflux_cen_nii_6549': 1.41784,\n",
       " 'emline_gflux_cen_nii_6585': 4.33591,\n",
       " 'emline_gflux_cen_oi_6302': 5.05182,\n",
       " 'emline_gflux_cen_oi_6365': 1.657,\n",
       " 'emline_gflux_cen_oii_3727': 3.56235,\n",
       " 'emline_gflux_cen_oii_3729': 1.78957,\n",
       " 'emline_gflux_cen_oiii_4960': 1.67957,\n",
       " 'emline_gflux_cen_oiii_5008': 4.93992,\n",
       " 'emline_gflux_cen_peps_9548': None,\n",
       " 'emline_gflux_cen_peta_9017': None,\n",
       " 'emline_gflux_cen_pzet_9231': None,\n",
       " 'emline_gflux_cen_sii_6718': 4.43875,\n",
       " 'emline_gflux_cen_sii_6732': 5.82555,\n",
       " 'emline_gflux_cen_siii_9071': None,\n",
       " 'emline_gflux_cen_siii_9533': None,\n",
       " 'emline_gflux_tot_ariii_7137': None,\n",
       " 'emline_gflux_tot_ariii_7753': None,\n",
       " 'emline_gflux_tot_h11_3771': None,\n",
       " 'emline_gflux_tot_h12_3751': None,\n",
       " 'emline_gflux_tot_ha_6564': 45.0067,\n",
       " 'emline_gflux_tot_hb_4862': 33.7296,\n",
       " 'emline_gflux_tot_hdel_4102': 30.4005,\n",
       " 'emline_gflux_tot_hei_3889': 35.9995,\n",
       " 'emline_gflux_tot_hei_5877': 22.0152,\n",
       " 'emline_gflux_tot_hei_7067': None,\n",
       " 'emline_gflux_tot_heii_4687': 18.2196,\n",
       " 'emline_gflux_tot_heps_3971': 26.9767,\n",
       " 'emline_gflux_tot_heta_3836': 33.1711,\n",
       " 'emline_gflux_tot_hgam_4341': 20.2117,\n",
       " 'emline_gflux_tot_hthe_3798': 63.0235,\n",
       " 'emline_gflux_tot_hzet_3890': 16.4941,\n",
       " 'emline_gflux_tot_neiii_3869': 93.0416,\n",
       " 'emline_gflux_tot_neiii_3968': 11.8011,\n",
       " 'emline_gflux_tot_ni_5199': 31.6209,\n",
       " 'emline_gflux_tot_ni_5201': 27.421,\n",
       " 'emline_gflux_tot_nii_6549': 9.32004,\n",
       " 'emline_gflux_tot_nii_6585': 28.5016,\n",
       " 'emline_gflux_tot_oi_6302': 32.085,\n",
       " 'emline_gflux_tot_oi_6365': 10.5239,\n",
       " 'emline_gflux_tot_oii_3727': 30.5005,\n",
       " 'emline_gflux_tot_oii_3729': 45.9741,\n",
       " 'emline_gflux_tot_oiii_4960': 11.0551,\n",
       " 'emline_gflux_tot_oiii_5008': 32.515,\n",
       " 'emline_gflux_tot_peps_9548': None,\n",
       " 'emline_gflux_tot_peta_9017': None,\n",
       " 'emline_gflux_tot_pzet_9231': None,\n",
       " 'emline_gflux_tot_sii_6718': 39.9062,\n",
       " 'emline_gflux_tot_sii_6732': 103.287,\n",
       " 'emline_gflux_tot_siii_9071': None,\n",
       " 'emline_gflux_tot_siii_9533': None,\n",
       " 'emline_gsb_1re_ariii_7137': None,\n",
       " 'emline_gsb_1re_ariii_7753': None,\n",
       " 'emline_gsb_1re_h11_3771': None,\n",
       " 'emline_gsb_1re_h12_3751': None,\n",
       " 'emline_gsb_1re_ha_6564': 0.0557292,\n",
       " 'emline_gsb_1re_hb_4862': 0.0599702,\n",
       " 'emline_gsb_1re_hdel_4102': 0.0285477,\n",
       " 'emline_gsb_1re_hei_3889': 0.0705284,\n",
       " 'emline_gsb_1re_hei_5877': 0.0204426,\n",
       " 'emline_gsb_1re_hei_7067': None,\n",
       " 'emline_gsb_1re_heii_4687': 0.0139534,\n",
       " 'emline_gsb_1re_heps_3971': 0.0370849,\n",
       " 'emline_gsb_1re_heta_3836': 0.0333089,\n",
       " 'emline_gsb_1re_hgam_4341': 0.0248344,\n",
       " 'emline_gsb_1re_hthe_3798': 0.11198,\n",
       " 'emline_gsb_1re_hzet_3890': 0.0202039,\n",
       " 'emline_gsb_1re_neiii_3869': 0.0941322,\n",
       " 'emline_gsb_1re_neiii_3968': 0.0110626,\n",
       " 'emline_gsb_1re_ni_5199': 0.0362327,\n",
       " 'emline_gsb_1re_ni_5201': 0.0302911,\n",
       " 'emline_gsb_1re_nii_6549': 0.0123239,\n",
       " 'emline_gsb_1re_nii_6585': 0.0376878,\n",
       " 'emline_gsb_1re_oi_6302': 0.0406359,\n",
       " 'emline_gsb_1re_oi_6365': 0.0133286,\n",
       " 'emline_gsb_1re_oii_3727': 0.0478347,\n",
       " 'emline_gsb_1re_oii_3729': 0.0432862,\n",
       " 'emline_gsb_1re_oiii_4960': 0.016277,\n",
       " 'emline_gsb_1re_oiii_5008': 0.0478735,\n",
       " 'emline_gsb_1re_peps_9548': None,\n",
       " 'emline_gsb_1re_peta_9017': None,\n",
       " 'emline_gsb_1re_pzet_9231': None,\n",
       " 'emline_gsb_1re_sii_6718': 0.0447895,\n",
       " 'emline_gsb_1re_sii_6732': 0.0810731,\n",
       " 'emline_gsb_1re_siii_9071': None,\n",
       " 'emline_gsb_1re_siii_9533': None,\n",
       " 'emline_gsb_peak_ariii_7137': None,\n",
       " 'emline_gsb_peak_ariii_7753': None,\n",
       " 'emline_gsb_peak_h11_3771': None,\n",
       " 'emline_gsb_peak_h12_3751': None,\n",
       " 'emline_gsb_peak_ha_6564': 1.07038,\n",
       " 'emline_gsb_peak_hb_4862': 0.674631,\n",
       " 'emline_gsb_peak_hdel_4102': 0.255498,\n",
       " 'emline_gsb_peak_hei_3889': 0.771361,\n",
       " 'emline_gsb_peak_hei_5877': 0.631183,\n",
       " 'emline_gsb_peak_hei_7067': None,\n",
       " 'emline_gsb_peak_heii_4687': 0.133922,\n",
       " 'emline_gsb_peak_heps_3971': 0.404007,\n",
       " 'emline_gsb_peak_heta_3836': 0.281081,\n",
       " 'emline_gsb_peak_hgam_4341': 0.264419,\n",
       " 'emline_gsb_peak_hthe_3798': 0.991178,\n",
       " 'emline_gsb_peak_hzet_3890': 0.441777,\n",
       " 'emline_gsb_peak_neiii_3869': 0.547186,\n",
       " 'emline_gsb_peak_neiii_3968': 0.188977,\n",
       " 'emline_gsb_peak_ni_5199': 0.486997,\n",
       " 'emline_gsb_peak_ni_5201': 0.484482,\n",
       " 'emline_gsb_peak_nii_6549': 0.301373,\n",
       " 'emline_gsb_peak_nii_6585': 0.921629,\n",
       " 'emline_gsb_peak_oi_6302': 0.681236,\n",
       " 'emline_gsb_peak_oi_6365': 0.223445,\n",
       " 'emline_gsb_peak_oii_3727': 0.410925,\n",
       " 'emline_gsb_peak_oii_3729': 0.655397,\n",
       " 'emline_gsb_peak_oiii_4960': 0.145751,\n",
       " 'emline_gsb_peak_oiii_5008': 0.42868,\n",
       " 'emline_gsb_peak_peps_9548': None,\n",
       " 'emline_gsb_peak_peta_9017': None,\n",
       " 'emline_gsb_peak_pzet_9231': None,\n",
       " 'emline_gsb_peak_sii_6718': 0.981165,\n",
       " 'emline_gsb_peak_sii_6732': 0.375669,\n",
       " 'emline_gsb_peak_siii_9071': None,\n",
       " 'emline_gsb_peak_siii_9533': None,\n",
       " 'emline_rchi2_1re': 0.942237,\n",
       " 'emline_sew_1re_ariii_7137': None,\n",
       " 'emline_sew_1re_ariii_7753': None,\n",
       " 'emline_sew_1re_h11_3771': None,\n",
       " 'emline_sew_1re_h12_3751': None,\n",
       " 'emline_sew_1re_ha_6564': -0.489269,\n",
       " 'emline_sew_1re_hb_4862': 0.413508,\n",
       " 'emline_sew_1re_hdel_4102': -0.39911,\n",
       " 'emline_sew_1re_hei_3889': -999.0,\n",
       " 'emline_sew_1re_hei_5877': 0.165448,\n",
       " 'emline_sew_1re_hei_7067': None,\n",
       " 'emline_sew_1re_heii_4687': -0.320145,\n",
       " 'emline_sew_1re_heps_3971': -0.624587,\n",
       " 'emline_sew_1re_heta_3836': -1.69002,\n",
       " 'emline_sew_1re_hgam_4341': -0.192097,\n",
       " 'emline_sew_1re_hthe_3798': 0.976273,\n",
       " 'emline_sew_1re_hzet_3890': 2.27499,\n",
       " 'emline_sew_1re_neiii_3869': 4.70263,\n",
       " 'emline_sew_1re_neiii_3968': -0.913497,\n",
       " 'emline_sew_1re_ni_5199': 0.752902,\n",
       " 'emline_sew_1re_ni_5201': -999.0,\n",
       " 'emline_sew_1re_nii_6549': 0.288039,\n",
       " 'emline_sew_1re_nii_6585': -0.630608,\n",
       " 'emline_sew_1re_oi_6302': 0.449602,\n",
       " 'emline_sew_1re_oi_6365': 0.0801518,\n",
       " 'emline_sew_1re_oii_3729': -999.0,\n",
       " 'emline_sew_1re_oiid_3728': -0.0514256,\n",
       " 'emline_sew_1re_oiii_4960': -0.0315005,\n",
       " 'emline_sew_1re_oiii_5008': -0.147233,\n",
       " 'emline_sew_1re_peps_9548': None,\n",
       " 'emline_sew_1re_peta_9017': None,\n",
       " 'emline_sew_1re_pzet_9231': None,\n",
       " 'emline_sew_1re_sii_6718': -0.400065,\n",
       " 'emline_sew_1re_sii_6732': 0.741221,\n",
       " 'emline_sew_1re_siii_9071': None,\n",
       " 'emline_sew_1re_siii_9533': None,\n",
       " 'emline_sew_peak_ariii_7137': None,\n",
       " 'emline_sew_peak_ariii_7753': None,\n",
       " 'emline_sew_peak_h11_3771': None,\n",
       " 'emline_sew_peak_h12_3751': None,\n",
       " 'emline_sew_peak_ha_6564': 3.86453,\n",
       " 'emline_sew_peak_hb_4862': 11.5866,\n",
       " 'emline_sew_peak_hdel_4102': 27.9701,\n",
       " 'emline_sew_peak_hei_3889': -999.0,\n",
       " 'emline_sew_peak_hei_5877': 10.1011,\n",
       " 'emline_sew_peak_hei_7067': None,\n",
       " 'emline_sew_peak_heii_4687': 5.95058,\n",
       " 'emline_sew_peak_heps_3971': 30.0213,\n",
       " 'emline_sew_peak_heta_3836': 79.2375,\n",
       " 'emline_sew_peak_hgam_4341': 9.89592,\n",
       " 'emline_sew_peak_hthe_3798': 49.9721,\n",
       " 'emline_sew_peak_hzet_3890': 114.426,\n",
       " 'emline_sew_peak_neiii_3869': 304.616,\n",
       " 'emline_sew_peak_neiii_3968': 37.1393,\n",
       " 'emline_sew_peak_ni_5199': 17.87,\n",
       " 'emline_sew_peak_ni_5201': -999.0,\n",
       " 'emline_sew_peak_nii_6549': 6.75736,\n",
       " 'emline_sew_peak_nii_6585': 4.39297,\n",
       " 'emline_sew_peak_oi_6302': 6.35594,\n",
       " 'emline_sew_peak_oi_6365': 6.75366,\n",
       " 'emline_sew_peak_oii_3729': -999.0,\n",
       " 'emline_sew_peak_oiid_3728': 310.982,\n",
       " 'emline_sew_peak_oiii_4960': 4.34731,\n",
       " 'emline_sew_peak_oiii_5008': 6.36596,\n",
       " 'emline_sew_peak_peps_9548': None,\n",
       " 'emline_sew_peak_peta_9017': None,\n",
       " 'emline_sew_peak_pzet_9231': None,\n",
       " 'emline_sew_peak_sii_6718': 5.9141,\n",
       " 'emline_sew_peak_sii_6732': 7.8316,\n",
       " 'emline_sew_peak_siii_9071': None,\n",
       " 'emline_sew_peak_siii_9533': None,\n",
       " 'emline_sflux_1re_ariii_7137': None,\n",
       " 'emline_sflux_1re_ariii_7753': None,\n",
       " 'emline_sflux_1re_h11_3771': None,\n",
       " 'emline_sflux_1re_h12_3751': None,\n",
       " 'emline_sflux_1re_ha_6564': -6.74507,\n",
       " 'emline_sflux_1re_hb_4862': 13.4702,\n",
       " 'emline_sflux_1re_hdel_4102': -3.25175,\n",
       " 'emline_sflux_1re_hei_3889': -999.0,\n",
       " 'emline_sflux_1re_hei_5877': -16.2483,\n",
       " 'emline_sflux_1re_hei_7067': None,\n",
       " 'emline_sflux_1re_heii_4687': -21.8986,\n",
       " 'emline_sflux_1re_heps_3971': 7.97629,\n",
       " 'emline_sflux_1re_heta_3836': -9.54881,\n",
       " 'emline_sflux_1re_hgam_4341': 5.90723,\n",
       " 'emline_sflux_1re_hthe_3798': 29.1178,\n",
       " 'emline_sflux_1re_hzet_3890': 32.7398,\n",
       " 'emline_sflux_1re_neiii_3869': 44.8303,\n",
       " 'emline_sflux_1re_neiii_3968': -6.42731,\n",
       " 'emline_sflux_1re_ni_5199': 43.8158,\n",
       " 'emline_sflux_1re_ni_5201': -999.0,\n",
       " 'emline_sflux_1re_nii_6549': 2.17858,\n",
       " 'emline_sflux_1re_nii_6585': -35.0082,\n",
       " 'emline_sflux_1re_oi_6302': 12.5357,\n",
       " 'emline_sflux_1re_oi_6365': 20.2965,\n",
       " 'emline_sflux_1re_oii_3729': -999.0,\n",
       " 'emline_sflux_1re_oiid_3728': 1.53667,\n",
       " 'emline_sflux_1re_oiii_4960': -0.141326,\n",
       " 'emline_sflux_1re_oiii_5008': 16.0571,\n",
       " 'emline_sflux_1re_peps_9548': None,\n",
       " 'emline_sflux_1re_peta_9017': None,\n",
       " 'emline_sflux_1re_pzet_9231': None,\n",
       " 'emline_sflux_1re_sii_6718': -8.75458,\n",
       " 'emline_sflux_1re_sii_6732': 20.7783,\n",
       " 'emline_sflux_1re_siii_9071': None,\n",
       " 'emline_sflux_1re_siii_9533': None,\n",
       " 'emline_sflux_cen_ariii_7137': None,\n",
       " 'emline_sflux_cen_ariii_7753': None,\n",
       " 'emline_sflux_cen_h11_3771': None,\n",
       " 'emline_sflux_cen_h12_3751': None,\n",
       " 'emline_sflux_cen_ha_6564': 0.491104,\n",
       " 'emline_sflux_cen_hb_4862': 6.10349,\n",
       " 'emline_sflux_cen_hdel_4102': -2.70141,\n",
       " 'emline_sflux_cen_hei_3889': -999.0,\n",
       " 'emline_sflux_cen_hei_5877': -10.6607,\n",
       " 'emline_sflux_cen_hei_7067': None,\n",
       " 'emline_sflux_cen_heii_4687': -7.11263,\n",
       " 'emline_sflux_cen_heps_3971': 2.76354,\n",
       " 'emline_sflux_cen_heta_3836': -5.69885,\n",
       " 'emline_sflux_cen_hgam_4341': -2.03845,\n",
       " 'emline_sflux_cen_hthe_3798': 7.58212,\n",
       " 'emline_sflux_cen_hzet_3890': 9.23298,\n",
       " 'emline_sflux_cen_neiii_3869': 11.4233,\n",
       " 'emline_sflux_cen_neiii_3968': 1.96196,\n",
       " 'emline_sflux_cen_ni_5199': 17.9952,\n",
       " 'emline_sflux_cen_ni_5201': -999.0,\n",
       " 'emline_sflux_cen_nii_6549': 0.981886,\n",
       " 'emline_sflux_cen_nii_6585': -8.5047,\n",
       " 'emline_sflux_cen_oi_6302': 5.27499,\n",
       " 'emline_sflux_cen_oi_6365': 11.7424,\n",
       " 'emline_sflux_cen_oii_3729': -999.0,\n",
       " 'emline_sflux_cen_oiid_3728': -3.09337,\n",
       " 'emline_sflux_cen_oiii_4960': 0.821323,\n",
       " 'emline_sflux_cen_oiii_5008': -0.145338,\n",
       " 'emline_sflux_cen_peps_9548': None,\n",
       " 'emline_sflux_cen_peta_9017': None,\n",
       " 'emline_sflux_cen_pzet_9231': None,\n",
       " 'emline_sflux_cen_sii_6718': -0.690554,\n",
       " 'emline_sflux_cen_sii_6732': 5.88407,\n",
       " 'emline_sflux_cen_siii_9071': None,\n",
       " 'emline_sflux_cen_siii_9533': None,\n",
       " 'emline_sflux_tot_ariii_7137': None,\n",
       " 'emline_sflux_tot_ariii_7753': None,\n",
       " 'emline_sflux_tot_h11_3771': None,\n",
       " 'emline_sflux_tot_h12_3751': None,\n",
       " 'emline_sflux_tot_ha_6564': -29.7863,\n",
       " 'emline_sflux_tot_hb_4862': 20.9546,\n",
       " 'emline_sflux_tot_hdel_4102': -24.8547,\n",
       " 'emline_sflux_tot_hei_3889': -999.0,\n",
       " 'emline_sflux_tot_hei_5877': -24.2424,\n",
       " 'emline_sflux_tot_hei_7067': None,\n",
       " 'emline_sflux_tot_heii_4687': -49.1711,\n",
       " 'emline_sflux_tot_heps_3971': -29.3489,\n",
       " 'emline_sflux_tot_heta_3836': -39.3745,\n",
       " 'emline_sflux_tot_hgam_4341': 2.57967,\n",
       " 'emline_sflux_tot_hthe_3798': 18.0563,\n",
       " 'emline_sflux_tot_hzet_3890': 40.5616,\n",
       " 'emline_sflux_tot_neiii_3869': 155.092,\n",
       " 'emline_sflux_tot_neiii_3968': -35.4805,\n",
       " 'emline_sflux_tot_ni_5199': 55.3959,\n",
       " 'emline_sflux_tot_ni_5201': -999.0,\n",
       " 'emline_sflux_tot_nii_6549': 20.7667,\n",
       " 'emline_sflux_tot_nii_6585': -94.4701,\n",
       " 'emline_sflux_tot_oi_6302': 19.4744,\n",
       " 'emline_sflux_tot_oi_6365': 22.8054,\n",
       " 'emline_sflux_tot_oii_3729': -999.0,\n",
       " 'emline_sflux_tot_oiid_3728': -0.379026,\n",
       " 'emline_sflux_tot_oiii_4960': 12.5199,\n",
       " 'emline_sflux_tot_oiii_5008': 16.2467,\n",
       " 'emline_sflux_tot_peps_9548': None,\n",
       " 'emline_sflux_tot_peta_9017': None,\n",
       " 'emline_sflux_tot_pzet_9231': None,\n",
       " 'emline_sflux_tot_sii_6718': -26.2675,\n",
       " 'emline_sflux_tot_sii_6732': 76.4249,\n",
       " 'emline_sflux_tot_siii_9071': None,\n",
       " 'emline_sflux_tot_siii_9533': None,\n",
       " 'emline_ssb_1re_ariii_7137': None,\n",
       " 'emline_ssb_1re_ariii_7753': None,\n",
       " 'emline_ssb_1re_h11_3771': None,\n",
       " 'emline_ssb_1re_h12_3751': None,\n",
       " 'emline_ssb_1re_ha_6564': -0.0187363,\n",
       " 'emline_ssb_1re_hb_4862': 0.0375215,\n",
       " 'emline_ssb_1re_hdel_4102': -0.00905781,\n",
       " 'emline_ssb_1re_hei_3889': -999.0,\n",
       " 'emline_ssb_1re_hei_5877': -0.0451341,\n",
       " 'emline_ssb_1re_hei_7067': None,\n",
       " 'emline_ssb_1re_heii_4687': -0.0609988,\n",
       " 'emline_ssb_1re_heps_3971': 0.0229864,\n",
       " 'emline_ssb_1re_heta_3836': -0.0273605,\n",
       " 'emline_ssb_1re_hgam_4341': 0.016409,\n",
       " 'emline_ssb_1re_hthe_3798': 0.083913,\n",
       " 'emline_ssb_1re_hzet_3890': 0.0938103,\n",
       " 'emline_ssb_1re_neiii_3869': 0.128087,\n",
       " 'emline_ssb_1re_neiii_3968': -0.0189038,\n",
       " 'emline_ssb_1re_ni_5199': 0.12205,\n",
       " 'emline_ssb_1re_ni_5201': -999.0,\n",
       " 'emline_ssb_1re_nii_6549': 0.00605162,\n",
       " 'emline_ssb_1re_nii_6585': -0.0972451,\n",
       " 'emline_ssb_1re_oi_6302': 0.0348215,\n",
       " 'emline_ssb_1re_oi_6365': 0.0563791,\n",
       " 'emline_ssb_1re_oii_3729': -999.0,\n",
       " 'emline_ssb_1re_oiid_3728': 0.00451963,\n",
       " 'emline_ssb_1re_oiii_4960': -0.000393665,\n",
       " 'emline_ssb_1re_oiii_5008': 0.0447273,\n",
       " 'emline_ssb_1re_peps_9548': None,\n",
       " 'emline_ssb_1re_peta_9017': None,\n",
       " 'emline_ssb_1re_pzet_9231': None,\n",
       " 'emline_ssb_1re_sii_6718': -0.0243183,\n",
       " 'emline_ssb_1re_sii_6732': 0.0577174,\n",
       " 'emline_ssb_1re_siii_9071': None,\n",
       " 'emline_ssb_1re_siii_9533': None,\n",
       " 'emline_ssb_peak_ariii_7137': None,\n",
       " 'emline_ssb_peak_ariii_7753': None,\n",
       " 'emline_ssb_peak_h11_3771': None,\n",
       " 'emline_ssb_peak_h12_3751': None,\n",
       " 'emline_ssb_peak_ha_6564': 0.463665,\n",
       " 'emline_ssb_peak_hb_4862': 0.403046,\n",
       " 'emline_ssb_peak_hdel_4102': 0.296548,\n",
       " 'emline_ssb_peak_hei_3889': -999.0,\n",
       " 'emline_ssb_peak_hei_5877': 0.744315,\n",
       " 'emline_ssb_peak_hei_7067': None,\n",
       " 'emline_ssb_peak_heii_4687': 0.229413,\n",
       " 'emline_ssb_peak_heps_3971': 0.462497,\n",
       " 'emline_ssb_peak_heta_3836': 0.361183,\n",
       " 'emline_ssb_peak_hgam_4341': 0.285401,\n",
       " 'emline_ssb_peak_hthe_3798': 0.458966,\n",
       " 'emline_ssb_peak_hzet_3890': 0.498074,\n",
       " 'emline_ssb_peak_neiii_3869': 0.476289,\n",
       " 'emline_ssb_peak_neiii_3968': 0.411636,\n",
       " 'emline_ssb_peak_ni_5199': 1.2165,\n",
       " 'emline_ssb_peak_ni_5201': -999.0,\n",
       " 'emline_ssb_peak_nii_6549': 0.239785,\n",
       " 'emline_ssb_peak_nii_6585': 0.810126,\n",
       " 'emline_ssb_peak_oi_6302': 0.518717,\n",
       " 'emline_ssb_peak_oi_6365': 1.19786,\n",
       " 'emline_ssb_peak_oii_3729': -999.0,\n",
       " 'emline_ssb_peak_oiid_3728': 0.392922,\n",
       " 'emline_ssb_peak_oiii_4960': 0.151722,\n",
       " 'emline_ssb_peak_oiii_5008': 0.361614,\n",
       " 'emline_ssb_peak_peps_9548': None,\n",
       " 'emline_ssb_peak_peta_9017': None,\n",
       " 'emline_ssb_peak_pzet_9231': None,\n",
       " 'emline_ssb_peak_sii_6718': 0.623704,\n",
       " 'emline_ssb_peak_sii_6732': 0.333001,\n",
       " 'emline_ssb_peak_siii_9071': None,\n",
       " 'emline_ssb_peak_siii_9533': None,\n",
       " 'ha_gsigma_1re': 315.536,\n",
       " 'ha_gsigma_hi': 633.437,\n",
       " 'ha_gsigma_hi_clip': 256.182,\n",
       " 'ha_gvel_hi': 491.106,\n",
       " 'ha_gvel_hi_clip': 490.866,\n",
       " 'ha_gvel_lo': -338.886,\n",
       " 'ha_gvel_lo_clip': -338.29,\n",
       " 'ha_z': 0.126733,\n",
       " 'ifudec': 49.7203,\n",
       " 'ifudesign': 6101,\n",
       " 'ifura': 219.031,\n",
       " 'ldist_nsa_z': 410.695,\n",
       " 'ldist_z': 410.695,\n",
       " 'mangaid': '1-197718',\n",
       " 'mngtarg1': 1024,\n",
       " 'mngtarg2': 0,\n",
       " 'mngtarg3': 0,\n",
       " 'mode': 'CUBE',\n",
       " 'nsa_elpetro_ba': 0.824142,\n",
       " 'nsa_elpetro_phi': 164.0,\n",
       " 'nsa_elpetro_th50_r': 5.9923,\n",
       " 'nsa_sersic_ba': 0.765588,\n",
       " 'nsa_sersic_n': 6.0,\n",
       " 'nsa_sersic_phi': 167.245,\n",
       " 'nsa_sersic_th50': 3.6909,\n",
       " 'nsa_z': 0.125351,\n",
       " 'nsa_zdist': 0.125734,\n",
       " 'objdec': 49.7203,\n",
       " 'objra': 219.031,\n",
       " 'plate': 8595,\n",
       " 'plateifu': '8595-6101',\n",
       " 'rcov90': 9.37568,\n",
       " 'rdxqakey': 'SNRG',\n",
       " 'sb_1re': 0.137415,\n",
       " 'sckey': 'MILESHCMPL8',\n",
       " 'sfr_1re': 0.021321,\n",
       " 'sfr_tot': 0.0487784,\n",
       " 'sikey': 'INDXEN',\n",
       " 'snr_med_1': 2.37222,\n",
       " 'snr_med_2': 4.61875,\n",
       " 'snr_med_3': 5.77287,\n",
       " 'snr_med_4': 4.86869,\n",
       " 'snr_ring_1': 11.7988,\n",
       " 'snr_ring_2': 23.6526,\n",
       " 'snr_ring_3': 29.7184,\n",
       " 'snr_ring_4': 14.6999,\n",
       " 'specindex_1re_atio': 0.0160272,\n",
       " 'specindex_1re_btio': 0.0397949,\n",
       " 'specindex_1re_c24668': 6.68518,\n",
       " 'specindex_1re_ca4227': 1.15004,\n",
       " 'specindex_1re_ca4455': 1.19002,\n",
       " 'specindex_1re_cah1': 0.00576462,\n",
       " 'specindex_1re_cah2': 0.0574248,\n",
       " 'specindex_1re_cahk': 18.3619,\n",
       " 'specindex_1re_caii1': 0.0712719,\n",
       " 'specindex_1re_caii2': 2.56556,\n",
       " 'specindex_1re_caii3': 2.7636,\n",
       " 'specindex_1re_cn1': 0.067405,\n",
       " 'specindex_1re_cn2': 0.11118,\n",
       " 'specindex_1re_d4000': 2.1594,\n",
       " 'specindex_1re_dn4000': 1.95202,\n",
       " 'specindex_1re_fe4383': 4.57675,\n",
       " 'specindex_1re_fe4531': 3.24133,\n",
       " 'specindex_1re_fe5015': 4.8261,\n",
       " 'specindex_1re_fe5270': 3.01689,\n",
       " 'specindex_1re_fe5335': 2.36059,\n",
       " 'specindex_1re_fe5406': 1.27872,\n",
       " 'specindex_1re_fe5709': 0.737952,\n",
       " 'specindex_1re_fe5782': 0.943195,\n",
       " 'specindex_1re_fehcvd': -999.0,\n",
       " 'specindex_1re_g4300': 5.11974,\n",
       " 'specindex_1re_hb': 1.71865,\n",
       " 'specindex_1re_hdeltaa': -1.79895,\n",
       " 'specindex_1re_hdeltaf': 0.21106,\n",
       " 'specindex_1re_hgammaa': -5.29524,\n",
       " 'specindex_1re_hgammaf': -1.43013,\n",
       " 'specindex_1re_mg1': 0.116241,\n",
       " 'specindex_1re_mg2': 0.259473,\n",
       " 'specindex_1re_mgb': 3.7188,\n",
       " 'specindex_1re_mgicvd': 6.51507,\n",
       " 'specindex_1re_mgiir': -0.776513,\n",
       " 'specindex_1re_nad': 4.35808,\n",
       " 'specindex_1re_nai': 2.00314,\n",
       " 'specindex_1re_naicvd': 0.304879,\n",
       " 'specindex_1re_naisdss': 0.796602,\n",
       " 'specindex_1re_pa12': 0.00361726,\n",
       " 'specindex_1re_pa14': -1.16664,\n",
       " 'specindex_1re_pa17': -0.556881,\n",
       " 'specindex_1re_tio1': 0.0623584,\n",
       " 'specindex_1re_tio2': 0.0891212,\n",
       " 'specindex_1re_tio2sdss': 0.11153,\n",
       " 'specindex_1re_tiocvd': 0.854261,\n",
       " 'specindex_hi_atio': 0.117079,\n",
       " 'specindex_hi_btio': 0.180047,\n",
       " 'specindex_hi_c24668': 16.3836,\n",
       " 'specindex_hi_ca4227': 7.86934,\n",
       " 'specindex_hi_ca4455': 7.93098,\n",
       " 'specindex_hi_cah1': 0.124413,\n",
       " 'specindex_hi_cah2': 0.252848,\n",
       " 'specindex_hi_cahk': 43.996,\n",
       " 'specindex_hi_caii1': 0.0,\n",
       " 'specindex_hi_caii2': 0.0,\n",
       " 'specindex_hi_caii3': 0.0,\n",
       " 'specindex_hi_clip_atio': 0.104147,\n",
       " 'specindex_hi_clip_btio': 0.159868,\n",
       " 'specindex_hi_clip_c24668': 14.1053,\n",
       " 'specindex_hi_clip_ca4227': 7.40414,\n",
       " 'specindex_hi_clip_ca4455': 7.93433,\n",
       " 'specindex_hi_clip_cah1': 0.113618,\n",
       " 'specindex_hi_clip_cah2': 0.208987,\n",
       " 'specindex_hi_clip_cahk': 42.9328,\n",
       " 'specindex_hi_clip_caii1': 0.0,\n",
       " 'specindex_hi_clip_caii2': 0.0,\n",
       " 'specindex_hi_clip_caii3': 0.0,\n",
       " 'specindex_hi_clip_cn1': 0.27713,\n",
       " 'specindex_hi_clip_cn2': 0.4269,\n",
       " 'specindex_hi_clip_d4000': 3.67912,\n",
       " 'specindex_hi_clip_dn4000': 3.40634,\n",
       " 'specindex_hi_clip_fe4383': 12.5685,\n",
       " 'specindex_hi_clip_fe4531': 12.833,\n",
       " 'specindex_hi_clip_fe5015': 18.8494,\n",
       " 'specindex_hi_clip_fe5270': 18.5799,\n",
       " 'specindex_hi_clip_fe5335': 13.5278,\n",
       " 'specindex_hi_clip_fe5406': 6.84625,\n",
       " 'specindex_hi_clip_fe5709': 3.5786,\n",
       " 'specindex_hi_clip_fe5782': 5.04398,\n",
       " 'specindex_hi_clip_fehcvd': -999.0,\n",
       " 'specindex_hi_clip_g4300': 14.2351,\n",
       " 'specindex_hi_clip_hb': 5.22359,\n",
       " 'specindex_hi_clip_hdeltaa': 8.32702,\n",
       " 'specindex_hi_clip_hdeltaf': 5.76056,\n",
       " 'specindex_hi_clip_hgammaa': 5.13133,\n",
       " 'specindex_hi_clip_hgammaf': 5.44451,\n",
       " 'specindex_hi_clip_mg1': 0.182953,\n",
       " 'specindex_hi_clip_mg2': 0.387416,\n",
       " 'specindex_hi_clip_mgb': 8.80932,\n",
       " 'specindex_hi_clip_mgicvd': 15.3046,\n",
       " 'specindex_hi_clip_mgiir': 0.0,\n",
       " 'specindex_hi_clip_nad': 8.11364,\n",
       " 'specindex_hi_clip_nai': 0.0,\n",
       " 'specindex_hi_clip_naicvd': 0.0,\n",
       " 'specindex_hi_clip_naisdss': 0.0,\n",
       " 'specindex_hi_clip_pa12': 0.0,\n",
       " 'specindex_hi_clip_pa14': 0.0,\n",
       " 'specindex_hi_clip_pa17': 0.0,\n",
       " 'specindex_hi_clip_tio1': 0.221102,\n",
       " 'specindex_hi_clip_tio2': 0.200081,\n",
       " 'specindex_hi_clip_tio2sdss': 0.282796,\n",
       " 'specindex_hi_clip_tiocvd': 2.6754,\n",
       " 'specindex_hi_cn1': 0.349313,\n",
       " 'specindex_hi_cn2': 0.44904,\n",
       " 'specindex_hi_d4000': 4.4985,\n",
       " 'specindex_hi_dn4000': 3.94843,\n",
       " 'specindex_hi_fe4383': 13.6988,\n",
       " 'specindex_hi_fe4531': 14.5278,\n",
       " 'specindex_hi_fe5015': 20.3181,\n",
       " 'specindex_hi_fe5270': 19.155,\n",
       " 'specindex_hi_fe5335': 17.974,\n",
       " 'specindex_hi_fe5406': 7.44335,\n",
       " 'specindex_hi_fe5709': 3.61116,\n",
       " 'specindex_hi_fe5782': 5.52981,\n",
       " 'specindex_hi_fehcvd': -999.0,\n",
       " 'specindex_hi_g4300': 15.2071,\n",
       " 'specindex_hi_hb': 6.68843,\n",
       " 'specindex_hi_hdeltaa': 10.8074,\n",
       " 'specindex_hi_hdeltaf': 9.57016,\n",
       " 'specindex_hi_hgammaa': 6.65984,\n",
       " 'specindex_hi_hgammaf': 6.6008,\n",
       " 'specindex_hi_mg1': 0.183688,\n",
       " 'specindex_hi_mg2': 0.388147,\n",
       " 'specindex_hi_mgb': 8.79963,\n",
       " 'specindex_hi_mgicvd': 19.0411,\n",
       " 'specindex_hi_mgiir': 0.0,\n",
       " 'specindex_hi_nad': 8.52043,\n",
       " 'specindex_hi_nai': 0.0,\n",
       " 'specindex_hi_naicvd': 0.0,\n",
       " 'specindex_hi_naisdss': 0.0,\n",
       " 'specindex_hi_pa12': 0.0,\n",
       " 'specindex_hi_pa14': 0.0,\n",
       " 'specindex_hi_pa17': 0.0,\n",
       " 'specindex_hi_tio1': 0.273463,\n",
       " 'specindex_hi_tio2': 0.21707,\n",
       " 'specindex_hi_tio2sdss': 0.296303,\n",
       " 'specindex_hi_tiocvd': 2.7628,\n",
       " 'specindex_lo_atio': -0.0995067,\n",
       " 'specindex_lo_btio': -0.19537,\n",
       " 'specindex_lo_c24668': -8.36695,\n",
       " 'specindex_lo_ca4227': -10.5437,\n",
       " 'specindex_lo_ca4455': -9.1809,\n",
       " 'specindex_lo_cah1': -0.118317,\n",
       " 'specindex_lo_cah2': 0.0154437,\n",
       " 'specindex_lo_cahk': -9.11024,\n",
       " 'specindex_lo_caii1': 0.0,\n",
       " 'specindex_lo_caii2': 0.0,\n",
       " 'specindex_lo_caii3': 0.0,\n",
       " 'specindex_lo_clip_atio': -0.0900799,\n",
       " 'specindex_lo_clip_btio': -0.11103,\n",
       " 'specindex_lo_clip_c24668': -3.42518,\n",
       " 'specindex_lo_clip_ca4227': -4.62552,\n",
       " 'specindex_lo_clip_ca4455': -6.06698,\n",
       " 'specindex_lo_clip_cah1': -0.0868787,\n",
       " 'specindex_lo_clip_cah2': 0.016395,\n",
       " 'specindex_lo_clip_cahk': -0.214137,\n",
       " 'specindex_lo_clip_caii1': 0.0,\n",
       " 'specindex_lo_clip_caii2': 0.0,\n",
       " 'specindex_lo_clip_caii3': 0.0,\n",
       " 'specindex_lo_clip_cn1': -0.235967,\n",
       " 'specindex_lo_clip_cn2': -0.242724,\n",
       " 'specindex_lo_clip_d4000': 2.88611,\n",
       " 'specindex_lo_clip_dn4000': 2.45975,\n",
       " 'specindex_lo_clip_fe4383': -8.41127,\n",
       " 'specindex_lo_clip_fe4531': -2.51334,\n",
       " 'specindex_lo_clip_fe5015': -5.70247,\n",
       " 'specindex_lo_clip_fe5270': -2.13767,\n",
       " 'specindex_lo_clip_fe5335': -4.27046,\n",
       " 'specindex_lo_clip_fe5406': -6.27459,\n",
       " 'specindex_lo_clip_fe5709': -3.14811,\n",
       " 'specindex_lo_clip_fe5782': -2.30652,\n",
       " 'specindex_lo_clip_fehcvd': -999.0,\n",
       " 'specindex_lo_clip_g4300': -2.54178,\n",
       " 'specindex_lo_clip_hb': -1.61528,\n",
       " 'specindex_lo_clip_hdeltaa': -12.1994,\n",
       " 'specindex_lo_clip_hdeltaf': -4.40788,\n",
       " 'specindex_lo_clip_hgammaa': -11.4577,\n",
       " 'specindex_lo_clip_hgammaf': -7.12964,\n",
       " 'specindex_lo_clip_mg1': 0.0112536,\n",
       " 'specindex_lo_clip_mg2': 0.0947803,\n",
       " 'specindex_lo_clip_mgb': -1.74999,\n",
       " 'specindex_lo_clip_mgicvd': 1.639,\n",
       " 'specindex_lo_clip_mgiir': 0.0,\n",
       " 'specindex_lo_clip_nad': 1.15111,\n",
       " 'specindex_lo_clip_nai': 0.0,\n",
       " 'specindex_lo_clip_naicvd': 0.0,\n",
       " 'specindex_lo_clip_naisdss': 0.0,\n",
       " 'specindex_lo_clip_pa12': 0.0,\n",
       " 'specindex_lo_clip_pa14': 0.0,\n",
       " 'specindex_lo_clip_pa17': 0.0,\n",
       " 'specindex_lo_clip_tio1': 0.0346066,\n",
       " 'specindex_lo_clip_tio2': 0.0537568,\n",
       " 'specindex_lo_clip_tio2sdss': 0.0907067,\n",
       " 'specindex_lo_clip_tiocvd': -1.79705,\n",
       " 'specindex_lo_cn1': -0.266878,\n",
       " 'specindex_lo_cn2': -0.331575,\n",
       " 'specindex_lo_d4000': 2.89276,\n",
       " 'specindex_lo_dn4000': 2.44924,\n",
       " 'specindex_lo_fe4383': -12.3923,\n",
       " 'specindex_lo_fe4531': -3.474,\n",
       " 'specindex_lo_fe5015': -8.83872,\n",
       " 'specindex_lo_fe5270': -14.9657,\n",
       " 'specindex_lo_fe5335': -5.51546,\n",
       " 'specindex_lo_fe5406': -8.56343,\n",
       " 'specindex_lo_fe5709': -4.6593,\n",
       " 'specindex_lo_fe5782': -3.61574,\n",
       " 'specindex_lo_fehcvd': -999.0,\n",
       " 'specindex_lo_g4300': -6.72091,\n",
       " 'specindex_lo_hb': -2.5518,\n",
       " 'specindex_lo_hdeltaa': -14.1283,\n",
       " 'specindex_lo_hdeltaf': -6.6791,\n",
       " 'specindex_lo_hgammaa': -12.2235,\n",
       " 'specindex_lo_hgammaf': -7.60132,\n",
       " 'specindex_lo_mg1': -0.0604984,\n",
       " 'specindex_lo_mg2': 0.0751984,\n",
       " 'specindex_lo_mgb': -3.29911,\n",
       " 'specindex_lo_mgicvd': 0.61075,\n",
       " 'specindex_lo_mgiir': 0.0,\n",
       " 'specindex_lo_nad': 0.155408,\n",
       " 'specindex_lo_nai': 0.0,\n",
       " 'specindex_lo_naicvd': 0.0,\n",
       " 'specindex_lo_naisdss': 0.0,\n",
       " 'specindex_lo_pa12': 0.0,\n",
       " 'specindex_lo_pa14': 0.0,\n",
       " 'specindex_lo_pa17': 0.0,\n",
       " 'specindex_lo_tio1': 0.0347728,\n",
       " 'specindex_lo_tio2': 0.053414,\n",
       " 'specindex_lo_tio2sdss': 0.0909004,\n",
       " 'specindex_lo_tiocvd': -5.67947,\n",
       " 'stellar_cont_rchi2_1re': None,\n",
       " 'stellar_rchi2_1re': 1.05501,\n",
       " 'stellar_sigma_1re': 271.841,\n",
       " 'stellar_vel_hi': 61.6796,\n",
       " 'stellar_vel_hi_clip': 59.6825,\n",
       " 'stellar_vel_lo': 0.326571,\n",
       " 'stellar_vel_lo_clip': 1.27866,\n",
       " 'stellar_z': 0.125481,\n",
       " 'tplkey': 'MILESHC',\n",
       " 'verscore': 'v1_7_1',\n",
       " 'versdap': '2.3.0',\n",
       " 'versdrp2': 'v2_5_3',\n",
       " 'versdrp3': 'v2_5_3',\n",
       " 'versutil': 'v5_5_33',\n",
       " 'z': 0.125351}"
      ]
     },
     "execution_count": 71,
     "metadata": {},
     "output_type": "execute_result"
    }
   ],
   "source": [
    "hyb_maps.dapall"
   ]
  },
  {
   "cell_type": "markdown",
   "metadata": {},
   "source": [
    "The NSA and DAPall catalogues are implemented as mixins via NSAMixIn and DAPAllMixIn, respectively.\n",
    "\n",
    "While Marvin allows you to access data remotely, frequently you will find that you want to download the file associated to an object so that you can access it more quickly in the future. We can do that using the MarvinToolsClass.download method. Let’s try to load a cube that we know we do not have in out hard drive"
   ]
  },
  {
   "cell_type": "code",
   "execution_count": 72,
   "metadata": {},
   "outputs": [
    {
     "name": "stdout",
     "output_type": "stream",
     "text": [
      "SDSS_ACCESS> syncing... please wait\n",
      "SDSS_ACCESS> Done!\n"
     ]
    },
    {
     "name": "stderr",
     "output_type": "stream",
     "text": [
      "/usr/local/lib/python3.7/dist-packages/marvin/tools/maps.py:213: ResourceWarning: unclosed file <_io.TextIOWrapper name='/tmp/sdss_access/20191220_001/sdss_access_00.err' mode='w' encoding='UTF-8'>\n",
      "  return super(Maps, self).download(path_type, **params)\n",
      "/usr/lib/python3.7/subprocess.py:883: ResourceWarning: subprocess 25302 is still running\n",
      "  ResourceWarning, source=self)\n"
     ]
    }
   ],
   "source": [
    "# hyb_maps.download()"
   ]
  },
  {
   "cell_type": "code",
   "execution_count": 81,
   "metadata": {},
   "outputs": [],
   "source": [
    "# hyb_maps = marvin.tools.Maps(\"8595-6101\")\n",
    "# hyb_maps\n",
    "# hyb_maps.datamodel\n",
    "# ok"
   ]
  },
  {
   "cell_type": "code",
   "execution_count": 86,
   "metadata": {},
   "outputs": [
    {
     "data": {
      "text/plain": [
       "<Marvin Maps (plateifu='8595-6101', mode='local', data_origin='file', bintype='HYB10', template='MILESHC-MILESHC')>"
      ]
     },
     "execution_count": 86,
     "metadata": {},
     "output_type": "execute_result"
    }
   ],
   "source": [
    "# Not fitspath!!!!!!!!!!!!!!!!!!!!!!!!!!!!!!!!!!!!\n",
    "# hyb_maps = marvin.tools.Maps(filename=fitspath)\n",
    "\n",
    "\n",
    "# hyb10path = \"/home/anything/sas/mangawork/manga/spectro/analysis/v2_5_3/2.3.0/HYB10-MILESHC-MILESHC/8595/6101/manga-8595-6101-MAPS-HYB10-MILESHC-MILESHC.fits.gz\"\n",
    "\n",
    "# or:\n",
    "hyb10path = \"../8595_6101/manga-8595-6101-MAPS-HYB10-MILESHC-MILESHC.fits.gz\"\n",
    "# so now you know what are MAPs\n",
    "\n",
    "# manga-8595-6101-MAPS-HYB10-MILESHC-MILESHC.fits.gz\n",
    "\n",
    "\n",
    "hyb_map = marvin.tools.Maps(filename = hyb10path)\n",
    "hyb_maps"
   ]
  },
  {
   "cell_type": "markdown",
   "metadata": {},
   "source": [
    "Finally, we can extract one or more Spaxel object from a Galaxy Tool. We can either use the standard array slicing notation (0-indexed, origin of coordinates in the lower left corner of the array)"
   ]
  },
  {
   "cell_type": "code",
   "execution_count": 88,
   "metadata": {},
   "outputs": [
    {
     "data": {
      "text/plain": [
       "<Marvin Spaxel (plateifu=8595-6101, x=10, y=15; x_cen=-17, y_cen=-12, loaded=cube)>"
      ]
     },
     "execution_count": 88,
     "metadata": {},
     "output_type": "execute_result"
    }
   ],
   "source": [
    "spaxel = my_cube[15, 10]\n",
    "spaxel"
   ]
  },
  {
   "cell_type": "markdown",
   "metadata": {},
   "source": [
    "or we can use getSpaxel, which accepts multiple arguments (refer to the method’s documentation). Note that by default, (x, y) coordinates passed to getSpaxel are measured from the centre of the array"
   ]
  },
  {
   "cell_type": "code",
   "execution_count": 90,
   "metadata": {},
   "outputs": [
    {
     "data": {
      "text/plain": [
       "<Marvin Spaxel (plateifu=8595-6101, x=27, y=27; x_cen=0, y_cen=0, loaded=cube)>"
      ]
     },
     "execution_count": 90,
     "metadata": {},
     "output_type": "execute_result"
    }
   ],
   "source": [
    "central_spaxel = my_cube.getSpaxel(x=0, y=0)\n",
    "central_spaxel"
   ]
  },
  {
   "cell_type": "markdown",
   "metadata": {},
   "source": [
    "Spaxel and Bin will be treated in detail in the marvin–subregion-tools section."
   ]
  },
  {
   "cell_type": "markdown",
   "metadata": {},
   "source": [
    "## Working with Astropy Quantities\n",
    "Marvin presents scientific data in the form of [Astropy Quantities](http://docs.astropy.org/en/stable/units/quantity.html#quantity). A Quantity is essentially a number with an associated physical unit. In Marvin we expand on that concept and extend the Quantities with a mask, an inverse variance ([why do we use ivar in MaNGA?](https://www.sdss.org/manga/manga-tutorials/manga-faq/#WhydoyououtputIVAR(inversevariance)insteadoferrors?)) and, when relevant, the associated wavelength. Marvin Quantities also provide useful methods to, for instance, calculate the SNR or plot the value. Marvin provides Quantities for 1D ([`Spectrum`](https://sdss-marvin.readthedocs.io/en/latest/reference/quantities.html#marvin.tools.quantities.spectrum.Spectrum), [`AnalysisProperty`](https://sdss-marvin.readthedocs.io/en/latest/reference/quantities.html#marvin.tools.quantities.analysis_props.AnalysisProperty)), 2D ([`Map`](https://sdss-marvin.readthedocs.io/en/latest/reference/quantities.html#marvin.tools.quantities.map.Map)), and 3D data ([`DataCube`](https://sdss-marvin.readthedocs.io/en/latest/reference/quantities.html#marvin.tools.quantities.datacube.DataCube)).\n",
    "\n",
    "All Quantities behave similarly. Let’s start by getting a datacube (3D Quantity) from a [`Cube`](https://sdss-marvin.readthedocs.io/en/latest/reference/tools.html#marvin.tools.cube.Cube) object"
   ]
  },
  {
   "cell_type": "code",
   "execution_count": 91,
   "metadata": {},
   "outputs": [
    {
     "data": {
      "text/latex": [
       "$[3621.596,~3622.43,~3623.2642,~\\dots,~10349.038,~10351.422,~10353.805] \\; \\mathrm{\\mathring{A}}$"
      ],
      "text/plain": [
       "<Quantity [ 3621.59598486,  3622.42998417,  3623.26417553, ...,\n",
       "           10349.03843826, 10351.42166679, 10353.80544415] Angstrom>"
      ]
     },
     "execution_count": 91,
     "metadata": {},
     "output_type": "execute_result"
    }
   ],
   "source": [
    "flux.wavelength"
   ]
  },
  {
   "cell_type": "code",
   "execution_count": 95,
   "metadata": {},
   "outputs": [
    {
     "data": {
      "text/latex": [
       "$\\mathrm{1 \\times 10^{-17}\\,\\frac{erg}{\\mathring{A}\\,s\\,spaxel\\,cm^{2}}}$"
      ],
      "text/plain": [
       "Unit(\"1e-17 erg / (Angstrom cm2 s spaxel)\")"
      ]
     },
     "execution_count": 95,
     "metadata": {},
     "output_type": "execute_result"
    }
   ],
   "source": [
    "flux_section = flux[1000:2000, 15:20, 15:20]\n",
    "flux_section;\n",
    "flux_section.value;\n",
    "flux_section.unit\n",
    "# flux_section.unit.scale"
   ]
  },
  {
   "cell_type": "markdown",
   "metadata": {},
   "source": [
    "It’s important to pay attention to the scale to convert to physical units. If you prefer to have the scale included in the value you can use the descale method"
   ]
  },
  {
   "cell_type": "code",
   "execution_count": 96,
   "metadata": {},
   "outputs": [
    {
     "data": {
      "text/plain": [
       "0.032087475"
      ]
     },
     "execution_count": 96,
     "metadata": {},
     "output_type": "execute_result"
    }
   ],
   "source": [
    "flux.value[1000, 15, 15]"
   ]
  },
  {
   "cell_type": "code",
   "execution_count": 97,
   "metadata": {},
   "outputs": [
    {
     "name": "stderr",
     "output_type": "stream",
     "text": [
      "/usr/local/lib/python3.7/dist-packages/marvin/tools/quantities/base_quantity.py:202: RuntimeWarning: overflow encountered in true_divide\n",
      "  ivar_descaled = self.ivar / (self.unit.scale ** 2)\n"
     ]
    },
    {
     "data": {
      "text/plain": [
       "3.2087473e-19"
      ]
     },
     "execution_count": 97,
     "metadata": {},
     "output_type": "execute_result"
    }
   ],
   "source": [
    "descaled = flux.descale();\n",
    "descaled.value[1000, 15, 15]"
   ]
  },
  {
   "cell_type": "markdown",
   "metadata": {},
   "source": [
    "We can also access the associated inverse variance or convert it to error, as well as compute the signal-to-noise ratio\n",
    "variance 的导数，即 $\\frac{1}{\\sigma^2}$"
   ]
  },
  {
   "cell_type": "code",
   "execution_count": 102,
   "metadata": {},
   "outputs": [
    {
     "data": {
      "text/plain": [
       "6363.267"
      ]
     },
     "execution_count": 102,
     "metadata": {},
     "output_type": "execute_result"
    }
   ],
   "source": [
    "# \n",
    "flux.ivar[1000, 15, 15]"
   ]
  },
  {
   "cell_type": "code",
   "execution_count": 105,
   "metadata": {},
   "outputs": [
    {
     "data": {
      "text/plain": [
       "0.012536027229258324"
      ]
     },
     "execution_count": 105,
     "metadata": {},
     "output_type": "execute_result"
    }
   ],
   "source": [
    "(1/6363.267)**0.5 # 标准差"
   ]
  },
  {
   "cell_type": "code",
   "execution_count": 103,
   "metadata": {},
   "outputs": [
    {
     "data": {
      "text/latex": [
       "$0.012536027 \\; \\mathrm{1 \\times 10^{-17}\\,\\frac{erg}{\\mathring{A}\\,s\\,spaxel\\,cm^{2}}}$"
      ],
      "text/plain": [
       "<Quantity 0.01253603 1e-17 erg / (Angstrom cm2 s spaxel)>"
      ]
     },
     "execution_count": 103,
     "metadata": {},
     "output_type": "execute_result"
    }
   ],
   "source": [
    "flux.error[1000, 15, 15]"
   ]
  },
  {
   "cell_type": "code",
   "execution_count": 106,
   "metadata": {},
   "outputs": [
    {
     "data": {
      "text/plain": [
       "2.5596206"
      ]
     },
     "execution_count": 106,
     "metadata": {},
     "output_type": "execute_result"
    }
   ],
   "source": [
    "flux.snr[1000, 15, 15]"
   ]
  },
  {
   "cell_type": "markdown",
   "metadata": {},
   "source": [
    "The mask associated with the values is easily accessible via the mask attribute. We can also use the masked method to return a Numpy masked array in which the values that should not be used have been masked away"
   ]
  },
  {
   "cell_type": "code",
   "execution_count": 107,
   "metadata": {},
   "outputs": [
    {
     "data": {
      "text/plain": [
       "masked_array(\n",
       "  data=[[[0.032087475061416626, 0.04121425375342369,\n",
       "          0.050076354295015335, 0.05647555738687515,\n",
       "          0.05469176545739174],\n",
       "         [0.03209947049617767, 0.03639042377471924,\n",
       "          0.040828000754117966, 0.04658112674951553,\n",
       "          0.04227665066719055],\n",
       "         [0.03019268997013569, 0.028818607330322266,\n",
       "          0.03064817190170288, 0.033731523901224136,\n",
       "          0.03370772302150726],\n",
       "         [0.024737343192100525, 0.020018398761749268,\n",
       "          0.02560598962008953, 0.03211492672562599, 0.03473940119147301],\n",
       "         [0.020598897710442543, 0.02054685167968273,\n",
       "          0.02890884317457676, 0.04129589721560478, 0.04637172818183899]],\n",
       "\n",
       "        [[0.02228431962430477, 0.023608069866895676,\n",
       "          0.022303054109215736, 0.01658300869166851,\n",
       "          0.020516999065876007],\n",
       "         [0.024636751040816307, 0.03168349713087082,\n",
       "          0.03729921579360962, 0.03933802247047424,\n",
       "          0.039510875940322876],\n",
       "         [0.020158464089035988, 0.032928500324487686,\n",
       "          0.04517272487282753, 0.054976653307676315,\n",
       "          0.060083869844675064],\n",
       "         [0.016434920951724052, 0.02522500976920128, 0.0397653803229332,\n",
       "          0.05434243008494377, 0.060022931545972824],\n",
       "         [0.01939183846116066, 0.0225069560110569, 0.030426543205976486,\n",
       "          0.03958214074373245, 0.04643130674958229]],\n",
       "\n",
       "        [[0.0006325189606286585, 0.003944371826946735,\n",
       "          0.007082883268594742, 0.006397841032594442,\n",
       "          0.0069984495639801025],\n",
       "         [0.007422526832669973, 0.009873580187559128,\n",
       "          0.013621481135487556, 0.018981819972395897,\n",
       "          0.015566345304250717],\n",
       "         [0.014207526110112667, 0.017312368378043175,\n",
       "          0.022507574409246445, 0.03166532516479492,\n",
       "          0.03228571638464928],\n",
       "         [0.01893182471394539, 0.02060001716017723, 0.02757030911743641,\n",
       "          0.03665025532245636, 0.041249897330999374],\n",
       "         [0.021219592541456223, 0.024241546168923378,\n",
       "          0.028941668570041656, 0.033556677401065826,\n",
       "          0.03990331292152405]],\n",
       "\n",
       "        ...,\n",
       "\n",
       "        [[0.03271245211362839, 0.03682529553771019, 0.04155760630965233,\n",
       "          0.050911933183670044, 0.061473049223423004],\n",
       "         [0.041113611310720444, 0.04382570832967758,\n",
       "          0.04560599848628044, 0.051725294440984726,\n",
       "          0.06332936882972717],\n",
       "         [0.04731439799070358, 0.047296732664108276,\n",
       "          0.04728612303733826, 0.050237592309713364,\n",
       "          0.06290607154369354],\n",
       "         [0.04898740351200104, 0.05005095899105072,\n",
       "          0.047372374683618546, 0.04817125201225281,\n",
       "          0.058368343859910965],\n",
       "         [0.05078701302409172, 0.05266357213258743,\n",
       "          0.047779932618141174, 0.04528578743338585,\n",
       "          0.05840442702174187]],\n",
       "\n",
       "        [[0.03861214220523834, 0.03770443797111511, 0.03595104068517685,\n",
       "          0.03554707393050194, 0.039868395775556564],\n",
       "         [0.036995094269514084, 0.03537926450371742,\n",
       "          0.034273114055395126, 0.0335727296769619, 0.03560582175850868],\n",
       "         [0.04023987427353859, 0.03942861407995224, 0.03667967766523361,\n",
       "          0.03541993349790573, 0.037646275013685226],\n",
       "         [0.04496094211935997, 0.046496257185935974, 0.0442371740937233,\n",
       "          0.04383512958884239, 0.045653581619262695],\n",
       "         [0.04601183533668518, 0.05051812157034874, 0.05171280726790428,\n",
       "          0.0528668574988842, 0.06088351830840111]],\n",
       "\n",
       "        [[0.032900359481573105, 0.03376974165439606,\n",
       "          0.03260743245482445, 0.031161796301603317,\n",
       "          0.03417661413550377],\n",
       "         [0.02846730686724186, 0.033948589116334915,\n",
       "          0.038207974284887314, 0.0426366850733757, 0.04694923013448715],\n",
       "         [0.02938021905720234, 0.03859834372997284, 0.04683677852153778,\n",
       "          0.05471529811620712, 0.05673438683152199],\n",
       "         [0.031910549849271774, 0.042923808097839355,\n",
       "          0.054275840520858765, 0.0642143040895462, 0.06550383567810059],\n",
       "         [0.03546161204576492, 0.04759553447365761, 0.0584472119808197,\n",
       "          0.06755532324314117, 0.07251518964767456]]],\n",
       "  mask=[[[False, False, False, False, False],\n",
       "         [False, False, False, False, False],\n",
       "         [False, False, False, False, False],\n",
       "         [False, False, False, False, False],\n",
       "         [False, False, False, False, False]],\n",
       "\n",
       "        [[False, False, False, False, False],\n",
       "         [False, False, False, False, False],\n",
       "         [False, False, False, False, False],\n",
       "         [False, False, False, False, False],\n",
       "         [False, False, False, False, False]],\n",
       "\n",
       "        [[False, False, False, False, False],\n",
       "         [False, False, False, False, False],\n",
       "         [False, False, False, False, False],\n",
       "         [False, False, False, False, False],\n",
       "         [False, False, False, False, False]],\n",
       "\n",
       "        ...,\n",
       "\n",
       "        [[False, False, False, False, False],\n",
       "         [False, False, False, False, False],\n",
       "         [False, False, False, False, False],\n",
       "         [False, False, False, False, False],\n",
       "         [False, False, False, False, False]],\n",
       "\n",
       "        [[False, False, False, False, False],\n",
       "         [False, False, False, False, False],\n",
       "         [False, False, False, False, False],\n",
       "         [False, False, False, False, False],\n",
       "         [False, False, False, False, False]],\n",
       "\n",
       "        [[False, False, False, False, False],\n",
       "         [False, False, False, False, False],\n",
       "         [False, False, False, False, False],\n",
       "         [False, False, False, False, False],\n",
       "         [False, False, False, False, False]]],\n",
       "  fill_value=1e+20,\n",
       "  dtype=float32)"
      ]
     },
     "execution_count": 107,
     "metadata": {},
     "output_type": "execute_result"
    }
   ],
   "source": [
    "flux_section.masked"
   ]
  },
  {
   "cell_type": "markdown",
   "metadata": {},
   "source": [
    "Quantities have an associated [`pixmask`](https://sdss-marvin.readthedocs.io/en/latest/reference/quantities.html#marvin.tools.quantities.base_quantity.QuantityMixIn.pixmask), which provides a simple way to interact with the mask bits (for more information, go to the [Maskbits](https://sdss-marvin.readthedocs.io/en/latest/tools/utils/maskbit.html#marvin-maskbit) section)"
   ]
  },
  {
   "cell_type": "code",
   "execution_count": 108,
   "metadata": {},
   "outputs": [
    {
     "data": {
      "text/plain": [
       "<Maskbit 'MANGA_DRP3PIXMASK' shape=(4563, 54, 54)>"
      ]
     },
     "execution_count": 108,
     "metadata": {},
     "output_type": "execute_result"
    }
   ],
   "source": [
    "flux.pixmask"
   ]
  },
  {
   "cell_type": "code",
   "execution_count": 109,
   "metadata": {},
   "outputs": [
    {
     "data": {
      "text/plain": [
       "array([[[1, 1, 1, ..., 1, 1, 1],\n",
       "        [1, 1, 1, ..., 1, 1, 1],\n",
       "        [1, 1, 1, ..., 1, 1, 1],\n",
       "        ...,\n",
       "        [1, 1, 1, ..., 1, 1, 1],\n",
       "        [1, 1, 1, ..., 1, 1, 1],\n",
       "        [1, 1, 1, ..., 1, 1, 1]],\n",
       "\n",
       "       [[1, 1, 1, ..., 1, 1, 1],\n",
       "        [1, 1, 1, ..., 1, 1, 1],\n",
       "        [1, 1, 1, ..., 1, 1, 1],\n",
       "        ...,\n",
       "        [1, 1, 1, ..., 1, 1, 1],\n",
       "        [1, 1, 1, ..., 1, 1, 1],\n",
       "        [1, 1, 1, ..., 1, 1, 1]],\n",
       "\n",
       "       [[1, 1, 1, ..., 1, 1, 1],\n",
       "        [1, 1, 1, ..., 1, 1, 1],\n",
       "        [1, 1, 1, ..., 1, 1, 1],\n",
       "        ...,\n",
       "        [1, 1, 1, ..., 1, 1, 1],\n",
       "        [1, 1, 1, ..., 1, 1, 1],\n",
       "        [1, 1, 1, ..., 1, 1, 1]],\n",
       "\n",
       "       ...,\n",
       "\n",
       "       [[1, 1, 1, ..., 1, 1, 1],\n",
       "        [1, 1, 1, ..., 1, 1, 1],\n",
       "        [1, 1, 1, ..., 1, 1, 1],\n",
       "        ...,\n",
       "        [1, 1, 1, ..., 1, 1, 1],\n",
       "        [1, 1, 1, ..., 1, 1, 1],\n",
       "        [1, 1, 1, ..., 1, 1, 1]],\n",
       "\n",
       "       [[1, 1, 1, ..., 1, 1, 1],\n",
       "        [1, 1, 1, ..., 1, 1, 1],\n",
       "        [1, 1, 1, ..., 1, 1, 1],\n",
       "        ...,\n",
       "        [1, 1, 1, ..., 1, 1, 1],\n",
       "        [1, 1, 1, ..., 1, 1, 1],\n",
       "        [1, 1, 1, ..., 1, 1, 1]],\n",
       "\n",
       "       [[1, 1, 1, ..., 1, 1, 1],\n",
       "        [1, 1, 1, ..., 1, 1, 1],\n",
       "        [1, 1, 1, ..., 1, 1, 1],\n",
       "        ...,\n",
       "        [1, 1, 1, ..., 1, 1, 1],\n",
       "        [1, 1, 1, ..., 1, 1, 1],\n",
       "        [1, 1, 1, ..., 1, 1, 1]]])"
      ]
     },
     "execution_count": 109,
     "metadata": {},
     "output_type": "execute_result"
    }
   ],
   "source": [
    "flux.pixmask.get_mask('NOCOV')  # Returns a mask of values with the NOCOV maskbit."
   ]
  },
  {
   "cell_type": "markdown",
   "metadata": {},
   "source": [
    "We can also slice a datacube to get a single spectrum"
   ]
  },
  {
   "cell_type": "code",
   "execution_count": 111,
   "metadata": {},
   "outputs": [
    {
     "data": {
      "text/latex": [
       "$[-0.057420537,~0.00044591093,~-0.056182209,~\\dots,~0,~0,~0] \\; \\mathrm{1 \\times 10^{-17}\\,\\frac{erg}{\\mathring{A}\\,s\\,spaxel\\,cm^{2}}}$"
      ],
      "text/plain": [
       "<Spectrum [-0.05742054,  0.00044591, -0.05618221, ...,  0.        ,\n",
       "            0.        ,  0.        ] 1e-17 erg / (Angstrom cm2 s spaxel)>"
      ]
     },
     "execution_count": 111,
     "metadata": {},
     "output_type": "execute_result"
    }
   ],
   "source": [
    "spectrum_20_20 = flux[:, 20, 20]\n",
    "spectrum_20_20"
   ]
  },
  {
   "cell_type": "markdown",
   "metadata": {},
   "source": [
    "In this case the returned Quantity is a 1D Spectrum. This new Quantity behaves exactly as the DataCube but in this case we can also plot the spectrum"
   ]
  },
  {
   "cell_type": "code",
   "execution_count": 112,
   "metadata": {},
   "outputs": [
    {
     "name": "stderr",
     "output_type": "stream",
     "text": [
      "WARNING: AstropyDeprecationWarning: The truth value of a Quantity is ambiguous. In the future this will raise a ValueError. [astropy.units.quantity]\n"
     ]
    },
    {
     "data": {
      "text/plain": [
       "<matplotlib.axes._subplots.AxesSubplot at 0x7f1b80165fd0>"
      ]
     },
     "execution_count": 112,
     "metadata": {},
     "output_type": "execute_result"
    },
    {
     "data": {
      "image/png": "[encoded data removed]",
      "text/plain": [
       "<Figure size 432x288 with 1 Axes>"
      ]
     },
     "metadata": {},
     "output_type": "display_data"
    }
   ],
   "source": [
    "spectrum_20_20.plot()"
   ]
  },
  {
   "cell_type": "markdown",
   "metadata": {},
   "source": [
    "Let’s now have a look at the Marvin 2D Quantity: the Map."
   ]
  },
  {
   "cell_type": "code",
   "execution_count": 115,
   "metadata": {},
   "outputs": [
    {
     "data": {
      "text/latex": [
       "$[[0,~0,~0,~\\dots,~0,~0,~0],~\n",
       " [0,~0,~0,~\\dots,~0,~0,~0],~\n",
       " [0,~0,~0,~\\dots,~0,~0,~0],~\n",
       " \\dots,~\n",
       " [0,~0,~0,~\\dots,~0,~0,~0],~\n",
       " [0,~0,~0,~\\dots,~0,~0,~0],~\n",
       " [0,~0,~0,~\\dots,~0,~0,~0]] \\; \\mathrm{1 \\times 10^{-17}\\,\\frac{erg}{s\\,spaxel\\,cm^{2}}}$"
      ],
      "text/plain": [
       "<Marvin Map (property='emline_gflux_ha_6564')>\n",
       "[[0. 0. 0. ... 0. 0. 0.]\n",
       " [0. 0. 0. ... 0. 0. 0.]\n",
       " [0. 0. 0. ... 0. 0. 0.]\n",
       " ...\n",
       " [0. 0. 0. ... 0. 0. 0.]\n",
       " [0. 0. 0. ... 0. 0. 0.]\n",
       " [0. 0. 0. ... 0. 0. 0.]] 1e-17 erg / (cm2 s spaxel)"
      ]
     },
     "execution_count": 115,
     "metadata": {},
     "output_type": "execute_result"
    }
   ],
   "source": [
    "ha = hyb_map.emline_gflux_ha_6564\n",
    "ha"
   ]
  },
  {
   "cell_type": "code",
   "execution_count": 116,
   "metadata": {},
   "outputs": [
    {
     "data": {
      "text/plain": [
       "array([[0., 0., 0., ..., 0., 0., 0.],\n",
       "       [0., 0., 0., ..., 0., 0., 0.],\n",
       "       [0., 0., 0., ..., 0., 0., 0.],\n",
       "       ...,\n",
       "       [0., 0., 0., ..., 0., 0., 0.],\n",
       "       [0., 0., 0., ..., 0., 0., 0.],\n",
       "       [0., 0., 0., ..., 0., 0., 0.]], dtype=float32)"
      ]
     },
     "execution_count": 116,
     "metadata": {},
     "output_type": "execute_result"
    }
   ],
   "source": [
    "snr = ha.snr\n",
    "snr"
   ]
  },
  {
   "cell_type": "code",
   "execution_count": 118,
   "metadata": {},
   "outputs": [
    {
     "data": {
      "text/plain": [
       "<matplotlib.image.AxesImage at 0x7f1b8014aed0>"
      ]
     },
     "execution_count": 118,
     "metadata": {},
     "output_type": "execute_result"
    },
    {
     "data": {
      "image/png": "[encoded data removed]",
      "text/plain": [
       "<Figure size 432x288 with 1 Axes>"
      ]
     },
     "metadata": {
      "needs_background": "light"
     },
     "output_type": "display_data"
    }
   ],
   "source": [
    "import matplotlib.pyplot as plt\n",
    "plt.imshow(snr, origin='lower')"
   ]
  },
  {
   "cell_type": "markdown",
   "metadata": {},
   "source": [
    "`Map` objects are a bit special, though, and we will discuss them in detail in [their own section](https://sdss-marvin.readthedocs.io/en/latest/tools/map.html#marvin-map). Here, let’s see how we can do “Map arithmetic” by calculating the $H_\\alpha/H_\\beta$ ratio"
   ]
  },
  {
   "cell_type": "code",
   "execution_count": 121,
   "metadata": {},
   "outputs": [
    {
     "data": {
      "text/latex": [
       "$[[0,~0,~0,~\\dots,~0,~0,~0],~\n",
       " [0,~0,~0,~\\dots,~0,~0,~0],~\n",
       " [0,~0,~0,~\\dots,~0,~0,~0],~\n",
       " \\dots,~\n",
       " [0,~0,~0,~\\dots,~0,~0,~0],~\n",
       " [0,~0,~0,~\\dots,~0,~0,~0],~\n",
       " [0,~0,~0,~\\dots,~0,~0,~0]] \\; \\mathrm{\\mathring{A}}$"
      ],
      "text/plain": [
       "<Marvin Map (property='emline_gew_hb_4862')>\n",
       "[[0. 0. 0. ... 0. 0. 0.]\n",
       " [0. 0. 0. ... 0. 0. 0.]\n",
       " [0. 0. 0. ... 0. 0. 0.]\n",
       " ...\n",
       " [0. 0. 0. ... 0. 0. 0.]\n",
       " [0. 0. 0. ... 0. 0. 0.]\n",
       " [0. 0. 0. ... 0. 0. 0.]] Angstrom"
      ]
     },
     "execution_count": 121,
     "metadata": {},
     "output_type": "execute_result"
    }
   ],
   "source": [
    "hb = hyb_map.emline_gew_hb_4862\n",
    "hb"
   ]
  },
  {
   "cell_type": "code",
   "execution_count": 122,
   "metadata": {},
   "outputs": [
    {
     "data": {
      "text/latex": [
       "$[[{\\rm NaN},~{\\rm NaN},~{\\rm NaN},~\\dots,~{\\rm NaN},~{\\rm NaN},~{\\rm NaN}],~\n",
       " [{\\rm NaN},~{\\rm NaN},~{\\rm NaN},~\\dots,~{\\rm NaN},~{\\rm NaN},~{\\rm NaN}],~\n",
       " [{\\rm NaN},~{\\rm NaN},~{\\rm NaN},~\\dots,~{\\rm NaN},~{\\rm NaN},~{\\rm NaN}],~\n",
       " \\dots,~\n",
       " [{\\rm NaN},~{\\rm NaN},~{\\rm NaN},~\\dots,~{\\rm NaN},~{\\rm NaN},~{\\rm NaN}],~\n",
       " [{\\rm NaN},~{\\rm NaN},~{\\rm NaN},~\\dots,~{\\rm NaN},~{\\rm NaN},~{\\rm NaN}],~\n",
       " [{\\rm NaN},~{\\rm NaN},~{\\rm NaN},~\\dots,~{\\rm NaN},~{\\rm NaN},~{\\rm NaN}]] \\; \\mathrm{1 \\times 10^{-17}\\,\\frac{erg}{\\mathring{A}\\,s\\,spaxel\\,cm^{2}}}$"
      ],
      "text/plain": [
       "<Marvin EnhancedMap>\n",
       "array([[nan, nan, nan, ..., nan, nan, nan],\n",
       "       [nan, nan, nan, ..., nan, nan, nan],\n",
       "       [nan, nan, nan, ..., nan, nan, nan],\n",
       "       ...,\n",
       "       [nan, nan, nan, ..., nan, nan, nan],\n",
       "       [nan, nan, nan, ..., nan, nan, nan],\n",
       "       [nan, nan, nan, ..., nan, nan, nan]], dtype=float32) '1e-17 erg / (Angstrom cm2 s spaxel)'"
      ]
     },
     "execution_count": 122,
     "metadata": {},
     "output_type": "execute_result"
    }
   ],
   "source": [
    "ha_hb = ha / hb\n",
    "ha_hb"
   ]
  },
  {
   "cell_type": "code",
   "execution_count": 123,
   "metadata": {},
   "outputs": [
    {
     "name": "stderr",
     "output_type": "stream",
     "text": [
      "/usr/local/lib/python3.7/dist-packages/marvin/utils/plot/map.py:111: RuntimeWarning: invalid value encountered in multiply\n",
      "  low_snr[np.abs(value * np.sqrt(ivar)) < snr_min] = True\n",
      "/usr/local/lib/python3.7/dist-packages/marvin/utils/plot/map.py:111: RuntimeWarning: invalid value encountered in less\n",
      "  low_snr[np.abs(value * np.sqrt(ivar)) < snr_min] = True\n"
     ]
    },
    {
     "data": {
      "text/plain": [
       "(<Figure size 432x288 with 2 Axes>,\n",
       " <matplotlib.axes._subplots.AxesSubplot at 0x7f1b80c00c90>)"
      ]
     },
     "execution_count": 123,
     "metadata": {},
     "output_type": "execute_result"
    },
    {
     "name": "stderr",
     "output_type": "stream",
     "text": [
      "/usr/local/lib/python3.7/dist-packages/matplotlib/image.py:395: UserWarning: Warning: converting a masked element to nan.\n",
      "  dv = (np.float64(self.norm.vmax) -\n",
      "/usr/local/lib/python3.7/dist-packages/matplotlib/colors.py:918: UserWarning: Warning: converting a masked element to nan.\n",
      "  dtype = np.min_scalar_type(value)\n",
      "/usr/lib/python3/dist-packages/numpy/ma/core.py:713: UserWarning: Warning: converting a masked element to nan.\n",
      "  data = np.array(a, copy=False, subok=subok)\n"
     ]
    },
    {
     "data": {
      "image/png": "[encoded data removed]",
      "text/plain": [
       "<Figure size 432x288 with 2 Axes>"
      ]
     },
     "metadata": {},
     "output_type": "display_data"
    }
   ],
   "source": [
    "ha_hb.plot()"
   ]
  },
  {
   "cell_type": "markdown",
   "metadata": {},
   "source": [
    "[`EnhancedMap`](https://sdss-marvin.readthedocs.io/en/latest/reference/quantities.html#marvin.tools.quantities.map.EnhancedMap) result from the arithmetic combination of two maps and take care of all the gritty details: error propagation, division by zero, maskbit propagation, etc.\n",
    "\n",
    "Finally, [`AnalysisProperty`](https://sdss-marvin.readthedocs.io/en/latest/reference/quantities.html#marvin.tools.quantities.analysis_props.AnalysisProperty) are 1D quantities associated with a value for a single spaxel on a [`Map`](https://sdss-marvin.readthedocs.io/en/latest/reference/quantities.html#marvin.tools.quantities.map.Map). We will discuss them in depth when we talk about marvin-subregion-tools."
   ]
  },
  {
   "cell_type": "code",
   "execution_count": 395,
   "metadata": {},
   "outputs": [],
   "source": [
    "# flux[0,0,0].wavelength\n",
    "# lambda0 = flux[0,0,0].wavelength\n",
    "# lambdaend = flux[-1,0,0].wavelength\n",
    "# dlambda = (lambdaend-lambda0)/len(flux[:,0,0])\n",
    "\n",
    "# lambda0 = lambda0.value\n",
    "# dlambda = dlambda.value\n",
    "# type(dlambda)\n",
    "\n",
    "startindex, endindex = 0, 0\n",
    "for i in (flux[:,0,0].wavelength.value):\n",
    "    if i<8315:\n",
    "        startindex += 1\n",
    "    else:\n",
    "        break\n",
    "for i in (flux[:,0,0].wavelength.value):\n",
    "    if i<8328:\n",
    "        endindex += 1\n",
    "    else:\n",
    "        break\n"
   ]
  },
  {
   "cell_type": "code",
   "execution_count": 396,
   "metadata": {},
   "outputs": [],
   "source": [
    "# from 1911.06338, the source has emission line at 8300-8350\n",
    "flux[0,:,:].shape; #(54, 54)\n",
    "flux[0,:,:].value;\n",
    "# startindex = int((8315 - lambda0)/dlambda)\n",
    "# endindex = int((8330 - lambda0)/dlambda)"
   ]
  },
  {
   "cell_type": "code",
   "execution_count": 397,
   "metadata": {},
   "outputs": [
    {
     "data": {
      "text/plain": [
       "<matplotlib.colorbar.Colorbar at 0x7f1b5ec7b590>"
      ]
     },
     "execution_count": 397,
     "metadata": {},
     "output_type": "execute_result"
    },
    {
     "data": {
      "image/png": "[encoded data removed]",
      "text/plain": [
       "<Figure size 1152x648 with 2 Axes>"
      ]
     },
     "metadata": {
      "needs_background": "light"
     },
     "output_type": "display_data"
    }
   ],
   "source": [
    "# narrow_band_img = []\n",
    "import numpy as np\n",
    "%matplotlib inline\n",
    "%config InlineBackend.rc = {}\n",
    "narrow_band_img = np.zeros(shape=flux[0,:,:].shape)\n",
    "for idx in range(startindex, endindex+1):\n",
    "    narrow_band_img += flux[idx,:,:].value\n",
    "# image_hist = plt.hist(final_image.flatten(), 10)\n",
    "plt.figure(figsize=(16,9))\n",
    "plt.imshow(narrow_band_img, cmap='gray')#, vmin=2.e3, vmax=3.e3\n",
    "plt.colorbar()"
   ]
  },
  {
   "cell_type": "markdown",
   "metadata": {},
   "source": [
    "# You need foregroud galaxy substraction\n",
    "by either:\n",
    "1. fit a elliptical galaxy image directly from 2d image and substract it, or\n",
    "2. fit continum spectras pixel by pixel then substract them, then replot the narrow band image to see the images of lensed source\n",
    "\n",
    "in 1911.06338 Saburu paper:\n",
    "The lens light has been sub-\n",
    "tracted using the neighbouring continuum, and a correction\n",
    "has been made to remove a radial trend in the net image\n",
    "(caused by gradients in spectral features in the lens galaxy).\n",
    "\n",
    "in SDSS IV MANGA paper: section 3.1, Foreground Galaxy Subtraction\n",
    "before using PCA, you need to handle the redshift, today(191220) you can implimenting PCA first to see if the lensing system is significant after foreground galaxy subtraction, but later you need to figure out the dependence of redshift,\n",
    "\n",
    "\n",
    "we constructed a best-fit model spectrum to the galaxy\n",
    "continuum using a basis of 7 principal component analysis\n",
    "(PCA) eigenspectra, and subtracted this continuum model\n",
    "from the data. Fibres which were at too low a S/N to yield\n",
    "a spectroscopic redshift were discarded from consideration\n",
    "in the search for background emission-lines.\n",
    "\n",
    "\n",
    "you need to choose the second method\n",
    "\n",
    "Yet 1d pca or 2d pca or 3d pca?\n",
    "\n",
    "https://learnche.org/pid/latent-variable-modelling/principal-component-analysis/pca-example-analysis-of-spectral-data\n",
    "https://nirpyresearch.com/principal-component-regression-python/\n"
   ]
  },
  {
   "cell_type": "code",
   "execution_count": 398,
   "metadata": {},
   "outputs": [],
   "source": [
    "# # https://www.jianshu.com/p/044a7783980f\n",
    "# def PCA(dataMat,topNfeat=5):\n",
    "# #topNfeat=5 默认选择前五个最大的特征值\n",
    "# #减去均值 \n",
    "#     meanVals = np.mean(dataMat,axis = 0)\n",
    "#     dataMean = dataMat - meanVals\n",
    "# #求协方差方阵 \n",
    "#     conMat = dataMean.T.dot(dataMean)\n",
    "# #求特征值和特征向量\n",
    "#     eigVals,eigVects = np.linalg.eig(conMat)  \n",
    "# #对特征值进行排序  \n",
    "#     eigValInd = np.argsort(eigVals)\n",
    "#     #得到的eigValInd是从小到大的排列，对应的原数据中该元素的索引\n",
    "#     #x = np.array([3, 1, 2])\n",
    "#     #np.argsort(x)\n",
    "#     #array([1, 2, 0])\n",
    "#     #从小到大依次是1,2,3,1对应的索引是1,2对应的索引是2,3对应的索引是0\n",
    "#     eigValInd = eigValInd[:-(topNfeat+1):-1]\n",
    "#     #逆序，从最大到最小的前topNfeat个\n",
    "# #除去不需要的特征向量\n",
    "#     redeigVects=eigVects[:,eigValInd]  \n",
    "# #求新的数据矩阵\n",
    "#     lowdataMat = dataMean.dot(redeigVects)\n",
    "# #求从低维还原回来的数据\n",
    "#     condata = (lowdataMat.dot(redeigVects.T)) + meanVals\n",
    "# #输出降完维德数据加均值\n",
    "#         #因为降维后的数据是一维的了，所以只能加上dataMat整体的平均数进行恢复了\n",
    "#     reducedata=lowdataMat+np.mean(dataMat)\n",
    "#     return reducedata,condata"
   ]
  },
  {
   "cell_type": "code",
   "execution_count": 399,
   "metadata": {},
   "outputs": [],
   "source": [
    "# redflux = np.zeros(flux.shape) # reduced flux\n",
    "# Ncomp = 10\n",
    "# redflux.shape\n",
    "# dataMattest = np.array((flux[:,25,25].wavelength.value, flux[:,25,25].value))\n",
    "# # dataMat.shape\n",
    "# plt.figure(figsize=(16,9))\n",
    "# plt.plot(flux[:,25,25].wavelength.value,flux[:,25,25].value,label=\"model\")\n",
    "# _, x0y1test = PCA(dataMattest,topNfeat=Ncomp)\n",
    "# plt.plot(x0y1test[0,:],x0y1test[1,:],label=\"rec\")\n",
    "# plt.plot(x0y1test[0,:],x0y1test[1,:]-flux[:,25,25].value,label=\"rec-model\")\n",
    "# plt.legend()\n",
    "# print(_.shape)"
   ]
  },
  {
   "cell_type": "code",
   "execution_count": 400,
   "metadata": {},
   "outputs": [],
   "source": [
    "# # flux[:,0,0].wavelength.value.shape\n",
    "# x = flux[:,0,0].wavelength.value"
   ]
  },
  {
   "cell_type": "code",
   "execution_count": 309,
   "metadata": {},
   "outputs": [
    {
     "data": {
      "image/png": "[encoded data removed]",
      "text/plain": [
       "<Figure size 432x288 with 1 Axes>"
      ]
     },
     "metadata": {
      "needs_background": "light"
     },
     "output_type": "display_data"
    }
   ],
   "source": [
    "for i in range(redflux.shape[1]):\n",
    "    for j in range(redflux.shape[2]):\n",
    "        y = flux[:,i,j].value\n",
    "#         y = flux[startindex:endindex, i,j]\n",
    "        plt.plot(x,y)\n",
    "#         dataMat = np.array((x,y)).T\n",
    "#         _, x0y1 = PCA(dataMat,topNfeat=Ncomp)\n",
    "#         redflux[:,i,j]=x0y1[1,:]"
   ]
  },
  {
   "cell_type": "code",
   "execution_count": 401,
   "metadata": {},
   "outputs": [
    {
     "name": "stdout",
     "output_type": "stream",
     "text": [
      "(4563, 2916)\n"
     ]
    }
   ],
   "source": [
    "combflux = np.zeros((flux.shape[0],flux.shape[1]*flux.shape[2])) # combined flux\n",
    "print(combflux.shape)\n",
    "combflux = flux.value.reshape(flux.shape[0],flux.shape[1]*flux.shape[2])\n",
    "# combflux = combflux.T\n",
    "# print(combflux.shape)"
   ]
  },
  {
   "cell_type": "code",
   "execution_count": 402,
   "metadata": {},
   "outputs": [
    {
     "name": "stdout",
     "output_type": "stream",
     "text": [
      "(4563, 7)\n",
      "[0.62678821 0.17278177 0.02567682 0.01163166 0.01114    0.00680415\n",
      " 0.00539119]\n",
      "(4563, 2916)\n"
     ]
    }
   ],
   "source": [
    "# https://stackoverflow.com/questions/23294616/how-to-use-scikit-learn-pca-for-features-reduction-and-know-which-features-are-d\n",
    "from sklearn.decomposition import PCA\n",
    "\n",
    "pca = PCA(n_components=7)\n",
    "newX = pca.fit_transform(combflux)\n",
    "print(newX.shape)\n",
    "print(pca.explained_variance_ratio_)\n",
    "# # X is the matrix transposed (n samples on the rows, m features on the columns)\n",
    "# pca.fit(combflux)\n",
    "\n",
    "# X_new = pca.transform(X)\n",
    "X_rec = pca.inverse_transform(newX) # X_proj is originally X_new\n",
    "# Here, X_rec is close to X, but the less important information was dropped by PCA. So we can say X_rec is denoised.\n",
    "# In my opinion, I can say the noise is discard.\n",
    "print(X_rec.shape)"
   ]
  },
  {
   "cell_type": "code",
   "execution_count": 403,
   "metadata": {},
   "outputs": [
    {
     "data": {
      "text/plain": [
       "(4563, 54, 54)"
      ]
     },
     "execution_count": 403,
     "metadata": {},
     "output_type": "execute_result"
    }
   ],
   "source": [
    "recflux = X_rec.reshape(flux.shape)\n",
    "recflux.shape"
   ]
  },
  {
   "cell_type": "code",
   "execution_count": 404,
   "metadata": {},
   "outputs": [
    {
     "data": {
      "text/plain": [
       "numpy.ndarray"
      ]
     },
     "execution_count": 404,
     "metadata": {},
     "output_type": "execute_result"
    }
   ],
   "source": [
    "type(flux.value)"
   ]
  },
  {
   "cell_type": "code",
   "execution_count": 405,
   "metadata": {},
   "outputs": [],
   "source": [
    "dflux = flux.value - recflux"
   ]
  },
  {
   "cell_type": "code",
   "execution_count": 406,
   "metadata": {},
   "outputs": [],
   "source": [
    "narrow_band_img = np.zeros(shape=flux[0,:,:].shape)\n",
    "for idx in range(startindex, endindex+1):\n",
    "    narrow_band_img += dflux[idx,:,:]"
   ]
  },
  {
   "cell_type": "markdown",
   "metadata": {},
   "source": [
    "https://sdss-marvin.readthedocs.io/en/stable/tutorials/exercises/resolved_mass_metallicity_relation.html#Calculate-physical-size-of-a-spaxel\n",
    "MaNGA’s maps (and data cubes) have a spaxel size of 0.5 arcsec. "
   ]
  },
  {
   "cell_type": "code",
   "execution_count": 412,
   "metadata": {},
   "outputs": [
    {
     "data": {
      "text/plain": [
       "Text(0.5, 0.98, 'Net emission line (OII doublet) image of MaNGA lens system J1436+4943\\n$\\\\theta_{Ein}=2.03$ arcsec according to arxiv 1911.06338')"
      ]
     },
     "execution_count": 412,
     "metadata": {},
     "output_type": "execute_result"
    },
    {
     "data": {
      "image/png": "[encoded data removed]",
      "text/plain": [
       "<Figure size 1152x648 with 2 Axes>"
      ]
     },
     "metadata": {
      "needs_background": "light"
     },
     "output_type": "display_data"
    }
   ],
   "source": [
    "# image_hist = plt.hist(final_image.flatten(), 10)\n",
    "plt.figure(figsize=(16,9))\n",
    "ax = plt.gca()\n",
    "# plt.imshow(narrow_band_img[27-5:27+5,27-5:27+5], cmap='gray',origin=\"low\")#, vmin=2.e3, vmax=3.e3\n",
    "centerx, centery = 27,27\n",
    "plt.scatter(centerx, centery,c=\"r\",marker=\"x\")\n",
    "cphi = np.linspace(0,2*np.pi,20)\n",
    "r = 2.03*2\n",
    "plt.scatter(centerx+r*np.cos(cphi),centery+r*np.sin(cphi),c=\"r\",marker=\".\")\n",
    "\n",
    "plt.imshow((narrow_band_img), cmap='gray',origin=\"low\")#\n",
    "plt.xlim(centerx-10,centerx+10)\n",
    "plt.ylim(centery-10,centery+10)\n",
    "plt.plot([20,21],[20,20],\"k\",linewidth = 4)\n",
    "plt.annotate(r\"$1^{''}$\",xy=(20,20.2),size=18)\n",
    "# cl = plt.Circle((28,28),2.03*2,color='r',alpha=0.1, lw=5, edgecolor='b')\n",
    "# ax.add_artist(cl)\n",
    "plt.colorbar()\n",
    "title = \"Net emission line (OII doublet) image of MaNGA lens system J1436+4943\\n\"\\\n",
    "+r\"$\\theta_{Ein}=2.03$ arcsec according to arxiv 1911.06338\"\n",
    "plt.suptitle(title,fontsize = 20)"
   ]
  },
  {
   "cell_type": "code",
   "execution_count": 413,
   "metadata": {},
   "outputs": [
    {
     "data": {
      "image/png": "[encoded data removed]",
      "text/plain": [
       "<Figure size 432x288 with 1 Axes>"
      ]
     },
     "metadata": {
      "needs_background": "light"
     },
     "output_type": "display_data"
    }
   ],
   "source": [
    "# plt.figure(figsize=(16,9))\n",
    "# print(startindex)\n",
    "# print(endindex)\n",
    "for i in range(centerx-10,centerx+10):\n",
    "    for j in range(centery-10,centery+10):\n",
    "#         y = flux[:,i,j].value\n",
    "        y = flux[startindex:endindex, i,j].value\n",
    "        plt.plot(x[startindex:endindex],y)\n",
    "# flux[startindex:endindex,0,0]"
   ]
  },
  {
   "cell_type": "code",
   "execution_count": 409,
   "metadata": {},
   "outputs": [
    {
     "name": "stdout",
     "output_type": "stream",
     "text": [
      "3621.5959848601933\n",
      "10353.805444147549\n",
      "1 - 0>>> 0.8339993067943396\n",
      "2 - 1>>> 0.8341913643380394\n",
      "3 - 2>>> 0.8343834661177425\n",
      "3610\n",
      "3617\n"
     ]
    }
   ],
   "source": [
    "# it seems that wavelength is nonliner!\n",
    "\n",
    "flux[0,0,0].wavelength\n",
    "lambda0 = flux[0,0,0].wavelength.value\n",
    "lambdaend = flux[-1,0,0].wavelength.value\n",
    "print(lambda0)\n",
    "print(lambdaend)\n",
    "print(\"1 - 0>>>\", flux[1,0,0].wavelength.value - lambda0)\n",
    "print(\"2 - 1>>>\", flux[2,0,0].wavelength.value - flux[1,0,0].wavelength.value)\n",
    "print(\"3 - 2>>>\", flux[3,0,0].wavelength.value - flux[2,0,0].wavelength.value)\n",
    "# startindex, endindex = 0, 0\n",
    "# for i in (flux[:,0,0].wavelength.value):\n",
    "#     if i<8315:\n",
    "#         startindex += 1\n",
    "#     else:\n",
    "#         break\n",
    "# for i in (flux[:,0,0].wavelength.value):\n",
    "#     if i<8335:\n",
    "#         endindex += 1\n",
    "#     else:\n",
    "#         break\n",
    "print(startindex)\n",
    "print(endindex)\n",
    "# 3610\n",
    "# 3621\n",
    "# before: 3181 3191"
   ]
  },
  {
   "cell_type": "code",
   "execution_count": null,
   "metadata": {},
   "outputs": [],
   "source": []
  }
 ],
 "metadata": {
  "kernelspec": {
   "display_name": "Python 3",
   "language": "python",
   "name": "python3"
  },
  "language_info": {
   "codemirror_mode": {
    "name": "ipython",
    "version": 3
   },
   "file_extension": ".py",
   "mimetype": "text/x-python",
   "name": "python",
   "nbconvert_exporter": "python",
   "pygments_lexer": "ipython3",
   "version": "3.7.5"
  }
 },
 "nbformat": 4,
 "nbformat_minor": 2
}
